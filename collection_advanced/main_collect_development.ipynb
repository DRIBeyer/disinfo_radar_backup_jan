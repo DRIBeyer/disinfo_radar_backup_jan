{
 "cells": [
  {
   "cell_type": "code",
   "execution_count": 1,
   "metadata": {},
   "outputs": [],
   "source": [
    "# Imports\n",
    "import pandas as pd\n",
    "import re\n",
    "from datetime import datetime, timedelta\n",
    "from fake_useragent import UserAgent\n",
    "import time\n",
    "\n",
    "import requests\n",
    "from bs4 import BeautifulSoup as soup\n",
    "import lxml\n",
    "\n",
    "import json\n",
    "#from dateutil import rrule\n",
    "\n",
    "## needs a py file to import properly in this structure\n",
    "#from utils.collection_utils import datetime_parse\n",
    "\n",
    "from itertools import combinations, permutations, chain\n"
   ]
  },
  {
   "cell_type": "code",
   "execution_count": 2,
   "metadata": {},
   "outputs": [],
   "source": [
    "DATA_PATH = '../data/'\n",
    "IN_DATA_PATH = '../data/input_data/'"
   ]
  },
  {
   "cell_type": "markdown",
   "metadata": {},
   "source": [
    "### !!! Datetime function needs work\n",
    "\n",
    "If the month dict makes a replacement, need to tag that as a month and limit my permutations as required"
   ]
  },
  {
   "cell_type": "code",
   "execution_count": 49,
   "metadata": {},
   "outputs": [],
   "source": [
    "import re\n",
    "from itertools import combinations, permutations, chain\n",
    "from datetime import datetime, timedelta\n",
    "\n",
    "def datetime_parse(x):\n",
    "      '''\n",
    "      Parse datetime out of a string\n",
    "      More functionality should be added as issues encountered \n",
    "      Has some serious issues as it stands... not a hard fix, but time consuming \n",
    "      '''\n",
    "      # Remove all non-alpha-numeric\n",
    "      out = re.sub(r'[^0-9a-zA-Z:]+', ' ', x)\n",
    "\n",
    "      ## Remove any starting tag with :\n",
    "      # out.split('Updated: ', expand=True)\n",
    "      \n",
    "      # Remove time \n",
    "      out.replace(r'\\b(([0-9]|0[0-9]|1[0-9]|2[0-3]):[0-5][0-9](:[0-5][0-9])?\\s?([AaPp][Mm])?)', ' ')\n",
    "      \n",
    "      # Not needed\n",
    "      month_dict = {\n",
    "      'January':'1', 'February':'2', 'March':'3', 'April':'4', 'May':'5', 'June':'6',\n",
    "      'July':'7', 'August':'8', 'September':'9', 'October':'10', 'November':'11', \n",
    "      'December':'12', 'Jan':'1', 'Feb':'2', 'Mar':'3', 'Apr':'4', 'May':'5',\n",
    "      'Jun':'6', 'Jul':'7', 'Aug':'8', 'Sep':'9', 'Oct':'10', 'Nov':'11', 'Dec':'12'\n",
    "      }\n",
    "\n",
    "      # Not needed, replaces months with number value, but strtime does that\n",
    "      #out = [out.replace(key, value) for key, value in month_dict.items() if key in out][0]\n",
    "      \n",
    "      # Removing digits longer than 4 long\n",
    "      out = re.sub(r'[0-9]\\d{4,}', ' ', out)\n",
    "      #out = re.sub(r'[0-9]+:[0-9]+', ' ', out) #  not sure what this was for\n",
    "      \n",
    "      # Removing all non-digits and words not in months\n",
    "      out = out.split(' ')\n",
    "      out = [word for word in out if word.isdigit() or word in list(month_dict.keys())]\n",
    "      out = ' '.join(out[:3])\n",
    "      \n",
    "      # Strip loose whitespace\n",
    "      out = out.strip()\n",
    "\n",
    "      # Lists for parsing\n",
    "      month = ['%b', '%m', '%B']\n",
    "      day = ['%d']\n",
    "      year = ['%Y', '%y']\n",
    "\n",
    "      varieties = list(permutations(chain(year, day, month), 3))\n",
    "      for v in varieties:\n",
    "            v = ' '.join(v)\n",
    "            try:\n",
    "                  date = [datetime.strptime(str(out), v)]# if d != 0 else d for d in out] #old tag used elsewhere, here for ref.\n",
    "                  print(date)\n",
    "                  if date is not None:\n",
    "                        print('Successfully parsed with format: ' + v)\n",
    "                        return date[0]\n",
    "                        break\n",
    "            except:\n",
    "                  #print('Failed: ' + v)\n",
    "                  pass"
   ]
  },
  {
   "cell_type": "code",
   "execution_count": 65,
   "metadata": {},
   "outputs": [
    {
     "name": "stdout",
     "output_type": "stream",
     "text": [
      "[datetime.datetime(2001, 1, 23, 0, 0)]\n",
      "Successfully parsed with format: %Y %y %d\n"
     ]
    },
    {
     "data": {
      "text/plain": [
       "datetime.datetime(2001, 1, 23, 0, 0)"
      ]
     },
     "execution_count": 65,
     "metadata": {},
     "output_type": "execute_result"
    }
   ],
   "source": [
    "str1 = '2020 01 23'\n",
    "date = datetime_parse(str1)\n",
    "date"
   ]
  },
  {
   "cell_type": "code",
   "execution_count": 58,
   "metadata": {},
   "outputs": [
    {
     "data": {
      "text/plain": [
       "1"
      ]
     },
     "execution_count": 58,
     "metadata": {},
     "output_type": "execute_result"
    }
   ],
   "source": [
    "date.month"
   ]
  },
  {
   "cell_type": "code",
   "execution_count": null,
   "metadata": {},
   "outputs": [],
   "source": []
  },
  {
   "cell_type": "code",
   "execution_count": null,
   "metadata": {},
   "outputs": [],
   "source": [
    "# # To load as dataframe: no value at present \n",
    "\n",
    "# load_file = IN_DATA_PATH + 'collection_urls_df.jsonl'\n",
    "\n",
    "# df = pd.read_json(load_file, convert_dates=True, lines=True, orient='records')\n",
    "# df.head(7)"
   ]
  },
  {
   "cell_type": "code",
   "execution_count": 5,
   "metadata": {},
   "outputs": [],
   "source": [
    "load_file = IN_DATA_PATH + 'collection_urls_dict.json'\n",
    "\n",
    "with open(load_file) as handle:\n",
    "    sources = json.loads(handle.read())"
   ]
  },
  {
   "cell_type": "code",
   "execution_count": 6,
   "metadata": {},
   "outputs": [
    {
     "data": {
      "text/plain": [
       "{'CNA_Russia': 'https://www.cna.org/centers/cna/sppp/rsp/russia-ai-archive#newsletters',\n",
       " 'CNA_China': 'https://www.cna.org/centers/cna/cip/china/china-ai-newsletter',\n",
       " 'MIT_Technology_Review': 'https://www.technologyreview.com/',\n",
       " 'MIT_Technology_Review_API': 'https://wp.technologyreview.com/wp-json/irving/v1/data/term_archive?category_name=',\n",
       " 'Synced': 'https://syncedreview.com/',\n",
       " 'IEEE_spectrum': 'https://spectrum.ieee.org/',\n",
       " 'Import_AI': 'https://us13.campaign-archive.com/home/?u=67bd06787e84d73db24fb0aa5&id=6c9d98ff2c',\n",
       " 'ChinAI': 'https://chinai.substack.com/archive?sort=new'}"
      ]
     },
     "execution_count": 6,
     "metadata": {},
     "output_type": "execute_result"
    }
   ],
   "source": [
    "sources"
   ]
  },
  {
   "cell_type": "code",
   "execution_count": null,
   "metadata": {},
   "outputs": [],
   "source": [
    "# Get today's date\n",
    "# To do: create a \"last scraped json\"\n",
    "today = datetime.now()\n",
    "\n",
    "today"
   ]
  },
  {
   "cell_type": "markdown",
   "metadata": {},
   "source": [
    "# Import AI"
   ]
  },
  {
   "cell_type": "code",
   "execution_count": 3,
   "metadata": {},
   "outputs": [],
   "source": [
    "# Lists for saving collected data\n",
    "\n",
    "title_list = []\n",
    "url_list = []\n",
    "dates = []\n"
   ]
  },
  {
   "cell_type": "code",
   "execution_count": 7,
   "metadata": {},
   "outputs": [],
   "source": [
    "base_url = sources['Import_AI']"
   ]
  },
  {
   "cell_type": "code",
   "execution_count": 8,
   "metadata": {},
   "outputs": [
    {
     "name": "stdout",
     "output_type": "stream",
     "text": [
      "05/02/2022 - Import AI 293: Generative humans; few shot learning comes for vision-text models; and another new AI startup is born\n",
      "http://eepurl.com/h00rqr\n",
      "04/25/2022 - Import AI 292: AI makes low-carbon concrete; weaponized NLP; and a neuro-symbolic language model\n",
      "http://eepurl.com/h0nCKX\n",
      "04/11/2022 - Import AI 291: Google trains the world's biggest language model; how robots can be smarter about the world; Conjecture, a new AI alignment company\n",
      "http://eepurl.com/hZjozT\n",
      "04/05/2022 - Import AI 290: China plans massive models; DeepMind makes a smaller and smarter model; open source CLIP data\n",
      "http://eepurl.com/hYSyi9\n",
      "03/28/2022 - Import AI 289: Copyright v AI art; NIST tries to measure bias in AI; solar-powered Markov chains\n",
      "http://eepurl.com/hYaLin\n",
      "03/21/2022 - Import AI 288: Chinese researchers try to train 100trillion+ 'brain-scale' models; 33% of AI benchmarks are meaningless.\n",
      "http://eepurl.com/hXCPbv\n",
      "03/07/2022 - Import AI 287: 10 exaflop supercomputer; Google deploys differential privacy; humans can outsmart deepfakes pretty well\n",
      "http://eepurl.com/hWsYwH\n",
      "02/28/2022 - Import AI 286: Fairness through dumbness; planet-scale AI computing; another AI safety startup appears\n",
      "http://eepurl.com/hVSMf1\n",
      "02/21/2022 - Import AI 285: RL+Fusion; why RL demands better public policy; Cohere raises $125m\n",
      "http://eepurl.com/hVhHez\n",
      "02/14/2022 - Import AI 284: 20bn GPT model; diachronic LMs; what people think about AI\n",
      "http://eepurl.com/hUEhnX\n",
      "02/07/2022 - Import AI 283: Open source 20B GPT3; Chinese researchers make better adversarial example attacks; Mozilla launches AI auditing project.\n",
      "http://eepurl.com/hT5gnr\n",
      "02/01/2022 - Import AI 282: Facebook's AI supercomputer; Anduril gets a SOCOM contract; Twitter talks about running an algo-bias competition\n",
      "http://eepurl.com/hTyKXj\n",
      "01/24/2022 - Import AI 281: China does more surveillance research than US and Europe; Google reveals its text model LaMDA; Microsoft improves MoEs\n",
      "http://eepurl.com/hSYp5z\n",
      "01/17/2022 - Import AI 280: Why bigger is worse for RL; AI-generated Pokemon; real-world EfficientNet\n",
      "http://eepurl.com/hSmoov\n",
      "01/10/2022 - Import AI 279: Baidu adds knowledge to a language model; US military + AI; how China thinks about AI governance\n",
      "http://eepurl.com/hRQPeD\n",
      "12/27/2021 - Import AI 278: Can we ever trust an AI?; what the future of semiconductors looks like; better images of AI\n",
      "http://eepurl.com/hQZI61\n",
      "12/13/2021 - Import AI 277: DeepMind builds a GPT-3 model; Catalan GLUE; FTC plans AI regs\n",
      "http://eepurl.com/hPQFJv\n",
      "12/06/2021 - Import AI 276: Tracking journalists with computer vision; spotting factory defects with AI; and what simulated war might look like\n",
      "http://eepurl.com/hPe-3n\n",
      "11/22/2021 - Import AI 275: Facebook dreams of a world-spanning neural net; Microsoft announces a 30-petaflop supercomputer; FTC taps AI Now for AI advice\n",
      "http://eepurl.com/hN0Cdb\n",
      "11/15/2021 - Import AI 274: Multilingual models cement power structures; a giant British Sign Language dataset;  and benchmarks for the UN SDGs\n",
      "http://eepurl.com/hNnGtb\n",
      "------------\n"
     ]
    }
   ],
   "source": [
    "# Get list of all Import AI issues with date, title, and link\n",
    "\n",
    "response = requests.post(base_url) #headers=header)\n",
    "\n",
    "html = soup(response.text, 'lxml')\n",
    "\n",
    "objects = html.find_all('li', class_=\"campaign\")\n",
    "for obj in objects:\n",
    "      print(obj.text)\n",
    "      print(obj.a['href'])\n",
    "      title_list.append(obj.text)\n",
    "      url_list.append(obj.a['href'])\n",
    "\n",
    "print('------------')"
   ]
  },
  {
   "cell_type": "code",
   "execution_count": 9,
   "metadata": {},
   "outputs": [
    {
     "data": {
      "text/plain": [
       "['05/02/2022 - Import AI 293: Generative humans; few shot learning comes for vision-text models; and another new AI startup is born',\n",
       " '04/25/2022 - Import AI 292: AI makes low-carbon concrete; weaponized NLP; and a neuro-symbolic language model',\n",
       " \"04/11/2022 - Import AI 291: Google trains the world's biggest language model; how robots can be smarter about the world; Conjecture, a new AI alignment company\",\n",
       " '04/05/2022 - Import AI 290: China plans massive models; DeepMind makes a smaller and smarter model; open source CLIP data',\n",
       " '03/28/2022 - Import AI 289: Copyright v AI art; NIST tries to measure bias in AI; solar-powered Markov chains',\n",
       " \"03/21/2022 - Import AI 288: Chinese researchers try to train 100trillion+ 'brain-scale' models; 33% of AI benchmarks are meaningless.\",\n",
       " '03/07/2022 - Import AI 287: 10 exaflop supercomputer; Google deploys differential privacy; humans can outsmart deepfakes pretty well',\n",
       " '02/28/2022 - Import AI 286: Fairness through dumbness; planet-scale AI computing; another AI safety startup appears',\n",
       " '02/21/2022 - Import AI 285: RL+Fusion; why RL demands better public policy; Cohere raises $125m',\n",
       " '02/14/2022 - Import AI 284: 20bn GPT model; diachronic LMs; what people think about AI',\n",
       " '02/07/2022 - Import AI 283: Open source 20B GPT3; Chinese researchers make better adversarial example attacks; Mozilla launches AI auditing project.',\n",
       " \"02/01/2022 - Import AI 282: Facebook's AI supercomputer; Anduril gets a SOCOM contract; Twitter talks about running an algo-bias competition\",\n",
       " '01/24/2022 - Import AI 281: China does more surveillance research than US and Europe; Google reveals its text model LaMDA; Microsoft improves MoEs',\n",
       " '01/17/2022 - Import AI 280: Why bigger is worse for RL; AI-generated Pokemon; real-world EfficientNet',\n",
       " '01/10/2022 - Import AI 279: Baidu adds knowledge to a language model; US military + AI; how China thinks about AI governance',\n",
       " '12/27/2021 - Import AI 278: Can we ever trust an AI?; what the future of semiconductors looks like; better images of AI',\n",
       " '12/13/2021 - Import AI 277: DeepMind builds a GPT-3 model; Catalan GLUE; FTC plans AI regs',\n",
       " '12/06/2021 - Import AI 276: Tracking journalists with computer vision; spotting factory defects with AI; and what simulated war might look like',\n",
       " '11/22/2021 - Import AI 275: Facebook dreams of a world-spanning neural net; Microsoft announces a 30-petaflop supercomputer; FTC taps AI Now for AI advice',\n",
       " '11/15/2021 - Import AI 274: Multilingual models cement power structures; a giant British Sign Language dataset;\\xa0 and benchmarks for the UN SDGs']"
      ]
     },
     "execution_count": 9,
     "metadata": {},
     "output_type": "execute_result"
    }
   ],
   "source": [
    "title_list"
   ]
  },
  {
   "cell_type": "code",
   "execution_count": 12,
   "metadata": {},
   "outputs": [
    {
     "name": "stdout",
     "output_type": "stream",
     "text": [
      "05/02/2022\n",
      "2022-05-02 00:00:00\n",
      "04/25/2022\n",
      "2022-04-25 00:00:00\n",
      "04/11/2022\n",
      "2022-04-11 00:00:00\n",
      "04/05/2022\n",
      "2022-04-05 00:00:00\n",
      "03/28/2022\n",
      "2022-03-28 00:00:00\n",
      "03/21/2022\n",
      "2022-03-21 00:00:00\n",
      "03/07/2022\n",
      "2022-03-07 00:00:00\n",
      "02/28/2022\n",
      "2022-02-28 00:00:00\n",
      "02/21/2022\n",
      "2022-02-21 00:00:00\n",
      "02/14/2022\n",
      "2022-02-14 00:00:00\n",
      "02/07/2022\n",
      "2022-02-07 00:00:00\n",
      "02/01/2022\n",
      "2022-02-01 00:00:00\n",
      "01/24/2022\n",
      "2022-01-24 00:00:00\n",
      "01/17/2022\n",
      "2022-01-17 00:00:00\n",
      "01/10/2022\n",
      "2022-01-10 00:00:00\n",
      "12/27/2021\n",
      "2021-12-27 00:00:00\n",
      "12/13/2021\n",
      "2021-12-13 00:00:00\n",
      "12/06/2021\n",
      "2021-12-06 00:00:00\n",
      "11/22/2021\n",
      "2021-11-22 00:00:00\n",
      "11/15/2021\n",
      "2021-11-15 00:00:00\n"
     ]
    }
   ],
   "source": [
    "# Parse date from list\n",
    "\n",
    "for item in title_list:\n",
    "      date = item.split(' -')[0]\n",
    "      print(date)\n",
    "      date_parsed = datetime.strptime(date, '%m/%d/%Y')\n",
    "      print(date_parsed)\n",
    "      #date_sequence = datetime_parse(item)\n",
    "      #dates.append(date_sequence[0])\n",
    "      dates.append(date_parsed)"
   ]
  },
  {
   "cell_type": "code",
   "execution_count": 13,
   "metadata": {},
   "outputs": [
    {
     "data": {
      "text/html": [
       "<div>\n",
       "<style scoped>\n",
       "    .dataframe tbody tr th:only-of-type {\n",
       "        vertical-align: middle;\n",
       "    }\n",
       "\n",
       "    .dataframe tbody tr th {\n",
       "        vertical-align: top;\n",
       "    }\n",
       "\n",
       "    .dataframe thead th {\n",
       "        text-align: right;\n",
       "    }\n",
       "</style>\n",
       "<table border=\"1\" class=\"dataframe\">\n",
       "  <thead>\n",
       "    <tr style=\"text-align: right;\">\n",
       "      <th></th>\n",
       "      <th>title</th>\n",
       "      <th>url</th>\n",
       "      <th>date</th>\n",
       "    </tr>\n",
       "  </thead>\n",
       "  <tbody>\n",
       "    <tr>\n",
       "      <th>0</th>\n",
       "      <td>05/02/2022 - Import AI 293: Generative humans;...</td>\n",
       "      <td>http://eepurl.com/h00rqr</td>\n",
       "      <td>2022-05-02</td>\n",
       "    </tr>\n",
       "    <tr>\n",
       "      <th>1</th>\n",
       "      <td>04/25/2022 - Import AI 292: AI makes low-carbo...</td>\n",
       "      <td>http://eepurl.com/h0nCKX</td>\n",
       "      <td>2022-04-25</td>\n",
       "    </tr>\n",
       "    <tr>\n",
       "      <th>2</th>\n",
       "      <td>04/11/2022 - Import AI 291: Google trains the ...</td>\n",
       "      <td>http://eepurl.com/hZjozT</td>\n",
       "      <td>2022-04-11</td>\n",
       "    </tr>\n",
       "    <tr>\n",
       "      <th>3</th>\n",
       "      <td>04/05/2022 - Import AI 290: China plans massiv...</td>\n",
       "      <td>http://eepurl.com/hYSyi9</td>\n",
       "      <td>2022-04-05</td>\n",
       "    </tr>\n",
       "    <tr>\n",
       "      <th>4</th>\n",
       "      <td>03/28/2022 - Import AI 289: Copyright v AI art...</td>\n",
       "      <td>http://eepurl.com/hYaLin</td>\n",
       "      <td>2022-03-28</td>\n",
       "    </tr>\n",
       "    <tr>\n",
       "      <th>5</th>\n",
       "      <td>03/21/2022 - Import AI 288: Chinese researcher...</td>\n",
       "      <td>http://eepurl.com/hXCPbv</td>\n",
       "      <td>2022-03-21</td>\n",
       "    </tr>\n",
       "    <tr>\n",
       "      <th>6</th>\n",
       "      <td>03/07/2022 - Import AI 287: 10 exaflop superco...</td>\n",
       "      <td>http://eepurl.com/hWsYwH</td>\n",
       "      <td>2022-03-07</td>\n",
       "    </tr>\n",
       "    <tr>\n",
       "      <th>7</th>\n",
       "      <td>02/28/2022 - Import AI 286: Fairness through d...</td>\n",
       "      <td>http://eepurl.com/hVSMf1</td>\n",
       "      <td>2022-02-28</td>\n",
       "    </tr>\n",
       "    <tr>\n",
       "      <th>8</th>\n",
       "      <td>02/21/2022 - Import AI 285: RL+Fusion; why RL ...</td>\n",
       "      <td>http://eepurl.com/hVhHez</td>\n",
       "      <td>2022-02-21</td>\n",
       "    </tr>\n",
       "    <tr>\n",
       "      <th>9</th>\n",
       "      <td>02/14/2022 - Import AI 284: 20bn GPT model; di...</td>\n",
       "      <td>http://eepurl.com/hUEhnX</td>\n",
       "      <td>2022-02-14</td>\n",
       "    </tr>\n",
       "    <tr>\n",
       "      <th>10</th>\n",
       "      <td>02/07/2022 - Import AI 283: Open source 20B GP...</td>\n",
       "      <td>http://eepurl.com/hT5gnr</td>\n",
       "      <td>2022-02-07</td>\n",
       "    </tr>\n",
       "    <tr>\n",
       "      <th>11</th>\n",
       "      <td>02/01/2022 - Import AI 282: Facebook's AI supe...</td>\n",
       "      <td>http://eepurl.com/hTyKXj</td>\n",
       "      <td>2022-02-01</td>\n",
       "    </tr>\n",
       "    <tr>\n",
       "      <th>12</th>\n",
       "      <td>01/24/2022 - Import AI 281: China does more su...</td>\n",
       "      <td>http://eepurl.com/hSYp5z</td>\n",
       "      <td>2022-01-24</td>\n",
       "    </tr>\n",
       "    <tr>\n",
       "      <th>13</th>\n",
       "      <td>01/17/2022 - Import AI 280: Why bigger is wors...</td>\n",
       "      <td>http://eepurl.com/hSmoov</td>\n",
       "      <td>2022-01-17</td>\n",
       "    </tr>\n",
       "    <tr>\n",
       "      <th>14</th>\n",
       "      <td>01/10/2022 - Import AI 279: Baidu adds knowled...</td>\n",
       "      <td>http://eepurl.com/hRQPeD</td>\n",
       "      <td>2022-01-10</td>\n",
       "    </tr>\n",
       "    <tr>\n",
       "      <th>15</th>\n",
       "      <td>12/27/2021 - Import AI 278: Can we ever trust ...</td>\n",
       "      <td>http://eepurl.com/hQZI61</td>\n",
       "      <td>2021-12-27</td>\n",
       "    </tr>\n",
       "    <tr>\n",
       "      <th>16</th>\n",
       "      <td>12/13/2021 - Import AI 277: DeepMind builds a ...</td>\n",
       "      <td>http://eepurl.com/hPQFJv</td>\n",
       "      <td>2021-12-13</td>\n",
       "    </tr>\n",
       "    <tr>\n",
       "      <th>17</th>\n",
       "      <td>12/06/2021 - Import AI 276: Tracking journalis...</td>\n",
       "      <td>http://eepurl.com/hPe-3n</td>\n",
       "      <td>2021-12-06</td>\n",
       "    </tr>\n",
       "    <tr>\n",
       "      <th>18</th>\n",
       "      <td>11/22/2021 - Import AI 275: Facebook dreams of...</td>\n",
       "      <td>http://eepurl.com/hN0Cdb</td>\n",
       "      <td>2021-11-22</td>\n",
       "    </tr>\n",
       "    <tr>\n",
       "      <th>19</th>\n",
       "      <td>11/15/2021 - Import AI 274: Multilingual model...</td>\n",
       "      <td>http://eepurl.com/hNnGtb</td>\n",
       "      <td>2021-11-15</td>\n",
       "    </tr>\n",
       "  </tbody>\n",
       "</table>\n",
       "</div>"
      ],
      "text/plain": [
       "                                                title  \\\n",
       "0   05/02/2022 - Import AI 293: Generative humans;...   \n",
       "1   04/25/2022 - Import AI 292: AI makes low-carbo...   \n",
       "2   04/11/2022 - Import AI 291: Google trains the ...   \n",
       "3   04/05/2022 - Import AI 290: China plans massiv...   \n",
       "4   03/28/2022 - Import AI 289: Copyright v AI art...   \n",
       "5   03/21/2022 - Import AI 288: Chinese researcher...   \n",
       "6   03/07/2022 - Import AI 287: 10 exaflop superco...   \n",
       "7   02/28/2022 - Import AI 286: Fairness through d...   \n",
       "8   02/21/2022 - Import AI 285: RL+Fusion; why RL ...   \n",
       "9   02/14/2022 - Import AI 284: 20bn GPT model; di...   \n",
       "10  02/07/2022 - Import AI 283: Open source 20B GP...   \n",
       "11  02/01/2022 - Import AI 282: Facebook's AI supe...   \n",
       "12  01/24/2022 - Import AI 281: China does more su...   \n",
       "13  01/17/2022 - Import AI 280: Why bigger is wors...   \n",
       "14  01/10/2022 - Import AI 279: Baidu adds knowled...   \n",
       "15  12/27/2021 - Import AI 278: Can we ever trust ...   \n",
       "16  12/13/2021 - Import AI 277: DeepMind builds a ...   \n",
       "17  12/06/2021 - Import AI 276: Tracking journalis...   \n",
       "18  11/22/2021 - Import AI 275: Facebook dreams of...   \n",
       "19  11/15/2021 - Import AI 274: Multilingual model...   \n",
       "\n",
       "                         url       date  \n",
       "0   http://eepurl.com/h00rqr 2022-05-02  \n",
       "1   http://eepurl.com/h0nCKX 2022-04-25  \n",
       "2   http://eepurl.com/hZjozT 2022-04-11  \n",
       "3   http://eepurl.com/hYSyi9 2022-04-05  \n",
       "4   http://eepurl.com/hYaLin 2022-03-28  \n",
       "5   http://eepurl.com/hXCPbv 2022-03-21  \n",
       "6   http://eepurl.com/hWsYwH 2022-03-07  \n",
       "7   http://eepurl.com/hVSMf1 2022-02-28  \n",
       "8   http://eepurl.com/hVhHez 2022-02-21  \n",
       "9   http://eepurl.com/hUEhnX 2022-02-14  \n",
       "10  http://eepurl.com/hT5gnr 2022-02-07  \n",
       "11  http://eepurl.com/hTyKXj 2022-02-01  \n",
       "12  http://eepurl.com/hSYp5z 2022-01-24  \n",
       "13  http://eepurl.com/hSmoov 2022-01-17  \n",
       "14  http://eepurl.com/hRQPeD 2022-01-10  \n",
       "15  http://eepurl.com/hQZI61 2021-12-27  \n",
       "16  http://eepurl.com/hPQFJv 2021-12-13  \n",
       "17  http://eepurl.com/hPe-3n 2021-12-06  \n",
       "18  http://eepurl.com/hN0Cdb 2021-11-22  \n",
       "19  http://eepurl.com/hNnGtb 2021-11-15  "
      ]
     },
     "execution_count": 13,
     "metadata": {},
     "output_type": "execute_result"
    }
   ],
   "source": [
    "# Save collection to dataframe\n",
    "\n",
    "df_collected = pd.DataFrame(list(zip(title_list, url_list, dates)), \n",
    "            columns=['title', 'url', 'date'])\n",
    "\n",
    "df_collected.head(20)"
   ]
  },
  {
   "cell_type": "code",
   "execution_count": null,
   "metadata": {},
   "outputs": [],
   "source": [
    "df_collected.columns"
   ]
  },
  {
   "cell_type": "code",
   "execution_count": null,
   "metadata": {},
   "outputs": [],
   "source": [
    "# Enter keywords in json referenced here\n",
    "\n",
    "# For testing only\n",
    "#search_terms = ['DeepMind', 'Google']\n",
    "\n",
    "load_file = IN_DATA_PATH + 'collection_searchterms.json'\n",
    "\n",
    "with open(load_file) as handle:\n",
    "    search_terms = json.loads(handle.read())"
   ]
  },
  {
   "cell_type": "code",
   "execution_count": null,
   "metadata": {},
   "outputs": [],
   "source": [
    "search_terms['search_term']"
   ]
  },
  {
   "cell_type": "code",
   "execution_count": null,
   "metadata": {},
   "outputs": [],
   "source": [
    "# List to save to\n",
    "relevant_text = []\n",
    "\n",
    "#preping list fo dictionary conversion\n",
    "relevant_text.append(['title', 'url', 'date', 'text'])\n"
   ]
  },
  {
   "cell_type": "code",
   "execution_count": null,
   "metadata": {},
   "outputs": [],
   "source": [
    "# Gets text for results within timedelta window\n",
    "#     This is probably best changed to a \"last scraped\" date from a json\n",
    "\n",
    "for index, row in df_collected.iterrows():\n",
    "      if row.date >= today - timedelta(days=30):\n",
    "            print('Fetching: ' + row.url)\n",
    "            response = requests.post(row.url) #headers=header)\n",
    "\n",
    "            html = soup(response.text, 'lxml')\n",
    "\n",
    "            objects = html.find_all('p')#, class_=\"campaign\")\n",
    "            issue_text = []\n",
    "            for obj in objects:\n",
    "                  issue_text.append(obj.text)\n",
    "                  #print(obj.text)\n",
    "            issue_text = ' '.join(issue_text)\n",
    "            #print(issue_text)\n",
    "            #print('--------------------------------')\n",
    "            \n",
    "            for word in search_terms['search_term']:\n",
    "                  if word in issue_text:\n",
    "                        save = list(row)\n",
    "                        save.append(issue_text)\n",
    "                        relevant_text.append(save)                  \n",
    "                        print('Search term found: ' +  word)\n",
    "                        break\n",
    "                  else: \n",
    "                        pass\n",
    "            time.sleep(5)\n",
    "      else:\n",
    "            pass\n"
   ]
  },
  {
   "cell_type": "code",
   "execution_count": null,
   "metadata": {},
   "outputs": [],
   "source": [
    "len(relevant_text)"
   ]
  },
  {
   "cell_type": "code",
   "execution_count": null,
   "metadata": {},
   "outputs": [],
   "source": [
    "## To save to json - not recommend as datetimes not serializable, would have to convert dt back to string\n",
    "# Note - ugly dictionary, e.g. not jsonl or indented, but kept simple unless requested\n",
    "\n",
    "# data_dict = {k: v for k, *v in zip(*relevant_text)}\n",
    "\n",
    "# with open('data.json', 'w') as f:\n",
    "#     json.dump(data_dict, f)"
   ]
  },
  {
   "cell_type": "code",
   "execution_count": null,
   "metadata": {},
   "outputs": [],
   "source": [
    "new_df = pd.DataFrame(relevant_text[1:],columns=relevant_text[0])"
   ]
  },
  {
   "cell_type": "code",
   "execution_count": null,
   "metadata": {},
   "outputs": [],
   "source": [
    "# TO DO: add if file clause\n",
    "old_df = pd.read_csv(DATA_PATH + 'open_ai_data.csv')"
   ]
  },
  {
   "cell_type": "code",
   "execution_count": null,
   "metadata": {},
   "outputs": [],
   "source": [
    "combined_df = pd.concat([new_df, old_df])"
   ]
  },
  {
   "cell_type": "code",
   "execution_count": null,
   "metadata": {},
   "outputs": [],
   "source": [
    "# If timing for collection and timedelta etc are good, should not be needed, but good to be sure\n",
    "# If you instead have date issues, you should do this in the collect loop to eliminate unneeeded collectio\n",
    "# e.g. if url in list(old_df.url): pass\n",
    "\n",
    "combined_df.drop_duplicates(subset='url', inplace=True)"
   ]
  },
  {
   "cell_type": "code",
   "execution_count": null,
   "metadata": {},
   "outputs": [],
   "source": [
    "combined_df"
   ]
  },
  {
   "cell_type": "code",
   "execution_count": null,
   "metadata": {},
   "outputs": [],
   "source": [
    "combined_df.to_csv(DATA_PATH + 'open_ai_data.csv', index=False)"
   ]
  },
  {
   "cell_type": "markdown",
   "metadata": {},
   "source": [
    "# Synced"
   ]
  },
  {
   "cell_type": "code",
   "execution_count": null,
   "metadata": {},
   "outputs": [],
   "source": [
    "base_url = sources['Synced']"
   ]
  },
  {
   "cell_type": "code",
   "execution_count": null,
   "metadata": {},
   "outputs": [],
   "source": [
    "# just checking\n",
    "today"
   ]
  },
  {
   "cell_type": "code",
   "execution_count": null,
   "metadata": {},
   "outputs": [],
   "source": [
    "# Get date part for url\n",
    "year = datetime.now().year\n",
    "month = datetime.now().month"
   ]
  },
  {
   "cell_type": "code",
   "execution_count": null,
   "metadata": {},
   "outputs": [],
   "source": [
    "current_url = base_url + str(year) + '/' +  str(month) + '/'\n",
    "current_url\n"
   ]
  },
  {
   "cell_type": "code",
   "execution_count": null,
   "metadata": {},
   "outputs": [],
   "source": [
    "# lists for saving\n",
    "title_list = []\n",
    "url_list = []\n",
    "summary_list = []\n",
    "date_list = []"
   ]
  },
  {
   "cell_type": "code",
   "execution_count": null,
   "metadata": {},
   "outputs": [],
   "source": [
    "# Setting up a fake useragent\n",
    "# Can do for all collections, but for now limited to where is seems necessary only\n",
    "# Ignore the error \n",
    "\n",
    "ua = UserAgent(verify_ssl=False, cache=False)\n",
    "\n",
    "user_agent = ua.random\n",
    "header = {'User-Agent': user_agent}\n",
    "print(header)"
   ]
  },
  {
   "cell_type": "code",
   "execution_count": null,
   "metadata": {},
   "outputs": [],
   "source": [
    "response = requests.post(url, headers=header)\n",
    "\n",
    "html = soup(response.text, 'lxml')\n",
    "\n",
    "obj = html.find('div',id= \"primary\") "
   ]
  },
  {
   "cell_type": "code",
   "execution_count": null,
   "metadata": {},
   "outputs": [],
   "source": [
    "\n",
    "dates = obj.find_all(class_='entry-date')\n",
    "for d in dates:\n",
    "      d_parsed = datetime_parse(d.text)\n",
    "      date_list.append(d_parsed[0])\n",
    "      #date_list.append(d.text)\n",
    "\n",
    "titles = obj.find_all(class_='entry-title')\n",
    "for t in titles:\n",
    "      title_list.append(t.text)\n",
    "      url_list.append(t.a['href'])\n",
    "\n",
    "summaries = obj.find_all(class_='entry-summary')\n",
    "for s in summaries:\n",
    "      summary_list.append(s.text)\n",
    "\n"
   ]
  },
  {
   "cell_type": "code",
   "execution_count": null,
   "metadata": {},
   "outputs": [],
   "source": [
    "df_collected2 = pd.DataFrame(list(zip(title_list, url_list, date_list, summary_list)), \n",
    "            columns=['title', 'url', 'date', 'summary'])\n",
    "\n",
    "df_collected2.tail(2)"
   ]
  },
  {
   "cell_type": "code",
   "execution_count": null,
   "metadata": {},
   "outputs": [],
   "source": [
    "#keyword = 'AlexNet'\n",
    "search_terms['search_term']"
   ]
  },
  {
   "cell_type": "code",
   "execution_count": null,
   "metadata": {},
   "outputs": [],
   "source": [
    "relevant_text = []\n",
    "\n",
    "relevant_text.append(['title', 'url', 'date', 'summary', 'text'])\n"
   ]
  },
  {
   "cell_type": "code",
   "execution_count": null,
   "metadata": {},
   "outputs": [],
   "source": [
    "for index, row in df_collected2.iterrows():\n",
    "      if row.date >= today - timedelta(days=14):\n",
    "            print('Fetching: ' + row.url)\n",
    "            response = requests.post(row.url) #headers=header)\n",
    "\n",
    "            html = soup(response.text, 'lxml')\n",
    "\n",
    "            objects = html.find_all('div', class_=\"entry-content\")\n",
    "            article_text = []\n",
    "            for obj in objects:\n",
    "                  paragraph_text = obj.find_all('p')\n",
    "                  for p in paragraph_text:\n",
    "                        article_text.append(p.text)\n",
    "                  #print(obj.text)\n",
    "            article_text = ' '.join(article_text)\n",
    "\n",
    "            for word in search_terms['search_term']:\n",
    "                  if word in article_text:\n",
    "                        save = list(row)\n",
    "                        save.append(article_text)\n",
    "                        relevant_text.append(save)                  \n",
    "                        print('Search term found: ' +  word)\n",
    "                        break\n",
    "            else: \n",
    "                  pass\n",
    "\n",
    "            time.sleep(5)\n",
    "      else:\n",
    "            pass\n"
   ]
  },
  {
   "cell_type": "code",
   "execution_count": null,
   "metadata": {},
   "outputs": [],
   "source": [
    "new_df = pd.DataFrame(relevant_text[1:],columns=relevant_text[0])"
   ]
  },
  {
   "cell_type": "code",
   "execution_count": null,
   "metadata": {},
   "outputs": [],
   "source": [
    "new_df"
   ]
  },
  {
   "cell_type": "code",
   "execution_count": null,
   "metadata": {},
   "outputs": [],
   "source": [
    "# TO DO: add if file clause\n",
    "old_df = pd.read_csv(DATA_PATH + 'synced_data.csv')"
   ]
  },
  {
   "cell_type": "code",
   "execution_count": null,
   "metadata": {},
   "outputs": [],
   "source": [
    "combined_df = pd.concat([new_df, old_df])"
   ]
  },
  {
   "cell_type": "code",
   "execution_count": null,
   "metadata": {},
   "outputs": [],
   "source": [
    "# If timing for collection and timedelta etc are good, should not be needed, but good to be sure\n",
    "# If you instead have date issues, you should do this in the collect loop to eliminate unneeeded collectio\n",
    "# e.g. if url in list(old_df.url): pass\n",
    "\n",
    "combined_df.drop_duplicates(subset='url', inplace=True)"
   ]
  },
  {
   "cell_type": "code",
   "execution_count": null,
   "metadata": {},
   "outputs": [],
   "source": [
    "combined_df"
   ]
  },
  {
   "cell_type": "code",
   "execution_count": null,
   "metadata": {},
   "outputs": [],
   "source": [
    "combined_df.to_csv(DATA_PATH + 'synced_data.csv', index=False)"
   ]
  },
  {
   "cell_type": "markdown",
   "metadata": {},
   "source": [
    "# MIT"
   ]
  },
  {
   "cell_type": "code",
   "execution_count": null,
   "metadata": {},
   "outputs": [],
   "source": [
    "base_url = sources['MIT_Technology_Review']"
   ]
  },
  {
   "cell_type": "code",
   "execution_count": null,
   "metadata": {},
   "outputs": [],
   "source": [
    "topic_designator = 'topic/'\n",
    "topic_tags = ['artificial-intelligence', 'humans-and-technology', 'computing'] "
   ]
  },
  {
   "cell_type": "code",
   "execution_count": null,
   "metadata": {},
   "outputs": [],
   "source": [
    "final_url = base_url + topic_designator + topic_tags[0]\n",
    "final_url"
   ]
  },
  {
   "cell_type": "code",
   "execution_count": null,
   "metadata": {},
   "outputs": [],
   "source": [
    "for tag in topic_tags:\n",
    "      final_url = base_url + topic_designator + tag\n",
    "      # then search"
   ]
  },
  {
   "cell_type": "code",
   "execution_count": null,
   "metadata": {},
   "outputs": [],
   "source": [
    "response = requests.get(final_url)\n",
    "\n",
    "# print headers of response\n",
    "print(response.headers)"
   ]
  },
  {
   "cell_type": "code",
   "execution_count": null,
   "metadata": {},
   "outputs": [],
   "source": [
    "API_ROOT_URL = \"https://wp.technologyreview.com/wp-json/irving/v1/data/term_archive?category_name=artificial-intelligence&page=1\"\n",
    "'''\n",
    "API_ROOT_URL\n",
    "slug\n",
    "?\n",
    "requestType\n",
    "=\n",
    "query\n",
    "&page=1'''\n",
    "\n",
    "def searchApi():\n",
    "    endpoint = API_ROOT_URL\n",
    "    data = {\n",
    "        \"slug\": \"term_archive\",\n",
    "        \"requestType\": \"category_name\",\n",
    "        \"query\": \"artificial-intelligence\"\n",
    "    }\n",
    "    try:\n",
    "        response = requests.post(endpoint)#, data=data)\n",
    "        if(response.status_code == 200):\n",
    "            #print(response.json())\n",
    "            for msg in response:\n",
    "                print(msg)\n",
    "    except Exception:\n",
    "        print(traceback.format_exc())"
   ]
  },
  {
   "cell_type": "code",
   "execution_count": null,
   "metadata": {},
   "outputs": [],
   "source": [
    "searchApi()\n"
   ]
  },
  {
   "cell_type": "code",
   "execution_count": null,
   "metadata": {},
   "outputs": [],
   "source": [
    "API_Link = \"https://wp.technologyreview.com/wp-json/irving/v1/data/term_archive?category_name=\"\n",
    "#artificial-intelligence\"\n",
    "#&page=1\""
   ]
  },
  {
   "cell_type": "code",
   "execution_count": null,
   "metadata": {},
   "outputs": [],
   "source": [
    "# Making a get test request\n",
    "try:\n",
    "      response = requests.get(API_Link)\n",
    "\n",
    "      # print headers of response\n",
    "      if(response.status_code == 200):\n",
    "            print(response.headers)\n",
    "            \n",
    "except Exception:\n",
    "      print(traceback.format_exc())\n"
   ]
  },
  {
   "cell_type": "code",
   "execution_count": null,
   "metadata": {},
   "outputs": [],
   "source": [
    "def get_response(API_Link, pages=1):\n",
    "    with requests.get(API_Link + '&page=' + str(pages)) as response:\n",
    "        page_soup = soup(response.content, 'lxml')\n",
    "        return page_soup"
   ]
  },
  {
   "cell_type": "code",
   "execution_count": null,
   "metadata": {},
   "outputs": [],
   "source": [
    "responses = []\n",
    "\n",
    "for tag in topic_tags:\n",
    "      response = get_response(API_Link + tag, pages=str(1))\n",
    "\n",
    "      #parse\n",
    "      j_response = json.loads(response.text)\n",
    "      responses = responses + j_response"
   ]
  },
  {
   "cell_type": "code",
   "execution_count": null,
   "metadata": {},
   "outputs": [],
   "source": [
    "responses[1].keys()"
   ]
  },
  {
   "cell_type": "code",
   "execution_count": null,
   "metadata": {},
   "outputs": [],
   "source": [
    "responses[1]['config'].keys()"
   ]
  },
  {
   "cell_type": "code",
   "execution_count": null,
   "metadata": {},
   "outputs": [],
   "source": [
    "#initial empty df\n",
    "collected_df = pd.DataFrame(columns=['title', 'url', 'date', 'summary'])\n",
    "collected_df.loc[collected_df.index, :] = ['x', 'url', 'date', 'summary']\n",
    "\n",
    "collected_df"
   ]
  },
  {
   "cell_type": "code",
   "execution_count": null,
   "metadata": {},
   "outputs": [],
   "source": [
    "needed_keys = ['title', 'permalink', 'postDate', 'excerpt']\n",
    "\n",
    "entries = []\n",
    "entries.append(['title', 'url', 'date', 'summary'])\n",
    "\n",
    "for item in responses:\n",
    "      entry = [item['config'][key] for key in needed_keys]\n",
    "      entries.append(entry)\n",
    "      #collected_df.loc[collected_df.index.max() + 1, :] = entry\n"
   ]
  },
  {
   "cell_type": "code",
   "execution_count": null,
   "metadata": {},
   "outputs": [],
   "source": [
    "new_df = pd.DataFrame(entries[1:],columns=entries[0])"
   ]
  },
  {
   "cell_type": "code",
   "execution_count": null,
   "metadata": {},
   "outputs": [],
   "source": [
    "def date_from_url(x):\n",
    "\n",
    "      pat = r\"(20[0-2][0-9]([-_/]?)[0-9]{2}(?:\\2[0-9]{2})?)\"\n",
    "      dates = re.compile(pat)\n",
    "\n",
    "      res = dates.search(x)\n",
    "\n",
    "      res = datetime_parse(res[0])\n",
    "  \n",
    "      return res[0]\n"
   ]
  },
  {
   "cell_type": "code",
   "execution_count": null,
   "metadata": {},
   "outputs": [],
   "source": [
    "len(new_df)"
   ]
  },
  {
   "cell_type": "code",
   "execution_count": null,
   "metadata": {},
   "outputs": [],
   "source": [
    "new_df['date'] = new_df['url'].apply(lambda x: date_from_url(x))\n"
   ]
  },
  {
   "cell_type": "code",
   "execution_count": null,
   "metadata": {},
   "outputs": [],
   "source": [
    "relevant_text = []\n",
    "\n",
    "relevant_text.append(['title', 'url', 'date', 'summary', 'text'])\n"
   ]
  },
  {
   "cell_type": "code",
   "execution_count": null,
   "metadata": {},
   "outputs": [],
   "source": [
    "for index, row in new_df.iterrows():\n",
    "      if row.date >= today - timedelta(days=7):\n",
    "            print('Fetching: ' + row.url)\n",
    "            response = requests.post(row.url, headers=header)\n",
    "\n",
    "            html = soup(response.text, 'lxml')\n",
    "\n",
    "            objects = html.find_all('div', id=\"content--body\")\n",
    "            article_text = []\n",
    "            for obj in objects:\n",
    "                  paragraph_text = obj.find_all('p')\n",
    "                  for p in paragraph_text:\n",
    "                        article_text.append(p.text)\n",
    "                  #print(obj.text)\n",
    "            article_text = ' '.join(article_text)\n",
    "\n",
    "            for word in search_terms['search_term']:\n",
    "                  if word in article_text:\n",
    "                        save = list(row)\n",
    "                        save.append(article_text)\n",
    "                        relevant_text.append(save)                  \n",
    "                        print('Search term found: ' +  word)\n",
    "                        break\n",
    "            else: \n",
    "                  pass\n",
    "\n",
    "            time.sleep(5)\n",
    "      else:\n",
    "            pass\n"
   ]
  },
  {
   "cell_type": "code",
   "execution_count": null,
   "metadata": {},
   "outputs": [],
   "source": [
    "new_df2 = pd.DataFrame(relevant_text[1:],columns=relevant_text[0])"
   ]
  },
  {
   "cell_type": "code",
   "execution_count": null,
   "metadata": {},
   "outputs": [],
   "source": [
    "# TO DO: add if file clause\n",
    "old_df = pd.read_csv(DATA_PATH + 'synced_data.csv')"
   ]
  },
  {
   "cell_type": "code",
   "execution_count": null,
   "metadata": {},
   "outputs": [],
   "source": [
    "combined_df = pd.concat([new_df, old_df])"
   ]
  },
  {
   "cell_type": "code",
   "execution_count": null,
   "metadata": {},
   "outputs": [],
   "source": [
    "# If timing for collection and timedelta etc are good, should not be needed, but good to be sure\n",
    "# If you instead have date issues, you should do this in the collect loop to eliminate unneeeded collectio\n",
    "# e.g. if url in list(old_df.url): pass\n",
    "\n",
    "combined_df.drop_duplicates(subset='url', inplace=True)"
   ]
  },
  {
   "cell_type": "code",
   "execution_count": null,
   "metadata": {},
   "outputs": [],
   "source": [
    "combined_df.to_csv(DATA_PATH + 'mit_data.csv', index=False)"
   ]
  },
  {
   "cell_type": "markdown",
   "metadata": {},
   "source": [
    "# IEEE"
   ]
  },
  {
   "cell_type": "markdown",
   "metadata": {},
   "source": [
    "### Currently not working well - only 4 returns due to dynamic scrolling\n",
    "I can solve with Selenium, but trying to avoid using it\n",
    "\n",
    "Currently working on a requests version, but convoluated urls and html"
   ]
  },
  {
   "cell_type": "code",
   "execution_count": null,
   "metadata": {},
   "outputs": [],
   "source": [
    "## Can get all the rest (set range based on date) but missed first page returned\n",
    "\n",
    "counter = 0\n",
    "for i in range(1, 5): #while\n",
    "      url = \"https://spectrum.ieee.org/res/load_more_posts/data.js?site_id=20265424&node_id=/root/blocks/block[search]/abtests/abtest[1]/row/column[1]/choose/when[getparams.order]/choose/otherwise/element_wrapper-&resource_id=search_deepfake&path_params={}&formats=html&q=deepfake&topic=&order=newest&rm_lazy_load=16&pn=%s&pn_strategy=\" % (counter)\n",
    "      #url = \"https://spectrum.ieee.org/res/load_more_posts/data.js?site_id=20265424&node_id=/root/blocks/block[search]/abtests/abtest[1]/row/column[1]/choose/otherwise/choose/otherwise/element_wrapper-&resource_id=search_deepfake&path_params={}&formats=html&q=deepfake&order=newest&rm_lazy_load=1&pn=%s&pn_strategy=\" % (counter)\n",
    "      print(url)\n",
    "      counter +=1\n",
    "      # ua = UserAgent(verify_ssl=False, cache=False)\n",
    "\n",
    "      # user_agent = ua.random\n",
    "      # header = {'User-Agent': user_agent}\n",
    "\n",
    "      response = requests.post(url)#, headers=header)\n",
    "\n",
    "      html = soup(response.text, 'lxml')\n",
    "\n",
    "      objects = html.find('div')#, class_='posts-wrapper')#elid=True)#class_= 'clearfix')\n",
    "\n",
    "      for obj in objects:\n",
    "            items = obj.find_all('span')\n",
    "            for it in items:\n",
    "                  print(it.text)\n",
    "            items = obj.find_all('h2')#, class_ = 'widget__head')#, id='col-right')\n",
    "            #print(len(items))\n",
    "            for i in items:\n",
    "                  print(i.text)\n",
    "                  print(i.a['href'])"
   ]
  },
  {
   "cell_type": "markdown",
   "metadata": {},
   "source": [
    "### Not great"
   ]
  },
  {
   "cell_type": "code",
   "execution_count": null,
   "metadata": {},
   "outputs": [],
   "source": [
    "base_url ='https://spectrum.ieee.org/'"
   ]
  },
  {
   "cell_type": "code",
   "execution_count": null,
   "metadata": {},
   "outputs": [],
   "source": [
    "query_url = 'https://spectrum.ieee.org/search/?q='"
   ]
  },
  {
   "cell_type": "code",
   "execution_count": null,
   "metadata": {},
   "outputs": [],
   "source": [
    "topic_url = 'https://spectrum.ieee.org/topic/artificial-intelligence/'"
   ]
  },
  {
   "cell_type": "code",
   "execution_count": null,
   "metadata": {},
   "outputs": [],
   "source": [
    "# query connector\n",
    "C = \"&\""
   ]
  },
  {
   "cell_type": "code",
   "execution_count": null,
   "metadata": {},
   "outputs": [],
   "source": [
    "sort_criteria = \"order=newest\""
   ]
  },
  {
   "cell_type": "code",
   "execution_count": null,
   "metadata": {},
   "outputs": [],
   "source": [
    "topic_criteria = \"topic=artificial-intelligence\""
   ]
  },
  {
   "cell_type": "code",
   "execution_count": null,
   "metadata": {},
   "outputs": [],
   "source": [
    "# initialized above\n",
    "today"
   ]
  },
  {
   "cell_type": "code",
   "execution_count": null,
   "metadata": {},
   "outputs": [],
   "source": [
    "today.date()"
   ]
  },
  {
   "cell_type": "code",
   "execution_count": null,
   "metadata": {},
   "outputs": [],
   "source": [
    "back_to = today.date() - timedelta(days=30)\n",
    "back_to"
   ]
  },
  {
   "cell_type": "code",
   "execution_count": null,
   "metadata": {},
   "outputs": [],
   "source": [
    "search_terms['search_term']"
   ]
  },
  {
   "cell_type": "code",
   "execution_count": null,
   "metadata": {},
   "outputs": [],
   "source": [
    "for term in search_terms['search_term']:\n",
    "      final_url = query_url + term + C + sort_criteria\n",
    "      print(final_url)"
   ]
  },
  {
   "cell_type": "code",
   "execution_count": null,
   "metadata": {},
   "outputs": [],
   "source": [
    "print(final_url)\n",
    "ua = UserAgent(verify_ssl=False, cache=False)\n",
    "\n",
    "user_agent = ua.random\n",
    "header = {'User-Agent': user_agent}\n",
    "\n",
    "response = requests.post(final_url, headers=header)\n",
    "\n",
    "html = soup(response.text, 'lxml')\n"
   ]
  },
  {
   "cell_type": "code",
   "execution_count": null,
   "metadata": {},
   "outputs": [],
   "source": [
    "title_list = []\n",
    "url_list = []\n",
    "date_list = []"
   ]
  },
  {
   "cell_type": "code",
   "execution_count": null,
   "metadata": {},
   "outputs": [],
   "source": [
    "# Works some at least but only fetches top 4 due to page scroll\n",
    "\n",
    "objects = html.find_all('div',  class_='section_column')#elid=True)#class_= 'clearfix')\n",
    "\n",
    "for obj in objects:\n",
    "      items = obj.find_all('div', id='col-right')\n",
    "      print(len(items))\n",
    "      for i in items:\n",
    "\n",
    "            print(i.h2.text)\n",
    "            title_list.append(i.h2.text)\n",
    "\n",
    "            print(i.h2.a['href'])\n",
    "            url_list.append(i.h2.a['href'])\n",
    "\n",
    "            date = i.div.span\n",
    "            print(date.text)\n",
    "            try: \n",
    "                  #not working well\n",
    "                  d_parsed = datetime_parse(date.text)\n",
    "                  date_list.append(d_parsed[0])\n",
    "            except:\n",
    "                  date_list.append('None')\n"
   ]
  },
  {
   "cell_type": "code",
   "execution_count": null,
   "metadata": {},
   "outputs": [],
   "source": [
    "df_collected3 = pd.DataFrame(list(zip(title_list, url_list, date_list)), \n",
    "            columns=['title', 'url', 'date',])\n",
    "\n",
    "df_collected3.head(4)"
   ]
  },
  {
   "cell_type": "code",
   "execution_count": null,
   "metadata": {},
   "outputs": [],
   "source": [
    "# List to save to\n",
    "relevant_text = []\n",
    "\n",
    "#preping list fo dictionary conversion\n",
    "relevant_text.append(['title', 'url', 'date', 'text'])"
   ]
  },
  {
   "cell_type": "code",
   "execution_count": null,
   "metadata": {},
   "outputs": [],
   "source": [
    "today"
   ]
  },
  {
   "cell_type": "code",
   "execution_count": null,
   "metadata": {},
   "outputs": [],
   "source": [
    "for index, row in df_collected3.iterrows():\n",
    "      if row.date >= today - timedelta(days=30):\n",
    "            print('Fetching: ' + row.url)\n",
    "            response = requests.post(row.url) #headers=header)\n",
    "\n",
    "            html = soup(response.text, 'lxml')\n",
    "\n",
    "            objects = html.find_all('div', id=\"col-center\")\n",
    "            article_text = []\n",
    "            for obj in objects:\n",
    "                  paragraph_text = obj.find_all('p')\n",
    "                  for p in paragraph_text:\n",
    "                        article_text.append(p.text)\n",
    "                  #print(obj.text)\n",
    "            article_text = ' '.join(article_text)\n",
    "   \n",
    "            for word in search_terms['search_term']:\n",
    "                  if word in article_text:\n",
    "                        save = list(row)\n",
    "                        save.append(article_text)\n",
    "                        relevant_text.append(save)                  \n",
    "                        print('Search term found: ' +  word)\n",
    "                        break\n",
    "            else: \n",
    "                  pass\n",
    "\n",
    "            time.sleep(5)\n",
    "      else:\n",
    "            pass"
   ]
  },
  {
   "cell_type": "code",
   "execution_count": null,
   "metadata": {},
   "outputs": [],
   "source": [
    "len(relevant_text)"
   ]
  },
  {
   "cell_type": "markdown",
   "metadata": {},
   "source": [
    "# CNA"
   ]
  },
  {
   "cell_type": "code",
   "execution_count": 3,
   "metadata": {},
   "outputs": [],
   "source": [
    "from  urllib.request import urlopen\n",
    "import shutil"
   ]
  },
  {
   "cell_type": "code",
   "execution_count": 4,
   "metadata": {},
   "outputs": [],
   "source": [
    "base_url_1 = 'https://www.cna.org/centers/cna/sppp/rsp/russia-ai-archive#newsletters'\n",
    "base_url_2  = \"https://www.cna.org/centers/cna/cip/china/china-ai-newsletters/issue-1\""
   ]
  },
  {
   "cell_type": "code",
   "execution_count": 5,
   "metadata": {},
   "outputs": [],
   "source": [
    "# convert PDF \n",
    "# clean up PDF"
   ]
  },
  {
   "cell_type": "code",
   "execution_count": 6,
   "metadata": {},
   "outputs": [
    {
     "data": {
      "text/plain": [
       "datetime.datetime(2022, 5, 3, 9, 14, 5, 887687)"
      ]
     },
     "execution_count": 6,
     "metadata": {},
     "output_type": "execute_result"
    }
   ],
   "source": [
    "today = datetime.now()\n",
    "\n",
    "today"
   ]
  },
  {
   "cell_type": "code",
   "execution_count": 7,
   "metadata": {},
   "outputs": [
    {
     "data": {
      "text/plain": [
       "datetime.date(2022, 4, 3)"
      ]
     },
     "execution_count": 7,
     "metadata": {},
     "output_type": "execute_result"
    }
   ],
   "source": [
    "back_to = today.date() - timedelta(days=30)\n",
    "back_to"
   ]
  },
  {
   "cell_type": "code",
   "execution_count": 8,
   "metadata": {},
   "outputs": [],
   "source": [
    "import ssl\n",
    "\n",
    "ssl._create_default_https_context = ssl._create_unverified_context\n"
   ]
  },
  {
   "cell_type": "code",
   "execution_count": 9,
   "metadata": {},
   "outputs": [],
   "source": [
    "# create loop over base_url_1 and_2"
   ]
  },
  {
   "cell_type": "code",
   "execution_count": 10,
   "metadata": {},
   "outputs": [
    {
     "name": "stderr",
     "output_type": "stream",
     "text": [
      "Error occurred during loading data. Trying to use cache server https://fake-useragent.herokuapp.com/browsers/0.1.11\n",
      "Traceback (most recent call last):\n",
      "  File \"/home/jesselehrke/Documents/GitHub/disinfo_radar_development/dri_venv/lib/python3.9/site-packages/fake_useragent/utils.py\", line 154, in load\n",
      "    for item in get_browsers(verify_ssl=verify_ssl):\n",
      "  File \"/home/jesselehrke/Documents/GitHub/disinfo_radar_development/dri_venv/lib/python3.9/site-packages/fake_useragent/utils.py\", line 99, in get_browsers\n",
      "    html = html.split('<table class=\"w3-table-all notranslate\">')[1]\n",
      "IndexError: list index out of range\n"
     ]
    }
   ],
   "source": [
    "ua = UserAgent(verify_ssl=False, cache=False)\n",
    "\n",
    "user_agent = ua.random\n",
    "header = {'User-Agent': user_agent}\n",
    "\n",
    "response = requests.get(base_url_2, headers=header)\n",
    "\n",
    "html = soup(response.text, 'lxml')"
   ]
  },
  {
   "cell_type": "code",
   "execution_count": 11,
   "metadata": {},
   "outputs": [],
   "source": [
    "title_list = []\n",
    "url_list = []\n",
    "date_list = []"
   ]
  },
  {
   "cell_type": "code",
   "execution_count": 12,
   "metadata": {},
   "outputs": [
    {
     "name": "stdout",
     "output_type": "stream",
     "text": [
      "1\n",
      "13\n",
      "Issue 1: November 2, 2021 [ web | pdf ]\n",
      "/CNA_files/centers/CNA/CIP/China/ai-newsletters/ChinaAI-Autonomy-Report-Issue-1.pdf\n",
      "Issue 2: November 9, 2021 [ web | pdf ]\n",
      "/CNA_files/centers/CNA/CIP/China/ai-newsletters/ChinaAI-Autonomy-Report-Issue-2.pdf\n",
      "Issue 3: November 18, 2021 [ web | pdf ]\n",
      "/CNA_files/centers/CNA/CIP/China/ai-newsletters/ChinaAI-Autonomy-Report-Issue-3.pdf\n",
      "Issue 4: December 2, 2021 [ web | pdf ]\n",
      "/CNA_files/centers/CNA/CIP/China/ai-newsletters/ChinaAI-Autonomy-Report-Issue-4.pdf\n",
      "Issue 5: December 16, 2021 [ web | pdf ]\n",
      "/CNA_files/centers/CNA/CIP/China/ai-newsletters/ChinaAI-Autonomy-Report-Issue-5.pdf\n",
      "Issue 6: January 13, 2022 [ web | pdf ]\n",
      "/CNA_files/centers/CNA/CIP/China/ai-newsletters/ChinaAI-Autonomy-Report-Issue-6.pdf\n",
      "Issue 7: January 27, 2022 [ web | pdf ]\n",
      "/CNA_files/centers/CNA/CIP/China/ai-newsletters/ChinaAI-Autonomy-Report-Issue-7.pdf\n",
      "Issue 8: February 10, 2022 [ web | pdf ]\n",
      "/CNA_files/centers/CNA/CIP/China/ai-newsletters/ChinaAI-Autonomy-Report-Issue-8.pdf\n",
      "Issue 9: February 24, 2022 [ web | pdf ]\n",
      "/CNA_files/centers/CNA/CIP/China/ai-newsletters/ChinaAI-Autonomy-Report-Issue-9.pdf\n",
      "Issue 10: March 10, 2022 [ web | pdf ]\n",
      "/CNA_files/centers/CNA/CIP/China/ai-newsletters/ChinaAI-Autonomy-Report-Issue-10.pdf\n",
      "Issue 11: March 24, 2022 [ web | pdf ]\n",
      "/CNA_files/centers/CNA/CIP/China/ai-newsletters/ChinaAI-Autonomy-Report-Issue-11.pdf\n",
      "Issue 12: April 7, 2022 [ web | pdf ]\n",
      "/CNA_files/centers/CNA/CIP/China/ai-newsletters/ChinaAI-Autonomy-Report-Issue-12.pdf\n",
      "Issue 13: April 21, 2022 [ web | pdf ]\n",
      "/CNA_files/centers/CNA/CIP/China/ai-newsletters/ChinaAI-Autonomy-Report-Issue-13.pdf\n"
     ]
    }
   ],
   "source": [
    "\n",
    "objects = html.find_all('div', id='newsletters')#, href=True)#elid=True)#class_= 'clearfix')\n",
    "print(len(objects))\n",
    "\n",
    "for obj in objects:\n",
    "      items = obj.find_all('li')#, href=True)\n",
    "      print(len(items))\n",
    "      for i in items:\n",
    "            print(i.text)\n",
    "            title_list.append(i.text)\n",
    "            urls = i.find_all('a', href=True)\n",
    "            print(urls[1]['href'])\n",
    "            url_list.append('https://www.cna.org' + urls[1]['href'])\n",
    "\n",
    "            date = i.text\n",
    "            try:\n",
    "                  d_parsed = datetime_parse(date)\n",
    "                  date_list.append(d_parsed[0])\n",
    "            except:\n",
    "                  date_list.append('None')"
   ]
  },
  {
   "cell_type": "code",
   "execution_count": 13,
   "metadata": {},
   "outputs": [
    {
     "data": {
      "text/html": [
       "<div>\n",
       "<style scoped>\n",
       "    .dataframe tbody tr th:only-of-type {\n",
       "        vertical-align: middle;\n",
       "    }\n",
       "\n",
       "    .dataframe tbody tr th {\n",
       "        vertical-align: top;\n",
       "    }\n",
       "\n",
       "    .dataframe thead th {\n",
       "        text-align: right;\n",
       "    }\n",
       "</style>\n",
       "<table border=\"1\" class=\"dataframe\">\n",
       "  <thead>\n",
       "    <tr style=\"text-align: right;\">\n",
       "      <th></th>\n",
       "      <th>title</th>\n",
       "      <th>url</th>\n",
       "      <th>date</th>\n",
       "    </tr>\n",
       "  </thead>\n",
       "  <tbody>\n",
       "    <tr>\n",
       "      <th>0</th>\n",
       "      <td>Issue 1: November 2, 2021 [ web | pdf ]</td>\n",
       "      <td>https://www.cna.org/CNA_files/centers/CNA/CIP/...</td>\n",
       "      <td>None</td>\n",
       "    </tr>\n",
       "    <tr>\n",
       "      <th>1</th>\n",
       "      <td>Issue 2: November 9, 2021 [ web | pdf ]</td>\n",
       "      <td>https://www.cna.org/CNA_files/centers/CNA/CIP/...</td>\n",
       "      <td>None</td>\n",
       "    </tr>\n",
       "    <tr>\n",
       "      <th>2</th>\n",
       "      <td>Issue 3: November 18, 2021 [ web | pdf ]</td>\n",
       "      <td>https://www.cna.org/CNA_files/centers/CNA/CIP/...</td>\n",
       "      <td>None</td>\n",
       "    </tr>\n",
       "    <tr>\n",
       "      <th>3</th>\n",
       "      <td>Issue 4: December 2, 2021 [ web | pdf ]</td>\n",
       "      <td>https://www.cna.org/CNA_files/centers/CNA/CIP/...</td>\n",
       "      <td>None</td>\n",
       "    </tr>\n",
       "    <tr>\n",
       "      <th>4</th>\n",
       "      <td>Issue 5: December 16, 2021 [ web | pdf ]</td>\n",
       "      <td>https://www.cna.org/CNA_files/centers/CNA/CIP/...</td>\n",
       "      <td>None</td>\n",
       "    </tr>\n",
       "    <tr>\n",
       "      <th>5</th>\n",
       "      <td>Issue 6: January 13, 2022 [ web | pdf ]</td>\n",
       "      <td>https://www.cna.org/CNA_files/centers/CNA/CIP/...</td>\n",
       "      <td>None</td>\n",
       "    </tr>\n",
       "    <tr>\n",
       "      <th>6</th>\n",
       "      <td>Issue 7: January 27, 2022 [ web | pdf ]</td>\n",
       "      <td>https://www.cna.org/CNA_files/centers/CNA/CIP/...</td>\n",
       "      <td>None</td>\n",
       "    </tr>\n",
       "    <tr>\n",
       "      <th>7</th>\n",
       "      <td>Issue 8: February 10, 2022 [ web | pdf ]</td>\n",
       "      <td>https://www.cna.org/CNA_files/centers/CNA/CIP/...</td>\n",
       "      <td>None</td>\n",
       "    </tr>\n",
       "    <tr>\n",
       "      <th>8</th>\n",
       "      <td>Issue 9: February 24, 2022 [ web | pdf ]</td>\n",
       "      <td>https://www.cna.org/CNA_files/centers/CNA/CIP/...</td>\n",
       "      <td>None</td>\n",
       "    </tr>\n",
       "    <tr>\n",
       "      <th>9</th>\n",
       "      <td>Issue 10: March 10, 2022 [ web | pdf ]</td>\n",
       "      <td>https://www.cna.org/CNA_files/centers/CNA/CIP/...</td>\n",
       "      <td>None</td>\n",
       "    </tr>\n",
       "  </tbody>\n",
       "</table>\n",
       "</div>"
      ],
      "text/plain": [
       "                                      title  \\\n",
       "0   Issue 1: November 2, 2021 [ web | pdf ]   \n",
       "1   Issue 2: November 9, 2021 [ web | pdf ]   \n",
       "2  Issue 3: November 18, 2021 [ web | pdf ]   \n",
       "3   Issue 4: December 2, 2021 [ web | pdf ]   \n",
       "4  Issue 5: December 16, 2021 [ web | pdf ]   \n",
       "5   Issue 6: January 13, 2022 [ web | pdf ]   \n",
       "6   Issue 7: January 27, 2022 [ web | pdf ]   \n",
       "7  Issue 8: February 10, 2022 [ web | pdf ]   \n",
       "8  Issue 9: February 24, 2022 [ web | pdf ]   \n",
       "9    Issue 10: March 10, 2022 [ web | pdf ]   \n",
       "\n",
       "                                                 url  date  \n",
       "0  https://www.cna.org/CNA_files/centers/CNA/CIP/...  None  \n",
       "1  https://www.cna.org/CNA_files/centers/CNA/CIP/...  None  \n",
       "2  https://www.cna.org/CNA_files/centers/CNA/CIP/...  None  \n",
       "3  https://www.cna.org/CNA_files/centers/CNA/CIP/...  None  \n",
       "4  https://www.cna.org/CNA_files/centers/CNA/CIP/...  None  \n",
       "5  https://www.cna.org/CNA_files/centers/CNA/CIP/...  None  \n",
       "6  https://www.cna.org/CNA_files/centers/CNA/CIP/...  None  \n",
       "7  https://www.cna.org/CNA_files/centers/CNA/CIP/...  None  \n",
       "8  https://www.cna.org/CNA_files/centers/CNA/CIP/...  None  \n",
       "9  https://www.cna.org/CNA_files/centers/CNA/CIP/...  None  "
      ]
     },
     "execution_count": 13,
     "metadata": {},
     "output_type": "execute_result"
    }
   ],
   "source": [
    "# Save collection to dataframe\n",
    "\n",
    "df_collected = pd.DataFrame(list(zip(title_list, url_list, date_list)), \n",
    "            columns=['title', 'url', 'date'])\n",
    "\n",
    "df_collected.head(10)"
   ]
  },
  {
   "cell_type": "markdown",
   "metadata": {},
   "source": [
    "### Get PDFs"
   ]
  },
  {
   "cell_type": "code",
   "execution_count": 14,
   "metadata": {},
   "outputs": [],
   "source": [
    "QUERY = 'CNA'\n",
    "pdf_dir = DATA_PATH + QUERY + 'pdfs'\n",
    "\n",
    "if not os.path.exists(pdf_dir): \n",
    "  os.makedirs(pdf_dir)\n",
    "\n",
    "have = set(os.listdir(pdf_dir))\n",
    "\n",
    "# Time out for requests\n",
    "timeout_secs = 10 \n"
   ]
  },
  {
   "cell_type": "code",
   "execution_count": 16,
   "metadata": {},
   "outputs": [
    {
     "name": "stdout",
     "output_type": "stream",
     "text": [
      "../data/CNApdfs/ChinaAI-Autonomy-Report-Issue-1.pdf\n",
      "fetching https://www.cna.org/CNA_files/centers/CNA/CIP/China/ai-newsletters/ChinaAI-Autonomy-Report-Issue-1.pdf into ../data/CNApdfs/ChinaAI-Autonomy-Report-Issue-1.pdf\n",
      "../data/CNApdfs/ChinaAI-Autonomy-Report-Issue-2.pdf\n",
      "fetching https://www.cna.org/CNA_files/centers/CNA/CIP/China/ai-newsletters/ChinaAI-Autonomy-Report-Issue-2.pdf into ../data/CNApdfs/ChinaAI-Autonomy-Report-Issue-2.pdf\n",
      "../data/CNApdfs/ChinaAI-Autonomy-Report-Issue-3.pdf\n",
      "fetching https://www.cna.org/CNA_files/centers/CNA/CIP/China/ai-newsletters/ChinaAI-Autonomy-Report-Issue-3.pdf into ../data/CNApdfs/ChinaAI-Autonomy-Report-Issue-3.pdf\n",
      "../data/CNApdfs/ChinaAI-Autonomy-Report-Issue-4.pdf\n",
      "fetching https://www.cna.org/CNA_files/centers/CNA/CIP/China/ai-newsletters/ChinaAI-Autonomy-Report-Issue-4.pdf into ../data/CNApdfs/ChinaAI-Autonomy-Report-Issue-4.pdf\n",
      "../data/CNApdfs/ChinaAI-Autonomy-Report-Issue-5.pdf\n",
      "fetching https://www.cna.org/CNA_files/centers/CNA/CIP/China/ai-newsletters/ChinaAI-Autonomy-Report-Issue-5.pdf into ../data/CNApdfs/ChinaAI-Autonomy-Report-Issue-5.pdf\n",
      "../data/CNApdfs/ChinaAI-Autonomy-Report-Issue-6.pdf\n",
      "fetching https://www.cna.org/CNA_files/centers/CNA/CIP/China/ai-newsletters/ChinaAI-Autonomy-Report-Issue-6.pdf into ../data/CNApdfs/ChinaAI-Autonomy-Report-Issue-6.pdf\n",
      "../data/CNApdfs/ChinaAI-Autonomy-Report-Issue-7.pdf\n",
      "fetching https://www.cna.org/CNA_files/centers/CNA/CIP/China/ai-newsletters/ChinaAI-Autonomy-Report-Issue-7.pdf into ../data/CNApdfs/ChinaAI-Autonomy-Report-Issue-7.pdf\n",
      "../data/CNApdfs/ChinaAI-Autonomy-Report-Issue-8.pdf\n",
      "fetching https://www.cna.org/CNA_files/centers/CNA/CIP/China/ai-newsletters/ChinaAI-Autonomy-Report-Issue-8.pdf into ../data/CNApdfs/ChinaAI-Autonomy-Report-Issue-8.pdf\n",
      "../data/CNApdfs/ChinaAI-Autonomy-Report-Issue-9.pdf\n",
      "fetching https://www.cna.org/CNA_files/centers/CNA/CIP/China/ai-newsletters/ChinaAI-Autonomy-Report-Issue-9.pdf into ../data/CNApdfs/ChinaAI-Autonomy-Report-Issue-9.pdf\n",
      "../data/CNApdfs/ChinaAI-Autonomy-Report-Issue-10.pdf\n",
      "fetching https://www.cna.org/CNA_files/centers/CNA/CIP/China/ai-newsletters/ChinaAI-Autonomy-Report-Issue-10.pdf into ../data/CNApdfs/ChinaAI-Autonomy-Report-Issue-10.pdf\n",
      "../data/CNApdfs/ChinaAI-Autonomy-Report-Issue-11.pdf\n",
      "fetching https://www.cna.org/CNA_files/centers/CNA/CIP/China/ai-newsletters/ChinaAI-Autonomy-Report-Issue-11.pdf into ../data/CNApdfs/ChinaAI-Autonomy-Report-Issue-11.pdf\n",
      "../data/CNApdfs/ChinaAI-Autonomy-Report-Issue-12.pdf\n",
      "fetching https://www.cna.org/CNA_files/centers/CNA/CIP/China/ai-newsletters/ChinaAI-Autonomy-Report-Issue-12.pdf into ../data/CNApdfs/ChinaAI-Autonomy-Report-Issue-12.pdf\n",
      "../data/CNApdfs/ChinaAI-Autonomy-Report-Issue-13.pdf\n",
      "fetching https://www.cna.org/CNA_files/centers/CNA/CIP/China/ai-newsletters/ChinaAI-Autonomy-Report-Issue-13.pdf into ../data/CNApdfs/ChinaAI-Autonomy-Report-Issue-13.pdf\n"
     ]
    }
   ],
   "source": [
    "for index, row in df_collected.iterrows():\n",
    "      #if row.date >= today - timedelta(days=14):\n",
    "\n",
    "      basename = row.url.split('/')[-1]\n",
    "      fname = os.path.join(pdf_dir, basename)\n",
    "      print(fname)\n",
    "\n",
    "      # try:\n",
    "      if not basename in have:\n",
    "            print('fetching %s into %s' % (row.url, fname))\n",
    "            req = urlopen(row.url, None, timeout_secs)\n",
    "            with open(fname, 'wb') as fp:\n",
    "                  shutil.copyfileobj(req, fp)\n",
    "      else:\n",
    "            print('%s exists, skipping' % (fname, ))\n"
   ]
  },
  {
   "cell_type": "markdown",
   "metadata": {},
   "source": [
    "### PDF to text"
   ]
  },
  {
   "cell_type": "code",
   "execution_count": 21,
   "metadata": {},
   "outputs": [],
   "source": [
    "def bulk_text_to_pdf(dir):\n",
    "    done = []\n",
    "    #done_path = []\n",
    "    problem = []\n",
    "\n",
    "    for root, dirs, files in os.walk(dir):\n",
    "        #vari.set(\"Writing contents\")\n",
    "        for file in files:\n",
    "            path_to_pdf = os.path.join(root, file)\n",
    "            [stem, ext] = os.path.splitext(path_to_pdf)\n",
    "            if ext == '.pdf':\n",
    "                #vari.set(\"Processing \" + path_to_pdf)\n",
    "                print(\"Processing \" + path_to_pdf)\n",
    "                pdf_contents = parser.from_file(path_to_pdf)\n",
    "                print(pdf_contents)\n",
    "                path_to_txt = stem + '.txt'\n",
    "                name = stem.split('\\\\')[-1]\n",
    "                with open(path_to_txt, 'w', encoding='utf-8') as txt_file:\n",
    "                    print(\"Writing contents to \" + path_to_txt)\n",
    "                    #vari.set(\"Writing contents to \" + path_to_txt)\n",
    "                    if pdf_contents['content'] is None:\n",
    "                        pass\n",
    "                    else:\n",
    "                        #pdf_contents = pdf_contents['content'].replace('\\n\\n\\n\\n', '\\n')\n",
    "                        #pdf_contents = pdf_contents['content'].replace('\\d*\\s\\s\\w*\\.', '', regex=True)\n",
    "                        txt_file.write(pdf_contents['content'])\n",
    "                size = os.path.getsize(path_to_txt)\n",
    "                if size <= 200:\n",
    "                    problem.append(name)\n",
    "                    problem_path.append(path_to_pdf)                    \n",
    "                else:\n",
    "                    done.append(name)\n",
    "                    #done.append(path_to_pdf)                    \n",
    "    #vari.set('Done')\n",
    "    str1 = str('Successfully converted: ' + ', '.join(done))\n",
    "    str2 = str('Possible problems with: ' + ', '.join(problem))\n",
    "    #messagebox.showinfo('Done', str1 + '\\n' + str2)\n",
    "    print(problem_path)"
   ]
  },
  {
   "cell_type": "code",
   "execution_count": 23,
   "metadata": {},
   "outputs": [],
   "source": [
    "from tika import parser\n"
   ]
  },
  {
   "cell_type": "code",
   "execution_count": 24,
   "metadata": {},
   "outputs": [
    {
     "name": "stdout",
     "output_type": "stream",
     "text": [
      "Processing ../data/CNApdfs/ChinaAI-Autonomy-Report-Issue-1.pdf\n",
      "{'metadata': {'Content-Type': 'application/pdf', 'Creation-Date': '2021-11-02T19:50:39Z', 'Last-Modified': '2021-11-02T19:50:40Z', 'Last-Save-Date': '2021-11-02T19:50:40Z', 'X-Parsed-By': ['org.apache.tika.parser.DefaultParser', 'org.apache.tika.parser.pdf.PDFParser'], 'X-TIKA:content_handler': 'ToTextContentHandler', 'X-TIKA:embedded_depth': '0', 'X-TIKA:parse_time_millis': '161', 'access_permission:assemble_document': 'true', 'access_permission:can_modify': 'true', 'access_permission:can_print': 'true', 'access_permission:can_print_degraded': 'true', 'access_permission:extract_content': 'true', 'access_permission:extract_for_accessibility': 'true', 'access_permission:fill_in_form': 'true', 'access_permission:modify_annotations': 'true', 'created': '2021-11-02T19:50:39Z', 'date': '2021-11-02T19:50:40Z', 'dc:format': 'application/pdf; version=1.7', 'dc:language': 'en-US', 'dcterms:created': '2021-11-02T19:50:39Z', 'dcterms:modified': '2021-11-02T19:50:40Z', 'language': 'en-US', 'meta:creation-date': '2021-11-02T19:50:39Z', 'meta:save-date': '2021-11-02T19:50:40Z', 'modified': '2021-11-02T19:50:40Z', 'pdf:PDFVersion': '1.7', 'pdf:charsPerPage': ['1653', '3925', '4179', '4164', '4647', '3379', '3873', '4121', '4323', '4131'], 'pdf:docinfo:created': '2021-11-02T19:50:39Z', 'pdf:docinfo:creator_tool': 'Adobe InDesign 17.0 (Windows)', 'pdf:docinfo:modified': '2021-11-02T19:50:40Z', 'pdf:docinfo:producer': 'Adobe PDF Library 16.0.3', 'pdf:docinfo:trapped': 'False', 'pdf:encrypted': 'false', 'pdf:hasMarkedContent': 'true', 'pdf:hasXFA': 'false', 'pdf:hasXMP': 'true', 'pdf:unmappedUnicodeCharsPerPage': ['0', '0', '0', '0', '0', '0', '0', '0', '0', '0'], 'producer': 'Adobe PDF Library 16.0.3', 'resourceName': \"b'ChinaAI-Autonomy-Report-Issue-1.pdf'\", 'trapped': 'False', 'xmp:CreatorTool': 'Adobe InDesign 17.0 (Windows)', 'xmpMM:DerivedFrom:DocumentID': 'xmp.did:777a7c8e-93b5-0743-b26e-b6d54e299c12', 'xmpMM:DerivedFrom:InstanceID': 'xmp.iid:c05b7f2d-f27f-534f-89cf-984688192c64', 'xmpMM:DocumentID': 'xmp.id:6ca78fa7-353a-6c44-9bdf-d8344b3bed4b', 'xmpTPg:NPages': '10'}, 'content': '\\n\\n\\n\\n\\n\\n\\n\\n\\n\\n\\n\\n\\n\\n\\n\\n\\n\\n\\n\\n\\n\\n\\n\\n\\n\\n\\n\\n\\n\\n\\n\\n\\n\\n\\n\\n\\n\\n\\n\\n\\n\\n\\n\\n\\n\\n\\nA biweekly newsletter on AI and autonomy developments in China\\n\\n1\\nWWW.CNA.ORG/CHINA-AI\\n\\nIssue 1, November 2, 2021\\n\\nDIM-2021-U-030977 \\nApproved for Public Release.\\n\\nCopyright © 2021 CNA\\n\\nWelcome to the inaugural edition of the China AI and Autonomy Report, a biweekly newsletter published by \\nCNA. In this and future editions, we will keep you informed of important news, developments, and policies \\nregarding artificial intelligence (AI) and autonomy in the People’s Republic of China (PRC). We welcome \\nyour questions, comments, or subscription requests at chinaai@cna.org. \\n\\nIn our first issue, we spotlight the 13th Zhuhai Airshow, which dominated much of the AI and autonomy \\nnews over the past two weeks. We also cover the PRC government’s issuing of new regulations on \\nalgorithms, standardization, and the export of “core data,” and the setup of new “intelligent social \\ngovernance experimentation bases,” which signal the Chinese Communist Party’s (CCP’s) further tightening \\nof regulations on the tech industry. We also report on such topics as the PRC’s AI market share and \\nupcoming AI conferences and events.\\n\\nWe would also like to use this inaugural issue to promote a new CNA report by researchers Kevin Pollpeter \\nand Amanda Kerrigan titled “The PLA and Intelligent Warfare: A Preliminary Analysis.” The report presents \\nPRC perspectives on the integration of AI and autonomy in future warfare activity.\\n\\nSubscribe/Unsubscribe at chinaai@cna.org\\n\\nTHIS WEEK’S CONTENTS\\nSpotlight: Zhuhai Airshow  2\\nOther News 4\\n\\nMilitary and National Security 4\\nAI Policy and Governance 4\\nIndustry 5\\nAI and Autonomy Workforce 6\\nSelf-Driving Cars 6\\nOther Unmanned Vehicles 6\\nData  6\\nEvents 7\\n\\nNotes 7\\n\\nmailto:chinaai@cna.org\\nhttps://www.cna.org/CNA_files/PDF/The-PLA-and-Intelligent-Warfare-A-Preliminary-Analysis.pdf\\nmailto:chinaai@cna.org\\n\\n\\n2\\nWWW.CNA.ORG/CHINA-AI\\n\\nTHE CHINA AI AND AUTONOMY REPORT | ISSUE 1, NOVEMBER 2, 2021 \\n\\nCopyright © 2021 CNA\\n\\nSPOTLIGHT: ZHUHAI AIRSHOW \\nThe PRC held its 13th Zhuhai Airshow, formally known as Airshow China, from September 8 to \\nOctober 3. According to media reports, more than 100 aircraft were on exhibit as well as displays of \\nthe PRC’s next-generation crewed rocket and heavy-lift launch vehicles, unmanned boats, and unmanned \\nground vehicles (UGVs).1 The airshow featured a growing number of unmanned aerial vehicles (UAVs), \\ndemonstrating the PRC’s commitment to becoming a leader in unmanned systems for both domestic \\nuse and export. Quoting People’s Liberation Army (PLA) Air Force experts, the CCP’s official newspaper, \\nPeople’s Daily, stated that the large number of PRC aircraft displayed at the airshow demonstrates that \\nthe PLA Air Force is “crossing the threshold” to becoming a “strategic air force” capable of strategic \\ndeterrence, air and space defense, long-range strike, air control, strategic transport, and supporting land \\nand naval operations.2\\n\\nA new line of drones called “Feihong” (飞鸿) caught Western media attention.3 The Feihong series of \\ndrones is manufactured by the Ninth Academy of the China Aerospace Science and Technology Corporation \\n(CASC), also known as the China Academy of Aerospace Electronics Technology (中国航天电子技术研\\n究院). CASC is one of two large state-owned conglomerates normally involved in the development and \\nmanufacture of missiles, space-launch vehicles, and satellites. The expansion of CASC into the UAV field \\nthat would normally be dominated by PRC aviation giant Aviation Industry Corporation of China (AVIC) \\nlikely indicates the importance placed upon unmanned systems by the PLA and at least a tacit policy to \\nallow competition in an emerging field.\\n\\nAccording to a CASC representative, the Feihong series of drones is a line of “highly autonomous” \\nreconnaissance and strike UAVs that began to be developed in 2005 and has won the first prize of the \\nNational Defense Science and Technology Progress Award.4 The Feihong series of seven drones includes \\nthe FH-901 “airborne swarm system,” a loitering missile that may have been previously known as the CH-\\n901; the FH-902 “single soldier fixed wing UAV,” which appears similar to the US Army’s RQ-11 Raven \\nlightweight unmanned aerial system; the FH-91 reconnaissance UAV; the FH-96 long-range UAV; the FH-\\n92A reconnaissance/strike UAV; and the FH-95 medium/long-range UAV.5 According to Zhang Zhongyang, \\na vice president of CASC, the company plans to market the Feihong series internationally. According to \\nanother source, the FH-92A has been exported to 10 countries, including Serbia.6\\n\\nThe Feihong drone receiving the most attention is the FH-97. Many observers have pointed out the \\nsimilar appearance of the FH-97 to the Kratos XQ-58A Valkyrie, “an experimental stealthy unmanned \\ncombat aerial vehicle designed and built for the US Air Force” as part of a “loyal wingman concept” in \\nwhich effective but lower-cost and attritable UAVs escort crewed aircraft.7\\n\\nAccording to PRC press reporting articles, the FH-97 “adopts a fusion stealth layout” with a distributed \\nsynthetic aperture radar (SAR) and “intelligent skin antenna technology” that provide 360-degree \\noptical and electronic reconnaissance coverage.8 The FH-97 is advertised as being able to operate fully \\nautonomously in denied environments. The FH-97 has a 1,000-kilometer combat radius and a 6-hour \\nloitering capability.9 According to a CASC representative, the FH-97 “can carry different types of weapons, \\nand has swarm and electronic warfare capabilities.”10 \\n\\nIn an apparent comparison to the FH-97, Hong Kong’s South China Morning Post reports that PRC engineers \\nhave assessed that the XQ-58A lacks sufficient aerial combat capabilities and can only withstand 1.7 gs. They \\nnote that maneuverability may have been sacrificed for weapons carriage and surveillance capabilities.11 \\n\\nhttps://www.reuters.com/business/aerospace-defense/chinas-biggest-air-show-display-self-sufficiency-drive-military-prowess-2021-09-26/\\nhttp://military.people.com.cn/n1/2021/1005/c1011-32245885.html\\nhttps://i.ifeng.com/c/8A1BCX4WbrH\\nhttps://www.reuters.com/business/aerospace-defense/china-unveils-loyal-wingman-armed-drone-concept-2021-09-29/\\nhttps://pub-zhtb.hizh.cn/a/202109/29/AP615456f2e4b052b25464a3f4.html\\nhttps://www.thedrive.com/the-war-zone/37062/china-conducts-test-of-massive-suicide-drone-swarm-launched-from-a-box-on-a-truck\\nhttps://tech.youth.cn/wzlb/202109/t20210929_13243656.htm\\nhttps://www.army-technology.com/projects/rq-11-raven/\\nhttps://www.thedrive.com/the-war-zone/42555/china-is-cloning-kratos-xq-58a-valkyrie-unmanned-combat-air-vehicle-concept\\nhttps://www.kratosdefense.com/systems-and-platforms/unmanned-systems/aerial/tactical-uavs\\nhttps://www.airforce-technology.com/projects/loyal-wingman-unmanned-aircraft/\\nhttps://tech.youth.cn/wzlb/202109/t20210929_13243656.htm\\nhttps://www.reuters.com/business/aerospace-defense/china-unveils\\nhttps://www.thepaper.cn/newsDetail_forward_14716469\\nhttps://www.scmp.com/news/china/military/article/3149185/chinese-engineers-say-they-have-found-flaws-latest-us-combat\\n\\n\\n3\\nWWW.CNA.ORG/CHINA-AI\\n\\nTHE CHINA AI AND AUTONOMY REPORT | ISSUE 1, NOVEMBER 2, 2021 \\n\\nCopyright © 2021 CNA\\n\\nCASC’s commitment to UAVs was also demonstrated by the static display of the Caihong (Rainbow) 6. \\nThis was the first time that a full-scale mockup of the CH-6 was displayed at the airshow. The Drive carried \\nextensive analysis of the CH-6, describing it as “a long-endurance, twin-jet engine, multirole drone” \\nintended for reconnaissance and strike roles.12 \\n\\nIn addition to listing the performance capabilities of the CH-6, the China-Arms.com website states that \\nthe CH-6 “can conduct high-altitude reconnaissance and strike, maritime anti-submarine and patrol, long-\\nrange early warning and detection, and close air support” with a “variety of loads such as electro-optical, \\nSAR, early warning radar, electronic reconnaissance, air-to-ground missiles, air-to-ground bombs, anti-\\nradiation missiles, and small- and medium-sized cruise bombs.”13 \\n\\nAVIC was also represented at the airshow with its line of “Wuzhen” (unmanned reconnaissance/无\\n侦) UAVs. Drawing attention was the WZ-8. According to the China-Arms.com website, AVIC describes \\nthe WZ-8 as “‘a high-altitude, high-speed unmanned reconnaissance aircraft’ used for reconnaissance and \\nbattle damage assessment that can also conduct ‘suicide’ attacks against targets.” The WZ-8 can be carried \\nby HN-6 bombers and is powered by two rocket engines that enable it to reach speeds up to Mach 3 and \\noperate at “near-space” altitudes.14\\n\\nAVIC also displayed a mockup of the GJ-11 (Strike/攻击)-11 UAV. According to Defense News, the GJ-\\n11 “is believed to have been derived from AVIC’s Lijian (“Sharp Sword”) demonstrator project but featuring \\na whole host of low-observable improvements such as a blended fuselage and triangular air intake with \\nshielded exhaust nozzles.” The mockup displayed two weapons bays that “were shown carrying four small \\nbombs in the class of the GBU-39/53 Small Diameter Bombs in one of the bays, with the other incorporating \\nwhat appears to be a 454-kilogram or 1,000-lb class weapon.”15\\n\\nCETC Laisi Information System Co. Ltd. (中电莱斯信息系统有限公司) exhibited the “Airborne Formation \\nIntelligent Operation Management and Command and Control System” (空中编队智能作战管理与指\\n挥控制系统). The company, also known as the CETC 28th Research Institute, is a subsidiary of the PRC \\nstate-owned electronics conglomerate, China Electronics Technology Corporation (CETC). According to a \\nlead researcher, the company developed the military’s first command automation system during the “two \\nbombs, one satellite” program that produced the PRC’s first nuclear weapons, ballistic missile, and satellite. \\nThe company is now involved in the development, production, maintenance, and service of command \\ninformation systems for all services. Described as an “R2D2”-type system for pilot commanders, it provides \\ndecision support to pilots during air-to-air combat and can self-learn to adapt to new situations.16\\n\\nAircraft were not the only platforms displayed at the airshow. Unmanned boat manufacturer Zhuhai \\nYunzhou Intelligent Science and Technology Co. Ltd. (珠海云洲智能科技股份有限公司) displayed a number \\nof its unmanned boats. They included the L30 unmanned patrol boat, the M75C unmanned training boat, \\nthe L85A unmanned general purpose boat, and the L90 unmanned underwater detection boat.17 The boats \\nare designed to work in clusters and are described as being able to engage in autonomous decision-making \\nand operate using distributed situational awareness. Zhuhai Yunzhou Intelligent Science and Technology \\nCo. Ltd. is described as a private company founded in 2010 to pursue the unmanned boat market and is \\nsaid to have formed the world’s largest unmanned boat R&D team. They have reportedly sold boats to \\nmore than 30 countries and regions.18\\n\\nChina North Industries Group Corporation Ltd. (NORINCO) displayed a number of tracked UGVs \\ndesigned for ground assault and air defense. They included the UV-T10, which can be equipped with \\na 30mm cannon or a machine gun and two anti-tank missiles, and the ZDW01 reconnaissance vehicle \\narmed with two Red Arrow-73C anti-tank missiles. NORINCO is a PRC state-owned defense conglomerate \\nfocusing on ground systems.19\\n\\nhttps://www.thedrive.com/the-war-zone/42518/chinas-new-twin-jet-long-endurance-armed-unmanned-aircraft-emerges\\nhttps://www.china-arms.com/2021/09/china-ch6-uav-specifications/\\nhttps://www.china-arms.com/2021/09/wz8-uav-released-by-h6n-bomber/\\nhttps://www.defensenews.com/unmanned/2021/09/30/chinese-airshow-offers-glimpse-at-militarys-new-drones/\\nhttp://www.news.cn/mil/2021-09/30/c_1211388193.htm\\nhttps://www.wenweipo.com/a/202109/30/AP61556dfee4b08d3407dd5cb0.html\\nhttps://www.wenweipo.com/a/202109/30/AP61556dfee4b08d3407dd5cb0.html\\nhttp://finance.eastmoney.com/a/202007291573693541.html\\nhttps://military.china.com/news/13004177/20211002/40118896.html\\n\\n\\n4\\nWWW.CNA.ORG/CHINA-AI\\n\\nTHE CHINA AI AND AUTONOMY REPORT | ISSUE 1, NOVEMBER 2, 2021 \\n\\nCopyright © 2021 CNA\\n\\nOTHER NEWS\\nMILITARY AND NATIONAL SECURITY\\nThe US Naval Institute (USNI) reports that the PLA Navy is testing uncrewed surface vessels (USVs) \\nat a new base near Dalian. Based on an analysis of commercial satellite imagery, USNI identified two \\nsuspected USVs moored at the base. One appeared to be a larger version of the “JARI” USV, a 50-foot USV \\nthat was reported to have conducted sea trials in 2020. The new version is 70 feet long. The second USV is \\na catamaran, also approximately 70 feet long.20\\n\\nThe director of the PRC Office of the National Border and Coastal Defense Commission, Wang \\nBin, wrote an article in the CCP’s official newspaper, People’s Daily, on his office’s intentions to build a \\nsmart border and coastal defense system through the use of 5G technology, the Internet of Things, cloud \\ncomputing, and AI. Wang called for the establishment of new policies, the creation of think tanks, and the \\nconstruction of transportation, power, and communications infrastructure to support the effort.21\\n\\nAI POLICY AND GOVERNANCE\\nOn September 26, the PRC published its first guidelines on AI ethics, which emphasize user rights \\nand data control (see original document in Chinese from the MOST website here).22 One of the stated \\ngoals of the guidelines is to ensure that AI is “always under the control of humans.” According to the South \\nChina Morning Post, the guidelines are part of the PRC’s effort to become the global AI leader by 2030, but \\nthey also align with Beijing’s efforts to crack down on Big Tech influence.23 The guidelines were issued by \\nthe National Expert Committee for AI Governance of China, which was established in 2019.24\\n\\nOn September 29, the Cyberspace Administration of China (CAC) and seven other departments \\njointly announced a list of “national intelligent social governance experimentation bases.”25 The bases \\nhave been established to carry out social governance experiments using AI. The announcement identifies \\nvarious PRC provinces, municipalities, and districts to serve as “intelligent social governance experimental \\nbases” on a variety of issues, including city administration, elder care, education, community governance, \\nenvironmental governance, health and sanitation, and sports. The PRC often uses policy experimentation \\nto test out a policy or initiative’s effectiveness in a local setting prior to wider adoption.\\n\\nOn September 29, national and municipal officials held a press conference about Shanghai’s 14th \\nFive-Year Plan to build a science and technology innovation center with global influence.26 The plan \\nhighlights AI as one of the core technologies of focus for Shanghai. In addition, during this period Shanghai \\nis expected to facilitate the deployment of several strategic frontier technologies such as brain-computer \\ninterfaces and brain-like photonic chips. \\n\\nOn September 29, the CAC and eight other departments announced a plan to establish governance \\nrules for algorithms over the next three years (see original document in Chinese here).27 The \\nannouncement highlights that, despite the contributions of algorithms to China’s social development \\nand digital economy, algorithms also affect “the normal communication order, market order, and social \\norder” and “pose challenges to safeguarding ideological security, social fairness and justice, and the \\nlegitimate rights and interests of netizens.” As part of the plan, companies will be supervised to disclose \\nthe basic principles of algorithms and their optimization goals. The plan also seeks “open and transparent” \\nalgorithms and establishes technical teams to evaluate algorithm design. This announcement follows an \\nAugust announcement of draft guidelines for algorithm regulations, which included proposals to allow \\nusers to easily turn off algorithm recommendation services and bar companies from setting up algorithm \\nmodels that tempt users into spending large amounts of money (see original document in Chinese here).28 \\nParallels have been drawn between the PRC’s desire to regulate algorithms and US deliberations to regulate \\ncompanies like Facebook.29\\n\\n4\\n\\nhttps://news.usni.org/2021/10/11/chinese-testing-experimental-armed-drone-ships-at-secret-naval-base\\nhttps://www.maritime-executive.com/article/china-s-unmanned-mini-destroyer-out-on-sea-trials\\nhttp://military.people.com.cn/n1/2021/1011/c1011-32249046.html\\nhttp://www.most.gov.cn/kjbgz/202109/t20210926_177063.html\\nhttps://www.scmp.com/tech/big-tech/article/3150789/chinese-ai-gets-ethical-guidelines-first-time-aligning-beijings-goal\\nhttps://www.scmp.com/tech/big-tech/article/3150789/chinese-ai-gets-ethical-guidelines-first-time-aligning-beijings-goal\\nhttps://www.sohu.com/a/297465112_116897\\nhttp://www.cac.gov.cn/2021-09/29/c_1634507963276896.htm\\nhttps://www.thepaper.cn/newsDetail_forward_14716796\\nhttps://www.thepaper.cn/newsDetail_forward_14716796\\nhttps://www.globaltimes.cn/page/202109/1235514.shtml\\nhttp://www.cac.gov.cn/2021-09/29/c_1634507915623047.htm\\nhttps://www.reuters.com/technology/china-issues-draft-guidelines-internet-recommendation-algorithms-2021-08-27/\\nhttps://www.reuters.com/technology/china-issues-draft-guidelines-internet-recommendation-algorithms-2021-08-27/\\nhttp://www.cac.gov.cn/2021-08/27/c_1631652502874117.htm\\nhttps://www.reuters.com/world/china/china-says-set-governance-rules-algorithms-over-next-three-years-2021-09-29/\\n\\n\\n5\\nWWW.CNA.ORG/CHINA-AI\\n\\nTHE CHINA AI AND AUTONOMY REPORT | ISSUE 1, NOVEMBER 2, 2021 \\n\\nCopyright © 2021 CNA\\n\\nOn September 30, China’s Ministry of Industry and Information Technology (MIIT) published draft \\ndata security regulations that would ban the export of data classified as “core data” (original Chinese \\ntext can be found on the MIIT website here).30 The draft regulations, titled “Opinions on Industrial and \\nInformation Technology Data Security Management (工业和信息化领域数据安全管理办法), categorize data \\ninto three categories: 1) general data, which has limited social impact; 2) vital data, which could threaten the \\nPRC’s territorial, military, economic, societal, cultural, scientific, technological, cyber, ecological, resource, \\nand nuclear safety and China’s overseas interests; and 3) core data, whose loss could seriously threaten \\nnational security and could have major social and economic impacts. Data related to AI would be classified \\nas vital or core, depending on the data. The draft regulations require that all data from the industrial and \\ninformation technology sectors be stored within the PRC, and they also ban core data from leaving the \\ncountry (summary in English from Global Times here).\\n\\nOn October 10, the Central Committee of the CCP and the State Council issued the “Outline for the \\nDevelopment of National Standardization” (国家标准化发展纲), which aims to develop and strengthen \\nstandards across a variety of industries and fields, including AI. The Outline calls for establishing \\nresearch standardization in the fields of AI, information technology, and biotech. It also emphasizes the \\napplication of AI, big data, and Blockchain to improve infrastructure quality and management.31 \\n\\nOn October 13, the general offices of the Central Committee of the CCP and the State Council \\nreleased an opinion on promoting the development of modern vocational education, with AI \\nspecified as a priority area (main content of guidelines can be found in Chinese here).32 The document, \\ntitled “Promoting the High Quality Development of Modern Vocational Education” (推动现代职业教育高\\n质量发展), states that a modern vocational education system should be established in the PRC by 2025, \\nand should be ranked among the best globally by 2035. The article adds that priority should be given \\nto training talent for emerging industries, including advanced manufacturing, renewable energy, modern \\nagriculture, and AI, and that schools should be encouraged to set up majors that meet market demand. A \\nlimited English summary of the article can be found here.33\\n\\nINDUSTRY\\nThe PRC’s AI market increased 24.43 percent to 160.69 billion yuan ($24.955 billion) in 2020. The \\nmarket is expected to increase 26.68 percent to 203.56 billion yuan (US $31.61 billion) by the end of \\n2021, according to a member of the PRC’s State Council speaking at the Chinese Congress on Artificial \\nIntelligence (CCAI) 2021 held in Chengdu. The PRC also leads in the number of AI patent applications \\nfiled globally. More than 480,000 patent applications were filed in the PRC out of 910,000 patent filings \\nglobally. The majority of patent filings focused on electronic equipment, big data, robots, neural networks, \\ncomputers, deep learning, and databases. The top 10 patent applicants in the PRC are Tencent Technology, \\nPing An Technology, Beijing Baidu Netcom Technology, Huawei Technologies, Guangdong OPPO Mobile \\nCommunications, Baidu Online Network Technology (Beijing), State Grid Corporation of China, BOE \\nTechnology Group, Zhejiang University, and Tsinghua University.\\n\\nZhejiang leads the PRC’s smart security, smart retail, smart manufacturing, and smart computing \\nsectors and also is a leader in AI chips, AI software, and Blockchain technology, according to the \\n“2021 Zhejiang Artificial Intelligence Industry Development Report.” The report was issued jointly by \\nthe Zhejiang Provincial Development and Reform Commission and the Provincial Department of Science \\nand Technology (see original version in Chinese here). Contradicting the figures from the CCAI, cited above, \\nthe report shows that the total revenue of the AI industry in Zhejiang Province in 2020 was 269.343 billion \\nyuan (USD$41.900 billion), an increase of 11.99 percent year on year; the total profit was 33.741 billion \\nyuan (USD$5.25 billion), an increase of 14.84 percent year on year. The report further states that Zhejiang \\nseeks to accelerate the construction of major AI-related projects such as the Alibaba Yangtze River Delta \\nIntelligent Data Center and a batch of projects from video surveillance company Hikvision. Zhejiang \\nprovince is an important PRC tech hub, as it is the home of tech giants such as Alibaba and NetEase.34 \\n\\nhttps://www.miit.gov.cn/gzcy/yjzj/art/2021/art_dcb6cc8d9f5c414eabd7070871996525.html\\nhttps://www.globaltimes.cn/page/202109/1235543.shtml\\nhttp://www.gov.cn/zhengce/2021-10/10/content_5641727.htm\\nhttp://www.gov.cn/zhengce/2021-10/10/content_5641727.htm\\nhttp://cpc.people.com.cn/n1/2021/1013/c64387-32251579.html\\nhttp://www.china.org.cn/china/2021-10/13/content_77805401.htm\\nhttps://www.thepaper.cn/newsDetail_forward_14872604\\nhttp://zj.ifeng.com/c/8AGJzpImRTy\\n\\n\\n6\\nWWW.CNA.ORG/CHINA-AI\\n\\nTHE CHINA AI AND AUTONOMY REPORT | ISSUE 1, NOVEMBER 2, 2021 \\n\\nCopyright © 2021 CNA\\n\\nA Megvii driver was sentenced to four years in prison for attempting to extort Megvii CEO Yin Qi.35 \\nThe driver wanted RMB 3 million yuan (USD$465,860) in exchange for not selling sensitive recordings to \\ncompetitors. Known as a leader in facial recognition, Megvii is one of the PRC’s “four AI dragons” and \\nlast month was approved to list on Shanghai’s Star market.36 Megvii was added to the US Commerce \\nDepartment’s trade blacklist in October 2019.37 \\n\\nLeading AI company SenseTime Group Inc. states that only one of its subsidiaries is covered by \\nthe US blacklist. SenseTime is the second most valuable AI startup in the world and was put on the \\nUS  Commerce Department’s blacklist in 2019—a move that denied the company access to US technology. \\nThe company is preparing for an IPO in Hong Kong. According to a Bloomberg article, the company’s \\nIPO prospectus states that only one of its subsidiaries is covered by the blacklist—a much narrower \\ninterpretation of the Commerce Department’s blacklist than is generally understood.38\\n\\nAI AND AUTONOMY WORKFORCE\\nEnrollment in AI postgraduate programs has reportedly increased this year.39 Past figures from \\nthe PRC’s Ministry of Industry and Technology have shown that the supply of AI talent in areas such as \\ncomputer vision and voice recognition has been unable to meet the demand for these skills. To address \\nthese issues, many colleges and universities have changed their postgraduate enrollment plans for AI \\nto include new majors with specific AI subfields and to introduce entirely new AI academic programs. \\nIncreasing the science and technology talent pool has been a continuing priority for Beijing that President \\nXi Jinping emphasized in his speech in late September at the Central Talent Work Conference.40 \\n\\nSELF-DRIVING CARS\\nPRC carmaker Geely is building a satellite system to guide its self-driving cars. According to Nikkei, the \\ncompany plans to orbit a constellation of 500 satellites to provide positioning data to its self-driving cars.41\\n\\nGerman company Continental AG signed an agreement with the PRC company Horizon Robotics \\nto integrate its smart cameras and control units with Horizon’s AI-enabled processors and algorithms for \\nadvanced driver-assistance systems and automated driving.42\\n\\nOTHER UNMANNED VEHICLES\\nBeihang University sets world record for endurance. The PRC press reports that a student team from the \\nBeijing University of Aeronautics and Astronautics (Beihang) set a world record for flight endurance with \\na UAV. The Fengru-3-100 remained aloft for 80 hours, 46 minutes, and 35 seconds, breaking the previous \\nworld record of 80 hours, 2 minutes, and 52 seconds set by the US company Aurora Flight Sciences.43\\n\\nDATA \\nA group of industry professionals discussed difficulties in data collection for PRC autonomous \\ndriving companies at the 11th Luzjiazui Finance Industry Forum. The Observer reported that PRC \\ncompanies are not like Tesla (which is both a car factory and an autonomous driving company), making \\nobtaining large amounts of data difficult for PRC autonomous driving companies. Autonomous driving \\ncompany representatives made some proposals to alleviate this issue, such as establishing a simulation \\nscenario library and sharing datasets between car manufactures and autonomous driving companies.44 \\n\\nhttps://i.ifeng.com/c/8A9ZbgNrOLa\\nhttps://www.scmp.com/business/markets/article/3148295/nod-vie-structured-chinese-ai-developer-megvii-list-shanghais-star\\nhttps://www.cnn.com/2019/10/09/tech/hikvision-sensetime-blacklist/index.html\\nhttps://www.cnn.com/2019/10/09/tech/hikvision-sensetime-blacklist/index.html\\nhttps://www.bloomberg.com/news/articles/2021-09-29/blacklisted-china-ai-firm-says-just-one-unit-subject-to-sanction\\nhttps://www.bloomberg.com/news/articles/2021-09-29/blacklisted-china-ai-firm-says-just-one-unit-subject-to-sanction\\nhttps://www.southcn.com/node_0183de080d/23b1cbc582.shtml\\nhttp://politics.people.com.cn/n1/2021/0929/c1024-32240952.html\\nhttps://asia.nikkei.com/Business/Aerospace-Defense/China-s-Geely-builds-satellites-to-guide-autonomous-vehicles\\nhttps://www.autonews.com/china/continental-inks-deal-chinese-ai-startup\\nhttp://en.people.cn/n3/2021/1006/c90000-9904018.html\\nhttps://www.guancha.cn/economy/2021_09_29_609079_1.shtml\\n\\n\\n7\\nWWW.CNA.ORG/CHINA-AI\\n\\nTHE CHINA AI AND AUTONOMY REPORT | ISSUE 1, NOVEMBER 2, 2021 \\n\\nCopyright © 2021 CNA\\n\\nEVENTS\\nThe Chengdu High-Tech Zone Management Committee and the Chinese Congress on Artificial \\nIntelligence (CCAI) signed an agreement to jointly build the China Artificial Intelligence Joint \\nInnovation Center. The agreement was signed at the CCAI in Chengdu; PRC and foreign academics and \\ntechnical elites were in attendance. The center seeks to be an important platform for academic exchanges, \\ntechnical cooperation, talent training, and other scientific and technological innovation services. The \\nSichuan Shengteng Artificial Intelligence Ecological Innovation Center was also officially inaugurated at the \\nopening ceremony of the congress. This center will provide innovation and talent training, offer incubation \\nfor application innovation, and jointly develop the AI industry with Sichuan colleges, universities, and high-\\ntech enterprises. The congress reportedly included academic research presentations on AI, as well as the \\nlatest achievements in technological innovation and industry applications.45\\n\\nOn October 12, the Sixth Design Intelligence Award ceremony was held in Shaoxing City, \\nZhejiang province. Two projects received the gold award (the highest). They are: 1) the “Mobile Fire \\nEye Laboratory Series” designed by the China Shanghai Yituobang Construction Technology Company, \\nthe Shenzhen-based Beijing Genomics Institute, and the School of Design and Innovation at Shanghai’s \\nTongji University; and 2) the “Centralized Oil Fume Emission System” from Hangzhou Robam Appliances. \\nThe latter project integrates an intelligent cloud platform network and AI algorithms into the design of \\nkitchen oil fume exhaust systems. The awards were sponsored by the China Academy of Art, Economy \\nand Information Technology Department of Zhejiang Province, and the Shaoxing City government in \\ncooperation with the China Industrial Design Association and the Ministry of Education’s Industrial Design \\nTeaching Guidance Subcommittee.46 \\n\\nNOTES\\n1 Stella Qiu and Yew Lun Tian, “China’s Biggest Air Show to Display Self-Sufficiency Drive, Military Prowess,” Reuters, \\n\\nSept. 26, 2021, https://www.reuters.com/business/aerospace-defense/chinas-biggest-air-show-display-self-\\nsufficiency-drive-military-prowess-2021-09-26/.\\n\\n2 “A Major Power Air Force at the Air Show” (航展上的大国空军), People’s Daily, Oct. 5, 2021, http://military.people.\\ncom.cn/n1/2021/1005/c1011-32245885.html and “Military Experts’ Detailed Explanation: Seeing the Significance \\nof the Chinese Air Force’s Transition to a Strategic Air Force” (军事专家详解：从中国航展装备看中国空军跨入战略\\n空军门槛意义), Phoenix, Oct. 2, 2021, https://i.ifeng.com/c/8A1BCX4WbrH.\\n\\n3 David Kirton, “China Unveils ‘Loyal Wingman’ Armed Drone Concept,” Reuters, Sept. 29, 2021, https://www.\\nreuters.com/business/aerospace-defense/china-unveils-loyal-wingman-armed-drone-concept-2021-09-29/.\\n\\n4 CASC Releases “Feihong” Series of Unmanned Vehicles” (航天科技集团发布“飞鸿”无人机品牌), Zhuhai Online, \\nSept. 29, 2021, https://pub-zhtb.hizh.cn/a/202109/29/AP615456f2e4b052b25464a3f4.html.\\n\\n5 Joseph Trevithick, “China Conducts Test Of Massive Suicide Drone Swarm Launched From A Box On A Truck,” \\nThe Drive, Oct. 14, 2020, https://www.thedrive.com/the-war-zone/37062/china-conducts-test-of-massive-\\nsuicide-drone-swarm-launched-from-a-box-on-a-truck; “New Generation High Speed, Stealthy, Multi-use UAV is \\nDisplayed for the First Time at Air Show” (新一代高速隐身多用途无人机首次亮相航展), Youth.cn, Sept. 29, 2021, \\nhttps://tech.youth.cn/wzlb/202109/t20210929_13243656.htm; and “RQ-11 Raven Unmanned Aerial Vehicle, Army \\nTechnology, https://www.army-technology.com/projects/rq-11-raven/.\\n\\n6 Wang Lunyu, “Commander of the ‘Feihong’ series of UAVs: Sold to more than 10 Countries and Received \\nUnanimous Recognition,” (“飞鸿”系列无人机总指挥：远销十余国，获一致认可), The Paper, Sept. 29, 2021, \\nhttps://www.thepaper.cn/newsDetail_forward_14716469.\\n\\nhttps://tv.cctv.com/2021/10/12/ARTIlFYYBFBuAoNMTnzcXTqR211012.shtml\\nhttps://mp.weixin.qq.com/s/MRyNxsUAmQs4LHBCQsyOhg?\\nhttps://www.reuters.com/business/aerospace-defense/chinas-biggest-air-show-display-self-sufficiency-drive-military-prowess-2021-09-26/\\nhttps://www.reuters.com/business/aerospace-defense/chinas-biggest-air-show-display-self-sufficiency-drive-military-prowess-2021-09-26/\\nhttp://military.people.com.cn/n1/2021/1005/c1011-32245885.html\\nhttp://military.people.com.cn/n1/2021/1005/c1011-32245885.html\\nhttps://i.ifeng.com/c/8A1BCX4WbrH\\nhttps://www.reuters.com/business/aerospace-defense/china-unveils-loyal-wingman-armed-drone-concept-2021-09-29/\\nhttps://www.reuters.com/business/aerospace-defense/china-unveils-loyal-wingman-armed-drone-concept-2021-09-29/\\nhttps://pub-zhtb.hizh.cn/a/202109/29/AP615456f2e4b052b25464a3f4.html\\nhttps://www.thedrive.com/the-war-zone/37062/china-conducts-test-of-massive-suicide-drone-swarm-launched-from-a-box-on-a-truck\\nhttps://www.thedrive.com/the-war-zone/37062/china-conducts-test-of-massive-suicide-drone-swarm-launched-from-a-box-on-a-truck\\nhttps://tech.youth.cn/wzlb/202109/t20210929_13243656.htm\\nhttps://www.army-technology.com/projects/rq-11-raven/.\\nhttps://www.thepaper.cn/newsDetail_forward_14716469\\n\\n\\n8\\nWWW.CNA.ORG/CHINA-AI\\n\\nTHE CHINA AI AND AUTONOMY REPORT | ISSUE 1, NOVEMBER 2, 2021 \\n\\nCopyright © 2021 CNA\\n\\n7 Thomas Newdick and Tyler Rogoway, “China Is Cloning Kratos’ XQ-58A Valkyrie Unmanned Combat Air Vehicle \\nConcept (Updated),” The Drive, Sept. 28, 2021, https://www.thedrive.com/the-war-zone/42555/china-is-cloning-\\nkratos-xq-58a-valkyrie-unmanned-combat-air-vehicle-concept; Kratos Defense and Security Solutions, https://\\nwww.kratosdefense.com/systems-and-platforms/unmanned-systems/aerial/tactical-uavs; and “Loyal Wingman \\nUnmanned Aircraft,” Air Force Technology, https://www.airforce-technology.com/projects/loyal-wingman-\\nunmanned-aircraft/.\\n\\n8 “New Generation High Speed, Stealthy, Multi-use UAV is Displayed for the First Time at Air Show” (新一代高速隐\\n身多用途无人机首次亮相航展), Youth.cn, Sept. 29, 2021, https://tech.youth.cn/wzlb/202109/t20210929_13243656.\\nhtm.\\n\\n9 David Kirton, “China unveils ‘loyal wingman’ armed drone concept,” Reuters, Sept. 29, 2021, https://www.reuters.\\ncom/business/aerospace-defense/china-unveils-loyal-wingman-armed-drone-concept-2021-09-29/.\\n\\n10 Xie Duanqiang and Wang Lunyu, “Commander of the ‘Feihong’ series of UAVs: Sold to more than 10 Countries \\nand Received Unanimous Recognition,” (“飞鸿”系列无人机总指挥：远销十余国，获一致认可), The Paper,  \\nSept. 29, 2021, https://www.thepaper.cn/newsDetail_forward_14716469.\\n\\n11 Stephen Chen, “Chinese engineers say they have found flaws in the latest US combat drone,” South China \\nMorning Post, Sept. 19. 2021, https://www.scmp.com/news/china/military/article/3149185/chinese-engineers-say-\\nthey-have-found-flaws-latest-us-combat.\\n\\n12 Tyler Rogoway, China’s Big New Twin-Jet Long-Endurance Armed Combat Drone Emerges,” The Drive, Sept. 24, \\n2021, https://www.thedrive.com/the-war-zone/42518/chinas-new-twin-jet-long-endurance-armed-unmanned-\\naircraft-emerges.\\n\\n13 “China’s CH-6 armed UAV specifications disclosed,” China-Arms.com, Sept. 13, 2021, https://www.china-arms.\\ncom/2021/09/china-ch6-uav-specifications/.\\n\\n14 “China’s CH-6 Armed UAV Specifications Disclosed,” China-Arms.com, Sept. 13, 2021, https://www.china-arms.\\ncom/2021/09/china-ch6-uav-specifications/.\\n\\n15 Mike Yeo, “Chinese Airshow Offers Glimpse at Military’s New Drones,” Defense News, Sept. 30, 2021, https://www.\\ndefensenews.com/unmanned/2021/09/30/chinese-airshow-offers-glimpse-at-militarys-new-drones/.\\n\\n16 “‘Air Combat Intelligent Staff’ Debut at Air Show, Relying on Its ‘Auxiliary Bonus’ to Easily Shoot Down Enemy \\nAircraft,” (“空战智能参谋”亮相航展 靠它“辅助加成”轻松击落敌机), Xinhua, Sept. 30, 2021, http://www.news.\\ncn/mil/2021-09/30/c_1211388193.htm.\\n\\n17 “Major Breakthroughs in Key Technologies of Domestic Unmanned Boat Swarms,” (國產無人艇集\\n群關鍵技術取得重大突破), Wen Hui Bao, Sept. 30, 2021, https://www.wenweipo.com/a/202109/30/\\nAP61556dfee4b08d3407dd5cb0.html.\\n\\n18 Zhang Yunfei, Founder and Chairman of Yunzhou Smart Boats: Witnessing China-built ‘Unmanned \\nShip’ from Zhuhai to the World Stage,” East Money.com, July 29, 2020, https://finance.eastmoney.\\ncom/a/202007291573693541.html.\\n\\n19 China’s Advanced Unmanned Combat Vehicle: Not Only Conforms to the World Trend, But Also Has its Own \\nCharacteristics” (中国先进无人战车：既符合世界潮流，又有自身特色), China.com, Oct. 2, 2021, https://military.\\nchina.com/news/13004177/20211002/40118896.html.\\n\\n20 H.I. Sutton, “Chinese Testing Experimental Armed Drone Ships at Secret Naval Base,” US Naval Institute Press,  \\nOct. 11, 2021, https://news.usni.org/2021/10/11/chinese-testing-experimental-armed-drone-ships-at-secret-\\nnaval-base.\\n\\n21 Wang Bin, “Efforts to Promote the Construction of Smart Border and Coastal Defense (Jintai Point Soldiers),” (着\\n力推进智慧边海防建设（金台点兵）), People’s Daily, Oct. 11, 2021, http://military.people.com.cn/n1/2021/1011/\\nc1011-32249046.html.\\n\\n22 “’New Generation Artificial Intelligence Ethics Code’ Released” (《新一代人工智能伦理规范》发布), Ministry of \\nScience and Technology, Sept. 26, 2021, http://www.most.gov.cn/kjbgz/202109/t20210926_177063.html.\\n\\n23 Xinmei Shen, “Chinese AI gets ethical guidelines for the first time, aligning with Beijing’s goal of reining in Big \\nTech,” South China Morning Post, Oct. 3, 2021, https://www.scmp.com/tech/big-tech/article/3150789/chinese-ai-\\ngets-ethical-guidelines-first-time-aligning-beijings-goal.\\n\\n https://www.thedrive.com/the-war-zone/42555/china-is-cloning-kratos-xq-58a-valkyrie-unmanned-combat-air-vehicle-concept\\n https://www.thedrive.com/the-war-zone/42555/china-is-cloning-kratos-xq-58a-valkyrie-unmanned-combat-air-vehicle-concept\\nhttps://www.kratosdefense.com/systems-and-platforms/unmanned-systems/aerial/tactical-uavs\\nhttps://www.kratosdefense.com/systems-and-platforms/unmanned-systems/aerial/tactical-uavs\\nhttps://www.airforce-technology.com/projects/loyal-wingman-unmanned-aircraft/\\nhttps://www.airforce-technology.com/projects/loyal-wingman-unmanned-aircraft/\\n https://tech.youth.cn/wzlb/202109/t20210929_13243656.htm\\n https://tech.youth.cn/wzlb/202109/t20210929_13243656.htm\\nhttps://www.reuters.com/business/aerospace-defense/china-unveils-loyal-wingman-armed-drone-concept-2021-09-29/\\nhttps://www.reuters.com/business/aerospace-defense/china-unveils-loyal-wingman-armed-drone-concept-2021-09-29/\\nhttps://www.thepaper.cn/newsDetail_forward_14716469\\nhttps://www.scmp.com/news/china/military/article/3149185/chinese-engineers-say-they-have-found-flaws-latest-us-combat\\nhttps://www.scmp.com/news/china/military/article/3149185/chinese-engineers-say-they-have-found-flaws-latest-us-combat\\nhttps://www.thedrive.com/the-war-zone/42518/chinas-new-twin-jet-long-endurance-armed-unmanned-aircraft-emerges\\nhttps://www.thedrive.com/the-war-zone/42518/chinas-new-twin-jet-long-endurance-armed-unmanned-aircraft-emerges\\nhttps://www.china-arms.com/2021/09/china-ch6-uav-specifications/\\nhttps://www.china-arms.com/2021/09/china-ch6-uav-specifications/\\nhttps://www.china-arms.com/2021/09/china-ch6-uav-specifications/\\nhttps://www.china-arms.com/2021/09/china-ch6-uav-specifications/\\nhttps://www.defensenews.com/unmanned/2021/09/30/chinese-airshow-offers-glimpse-at-militarys-new-drones/\\nhttps://www.defensenews.com/unmanned/2021/09/30/chinese-airshow-offers-glimpse-at-militarys-new-drones/\\nhttp://www.news.cn/ mil/2021-09/30/c_1211388193.htm\\nhttp://www.news.cn/ mil/2021-09/30/c_1211388193.htm\\nhttp://www.news.cn/ mil/2021-09/30/c_1211388193.htm\\nhttps://www.wenweipo.com/a/202109/30/AP61556dfee4b08d3407dd5cb0.html\\nhttps://www.wenweipo.com/a/202109/30/AP61556dfee4b08d3407dd5cb0.html\\nhttps://finance.eastmoney.com/a/202007291573693541.html\\nhttps://finance.eastmoney.com/a/202007291573693541.html\\nhttps://military.china.com/news/13004177/20211002/40118896.html\\nhttps://military.china.com/news/13004177/20211002/40118896.html\\nhttps://news.usni.org/2021/10/11/chinese-testing-experimental-armed-drone-ships-at-secret-naval-base\\nhttps://news.usni.org/2021/10/11/chinese-testing-experimental-armed-drone-ships-at-secret-naval-base\\nhttp://military.people.com.cn/n1/2021/1011/c1011-32249046.html\\nhttp://military.people.com.cn/n1/2021/1011/c1011-32249046.html\\nhttp://www.most.gov.cn/kjbgz/202109/t20210926_177063.html\\nhttps://www.scmp.com/tech/big-tech/article/3150789/chinese-ai-gets-ethical-guidelines-first-time-aligning-beijings-goal\\nhttps://www.scmp.com/tech/big-tech/article/3150789/chinese-ai-gets-ethical-guidelines-first-time-aligning-beijings-goal\\n\\n\\n9\\nWWW.CNA.ORG/CHINA-AI\\n\\nTHE CHINA AI AND AUTONOMY REPORT | ISSUE 1, NOVEMBER 2, 2021 \\n\\nCopyright © 2021 CNA\\n\\n24 “Minister of Science and Technology Want Zhigang Announced the Establishment of New Generation Artificial \\nIntelligence Expert Committee” (科技部部长王志刚宣布成立新一代人工智能治理专业委员会), Sohu.com, Feb. 25, \\n2019, https://www.sohu.com/a/297465112_116897.\\n\\n25 “Cyberspace Administration of China and Eight Other Departments Jointly Release Names of National Intelligent \\nSocial Governance Experimentation Base” (中央网信办等八部门联合公布国家智能社会治理实验基地名单), \\nCyberspace Administration of China, Sept. 29, 2021, http://www.cac.gov.cn/2021-09/29/c_1634507963276896.\\nhtm.\\n\\n26 Zhu Yiyi, “Shanghai: During ‘14th FYP’ Period Technologies Such as Brain Chip Interfaces and Brain-like Photonic \\nChips Will Be Deployed” (上海：“十四五”期间将布局脑机接口、类脑光子芯片等技术), The Paper, Sept. 29, \\n2021, https://www.thepaper.cn/newsDetail_forward_14716796.\\n\\n27 Zhang Dan and Xiong Xinyi, “China To Set Up Governance Rules For Algorithms,” Global Times, Sept. 29, \\n2021, https://www.globaltimes.cn/page/202109/1235514.shtml and “Guiding Opinions on Strengthening the \\nManagement of Internet Information Service Algorithms” (关于印发《关于加强互联网信息服务算法综合治\\n理的指导意见》的通知), Cyberspace Administration of China, Sept. 29, 2021, http://www.cac.gov.cn/2021-\\n09/29/c_1634507915623047.htm.\\n\\n28 Brenda Goh, China Swoops On Algorithms In Latest Tech Clampdown, Reuters, Aug. 27, 2021, https://www.\\nreuters.com/technology/china-issues-draft-guidelines-internet-recommendation-algorithms-2021-08-27/ and \\n“Cyberspace Administration of China on ‘Internet Information Service Algorithm Recommendation Management \\nRegulations (Draft Solicitation of Comments),” (国家互联网信息办公室关于《互联网信息服务算法推荐管理规定\\n(求意见稿）》公开征求意见的通知), ), Cyberspace Administration of China, Aug. 27, 2021, http://www.cac.gov.\\ncn/2021-08/27/c_1631652502874117.htm.\\n\\n29 “China Says to Set Governance Rules for Algorithms over Next Three Years, Reuters, Sept. 29, 2021, https://www.\\nreuters.com/world/china/china-says-set-governance-rules-algorithms-over-next-three-years-2021-09-29/.\\n\\n30 “Publicly Soliciting Opinions on the ‘Measures for the Administration of Data Security in the Field of Industry and \\nInformation Technology (Trial) (Draft for Solicitation of Comments),” (公开征求对《工业和信息化领域数据安全管\\n理办法（试行）（征求意见稿）》的意见), PRC Ministry of Industry and Information Technology, Sept. 30, 2021, \\nhttps://www.miit.gov.cn/gzcy/yjzj/art/2021/art_dcb6cc8d9f5c414eabd7070871996525.html.\\n\\n31 Chu Daye, “China to Ban Core Industrial and Information Data from Leaving the Country,” Global Times, Sept. 30, \\n2021, https://www.globaltimes.cn/page/202109/1235543.shtml.\\n\\n32 CCP Central Committee and the State Council Issue the ‘Outline for National Standardization’ (中共中央 国务\\n院印发《国家标准化发展纲要》), Central People’s Government of the PRC, Oct. 10, 2021, http://www.gov.cn/\\nzhengce/2021-10/10/content_5641727.htm.\\n\\n33 The General Offices of the Central Committee of the Chinese Communist Party and the State Council, “The \\nGeneral Offices of the Central Committee of the Chinese Communist Party and the State Council Issue Opinion \\non Promoting the High Quality Development of Modern Vocational Education” (中办国办印发意见推动现代职业\\n教育高质量发展), Chinese Communist Party News, Oct. 13, 2021, http://cpc.people.com.cn/n1/2021/1013/c64387-\\n32251579.html.\\n\\n34 “China Issues Guidelines on High-Quality Vocational Education,” China.org.cn, Oct. 13, 2021, http://www.china.\\norg.cn/china/2021-10/13/content_77805401.htm.\\n\\n35 “This Year Our Country’s AI Industrial Scale will Exceed 200 billion yuan, Will be Number One in Global Patent \\nApplications” (今年我国AI产业规模将破2000亿，专利申请量全球第), The Paper, Oct. 13. 2021,一)https://www.\\nthepaper.cn/newsDetail_forward_14872604\\n\\n36 “’The 2021 Zhejiang AI Industry Development Report’ Released” (《2021年浙江省人工智能产业发展报告》发布), \\nPhoenix, Oct. 13, 2021, http://zj.ifeng.com/c/8AGJzpImRTy.\\n\\n37 “Megvii Technology Driver was Sentenced to 4 Years for Attempting to Blackmail the Chairman of the Company \\nfor 3 Million Yuan for Company’s Sensitive Recordings” (旷视科技司机以将出售公司敏感录音敲诈董事长300万元\\n未遂 被判4年), Phoenix, Oct. 7, 2021, https://i.ifeng.com/c/8A9ZbgNrOLa.\\n\\n38 Zhang Shidong, “Nod for VIE-structured Chinese AI developer Megvii to list on Shanghai’s Star Market signals \\nfurther approvals,” South China Morning Post, Sept. 10, 2021, https://www.scmp.com/business/markets/\\narticle/3148295/nod-vie-structured-chinese-ai-developer-megvii-list-shanghais-star.\\n\\nhttps://www.sohu.com/a/297465112_116897\\n http://www.cac.gov.cn/2021-09/29/c_1634507963276896.htm\\n http://www.cac.gov.cn/2021-09/29/c_1634507963276896.htm\\nhttps://www.thepaper.cn/newsDetail_forward_14716796.\\nhttps://www.globaltimes.cn/page/202109/1235514.shtml\\nhttp://www.cac.gov.cn/2021-09/29/c_1634507915623047.htm\\nhttp://www.cac.gov.cn/2021-09/29/c_1634507915623047.htm\\nhttps://www.reuters.com/technology/china-issues-draft-guidelines-internet-recommendation-algorithms-2021-08-27/\\nhttps://www.reuters.com/technology/china-issues-draft-guidelines-internet-recommendation-algorithms-2021-08-27/\\nhttp://www.cac.gov.cn/2021-08/27/c_1631652502874117.htm.\\nhttp://www.cac.gov.cn/2021-08/27/c_1631652502874117.htm.\\nhttps://www.reuters.com/world/china/china-says-set-governance-rules-algorithms-over-next-three-years-2021-09-29\\nhttps://www.reuters.com/world/china/china-says-set-governance-rules-algorithms-over-next-three-years-2021-09-29\\nhttps://www.miit.gov.cn/gzcy/yjzj/art/2021/art_dcb6cc8d9f5c414eabd7070871996525.html\\nhttps://www.globaltimes.cn/page/202109/1235543.shtml\\nhttp://www.gov.cn/zhengce/2021-10/10/content_5641727.htm\\nhttp://www.gov.cn/zhengce/2021-10/10/content_5641727.htm\\nhttp://cpc.people.com.cn/n1/2021/1013/c64387-32251579.html\\nhttp://cpc.people.com.cn/n1/2021/1013/c64387-32251579.html\\nhttp://www.china.org.cn/china/2021-10/13/content_77805401.htm\\nhttp://www.china.org.cn/china/2021-10/13/content_77805401.htm\\nhttps://www.thepaper.cn/newsDetail_forward_14872604\\nhttps://www.thepaper.cn/newsDetail_forward_14872604\\nhttp://zj.ifeng.com/c/8AGJzpImRTy\\nhttps://i.ifeng.com/c/8A9ZbgNrOLa\\nhttps://www.scmp.com/business/markets/article/3148295/nod-vie-structured-chinese-ai-developer-megvii-list-shanghais-star\\nhttps://www.scmp.com/business/markets/article/3148295/nod-vie-structured-chinese-ai-developer-megvii-list-shanghais-star\\n\\n\\n10\\nWWW.CNA.ORG/CHINA-AI\\n\\nTHE CHINA AI AND AUTONOMY REPORT | ISSUE 1, NOVEMBER 2, 2021 \\n\\nCopyright © 2021 CNA10\\n\\nTHE CHINA AI AND AUTONOMY REPORT | ISSUE 1, NOVEMBER 2, 2021 \\n\\nABOUT CNA \\nThe China AI & Autonomy Report is produced by CNA’s China and Indo-Pacific Security Affairs Division. The \\ndivision’s team of nearly 40 language-skilled regional specialists has provided sponsors and the public with the \\ncontext to make informed, data-based assessments about this critical region since 1998. \\n\\nCNA is a nonprofit research and analysis organization dedicated to the safety and security of the nation. It \\noperates the Center for Naval Analyses — the only federally funded research and development center serving the \\nDepartment of the Navy — as well as the Institute for Public Research. CNA is dedicated to developing actionable \\nsolutions to complex problems of national importance.\\n\\nFor additional information, contact: CHINAAI@CNA.ORG\\n\\nThis work was performed under Federal Government Contract No. N00014-16-D-5003.\\n\\nLIMITED PRINT AND ELECTONINC DISTRIBUTION RIGHTS: CNA intellectual property is provided for noncommercial use only. CNA makes no \\nwarranties of any kind, either expressed or implied, as to any matter including, but not limited to, warranty of fitness for purpose or merchantability, \\nexclusivity, or results obtained from the use of the material. Unauthorized posting of this publication online is prohibited. Permission is given to \\nduplicate this document for noncommercial use only, as long as it is unaltered and complete. Permission is required from CNA to reproduce, or \\nreuse in another form, any of its research documents for commercial use. Contact CNA’s Office of General Counsel at 703-824-2702 if you wish to \\nmake commercial use of any content in this document. The material in this report may be reproduced by or for the US government pursuant to \\nthe copyright license under the clause at DFARS 252.227-7013 (February 2014).\\n\\nThis report may contain hyperlinks to websites and servers maintained by third parties. CNA does not control, evaluate, endorse, or guarantee \\ncontent found in those sites. We do not assume any responsibility or liability for the actions, products, services, and content of those sites or the \\nparties that operate them.\\n\\n10\\nDIM-2021-U-030977\\n\\nSubscribe/Unsubscribe at chinaai@cna.org\\n\\n39 Sherisse Pham, “The United States strikes a blow to China’s AI ambitions,” CNN, Oct. 10, 2019, https://edition.cnn.\\ncom/2019/10/09/tech/hikvision-sensetime-blacklist/index.html.\\n\\n40 “Blacklisted China AI Firm Says Just One Unit Subject to Sanction,” Bloomberg, Sept. 28, 2021, https://www.\\nbloomberg.com/news/articles/2021-09-29/blacklisted-china-ai-firm-says-just-one-unit-subject-to-sanction.\\n\\n41 “New Changes in Postgraduate Enrollment in 2022: the Number of Exempted Students Will Increase Significantly \\nand the Increase Will Favor Artificial Intelligence and Integrated Circuit Majors,” (2022年研究生招生新变：推\\n免生名额大幅增加，增量倾向人工智能、集成电路专业), Southcn.com, Oct. 3, 2021, https://www.southcn.com/\\nnode_0183de080d/23b1cbc582.shtml.\\n\\n42 “In-depth Implementation of the Strategy of Strengthening the Country with Talents in the New Era, Accelerate \\nthe Construction of the World’s Important Talent Center and Innovation Highland” (深入实施新时代人才强\\n国战略加快建设世界重要人才中心和创新高地), People’s Daily, Sept. 29, 2021, http://politics.people.com.cn/\\nn1/2021/0929/c1024-32240952.html.\\n\\n43 Shunsuke Tabeta, “China’s Geely Builds Satellites to Guide Autonomous Vehicles,” Nikkei, Oct. 5, 2021, https://\\nasia.nikkei.com/Business/Aerospace-Defense/China-s-Geely-builds-satellites-to-guide-autonomous-vehicles.\\n\\n44 Yang Jian, “Continental inks deal with Chinese AI startup,” Automotive News, Sept. 30, 2021, https://www.\\nautonews.com/china/continental-inks-deal-chinese-ai-startup.\\n\\n45 “Chinese university team sets drone flight time world record,” People’s Daily, Oct. 6, 2021, http://en.people.cn/\\nn3/2021/1006/c90000-9904018.html.\\n\\n46 “China’s Autonomous Driving has Entered a Period of Strategic Opportunity, How to Overcome the Data Gap with \\nForeign Giants,” (中国自动驾驶进入战略机遇期，如何克服同国外巨头的数据差距), The Observer, Sept. 29, 2021, \\nhttps://www.guancha.cn/economy/2021_09_29_609079_1.shtml.\\n\\nmailto:chinaai%40cna.org?subject=\\nhttps://edition.cnn.com/2019/10/09/tech/hikvision-sensetime-blacklist/index.html\\nhttps://edition.cnn.com/2019/10/09/tech/hikvision-sensetime-blacklist/index.html\\nhttps://www.bloomberg.com/news/articles/2021-09-29/blacklisted-china-ai-firm-says-just-one-unit-subject-to-sanction\\nhttps://www.bloomberg.com/news/articles/2021-09-29/blacklisted-china-ai-firm-says-just-one-unit-subject-to-sanction\\nhttps://www.southcn.com/node_0183de080d/23b1cbc582.shtml\\nhttps://www.southcn.com/node_0183de080d/23b1cbc582.shtml\\nhttp://politics.people.com.cn/n1/2021/0929/c1024-32240952.html\\nhttp://politics.people.com.cn/n1/2021/0929/c1024-32240952.html\\nhttps://asia.nikkei.com/Business/Aerospace-Defense/China-s-Geely-builds-satellites-to-guide-autonomous-vehicles\\nhttps://asia.nikkei.com/Business/Aerospace-Defense/China-s-Geely-builds-satellites-to-guide-autonomous-vehicles\\nhttps://www.autonews.com/china/continental-inks-deal-chinese-ai-startup\\nhttps://www.autonews.com/china/continental-inks-deal-chinese-ai-startup\\nhttp://en.people.cn/n3/2021/1006/c90000-9904018.html\\nhttp://en.people.cn/n3/2021/1006/c90000-9904018.html\\nhttps://www.guancha.cn/economy/2021_09_29_609079_1.shtml\\n\\n\\tSpotlight: Zhuhai Airshow \\n\\tOther News\\n\\tMilitary and National Security\\n\\tAI Policy and Governance\\n\\tIndustry\\n\\tAI and Autonomy Workforce\\n\\tSelf-Driving Cars\\n\\tOther Unmanned Vehicles\\n\\tData \\n\\tEvents\\n\\n\\tNotes\\n\\n', 'status': 200}\n",
      "Writing contents to ../data/CNApdfs/ChinaAI-Autonomy-Report-Issue-1.txt\n"
     ]
    },
    {
     "ename": "TypeError",
     "evalue": "write() argument must be str, not dict",
     "output_type": "error",
     "traceback": [
      "\u001b[0;31m---------------------------------------------------------------------------\u001b[0m",
      "\u001b[0;31mTypeError\u001b[0m                                 Traceback (most recent call last)",
      "Input \u001b[0;32mIn [24]\u001b[0m, in \u001b[0;36m<cell line: 1>\u001b[0;34m()\u001b[0m\n\u001b[0;32m----> 1\u001b[0m \u001b[43mbulk_text_to_pdf\u001b[49m\u001b[43m(\u001b[49m\u001b[43mpdf_dir\u001b[49m\u001b[43m)\u001b[49m\n",
      "Input \u001b[0;32mIn [21]\u001b[0m, in \u001b[0;36mbulk_text_to_pdf\u001b[0;34m(dir)\u001b[0m\n\u001b[1;32m     22\u001b[0m         \u001b[38;5;28;01mpass\u001b[39;00m\n\u001b[1;32m     23\u001b[0m     \u001b[38;5;28;01melse\u001b[39;00m:\n\u001b[1;32m     24\u001b[0m         \u001b[38;5;66;03m#pdf_contents = pdf_contents['content'].replace('\\n\\n\\n\\n', '\\n')\u001b[39;00m\n\u001b[1;32m     25\u001b[0m         \u001b[38;5;66;03m#pdf_contents = pdf_contents['content'].replace('\\d*\\s\\s\\w*\\.', '', regex=True)\u001b[39;00m\n\u001b[0;32m---> 26\u001b[0m         \u001b[43mtxt_file\u001b[49m\u001b[38;5;241;43m.\u001b[39;49m\u001b[43mwrite\u001b[49m\u001b[43m(\u001b[49m\u001b[43mpdf_contents\u001b[49m\u001b[43m)\u001b[49m\n\u001b[1;32m     27\u001b[0m size \u001b[38;5;241m=\u001b[39m os\u001b[38;5;241m.\u001b[39mpath\u001b[38;5;241m.\u001b[39mgetsize(path_to_txt)\n\u001b[1;32m     28\u001b[0m \u001b[38;5;28;01mif\u001b[39;00m size \u001b[38;5;241m<\u001b[39m\u001b[38;5;241m=\u001b[39m \u001b[38;5;241m200\u001b[39m:\n",
      "\u001b[0;31mTypeError\u001b[0m: write() argument must be str, not dict"
     ]
    }
   ],
   "source": [
    "bulk_text_to_pdf(pdf_dir)"
   ]
  },
  {
   "cell_type": "code",
   "execution_count": null,
   "metadata": {},
   "outputs": [],
   "source": [
    "# Checking for a program and a folder\n",
    "if not shutil.which('pdftotext'): # needs Python 3.3+\n",
    "  print('ERROR: you don\\'t have pdftotext installed. Install it first before calling this script')\n",
    "  sys.exit()\n",
    "\n",
    "if not os.path.exists(DATA_PATH + QUERY + '_txt'):\n",
    "      os.makedirs(DATA_PATH + QUERY + '_txt')"
   ]
  },
  {
   "cell_type": "code",
   "execution_count": null,
   "metadata": {},
   "outputs": [],
   "source": [
    "# Specifying paths\n",
    "txt_dir = DATA_PATH + QUERY + '_txt'\n",
    "pdf_dir = DATA_PATH + QUERY + 'pdfs'"
   ]
  },
  {
   "cell_type": "code",
   "execution_count": null,
   "metadata": {},
   "outputs": [],
   "source": [
    "# Note- should make a function in utils and import\n",
    "\n",
    "have = set(os.listdir(txt_dir))\n",
    "files = os.listdir(pdf_dir)\n",
    "\n",
    "for i,f in enumerate(files):\n",
    "\n",
    "  txt_basename = f + '.txt'\n",
    "  \n",
    "  if txt_basename in have:\n",
    "    print('%d/%d skipping %s, already exists.' % (i, len(files), txt_basename, ))\n",
    "    continue\n",
    "\n",
    "  pdf_path = os.path.join(pdf_dir, f)\n",
    "  txt_path = os.path.join(txt_dir, txt_basename)\n",
    "  \n",
    "  cmd = \"pdftotext %s %s\" % (pdf_path, txt_path)\n",
    "  os.system(cmd)\n",
    "\n",
    "  print('%d/%d %s' % (i, len(files), cmd))\n",
    "\n",
    "  # check output was made\n",
    "  if not os.path.isfile(txt_path):\n",
    "    # there was an error with converting the pdf\n",
    "    print('there was a problem with parsing %s to text, creating an empty text file.' % (pdf_path, ))\n",
    "    os.system('touch ' + txt_path) # create empty file, but it's a record of having tried to convert\n",
    "\n",
    "  time.sleep(0.01) #  for ctrl+c termination"
   ]
  },
  {
   "cell_type": "code",
   "execution_count": null,
   "metadata": {},
   "outputs": [],
   "source": [
    "# To be nice I should parse these a bit and clean them up\n",
    "# THEN open txt files and insert into DF (naturally create DF)\n",
    "\n",
    "# See txts_to_csv notebook, easy task"
   ]
  },
  {
   "cell_type": "markdown",
   "metadata": {},
   "source": [
    "# Scrap"
   ]
  },
  {
   "cell_type": "code",
   "execution_count": null,
   "metadata": {},
   "outputs": [],
   "source": [
    "def get_response():\n",
    "    #base = test_link\n",
    "    final_url = base_url\n",
    "    #driver = webdriver.Chrome()\n",
    "    \n",
    "    with requests.get(final_url) as response:\n",
    "        #response = requests.get(url, headers=headers)\n",
    "        page_soup = soup(response.content, 'lxml')\n",
    "        return page_soup"
   ]
  },
  {
   "cell_type": "code",
   "execution_count": null,
   "metadata": {},
   "outputs": [],
   "source": [
    "from seleniumwire import webdriver  # Import from seleniumwire\n",
    "\n",
    "# Create a new instance of the Firefox driver\n",
    "#driver = webdriver.Chrome()\n",
    "\n",
    "chrome_options = webdriver.ChromeOptions()\n",
    "chrome_options.add_argument('--user-agent=\"Mozilla/5.0 (Windows Phone 10.0; Android 4.2.1; Microsoft; Lumia 640 XL LTE) AppleWebKit/537.36 (KHTML, like Gecko) Chrome/42.0.2311.135 Mobile Safari/537.36 Edge/12.10166\"')\n",
    "driver = webdriver.Chrome(chrome_options=chrome_options)\n",
    "user_agent = driver.execute_script(\"return navigator.userAgent;\")\n",
    "# Go to the Google home page\n",
    "\n",
    "driver.get(base_url_1)\n",
    "\n",
    "# with driver.requests.get(base_url) as response:\n",
    "#     #response = requests.get(url, headers=headers)\n",
    "#     page_soup = soup(response.content, 'lxml')\n",
    "#     #return page_soup\n",
    "\n",
    "# Access requests via the `requests` attribute\n",
    "for request in driver.requests:\n",
    "    if request.response:\n",
    "        print(\n",
    "            request.path,\n",
    "            request.response.status_code,\n",
    "            request.response.headers['Content-Type'])\n"
   ]
  },
  {
   "cell_type": "code",
   "execution_count": null,
   "metadata": {},
   "outputs": [],
   "source": [
    "driver.close()\n"
   ]
  }
 ],
 "metadata": {
  "interpreter": {
   "hash": "f045682951559cbc0979d5d7223b93f289f756c5241efdcb485f4eca938569a1"
  },
  "kernelspec": {
   "display_name": "Python 3.9.2 ('dri_venv': venv)",
   "language": "python",
   "name": "python3"
  },
  "language_info": {
   "codemirror_mode": {
    "name": "ipython",
    "version": 3
   },
   "file_extension": ".py",
   "mimetype": "text/x-python",
   "name": "python",
   "nbconvert_exporter": "python",
   "pygments_lexer": "ipython3",
   "version": "3.9.2"
  },
  "orig_nbformat": 4
 },
 "nbformat": 4,
 "nbformat_minor": 2
}
