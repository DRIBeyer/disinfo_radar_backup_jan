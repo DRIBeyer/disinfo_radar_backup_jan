{
 "cells": [
  {
   "cell_type": "code",
   "execution_count": null,
   "metadata": {},
   "outputs": [],
   "source": [
    "import arxiv"
   ]
  },
  {
   "cell_type": "code",
   "execution_count": null,
   "metadata": {},
   "outputs": [],
   "source": [
    "# See:\n",
    "# https://github.com/karpathy/arxiv-sanity-preserver\n",
    "\n",
    "# May do all we need even, but would lack internal understanding,\n",
    "# until we break it down."
   ]
  }
 ],
 "metadata": {
  "language_info": {
   "name": "python"
  },
  "orig_nbformat": 4
 },
 "nbformat": 4,
 "nbformat_minor": 2
}
