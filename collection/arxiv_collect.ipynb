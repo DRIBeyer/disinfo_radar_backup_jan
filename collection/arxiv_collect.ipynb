{
 "cells": [
  {
   "cell_type": "markdown",
   "metadata": {},
   "source": [
    "# Setup"
   ]
  },
  {
   "cell_type": "markdown",
   "metadata": {},
   "source": [
    "See:\n",
    "https://github.com/karpathy/arxiv-sanity-preserver\n",
    "\n",
    "Package does much we need, \n",
    "but we would lack internal understanding,\n",
    "until we break it down."
   ]
  },
  {
   "cell_type": "code",
   "execution_count": 2,
   "metadata": {},
   "outputs": [],
   "source": [
    "import arxiv\n",
    "import json\n",
    "import pandas as pd\n",
    "\n",
    "from os import listdir\n",
    "from os.path import isfile, join"
   ]
  },
  {
   "cell_type": "code",
   "execution_count": 3,
   "metadata": {},
   "outputs": [],
   "source": [
    "# Paths\n",
    "DATA_PATH = '../data/'\n",
    "OUTPUT_PATH = '../data/raw/'\n",
    "CREDS_PATH = '../collection/credentials/'"
   ]
  },
  {
   "cell_type": "markdown",
   "metadata": {},
   "source": [
    "# Basic search\n",
    "IMO use search below, this seems to artificially truncate"
   ]
  },
  {
   "cell_type": "code",
   "execution_count": null,
   "metadata": {},
   "outputs": [],
   "source": [
    "QUERY = \"deepfake\"\n",
    "N =  2000"
   ]
  },
  {
   "cell_type": "code",
   "execution_count": null,
   "metadata": {},
   "outputs": [],
   "source": [
    "# sort_by : relevance, lastUpdatedDate, or submittedDate\n",
    "# max_results : large limit\n",
    "\n",
    "search = arxiv.Search(\n",
    "  query = QUERY,\n",
    "  max_results = N, \n",
    "  sort_by = arxiv.SortCriterion.SubmittedDate \n",
    ")\n"
   ]
  },
  {
   "cell_type": "code",
   "execution_count": null,
   "metadata": {},
   "outputs": [],
   "source": [
    "for key in search.__dict__.keys():\n",
    "      print(key)"
   ]
  },
  {
   "cell_type": "code",
   "execution_count": null,
   "metadata": {},
   "outputs": [],
   "source": [
    "# Quick results check, can still be long to run with many results\n",
    "\n",
    "for result in search.results():\n",
    "  print(result.title + '\\n')"
   ]
  },
  {
   "cell_type": "code",
   "execution_count": null,
   "metadata": {},
   "outputs": [],
   "source": [
    "# get all data, not recommended\n",
    "\n",
    "for result in search.results():     \n",
    "      for key, value in result._raw.items(): #__dict__.items(): ### this is usual way, but here dict has raw\n",
    "            print(key)\n",
    "            print(value)\n",
    "            print('\\n')"
   ]
  },
  {
   "cell_type": "code",
   "execution_count": null,
   "metadata": {},
   "outputs": [],
   "source": [
    "# Save data to \n",
    "\n",
    "# overwrite 'w' or append 'a'\n",
    "action = 'a'\n",
    "\n",
    "#save as \n",
    "save_as = 'arxiv_' + QUERY\n",
    "\n",
    "for result in search.results():\n",
    "      with open (OUTPUT_PATH + save_as + '.jsonl', action) as f:\n",
    "            json.dump(result._raw, f, default=str) # use raw as __dict__ has raw in it, thus more data\n",
    "            f.write('\\n')  "
   ]
  },
  {
   "cell_type": "markdown",
   "metadata": {},
   "source": [
    "### Client search (for larger searches)"
   ]
  },
  {
   "cell_type": "code",
   "execution_count": null,
   "metadata": {},
   "outputs": [],
   "source": [
    "friendly_client = arxiv.Client(\n",
    "  page_size = 1000, # 2000 max\n",
    "  delay_seconds = 10, #3 min\n",
    "  num_retries = 5\n",
    ")\n",
    "\n",
    "action = 'a'\n",
    "\n",
    "#save as \n",
    "save_as = 'arxiv_' + QUERY\n",
    "\n",
    "# Prints 1000 titles before needing to make another request.\n",
    "for result in friendly_client.results(arxiv.Search(query=QUERY, sort_by = arxiv.SortCriterion.SubmittedDate)):\n",
    "      with open (OUTPUT_PATH + save_as + '.jsonl', action) as f:\n",
    "            json.dump(result._raw, f, default=str) # use raw as __dict__ has raw in it, thus more data\n",
    "            f.write('\\n')"
   ]
  },
  {
   "cell_type": "markdown",
   "metadata": {},
   "source": [
    "# Start here for loading existing data"
   ]
  },
  {
   "cell_type": "code",
   "execution_count": 16,
   "metadata": {},
   "outputs": [],
   "source": [
    "from datetime import datetime"
   ]
  },
  {
   "cell_type": "code",
   "execution_count": 4,
   "metadata": {},
   "outputs": [
    {
     "name": "stdout",
     "output_type": "stream",
     "text": [
      "['arxiv_GAN.jsonl', 'arxiv_GPT-3.jsonl', 'arxiv_fake news.jsonl', 'arxiv_disinformation.jsonl']\n"
     ]
    }
   ],
   "source": [
    "# Check files in data folder\n",
    "datafiles = [f for f in listdir(OUTPUT_PATH) if isfile(join(OUTPUT_PATH, f))]\n",
    "print(datafiles)"
   ]
  },
  {
   "cell_type": "code",
   "execution_count": 21,
   "metadata": {},
   "outputs": [],
   "source": [
    "# Load df\n",
    "load_file = datafiles[1]\n",
    "\n",
    "df = pd.read_json(OUTPUT_PATH + load_file, convert_dates=True, lines=True, orient='records')"
   ]
  },
  {
   "cell_type": "code",
   "execution_count": 22,
   "metadata": {},
   "outputs": [
    {
     "data": {
      "text/plain": [
       "Index(['id', 'guidislink', 'link', 'updated', 'updated_parsed', 'published',\n",
       "       'published_parsed', 'title', 'title_detail', 'summary',\n",
       "       'summary_detail', 'authors', 'author_detail', 'author', 'arxiv_comment',\n",
       "       'links', 'arxiv_primary_category', 'tags', 'arxiv_journal_ref',\n",
       "       'arxiv_doi', 'arxiv_affiliation'],\n",
       "      dtype='object')"
      ]
     },
     "execution_count": 22,
     "metadata": {},
     "output_type": "execute_result"
    }
   ],
   "source": [
    "df.columns"
   ]
  },
  {
   "cell_type": "code",
   "execution_count": 23,
   "metadata": {},
   "outputs": [
    {
     "data": {
      "text/html": [
       "<div>\n",
       "<style scoped>\n",
       "    .dataframe tbody tr th:only-of-type {\n",
       "        vertical-align: middle;\n",
       "    }\n",
       "\n",
       "    .dataframe tbody tr th {\n",
       "        vertical-align: top;\n",
       "    }\n",
       "\n",
       "    .dataframe thead th {\n",
       "        text-align: right;\n",
       "    }\n",
       "</style>\n",
       "<table border=\"1\" class=\"dataframe\">\n",
       "  <thead>\n",
       "    <tr style=\"text-align: right;\">\n",
       "      <th></th>\n",
       "      <th>id</th>\n",
       "      <th>guidislink</th>\n",
       "      <th>link</th>\n",
       "      <th>updated</th>\n",
       "      <th>updated_parsed</th>\n",
       "      <th>published</th>\n",
       "      <th>published_parsed</th>\n",
       "      <th>title</th>\n",
       "      <th>title_detail</th>\n",
       "      <th>summary</th>\n",
       "      <th>...</th>\n",
       "      <th>authors</th>\n",
       "      <th>author_detail</th>\n",
       "      <th>author</th>\n",
       "      <th>arxiv_comment</th>\n",
       "      <th>links</th>\n",
       "      <th>arxiv_primary_category</th>\n",
       "      <th>tags</th>\n",
       "      <th>arxiv_journal_ref</th>\n",
       "      <th>arxiv_doi</th>\n",
       "      <th>arxiv_affiliation</th>\n",
       "    </tr>\n",
       "  </thead>\n",
       "  <tbody>\n",
       "    <tr>\n",
       "      <th>134</th>\n",
       "      <td>http://arxiv.org/abs/2005.14165v4</td>\n",
       "      <td>True</td>\n",
       "      <td>http://arxiv.org/abs/2005.14165v4</td>\n",
       "      <td>2020-07-22T19:47:17Z</td>\n",
       "      <td>[2020, 7, 22, 19, 47, 17, 2, 204, 0]</td>\n",
       "      <td>2020-05-28T17:29:03Z</td>\n",
       "      <td>[2020, 5, 28, 17, 29, 3, 3, 149, 0]</td>\n",
       "      <td>Language Models are Few-Shot Learners</td>\n",
       "      <td>{'type': 'text/plain', 'language': None, 'base...</td>\n",
       "      <td>Recent work has demonstrated substantial gains...</td>\n",
       "      <td>...</td>\n",
       "      <td>[{'name': 'Tom B. Brown'}, {'name': 'Benjamin ...</td>\n",
       "      <td>{'name': 'Dario Amodei'}</td>\n",
       "      <td>Dario Amodei</td>\n",
       "      <td>40+32 pages</td>\n",
       "      <td>[{'href': 'http://arxiv.org/abs/2005.14165v4',...</td>\n",
       "      <td>{'term': 'cs.CL', 'scheme': 'http://arxiv.org/...</td>\n",
       "      <td>[{'term': 'cs.CL', 'scheme': 'http://arxiv.org...</td>\n",
       "      <td>NaN</td>\n",
       "      <td>NaN</td>\n",
       "      <td>NaN</td>\n",
       "    </tr>\n",
       "    <tr>\n",
       "      <th>135</th>\n",
       "      <td>http://arxiv.org/abs/2002.04013v3</td>\n",
       "      <td>True</td>\n",
       "      <td>http://arxiv.org/abs/2002.04013v3</td>\n",
       "      <td>2020-10-21T16:36:55Z</td>\n",
       "      <td>[2020, 10, 21, 16, 36, 55, 2, 295, 0]</td>\n",
       "      <td>2020-02-10T18:39:25Z</td>\n",
       "      <td>[2020, 2, 10, 18, 39, 25, 0, 41, 0]</td>\n",
       "      <td>Towards Crowdsourced Training of Large Neural ...</td>\n",
       "      <td>{'type': 'text/plain', 'language': None, 'base...</td>\n",
       "      <td>Many recent breakthroughs in deep learning wer...</td>\n",
       "      <td>...</td>\n",
       "      <td>[{'name': 'Max Ryabinin'}, {'name': 'Anton Gus...</td>\n",
       "      <td>{'name': 'Anton Gusev'}</td>\n",
       "      <td>Anton Gusev</td>\n",
       "      <td>Advances in Neural Information Processing Syst...</td>\n",
       "      <td>[{'href': 'http://arxiv.org/abs/2002.04013v3',...</td>\n",
       "      <td>{'term': 'cs.DC', 'scheme': 'http://arxiv.org/...</td>\n",
       "      <td>[{'term': 'cs.DC', 'scheme': 'http://arxiv.org...</td>\n",
       "      <td>Advances in Neural Information Processing Syst...</td>\n",
       "      <td>NaN</td>\n",
       "      <td>NaN</td>\n",
       "    </tr>\n",
       "  </tbody>\n",
       "</table>\n",
       "<p>2 rows × 21 columns</p>\n",
       "</div>"
      ],
      "text/plain": [
       "                                    id  guidislink  \\\n",
       "134  http://arxiv.org/abs/2005.14165v4        True   \n",
       "135  http://arxiv.org/abs/2002.04013v3        True   \n",
       "\n",
       "                                  link               updated  \\\n",
       "134  http://arxiv.org/abs/2005.14165v4  2020-07-22T19:47:17Z   \n",
       "135  http://arxiv.org/abs/2002.04013v3  2020-10-21T16:36:55Z   \n",
       "\n",
       "                            updated_parsed             published  \\\n",
       "134   [2020, 7, 22, 19, 47, 17, 2, 204, 0]  2020-05-28T17:29:03Z   \n",
       "135  [2020, 10, 21, 16, 36, 55, 2, 295, 0]  2020-02-10T18:39:25Z   \n",
       "\n",
       "                        published_parsed  \\\n",
       "134  [2020, 5, 28, 17, 29, 3, 3, 149, 0]   \n",
       "135  [2020, 2, 10, 18, 39, 25, 0, 41, 0]   \n",
       "\n",
       "                                                 title  \\\n",
       "134              Language Models are Few-Shot Learners   \n",
       "135  Towards Crowdsourced Training of Large Neural ...   \n",
       "\n",
       "                                          title_detail  \\\n",
       "134  {'type': 'text/plain', 'language': None, 'base...   \n",
       "135  {'type': 'text/plain', 'language': None, 'base...   \n",
       "\n",
       "                                               summary  ...  \\\n",
       "134  Recent work has demonstrated substantial gains...  ...   \n",
       "135  Many recent breakthroughs in deep learning wer...  ...   \n",
       "\n",
       "                                               authors  \\\n",
       "134  [{'name': 'Tom B. Brown'}, {'name': 'Benjamin ...   \n",
       "135  [{'name': 'Max Ryabinin'}, {'name': 'Anton Gus...   \n",
       "\n",
       "                author_detail        author  \\\n",
       "134  {'name': 'Dario Amodei'}  Dario Amodei   \n",
       "135   {'name': 'Anton Gusev'}   Anton Gusev   \n",
       "\n",
       "                                         arxiv_comment  \\\n",
       "134                                        40+32 pages   \n",
       "135  Advances in Neural Information Processing Syst...   \n",
       "\n",
       "                                                 links  \\\n",
       "134  [{'href': 'http://arxiv.org/abs/2005.14165v4',...   \n",
       "135  [{'href': 'http://arxiv.org/abs/2002.04013v3',...   \n",
       "\n",
       "                                arxiv_primary_category  \\\n",
       "134  {'term': 'cs.CL', 'scheme': 'http://arxiv.org/...   \n",
       "135  {'term': 'cs.DC', 'scheme': 'http://arxiv.org/...   \n",
       "\n",
       "                                                  tags  \\\n",
       "134  [{'term': 'cs.CL', 'scheme': 'http://arxiv.org...   \n",
       "135  [{'term': 'cs.DC', 'scheme': 'http://arxiv.org...   \n",
       "\n",
       "                                     arxiv_journal_ref arxiv_doi  \\\n",
       "134                                                NaN       NaN   \n",
       "135  Advances in Neural Information Processing Syst...       NaN   \n",
       "\n",
       "    arxiv_affiliation  \n",
       "134               NaN  \n",
       "135               NaN  \n",
       "\n",
       "[2 rows x 21 columns]"
      ]
     },
     "execution_count": 23,
     "metadata": {},
     "output_type": "execute_result"
    }
   ],
   "source": [
    "df.tail(2)"
   ]
  },
  {
   "cell_type": "code",
   "execution_count": 24,
   "metadata": {},
   "outputs": [
    {
     "data": {
      "text/plain": [
       "str"
      ]
     },
     "execution_count": 24,
     "metadata": {},
     "output_type": "execute_result"
    }
   ],
   "source": [
    "type(df.published[1])"
   ]
  },
  {
   "cell_type": "code",
   "execution_count": 25,
   "metadata": {},
   "outputs": [],
   "source": [
    "def str_to_datetime(x):\n",
    "      y = datetime.strptime(x,'%Y-%m-%dT%H:%M:%SZ')\n",
    "      return y\n",
    "#strptime"
   ]
  },
  {
   "cell_type": "code",
   "execution_count": 27,
   "metadata": {},
   "outputs": [],
   "source": [
    "df['published2'] = df['published'].apply(lambda x: str_to_datetime(x))\n"
   ]
  },
  {
   "cell_type": "code",
   "execution_count": 26,
   "metadata": {},
   "outputs": [
    {
     "data": {
      "text/plain": [
       "0      2022-04-05T03:29:26Z\n",
       "1      2022-03-29T13:38:03Z\n",
       "2      2022-03-16T05:56:08Z\n",
       "3      2022-03-15T11:06:54Z\n",
       "4      2022-03-07T15:37:35Z\n",
       "               ...         \n",
       "131    2020-09-11T18:57:36Z\n",
       "132    2020-09-07T17:59:25Z\n",
       "133    2020-08-14T08:23:21Z\n",
       "134    2020-05-28T17:29:03Z\n",
       "135    2020-02-10T18:39:25Z\n",
       "Name: published, Length: 136, dtype: object"
      ]
     },
     "execution_count": 26,
     "metadata": {},
     "output_type": "execute_result"
    }
   ],
   "source": [
    "df.published"
   ]
  },
  {
   "cell_type": "code",
   "execution_count": 28,
   "metadata": {},
   "outputs": [
    {
     "data": {
      "text/plain": [
       "0     2022-04-05 03:29:26\n",
       "1     2022-03-29 13:38:03\n",
       "2     2022-03-16 05:56:08\n",
       "3     2022-03-15 11:06:54\n",
       "4     2022-03-07 15:37:35\n",
       "              ...        \n",
       "131   2020-09-11 18:57:36\n",
       "132   2020-09-07 17:59:25\n",
       "133   2020-08-14 08:23:21\n",
       "134   2020-05-28 17:29:03\n",
       "135   2020-02-10 18:39:25\n",
       "Name: published2, Length: 136, dtype: datetime64[ns]"
      ]
     },
     "execution_count": 28,
     "metadata": {},
     "output_type": "execute_result"
    }
   ],
   "source": [
    "df.published2"
   ]
  },
  {
   "cell_type": "code",
   "execution_count": 29,
   "metadata": {},
   "outputs": [
    {
     "data": {
      "text/plain": [
       "Index(['id', 'guidislink', 'link', 'updated', 'updated_parsed', 'published',\n",
       "       'published_parsed', 'title', 'title_detail', 'summary',\n",
       "       'summary_detail', 'authors', 'author_detail', 'author', 'arxiv_comment',\n",
       "       'links', 'arxiv_primary_category', 'tags', 'arxiv_journal_ref',\n",
       "       'arxiv_doi', 'arxiv_affiliation', 'published2'],\n",
       "      dtype='object')"
      ]
     },
     "execution_count": 29,
     "metadata": {},
     "output_type": "execute_result"
    }
   ],
   "source": [
    "df.columns"
   ]
  },
  {
   "cell_type": "code",
   "execution_count": 31,
   "metadata": {},
   "outputs": [],
   "source": [
    "df = df[['title', 'links', 'published2']]\n"
   ]
  },
  {
   "cell_type": "code",
   "execution_count": 32,
   "metadata": {},
   "outputs": [
    {
     "data": {
      "text/html": [
       "<div>\n",
       "<style scoped>\n",
       "    .dataframe tbody tr th:only-of-type {\n",
       "        vertical-align: middle;\n",
       "    }\n",
       "\n",
       "    .dataframe tbody tr th {\n",
       "        vertical-align: top;\n",
       "    }\n",
       "\n",
       "    .dataframe thead th {\n",
       "        text-align: right;\n",
       "    }\n",
       "</style>\n",
       "<table border=\"1\" class=\"dataframe\">\n",
       "  <thead>\n",
       "    <tr style=\"text-align: right;\">\n",
       "      <th></th>\n",
       "      <th>title</th>\n",
       "      <th>links</th>\n",
       "      <th>published2</th>\n",
       "    </tr>\n",
       "  </thead>\n",
       "  <tbody>\n",
       "    <tr>\n",
       "      <th>0</th>\n",
       "      <td>Data Augmentation for Intent Classification wi...</td>\n",
       "      <td>[{'href': 'http://arxiv.org/abs/2204.01959v1',...</td>\n",
       "      <td>2022-04-05 03:29:26</td>\n",
       "    </tr>\n",
       "    <tr>\n",
       "      <th>1</th>\n",
       "      <td>Training Compute-Optimal Large Language Models</td>\n",
       "      <td>[{'href': 'http://arxiv.org/abs/2203.15556v1',...</td>\n",
       "      <td>2022-03-29 13:38:03</td>\n",
       "    </tr>\n",
       "    <tr>\n",
       "      <th>2</th>\n",
       "      <td>Thinking about GPT-3 In-Context Learning for B...</td>\n",
       "      <td>[{'href': 'http://arxiv.org/abs/2203.08410v1',...</td>\n",
       "      <td>2022-03-16 05:56:08</td>\n",
       "    </tr>\n",
       "    <tr>\n",
       "      <th>3</th>\n",
       "      <td>The Ghost in the Machine has an American accen...</td>\n",
       "      <td>[{'href': 'http://arxiv.org/abs/2203.07785v1',...</td>\n",
       "      <td>2022-03-15 11:06:54</td>\n",
       "    </tr>\n",
       "    <tr>\n",
       "      <th>4</th>\n",
       "      <td>Tensor Programs V: Tuning Large Neural Network...</td>\n",
       "      <td>[{'href': 'http://arxiv.org/abs/2203.03466v2',...</td>\n",
       "      <td>2022-03-07 15:37:35</td>\n",
       "    </tr>\n",
       "    <tr>\n",
       "      <th>...</th>\n",
       "      <td>...</td>\n",
       "      <td>...</td>\n",
       "      <td>...</td>\n",
       "    </tr>\n",
       "    <tr>\n",
       "      <th>131</th>\n",
       "      <td>Unit Test Case Generation with Transformers an...</td>\n",
       "      <td>[{'href': 'http://arxiv.org/abs/2009.05617v2',...</td>\n",
       "      <td>2020-09-11 18:57:36</td>\n",
       "    </tr>\n",
       "    <tr>\n",
       "      <th>132</th>\n",
       "      <td>Measuring Massive Multitask Language Understan...</td>\n",
       "      <td>[{'href': 'http://arxiv.org/abs/2009.03300v3',...</td>\n",
       "      <td>2020-09-07 17:59:25</td>\n",
       "    </tr>\n",
       "    <tr>\n",
       "      <th>133</th>\n",
       "      <td>Language Models as Few-Shot Learner for Task-O...</td>\n",
       "      <td>[{'href': 'http://arxiv.org/abs/2008.06239v2',...</td>\n",
       "      <td>2020-08-14 08:23:21</td>\n",
       "    </tr>\n",
       "    <tr>\n",
       "      <th>134</th>\n",
       "      <td>Language Models are Few-Shot Learners</td>\n",
       "      <td>[{'href': 'http://arxiv.org/abs/2005.14165v4',...</td>\n",
       "      <td>2020-05-28 17:29:03</td>\n",
       "    </tr>\n",
       "    <tr>\n",
       "      <th>135</th>\n",
       "      <td>Towards Crowdsourced Training of Large Neural ...</td>\n",
       "      <td>[{'href': 'http://arxiv.org/abs/2002.04013v3',...</td>\n",
       "      <td>2020-02-10 18:39:25</td>\n",
       "    </tr>\n",
       "  </tbody>\n",
       "</table>\n",
       "<p>136 rows × 3 columns</p>\n",
       "</div>"
      ],
      "text/plain": [
       "                                                 title  \\\n",
       "0    Data Augmentation for Intent Classification wi...   \n",
       "1       Training Compute-Optimal Large Language Models   \n",
       "2    Thinking about GPT-3 In-Context Learning for B...   \n",
       "3    The Ghost in the Machine has an American accen...   \n",
       "4    Tensor Programs V: Tuning Large Neural Network...   \n",
       "..                                                 ...   \n",
       "131  Unit Test Case Generation with Transformers an...   \n",
       "132  Measuring Massive Multitask Language Understan...   \n",
       "133  Language Models as Few-Shot Learner for Task-O...   \n",
       "134              Language Models are Few-Shot Learners   \n",
       "135  Towards Crowdsourced Training of Large Neural ...   \n",
       "\n",
       "                                                 links          published2  \n",
       "0    [{'href': 'http://arxiv.org/abs/2204.01959v1',... 2022-04-05 03:29:26  \n",
       "1    [{'href': 'http://arxiv.org/abs/2203.15556v1',... 2022-03-29 13:38:03  \n",
       "2    [{'href': 'http://arxiv.org/abs/2203.08410v1',... 2022-03-16 05:56:08  \n",
       "3    [{'href': 'http://arxiv.org/abs/2203.07785v1',... 2022-03-15 11:06:54  \n",
       "4    [{'href': 'http://arxiv.org/abs/2203.03466v2',... 2022-03-07 15:37:35  \n",
       "..                                                 ...                 ...  \n",
       "131  [{'href': 'http://arxiv.org/abs/2009.05617v2',... 2020-09-11 18:57:36  \n",
       "132  [{'href': 'http://arxiv.org/abs/2009.03300v3',... 2020-09-07 17:59:25  \n",
       "133  [{'href': 'http://arxiv.org/abs/2008.06239v2',... 2020-08-14 08:23:21  \n",
       "134  [{'href': 'http://arxiv.org/abs/2005.14165v4',... 2020-05-28 17:29:03  \n",
       "135  [{'href': 'http://arxiv.org/abs/2002.04013v3',... 2020-02-10 18:39:25  \n",
       "\n",
       "[136 rows x 3 columns]"
      ]
     },
     "execution_count": 32,
     "metadata": {},
     "output_type": "execute_result"
    }
   ],
   "source": [
    "df"
   ]
  },
  {
   "cell_type": "code",
   "execution_count": null,
   "metadata": {},
   "outputs": [],
   "source": [
    "new_df = df[df.published >= last_collected]\n"
   ]
  }
 ],
 "metadata": {
  "interpreter": {
   "hash": "da0017f62db7e548d7b812a9c7093f1ca47065612340949c7e49f676fc86bc13"
  },
  "kernelspec": {
   "display_name": "Python 3.9.2 ('dr_venv': venv)",
   "language": "python",
   "name": "python3"
  },
  "language_info": {
   "codemirror_mode": {
    "name": "ipython",
    "version": 3
   },
   "file_extension": ".py",
   "mimetype": "text/x-python",
   "name": "python",
   "nbconvert_exporter": "python",
   "pygments_lexer": "ipython3",
   "version": "3.9.2"
  },
  "orig_nbformat": 4
 },
 "nbformat": 4,
 "nbformat_minor": 2
}
