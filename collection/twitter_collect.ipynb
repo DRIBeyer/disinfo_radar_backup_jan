{
 "cells": [
  {
   "cell_type": "markdown",
   "metadata": {},
   "source": [
    "# Setup "
   ]
  },
  {
   "cell_type": "code",
   "execution_count": null,
   "metadata": {},
   "outputs": [],
   "source": [
    "# Task specific\n",
    "from tweepy.streaming import StreamListener\n",
    "from tweepy import OAuthHandler\n",
    "from tweepy import Stream\n",
    "from tweepy import API\n",
    "from tweepy import Cursor\n",
    "\n",
    "# The usuals\n",
    "import pandas as pd\n",
    "import numpy as np\n",
    "import time\n",
    "\n",
    "# Unique\n",
    "from html import unescape\n",
    "\n",
    "# OS etc\n",
    "from os import listdir\n",
    "from os.path import isfile, join"
   ]
  },
  {
   "cell_type": "code",
   "execution_count": 3,
   "metadata": {},
   "outputs": [],
   "source": [
    "# Paths\n",
    "PATH = '../data/'\n",
    "OUTPUT = '../output_data/'\n",
    "CREDS_PATH = '../collection/credentials/'"
   ]
  },
  {
   "cell_type": "code",
   "execution_count": null,
   "metadata": {},
   "outputs": [],
   "source": [
    "# Filenames\n",
    "\n",
    "creds_file = 'twitter_creds.json'"
   ]
  },
  {
   "cell_type": "code",
   "execution_count": null,
   "metadata": {},
   "outputs": [],
   "source": [
    "# Get credentials\n",
    "\n",
    "with open(CREDS_PATH + creds_file) as json_file:\n",
    "    token_source = json.load(json_file)\n",
    "\n",
    "consumer_key = token_source['consumer_key']\n",
    "consumer_secret =token_source['consumer_secret']\n",
    "access_token = token_source['access_token']\n",
    "access_token_secret = token_source['access_token_secret']"
   ]
  },
  {
   "cell_type": "code",
   "execution_count": null,
   "metadata": {},
   "outputs": [],
   "source": [
    "# Helper\n",
    "def json_export(filename):\n",
    "      \n",
    "line = {'id': d + '_' + in_file.split('.')[0], \n",
    "      'faces_mode': mode_faces_scene, \n",
    "      'faces_max': max_faces_scene, \n",
    "      'frames_w_face': frames_with_face_scene}\n",
    "with open ('./data/video_faces.jsonl', 'a') as f:\n",
    "      json.dump(line, f)\n",
    "      f.write('\\n')   "
   ]
  },
  {
   "cell_type": "markdown",
   "metadata": {},
   "source": [
    "# Main Twitter class"
   ]
  },
  {
   "cell_type": "code",
   "execution_count": null,
   "metadata": {},
   "outputs": [],
   "source": [
    "class TwitterClient():\n",
    "    def __init__(self, twitter_user=None):\n",
    "        self.auth = TwitterAuthenticator().authenticate_twitter_app()\n",
    "        self.twitter_client = API(self.auth)\n",
    "    \n",
    "        self.twitter_user = twitter_user\n",
    "    \n",
    "    def get_twitter_client_api(self):\n",
    "        return self.twitter_client\n",
    "    \n",
    "    def get_user_timeline_tweets(self, num_tweets):\n",
    "        tweets = []\n",
    "        for tweet in Cursor(self.twitter_client.user_timeline, id=self.twitter_user, tweet_mode='extended').items(num_tweets):\n",
    "            tweets.append(tweet)\n",
    "        return tweets\n",
    "    \n",
    "    def get_friend_list(self, num_friends):\n",
    "        friend_list = []\n",
    "        for friend in Cursor(self.twitter_client.friends, id=self.twitter_user).items(num_friends):\n",
    "            friend_list.append(friend)\n",
    "        return friend_list\n",
    "    \n",
    "    def get_home_timeline_tweets(self, num_tweets):\n",
    "        home_timeline_tweets = []\n",
    "        for tweet in Cursor(self.twitter_client.home_timeline, id=self.twitter_user).items(num_tweets):\n",
    "            home_timeline_tweets.append(tweet)\n",
    "        return home_timeline_tweets\n",
    "\n",
    "\n",
    "class TwitterAuthenticator():\n",
    "    \n",
    "    def authenticate_twitter_app(self):\n",
    "        auth = OAuthHandler(consumer_key, consumer_secret)\n",
    "        auth.set_access_token(access_token, access_token_secret)\n",
    "        return auth\n",
    "\n",
    "class TwitterStreamer():\n",
    "    \n",
    "    def __init__(self):\n",
    "        self.twitter_authenicator = TwitterAuthenticator()\n",
    "        \n",
    "    def stream_tweets(self, fetched_tweets_filename, hash_tag_list):\n",
    "        \n",
    "        listener = TwitterListener(fetched_tweets_filename)\n",
    "        auth =  self.twitter_authenicator.authenticate_twitter_app()\n",
    "        stream =  Stream(auth, listener)\n",
    "\n",
    "        stream.filter(track=hash_tag_list)    \n",
    "\n",
    "class TwitterListener(StreamListener):\n",
    "    \n",
    "    def __init__(self, fetched_tweets_filename):\n",
    "        self.fetched_tweets_filename = fetched_tweets_filename\n",
    "    \n",
    "    def on_data(self, data):\n",
    "        try:\n",
    "            print(data)\n",
    "            with open (self.fetched_tweets_filename, 'a') as tf:\n",
    "                tf.write(data)\n",
    "            return True\n",
    "        except BaseException as e:\n",
    "            print('Error on data: %s' %str(e))\n",
    "        return True\n",
    "    \n",
    "    def on_error(self, status):\n",
    "        if status == 420:\n",
    "            return False\n",
    "            # rate limit\n",
    "        print(status)\n",
    "        \n",
    "class TweetAnalyzer():\n",
    "    def tweets_to_df(self, tweets):\n",
    "        #tweets=unescape(tweet.full_text)\n",
    "\n",
    "        df = pd.DataFrame(data=[tweet.text for tweet in tweets], columns=['Tweets'])\n",
    "        \n",
    "        df['id'] = np.array([tweet.id for tweet in tweets])\n",
    "        df['len'] = np.array([len(tweet.text) for tweet in tweets])\n",
    "        df['date'] = np.array([tweet.created_at for tweet in tweets])\n",
    "        df['source'] = np.array([tweet.source for tweet in tweets])\n",
    "        df['likes'] = np.array([tweet.favorite_count for tweet in tweets])\n",
    "        df['retweets'] = np.array([tweet.retweet_count for tweet in tweets])\n",
    "        \n",
    "        return df\n"
   ]
  },
  {
   "cell_type": "markdown",
   "metadata": {},
   "source": [
    "# Next"
   ]
  },
  {
   "cell_type": "code",
   "execution_count": null,
   "metadata": {},
   "outputs": [],
   "source": [
    "# Activate API\n",
    "\n",
    "twitter_cleint = TwitterClient()\n",
    "tweet_analyzer = TweetAnalyzer()\n",
    "api = twitter_cleint.get_twitter_client_api() "
   ]
  },
  {
   "cell_type": "code",
   "execution_count": null,
   "metadata": {},
   "outputs": [],
   "source": [
    "\n",
    "deleted_accounts = []\n",
    "\n",
    "accounts = []\n",
    "created_list = []\n",
    "favourite = []\n",
    "friends = []\n",
    "followers = []\n",
    "location = []\n",
    "status_count = []\n",
    "\n",
    "for user in usernames:\n",
    "    try:\n",
    "        account = api.get_user(screen_name=user) #count=10\n",
    "        #print(account._json)\n",
    "        accounts.append(account._json)\n",
    "        \n",
    "        print(account.created_at)\n",
    "        \n",
    "        created_list.append(account.created_at)\n",
    "        followers.append(account.followers_count)\n",
    "        friends.append(account.friends_count)\n",
    "        favourite.append(account.favourites_count)\n",
    "        status_count.append(account.statuses_count)\n",
    "        \n",
    "        time.sleep(1)\n",
    "    \n",
    "    except:\n",
    "        deleted_accounts.append(user)\n",
    "        pass\n",
    "#tweets = api.user_timeline(screen_name='JPLehrke') #count=10\n",
    "#print(dir(tweets[1]))\n",
    "#test = api.user_timeline(screen_name='JPLehrke', count = 7, include_entities = True, tweet_mode='extended')\n",
    "#print(account.created_at)\n",
    "    \n",
    "#print(tweets[6]._json)\n",
    "#print(tweets[6].entities)\n",
    "\n",
    "#df = tweet_analyzer.tweets_to_df(tweets)"
   ]
  },
  {
   "cell_type": "code",
   "execution_count": null,
   "metadata": {
    "scrolled": true
   },
   "outputs": [],
   "source": [
    "#usernames\n",
    "deleted_accounts"
   ]
  },
  {
   "cell_type": "code",
   "execution_count": null,
   "metadata": {},
   "outputs": [],
   "source": [
    "tweep = pd.DataFrame(list(zip(usernames, created_list, friends, followers, status_count)),\n",
    "               columns =['user', 'created', 'friends', 'followers', 'status_count'])"
   ]
  }
 ],
 "metadata": {
  "kernelspec": {
   "display_name": "Python 3 (ipykernel)",
   "language": "python",
   "name": "python3"
  },
  "language_info": {
   "codemirror_mode": {
    "name": "ipython",
    "version": 3
   },
   "file_extension": ".py",
   "mimetype": "text/x-python",
   "name": "python",
   "nbconvert_exporter": "python",
   "pygments_lexer": "ipython3",
   "version": "3.9.2"
  }
 },
 "nbformat": 4,
 "nbformat_minor": 4
}
