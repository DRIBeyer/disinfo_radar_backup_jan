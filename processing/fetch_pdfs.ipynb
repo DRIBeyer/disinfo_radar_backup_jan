{
 "cells": [
  {
   "cell_type": "code",
   "execution_count": null,
   "metadata": {},
   "outputs": [],
   "source": [
    "import os\n",
    "from os import listdir\n",
    "from os.path import isfile, join\n",
    "\n",
    "import pandas as pd\n",
    "import time\n",
    "import pickle\n",
    "import shutil\n",
    "import random\n",
    "from  urllib.request import urlopen"
   ]
  },
  {
   "cell_type": "code",
   "execution_count": null,
   "metadata": {},
   "outputs": [],
   "source": [
    "# Paths\n",
    "DATA_PATH = '../data/'\n",
    "OUTPUT_PATH = '../data/raw/'\n",
    "CREDS_PATH = '../collection/credentials/'"
   ]
  },
  {
   "cell_type": "code",
   "execution_count": null,
   "metadata": {},
   "outputs": [],
   "source": [
    "# Check files in data folder\n",
    "datafiles = [f for f in listdir(OUTPUT_PATH) if isfile(join(OUTPUT_PATH, f))]\n",
    "print(datafiles)"
   ]
  },
  {
   "cell_type": "code",
   "execution_count": null,
   "metadata": {},
   "outputs": [],
   "source": [
    "# Load df\n",
    "load_file = datafiles[1]\n",
    "\n",
    "df = pd.read_json(OUTPUT_PATH + load_file, convert_dates=True, lines=True, orient='records')"
   ]
  },
  {
   "cell_type": "code",
   "execution_count": null,
   "metadata": {},
   "outputs": [],
   "source": [
    "df.head(1)"
   ]
  },
  {
   "cell_type": "code",
   "execution_count": null,
   "metadata": {},
   "outputs": [],
   "source": [
    "# Checking the data we need\n",
    "df.links[1]"
   ]
  },
  {
   "cell_type": "code",
   "execution_count": null,
   "metadata": {},
   "outputs": [],
   "source": [
    "# Creating name for directory creation\n",
    "\n",
    "QUERY = load_file.split('_')[1].split('.')[0]"
   ]
  },
  {
   "cell_type": "code",
   "execution_count": null,
   "metadata": {},
   "outputs": [],
   "source": [
    "# Make folder to hold PDFS\n",
    "pdf_dir = DATA_PATH + QUERY + 'pdfs'\n",
    "\n",
    "if not os.path.exists(pdf_dir): \n",
    "  os.makedirs(pdf_dir)\n"
   ]
  },
  {
   "cell_type": "code",
   "execution_count": null,
   "metadata": {},
   "outputs": [],
   "source": [
    "# Time out for our requests\n",
    "timeout_secs = 10 \n",
    "\n",
    "# List of PDFs we have\n",
    "have = set(os.listdir(pdf_dir))\n",
    "\n",
    "# Current and total downloads\n",
    "numok = 0\n",
    "numtot = 0\n",
    "\n",
    "for index, row in df.iterrows():\n",
    "  for item in row.links:\n",
    "    if item['type'] == 'application/pdf':\n",
    "      pdf_url = item['href']\n",
    "      basename = pdf_url.split('/')[-1]\n",
    "      fname = os.path.join(pdf_dir, basename)\n",
    "      print(fname)\n",
    "\n",
    "      try:\n",
    "          if not basename in have:\n",
    "            print('fetching %s into %s' % (pdf_url, fname))\n",
    "            req = urlopen(pdf_url, None, timeout_secs)\n",
    "            with open(fname, 'wb') as fp:\n",
    "                shutil.copyfileobj(req, fp)\n",
    "            time.sleep(0.05 + random.uniform(0,0.1))\n",
    "          else:\n",
    "            print('%s exists, skipping' % (fname, ))\n",
    "          numok+=1\n",
    "      except Exception as e:\n",
    "          print('error downloading: ', pdf_url)\n",
    "          print(e)\n",
    "        \n",
    "      print('%d/%d of %d downloaded ok.' % (numok, numtot, len(df)))\n",
    "        \n",
    "print('final number of papers downloaded okay: %d/%d' % (numok, len(df)))"
   ]
  },
  {
   "cell_type": "code",
   "execution_count": null,
   "metadata": {},
   "outputs": [],
   "source": []
  }
 ],
 "metadata": {
  "interpreter": {
   "hash": "f045682951559cbc0979d5d7223b93f289f756c5241efdcb485f4eca938569a1"
  },
  "kernelspec": {
   "display_name": "Python 3.9.2 ('dri_venv': venv)",
   "language": "python",
   "name": "python3"
  },
  "language_info": {
   "codemirror_mode": {
    "name": "ipython",
    "version": 3
   },
   "file_extension": ".py",
   "mimetype": "text/x-python",
   "name": "python",
   "nbconvert_exporter": "python",
   "pygments_lexer": "ipython3",
   "version": "3.9.2"
  },
  "orig_nbformat": 4
 },
 "nbformat": 4,
 "nbformat_minor": 2
}
