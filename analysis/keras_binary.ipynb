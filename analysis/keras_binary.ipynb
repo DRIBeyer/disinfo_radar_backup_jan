{
 "cells": [
  {
   "cell_type": "code",
   "execution_count": 1,
   "metadata": {},
   "outputs": [],
   "source": [
    "import pandas as pd\n",
    "\n",
    "from os import listdir\n",
    "from os.path import isfile, join"
   ]
  },
  {
   "cell_type": "code",
   "execution_count": 2,
   "metadata": {},
   "outputs": [],
   "source": [
    "from sklearn.model_selection import train_test_split\n",
    "from sklearn.feature_extraction.text import CountVectorizer\n",
    "from sklearn.linear_model import LogisticRegression"
   ]
  },
  {
   "cell_type": "code",
   "execution_count": 3,
   "metadata": {},
   "outputs": [],
   "source": [
    "# Paths\n",
    "DATA_PATH = '../data/'\n",
    "OUTPUT = '../output_data/'\n",
    "MODEL_PATH = '../data/models/'"
   ]
  },
  {
   "cell_type": "code",
   "execution_count": 4,
   "metadata": {},
   "outputs": [
    {
     "name": "stdout",
     "output_type": "stream",
     "text": [
      "Index, Filename\n",
      "[(0, 'deepfake_txt.csv'), (1, 'arxiv_disinformation.csv'), (2, 'arxiv_deepfake.csv'), (3, 'results.csv'), (4, 'reddit_machinelearning.csv'), (5, 'test_df.csv'), (6, 'mit_data.csv'), (7, 'importai_data.csv'), (8, 'cna_CNA_data.csv'), (9, 'synced_data.csv'), (10, 'ieee_data.csv'), (11, 'test_compiled.csv'), (12, 'data_with_labels.csv'), (13, 'test_output.csv')]\n"
     ]
    }
   ],
   "source": [
    "# Check files in data folder\n",
    "datafiles = [f for f in listdir(DATA_PATH) if isfile(join(DATA_PATH, f))]\n",
    "\n",
    "print('Index, Filename')\n",
    "print(list(zip([index for index, value in enumerate(datafiles)], datafiles)))"
   ]
  },
  {
   "cell_type": "code",
   "execution_count": 5,
   "metadata": {},
   "outputs": [
    {
     "data": {
      "text/plain": [
       "'test_output.csv'"
      ]
     },
     "execution_count": 5,
     "metadata": {},
     "output_type": "execute_result"
    }
   ],
   "source": [
    "# Get a file name, can use\n",
    "filename = datafiles[-1]\n",
    "filename\n",
    "#filename2 = 'arxiv_disinformation.csv'"
   ]
  },
  {
   "cell_type": "code",
   "execution_count": 7,
   "metadata": {},
   "outputs": [],
   "source": [
    "# Load dataframe\n",
    "CONVERTERS = {'tokens': eval, 'published_parsed': eval, 'tags': eval, 'arxiv_primary_category': eval}\n",
    "\n",
    "df1 = pd.read_csv(DATA_PATH + filename, converters=CONVERTERS)\n",
    "#df2 = pd.read_csv(DATA_PATH + filename2, converters=CONVERTERS)\n"
   ]
  },
  {
   "cell_type": "code",
   "execution_count": 8,
   "metadata": {},
   "outputs": [
    {
     "data": {
      "text/html": [
       "<div>\n",
       "<style scoped>\n",
       "    .dataframe tbody tr th:only-of-type {\n",
       "        vertical-align: middle;\n",
       "    }\n",
       "\n",
       "    .dataframe tbody tr th {\n",
       "        vertical-align: top;\n",
       "    }\n",
       "\n",
       "    .dataframe thead th {\n",
       "        text-align: right;\n",
       "    }\n",
       "</style>\n",
       "<table border=\"1\" class=\"dataframe\">\n",
       "  <thead>\n",
       "    <tr style=\"text-align: right;\">\n",
       "      <th></th>\n",
       "      <th>title</th>\n",
       "      <th>url</th>\n",
       "      <th>date</th>\n",
       "      <th>summary</th>\n",
       "      <th>text</th>\n",
       "      <th>cleaning</th>\n",
       "      <th>tokens</th>\n",
       "      <th>category</th>\n",
       "    </tr>\n",
       "  </thead>\n",
       "  <tbody>\n",
       "    <tr>\n",
       "      <th>0</th>\n",
       "      <td>Meta has built a massive new language AI—and i...</td>\n",
       "      <td>https://www.technologyreview.com/2022/05/03/10...</td>\n",
       "      <td>2022-05-03</td>\n",
       "      <td>Facebook’s parent company is inviting research...</td>\n",
       "      <td>Meta’s AI lab has created a massive new langua...</td>\n",
       "      <td>Meta’s AI lab has created a massive new langua...</td>\n",
       "      <td>[ai, lab, create, massive, new, language, mode...</td>\n",
       "      <td>1.0</td>\n",
       "    </tr>\n",
       "  </tbody>\n",
       "</table>\n",
       "</div>"
      ],
      "text/plain": [
       "                                               title  \\\n",
       "0  Meta has built a massive new language AI—and i...   \n",
       "\n",
       "                                                 url        date  \\\n",
       "0  https://www.technologyreview.com/2022/05/03/10...  2022-05-03   \n",
       "\n",
       "                                             summary  \\\n",
       "0  Facebook’s parent company is inviting research...   \n",
       "\n",
       "                                                text  \\\n",
       "0  Meta’s AI lab has created a massive new langua...   \n",
       "\n",
       "                                            cleaning  \\\n",
       "0  Meta’s AI lab has created a massive new langua...   \n",
       "\n",
       "                                              tokens  category  \n",
       "0  [ai, lab, create, massive, new, language, mode...       1.0  "
      ]
     },
     "execution_count": 8,
     "metadata": {},
     "output_type": "execute_result"
    }
   ],
   "source": [
    "df1.head(1)"
   ]
  },
  {
   "cell_type": "code",
   "execution_count": 9,
   "metadata": {},
   "outputs": [],
   "source": [
    "df = df1[['title', 'category']]"
   ]
  },
  {
   "cell_type": "code",
   "execution_count": 11,
   "metadata": {},
   "outputs": [
    {
     "name": "stdout",
     "output_type": "stream",
     "text": [
      "Meta has built a massive new language AI—and it’s giving it away for free\n",
      "1.0\n",
      "The Download: Language-preserving AI, and hackers showed it’s frighteningly easy to breach critical infrastructure\n",
      "0.0\n",
      "A new vision of artificial intelligence for the people\n",
      "1.0\n",
      "How the AI industry profits from catastrophe\n",
      "0.0\n",
      "Artificial intelligence is creating a new colonial world order\n",
      "0.0\n",
      "How to solve AI’s inequality problem\n",
      "0.0\n",
      "The Download: How a Zambian morgue is exposing the real covid toll in Africa\n",
      "0.0\n",
      "Embracing culture change on the path to digital transformation\n",
      "0.0\n",
      "DeepMind’s Flamingo Visual Language Model Demonstrates SOTA Few-Shot Multimodal Learning Capabilities\n",
      "1.0\n",
      "Waymo & Google’s PolyLoss: Tailoring Loss Functions to Different Tasks and Datasets\n",
      "1.0\n",
      "\n",
      "\n",
      "        A Roomba for Rivers\n",
      "    \n",
      "\n",
      "0.0\n",
      "\n",
      "\n",
      "        Why We Built a Neuromorphic Robot to Play Foosball\n",
      "    \n",
      "\n",
      "0.0\n",
      "\n",
      "\n",
      "        Fusion Plasmas Meet Their Match in Reinforcement Learning\n",
      "    \n",
      "\n",
      "0.0\n",
      "\n",
      "\n",
      "        Video Friday: DALL-E 2\n",
      "    \n",
      "\n",
      "0.0\n",
      "\n",
      "\n",
      "        Volunteers Scramble to Preserve Ukraine’s Digital Culture\n",
      "    \n",
      "\n",
      "0.0\n",
      "\n",
      "\n",
      "        How the Wayback Machine Is Saving Digital Ukraine\n",
      "    \n",
      "\n",
      "0.0\n",
      "\n",
      "\n",
      "        Can Deepfake Tech Train Computer Vision AIs?\n",
      "    \n",
      "\n",
      "1.0\n",
      "05/02/2022 - Import AI 293: Generative humans; few shot learning comes for vision-text models; and another new AI startup is born\n",
      "1.0\n",
      "04/25/2022 - Import AI 292: AI makes low-carbon concrete; weaponized NLP; and a neuro-symbolic language model\n",
      "1.0\n",
      "04/11/2022 - Import AI 291: Google trains the world's biggest language model; how robots can be smarter about the world; Conjecture, a new AI alignment company\n",
      "1.0\n",
      "04/05/2022 - Import AI 290: China plans massive models; DeepMind makes a smaller and smarter model; open source CLIP data\n",
      "1.0\n",
      "03/28/2022 - Import AI 289: Copyright v AI art; NIST tries to measure bias in AI; solar-powered Markov chains\n",
      "0.0\n",
      "03/21/2022 - Import AI 288: Chinese researchers try to train 100trillion+ 'brain-scale' models; 33% of AI benchmarks are meaningless.\n",
      "0.0\n",
      "03/07/2022 - Import AI 287: 10 exaflop supercomputer; Google deploys differential privacy; humans can outsmart deepfakes pretty well\n",
      "0.0\n",
      "02/28/2022 - Import AI 286: Fairness through dumbness; planet-scale AI computing; another AI safety startup appears\n",
      "0.0\n",
      "02/21/2022 - Import AI 285: RL+Fusion; why RL demands better public policy; Cohere raises $125m\n",
      "0.0\n",
      "02/07/2022 - Import AI 283: Open source 20B GPT3; Chinese researchers make better adversarial example attacks; Mozilla launches AI auditing project.\n",
      "0.0\n",
      "01/24/2022 - Import AI 281: China does more surveillance research than US and Europe; Google reveals its text model LaMDA; Microsoft improves MoEs\n",
      "1.0\n",
      "01/17/2022 - Import AI 280: Why bigger is worse for RL; AI-generated Pokemon; real-world EfficientNet\n",
      "1.0\n",
      "12/27/2021 - Import AI 278: Can we ever trust an AI?; what the future of semiconductors looks like; better images of AI\n",
      "0.0\n",
      "12/13/2021 - Import AI 277: DeepMind builds a GPT-3 model; Catalan GLUE; FTC plans AI regs\n",
      "1.0\n",
      "11/22/2021 - Import AI 275: Facebook dreams of a world-spanning neural net; Microsoft announces a 30-petaflop supercomputer; FTC taps AI Now for AI advice\n",
      "0.0\n"
     ]
    }
   ],
   "source": [
    "for index, row in df.iterrows():\n",
    "      print(row.title)\n",
    "      print(row.category)"
   ]
  },
  {
   "cell_type": "markdown",
   "metadata": {},
   "source": [
    "# Helper functions"
   ]
  },
  {
   "cell_type": "code",
   "execution_count": 7,
   "metadata": {},
   "outputs": [],
   "source": [
    "import matplotlib.pyplot as plt\n",
    "plt.style.use('ggplot')\n",
    "\n",
    "def plot_history(history):\n",
    "    acc = history.history['accuracy']\n",
    "    val_acc = history.history['val_accuracy']\n",
    "    loss = history.history['loss']\n",
    "    val_loss = history.history['val_loss']\n",
    "    x = range(1, len(acc) + 1)\n",
    "\n",
    "    plt.figure(figsize=(12, 5))\n",
    "    plt.subplot(1, 2, 1)\n",
    "    plt.plot(x, acc, 'b', label='Training acc')\n",
    "    plt.plot(x, val_acc, 'r', label='Validation acc')\n",
    "    plt.title('Training and validation accuracy')\n",
    "    plt.legend()\n",
    "    plt.subplot(1, 2, 2)\n",
    "    plt.plot(x, loss, 'b', label='Training loss')\n",
    "    plt.plot(x, val_loss, 'r', label='Validation loss')\n",
    "    plt.title('Training and validation loss')\n",
    "    plt.legend()\n"
   ]
  },
  {
   "cell_type": "markdown",
   "metadata": {},
   "source": [
    "# Examine data"
   ]
  },
  {
   "cell_type": "code",
   "execution_count": 8,
   "metadata": {},
   "outputs": [
    {
     "name": "stdout",
     "output_type": "stream",
     "text": [
      "1030\n"
     ]
    }
   ],
   "source": [
    "print(len(df1))\n",
    "#print(len(df2))"
   ]
  },
  {
   "cell_type": "code",
   "execution_count": 9,
   "metadata": {},
   "outputs": [
    {
     "data": {
      "text/plain": [
       "Index(['Unnamed: 0', 'id', 'guidislink', 'link', 'updated', 'updated_parsed',\n",
       "       'published', 'published_parsed', 'title', 'title_detail', 'summary',\n",
       "       'summary_detail', 'authors', 'author_detail', 'author', 'arxiv_comment',\n",
       "       'links', 'arxiv_primary_category', 'tags', 'arxiv_doi',\n",
       "       'arxiv_journal_ref', 'arxiv_affiliation', 'search_term', 'label'],\n",
       "      dtype='object')"
      ]
     },
     "execution_count": 9,
     "metadata": {},
     "output_type": "execute_result"
    }
   ],
   "source": [
    "df1.columns"
   ]
  },
  {
   "cell_type": "code",
   "execution_count": 28,
   "metadata": {},
   "outputs": [
    {
     "data": {
      "text/plain": [
       "Index(['id', 'guidislink', 'link', 'updated', 'updated_parsed', 'published',\n",
       "       'published_parsed', 'title', 'title_detail', 'summary',\n",
       "       'summary_detail', 'authors', 'author_detail', 'author', 'links',\n",
       "       'arxiv_primary_category', 'tags', 'arxiv_comment', 'arxiv_doi',\n",
       "       'arxiv_journal_ref', 'arxiv_affiliation', 'cleaning', 'tokens',\n",
       "       'category', 'year', 'month_year'],\n",
       "      dtype='object')"
      ]
     },
     "execution_count": 28,
     "metadata": {},
     "output_type": "execute_result"
    }
   ],
   "source": [
    "df2.columns"
   ]
  },
  {
   "cell_type": "code",
   "execution_count": 34,
   "metadata": {},
   "outputs": [
    {
     "data": {
      "text/plain": [
       "cs.CV                328\n",
       "eess.AS               24\n",
       "cs.CR                 22\n",
       "cs.LG                 22\n",
       "cs.SD                 10\n",
       "cs.CY                 10\n",
       "cs.CL                  8\n",
       "cs.HC                  6\n",
       "cond-mat.mtrl-sci      2\n",
       "cs.MM                  2\n",
       "cs.SI                  2\n",
       "cs.NI                  2\n",
       "Name: category, dtype: int64"
      ]
     },
     "execution_count": 34,
     "metadata": {},
     "output_type": "execute_result"
    }
   ],
   "source": [
    "df1.category.value_counts() # note esp. the cs.CV catagory"
   ]
  },
  {
   "cell_type": "code",
   "execution_count": 30,
   "metadata": {},
   "outputs": [
    {
     "data": {
      "text/plain": [
       "cs.SI              70\n",
       "cs.CL              59\n",
       "cs.CY              34\n",
       "cs.CR              11\n",
       "physics.soc-ph      7\n",
       "cs.CV               7\n",
       "cs.LG               5\n",
       "cs.HC               5\n",
       "cs.MM               4\n",
       "cs.IR               4\n",
       "gr-qc               2\n",
       "cs.AI               2\n",
       "cs.GT               2\n",
       "econ.GN             1\n",
       "cs.DL               1\n",
       "astro-ph.IM         1\n",
       "cs.NI               1\n",
       "math.OC             1\n",
       "stat.AP             1\n",
       "cs.MA               1\n",
       "nlin.AO             1\n",
       "econ.TH             1\n",
       "cond-mat.dis-nn     1\n",
       "Name: category, dtype: int64"
      ]
     },
     "execution_count": 30,
     "metadata": {},
     "output_type": "execute_result"
    }
   ],
   "source": [
    "df2.category.value_counts() # note esp. the cs.CV catagory"
   ]
  },
  {
   "cell_type": "markdown",
   "metadata": {},
   "source": [
    "# NEW"
   ]
  },
  {
   "cell_type": "code",
   "execution_count": 10,
   "metadata": {},
   "outputs": [
    {
     "data": {
      "text/plain": [
       "Index(['Unnamed: 0', 'id', 'guidislink', 'link', 'updated', 'updated_parsed',\n",
       "       'published', 'published_parsed', 'title', 'title_detail', 'summary',\n",
       "       'summary_detail', 'authors', 'author_detail', 'author', 'arxiv_comment',\n",
       "       'links', 'arxiv_primary_category', 'tags', 'arxiv_doi',\n",
       "       'arxiv_journal_ref', 'arxiv_affiliation', 'search_term', 'label'],\n",
       "      dtype='object')"
      ]
     },
     "execution_count": 10,
     "metadata": {},
     "output_type": "execute_result"
    }
   ],
   "source": [
    "df1.columns"
   ]
  },
  {
   "cell_type": "code",
   "execution_count": 16,
   "metadata": {},
   "outputs": [
    {
     "data": {
      "text/plain": [
       "'{\\'type\\': \\'text/plain\\', \\'language\\': None, \\'base\\': \\'http://export.arxiv.org/api/query?search_query=StyleGAN&id_list=&sortBy=submittedDate&sortOrder=descending&start=0&max_results=100\\', \\'value\\': \"High quality facial image editing is a challenging problem in the movie\\\\npost-production industry, requiring a high degree of control and identity\\\\npreservation. Previous works that attempt to tackle this problem may suffer\\\\nfrom the entanglement of facial attributes and the loss of the person\\'s\\\\nidentity. Furthermore, many algorithms are limited to a certain task. To tackle\\\\nthese limitations, we propose to edit facial attributes via the latent space of\\\\na StyleGAN generator, by training a dedicated latent transformation network and\\\\nincorporating explicit disentanglement and identity preservation terms in the\\\\nloss function. We further introduce a pipeline to generalize our face editing\\\\nto videos. Our model achieves a disentangled, controllable, and\\\\nidentity-preserving facial attribute editing, even in the challenging case of\\\\nreal (i.e., non-synthetic) images and videos. We conduct extensive experiments\\\\non image and video datasets and show that our model outperforms other\\\\nstate-of-the-art methods in visual quality and quantitative evaluation. Source\\\\ncodes are available at https://github.com/InterDigitalInc/latent-transformer.\"}'"
      ]
     },
     "execution_count": 16,
     "metadata": {},
     "output_type": "execute_result"
    }
   ],
   "source": [
    "df1.summary_detail[1]"
   ]
  },
  {
   "cell_type": "code",
   "execution_count": 13,
   "metadata": {},
   "outputs": [
    {
     "data": {
      "text/plain": [
       "0.0     260\n",
       "1.0     165\n",
       "99.0     76\n",
       "Name: label, dtype: int64"
      ]
     },
     "execution_count": 13,
     "metadata": {},
     "output_type": "execute_result"
    }
   ],
   "source": [
    "df1.label.value_counts() "
   ]
  },
  {
   "cell_type": "code",
   "execution_count": 19,
   "metadata": {},
   "outputs": [],
   "source": [
    "import pandas as pd\n",
    "\n",
    "from os.path import isfile, join\n",
    "from os import listdir, path\n",
    "\n",
    "import nltk\n",
    "from nltk.tokenize import sent_tokenize, word_tokenize\n",
    "from nltk.corpus import stopwords\n",
    "import string\n",
    "import spacy\n",
    "import re\n",
    "\n",
    "# INSTALL FIRST:\n",
    "# nltk.download('stopwords')\n",
    "# python -m spacy download en_core_web_sm\n",
    "\n",
    "def cleaning(text):\n",
    "      cleaned_text = text.replace(\"\\n\", \" \")\n",
    "      cleaned_text = cleaned_text.replace(\"\\t\", \" \")\n",
    "      cleaned_text = cleaned_text.replace('\\r', '')\n",
    "\n",
    "      cleaned_text = re.sub('[^\\S\\r\\n]{2,}', ' ', cleaned_text) # extra spaces\n",
    "      cleaned_text = cleaned_text.rstrip()\n",
    "      \n",
    "      return cleaned_text\n",
    "\n",
    "def lower_case(text):\n",
    "      cleaned_text = text.lower() # lower case\n",
    "      return cleaned_text\n",
    "\n",
    "def delete_hyperlinks(text):\n",
    "      '''\n",
    "      Only with http (so not e.g www.cna.org), but could add easily\n",
    "      Note if hyperlink breaks accross a page, it misses it and leaves long messy tokens\n",
    "      These should somehow be dealt with\n",
    "      '''\n",
    "      #cleaned_text = re.sub(r\"http\\S+\", \"\", text)\n",
    "      cleaned_text = re.sub(\"(?P<url>https?://[^\\s]+)\", \"\", text)\n",
    "      return cleaned_text\n",
    "\n",
    "def remove_punctuation(txt):\n",
    "      special_punctuation = '：，,《。》“„:一・«»”“]'\n",
    "      final_punctuation = string.punctuation + special_punctuation\n",
    "      txt_nopunct = ''.join([c for c in txt if c not in final_punctuation])\n",
    "      \n",
    "      return txt_nopunct\n",
    "\n",
    "def lemmatization(texts, allowed_postags=['NOUN', 'ADJ', 'VERB', 'ADV']):\n",
    "      \"\"\"https://spacy.io/api/annotation\"\"\"\n",
    "      doc = nlp(\"\".join(texts)) #nlp(sent) #\" \".join(sent)) \n",
    "      texts_out = [token.lemma_ for token in doc if token.pos_ in allowed_postags or token.text in to_keep]\n",
    "      return texts_out\n",
    "\n",
    "def remove_stopwords(txt):\n",
    "      # add in anything else we need to remove, eg. for some analysis, any search tags would be dropped from text\n",
    "      new_stop_words = [] \n",
    "\n",
    "      lang = 'english'\n",
    "      stop_words = list(stopwords.words(lang))\n",
    "      final_stop_words = stop_words + new_stop_words\n",
    "\n",
    "      txt_nostops = [w for w in txt if not w in final_stop_words]\n",
    "      #txt_nostops = ' '.join([w for w in txt if not w in stop_words]) # Alternate\n",
    "      return txt_nostops\n",
    "\n",
    "def remove_numbers(txt):\n",
    "      '''\n",
    "      TO-DO Not checked as likely dropped for lemmatization, POS tagging\n",
    "      '''\n",
    "      result = ''.join([i for i in txt if not i.isdigit()])    \n",
    "      return result\n",
    "\n",
    "def get_tag(x):\n",
    "      '''\n",
    "      For ArXiv only, no implemented\n",
    "      '''\n",
    "      tag = x[0]['term']\n",
    "      # TO DO - scrape https://arxiv.org/category_taxonomy to translate codes to plain english\n",
    "      return tag\n",
    "\n",
    "def pre_process(df, action_col = 'text', filetype = 'csv', load = False):\n",
    "      if load == True:\n",
    "            if filetype == 'json':\n",
    "                  df = pd.read_json(DATA_PATH + load_file, convert_dates=True, lines=True, orient='records')\n",
    "            else:\n",
    "                  CONVERTERS = {'tags': eval, 'arxiv_primary_category': eval,\"published_parsed\": eval}\n",
    "                  df = pd.read_csv(OUTPUT_PATH + load_file, converters=CONVERTERS)\n",
    "      \n",
    "      df['cleaning'] = df[action_col].dropna().apply(lambda x: cleaning(x))\n",
    "\n",
    "      df['processing'] = df['cleaning'].dropna().apply(lambda x: lower_case(x))\n",
    "      \n",
    "      df['processing'] = df['processing'].dropna().apply(lambda x: delete_hyperlinks(x))\n",
    "\n",
    "      df['processing'] = df['processing'].dropna().apply(lambda x: remove_punctuation(x))\n",
    "\n",
    "      df['processing'] = df['processing'].dropna().apply(lambda x:  lemmatization(x, allowed_postags=['NOUN', 'ADJ', 'VERB', 'ADV']))\n",
    "\n",
    "      # move before lemmatization?\n",
    "      df['tokens'] = df['processing'].dropna().apply(lambda x:  remove_stopwords(x))\n",
    "      \n",
    "      df.drop(columns=['processing'], inplace=True)\n",
    "      \n",
    "      # Not needed, if used make a try-except clause\n",
    "      #df['category'] = df['tags'].dropna().apply(lambda x:  get_tag(x))\n",
    "            \n",
    "      return df"
   ]
  },
  {
   "cell_type": "code",
   "execution_count": 21,
   "metadata": {},
   "outputs": [],
   "source": [
    "nlp = spacy.load(\"en_core_web_sm\") # disable=['parser', 'ner']) ## if you need efficiency\n",
    "\n",
    "# TO-DO: Move to json and load \n",
    "# But first ? Do we need it? I recommend this be our search_terms...maybe, thus load here\n",
    "to_keep = []"
   ]
  },
  {
   "cell_type": "code",
   "execution_count": 22,
   "metadata": {},
   "outputs": [],
   "source": [
    "df = pre_process(df1, action_col = 'summary', filetype = 'csv', load = False)"
   ]
  },
  {
   "cell_type": "code",
   "execution_count": 23,
   "metadata": {},
   "outputs": [
    {
     "data": {
      "text/html": [
       "<div>\n",
       "<style scoped>\n",
       "    .dataframe tbody tr th:only-of-type {\n",
       "        vertical-align: middle;\n",
       "    }\n",
       "\n",
       "    .dataframe tbody tr th {\n",
       "        vertical-align: top;\n",
       "    }\n",
       "\n",
       "    .dataframe thead th {\n",
       "        text-align: right;\n",
       "    }\n",
       "</style>\n",
       "<table border=\"1\" class=\"dataframe\">\n",
       "  <thead>\n",
       "    <tr style=\"text-align: right;\">\n",
       "      <th></th>\n",
       "      <th>Unnamed: 0</th>\n",
       "      <th>id</th>\n",
       "      <th>guidislink</th>\n",
       "      <th>link</th>\n",
       "      <th>updated</th>\n",
       "      <th>updated_parsed</th>\n",
       "      <th>published</th>\n",
       "      <th>published_parsed</th>\n",
       "      <th>title</th>\n",
       "      <th>title_detail</th>\n",
       "      <th>...</th>\n",
       "      <th>links</th>\n",
       "      <th>arxiv_primary_category</th>\n",
       "      <th>tags</th>\n",
       "      <th>arxiv_doi</th>\n",
       "      <th>arxiv_journal_ref</th>\n",
       "      <th>arxiv_affiliation</th>\n",
       "      <th>search_term</th>\n",
       "      <th>label</th>\n",
       "      <th>cleaning</th>\n",
       "      <th>tokens</th>\n",
       "    </tr>\n",
       "  </thead>\n",
       "  <tbody>\n",
       "    <tr>\n",
       "      <th>0</th>\n",
       "      <td>0</td>\n",
       "      <td>http://arxiv.org/abs/2204.02287v1</td>\n",
       "      <td>True</td>\n",
       "      <td>http://arxiv.org/abs/2204.02287v1</td>\n",
       "      <td>2022-04-05T15:33:45Z</td>\n",
       "      <td>[2022, 4, 5, 15, 33, 45, 1, 95, 0]</td>\n",
       "      <td>2022-04-05T15:33:45Z</td>\n",
       "      <td>[2022, 4, 5, 15, 33, 45, 1, 95, 0]</td>\n",
       "      <td>Rethinking Visual Geo-localization for Large-S...</td>\n",
       "      <td>{'type': 'text/plain', 'language': None, 'base...</td>\n",
       "      <td>...</td>\n",
       "      <td>[{'href': 'http://arxiv.org/abs/2204.02287v1',...</td>\n",
       "      <td>{'term': 'cs.CV', 'scheme': 'http://arxiv.org/...</td>\n",
       "      <td>[{'term': 'cs.CV', 'scheme': 'http://arxiv.org...</td>\n",
       "      <td>NaN</td>\n",
       "      <td>NaN</td>\n",
       "      <td>NaN</td>\n",
       "      <td>Fake News</td>\n",
       "      <td>0.0</td>\n",
       "      <td>Visual Geo-localization (VG) is the task of es...</td>\n",
       "      <td>[visual, geolocalization, task, estimate, posi...</td>\n",
       "    </tr>\n",
       "  </tbody>\n",
       "</table>\n",
       "<p>1 rows × 26 columns</p>\n",
       "</div>"
      ],
      "text/plain": [
       "   Unnamed: 0                                 id  guidislink  \\\n",
       "0           0  http://arxiv.org/abs/2204.02287v1        True   \n",
       "\n",
       "                                link               updated  \\\n",
       "0  http://arxiv.org/abs/2204.02287v1  2022-04-05T15:33:45Z   \n",
       "\n",
       "                       updated_parsed             published  \\\n",
       "0  [2022, 4, 5, 15, 33, 45, 1, 95, 0]  2022-04-05T15:33:45Z   \n",
       "\n",
       "                     published_parsed  \\\n",
       "0  [2022, 4, 5, 15, 33, 45, 1, 95, 0]   \n",
       "\n",
       "                                               title  \\\n",
       "0  Rethinking Visual Geo-localization for Large-S...   \n",
       "\n",
       "                                        title_detail  ...  \\\n",
       "0  {'type': 'text/plain', 'language': None, 'base...  ...   \n",
       "\n",
       "                                               links  \\\n",
       "0  [{'href': 'http://arxiv.org/abs/2204.02287v1',...   \n",
       "\n",
       "                              arxiv_primary_category  \\\n",
       "0  {'term': 'cs.CV', 'scheme': 'http://arxiv.org/...   \n",
       "\n",
       "                                                tags arxiv_doi  \\\n",
       "0  [{'term': 'cs.CV', 'scheme': 'http://arxiv.org...       NaN   \n",
       "\n",
       "  arxiv_journal_ref arxiv_affiliation search_term label  \\\n",
       "0               NaN               NaN   Fake News   0.0   \n",
       "\n",
       "                                            cleaning  \\\n",
       "0  Visual Geo-localization (VG) is the task of es...   \n",
       "\n",
       "                                              tokens  \n",
       "0  [visual, geolocalization, task, estimate, posi...  \n",
       "\n",
       "[1 rows x 26 columns]"
      ]
     },
     "execution_count": 23,
     "metadata": {},
     "output_type": "execute_result"
    }
   ],
   "source": [
    "df.head(1)"
   ]
  },
  {
   "cell_type": "code",
   "execution_count": 24,
   "metadata": {},
   "outputs": [],
   "source": [
    "df = df[df.label != 99]"
   ]
  },
  {
   "cell_type": "code",
   "execution_count": 49,
   "metadata": {},
   "outputs": [
    {
     "data": {
      "text/plain": [
       "425"
      ]
     },
     "execution_count": 49,
     "metadata": {},
     "output_type": "execute_result"
    }
   ],
   "source": [
    "len(df)"
   ]
  },
  {
   "cell_type": "code",
   "execution_count": 46,
   "metadata": {},
   "outputs": [
    {
     "name": "stderr",
     "output_type": "stream",
     "text": [
      "/tmp/ipykernel_56003/468644561.py:1: SettingWithCopyWarning: \n",
      "A value is trying to be set on a copy of a slice from a DataFrame\n",
      "\n",
      "See the caveats in the documentation: https://pandas.pydata.org/pandas-docs/stable/user_guide/indexing.html#returning-a-view-versus-a-copy\n",
      "  df.dropna(axis=0, subset='label', inplace=True)\n"
     ]
    }
   ],
   "source": [
    "df.dropna(axis=0, subset='label', inplace=True)"
   ]
  },
  {
   "cell_type": "code",
   "execution_count": 47,
   "metadata": {},
   "outputs": [
    {
     "data": {
      "text/plain": [
       "0.0    260\n",
       "1.0    165\n",
       "Name: label, dtype: int64"
      ]
     },
     "execution_count": 47,
     "metadata": {},
     "output_type": "execute_result"
    }
   ],
   "source": [
    "df.label.value_counts() "
   ]
  },
  {
   "cell_type": "code",
   "execution_count": 26,
   "metadata": {},
   "outputs": [],
   "source": [
    "def join_tokens(txt):\n",
    "        x = ' '.join(txt)\n",
    "        #x = [token.split('/')[0] for token in x] # use when we need lists with just these!\n",
    "        return x"
   ]
  },
  {
   "cell_type": "code",
   "execution_count": 27,
   "metadata": {},
   "outputs": [
    {
     "name": "stderr",
     "output_type": "stream",
     "text": [
      "/tmp/ipykernel_56003/748851023.py:1: SettingWithCopyWarning: \n",
      "A value is trying to be set on a copy of a slice from a DataFrame.\n",
      "Try using .loc[row_indexer,col_indexer] = value instead\n",
      "\n",
      "See the caveats in the documentation: https://pandas.pydata.org/pandas-docs/stable/user_guide/indexing.html#returning-a-view-versus-a-copy\n",
      "  df['tokens_merged'] = df['tokens'].apply(lambda x: join_tokens(x))\n"
     ]
    }
   ],
   "source": [
    "df['tokens_merged'] = df['tokens'].apply(lambda x: join_tokens(x))\n"
   ]
  },
  {
   "cell_type": "markdown",
   "metadata": {},
   "source": [
    "# Prep test data"
   ]
  },
  {
   "cell_type": "code",
   "execution_count": 36,
   "metadata": {},
   "outputs": [],
   "source": [
    "df1['key'] = 1 # about deepfakes\n",
    "df2['key'] = 0 # general disinformation"
   ]
  },
  {
   "cell_type": "code",
   "execution_count": 68,
   "metadata": {},
   "outputs": [
    {
     "name": "stdout",
     "output_type": "stream",
     "text": [
      "660\n"
     ]
    }
   ],
   "source": [
    "df = pd.concat([df1, df2])\n",
    "df.reset_index(inplace=True, drop=True)\n",
    "print(len(df))"
   ]
  },
  {
   "cell_type": "code",
   "execution_count": 69,
   "metadata": {},
   "outputs": [],
   "source": [
    "# sklearn irrc also has a function for this with randomization\n",
    "def truncate(df, column, min_samples):\n",
    "      '''Undersamples classes with more the the given min_samples\n",
    "      '''\n",
    "      df = df[df[column].map(df[column].value_counts()) >= min_samples]\n",
    "      gb = df.groupby([column])\n",
    "      blocks = [data.sample(n=min_samples) for _,data in gb]\n",
    "      df = pd.concat(blocks)\n",
    "      return df"
   ]
  },
  {
   "cell_type": "code",
   "execution_count": 70,
   "metadata": {},
   "outputs": [
    {
     "data": {
      "text/plain": [
       "1    438\n",
       "0    222\n",
       "Name: key, dtype: int64"
      ]
     },
     "execution_count": 70,
     "metadata": {},
     "output_type": "execute_result"
    }
   ],
   "source": [
    "df.key.value_counts()"
   ]
  },
  {
   "cell_type": "code",
   "execution_count": 71,
   "metadata": {},
   "outputs": [],
   "source": [
    "df = truncate(df, 'key', 222)"
   ]
  },
  {
   "cell_type": "code",
   "execution_count": 41,
   "metadata": {},
   "outputs": [
    {
     "ename": "AttributeError",
     "evalue": "'DataFrame' object has no attribute 'key'",
     "output_type": "error",
     "traceback": [
      "\u001b[0;31m---------------------------------------------------------------------------\u001b[0m",
      "\u001b[0;31mAttributeError\u001b[0m                            Traceback (most recent call last)",
      "Input \u001b[0;32mIn [41]\u001b[0m, in \u001b[0;36m<cell line: 1>\u001b[0;34m()\u001b[0m\n\u001b[0;32m----> 1\u001b[0m \u001b[43mdf\u001b[49m\u001b[38;5;241;43m.\u001b[39;49m\u001b[43mkey\u001b[49m\u001b[38;5;241m.\u001b[39mvalue_counts()\n",
      "File \u001b[0;32m~/Documents/GitHub/disinfo_radar_development/dri_venv/lib/python3.9/site-packages/pandas/core/generic.py:5583\u001b[0m, in \u001b[0;36mNDFrame.__getattr__\u001b[0;34m(self, name)\u001b[0m\n\u001b[1;32m   5576\u001b[0m \u001b[38;5;28;01mif\u001b[39;00m (\n\u001b[1;32m   5577\u001b[0m     name \u001b[38;5;129;01mnot\u001b[39;00m \u001b[38;5;129;01min\u001b[39;00m \u001b[38;5;28mself\u001b[39m\u001b[38;5;241m.\u001b[39m_internal_names_set\n\u001b[1;32m   5578\u001b[0m     \u001b[38;5;129;01mand\u001b[39;00m name \u001b[38;5;129;01mnot\u001b[39;00m \u001b[38;5;129;01min\u001b[39;00m \u001b[38;5;28mself\u001b[39m\u001b[38;5;241m.\u001b[39m_metadata\n\u001b[1;32m   5579\u001b[0m     \u001b[38;5;129;01mand\u001b[39;00m name \u001b[38;5;129;01mnot\u001b[39;00m \u001b[38;5;129;01min\u001b[39;00m \u001b[38;5;28mself\u001b[39m\u001b[38;5;241m.\u001b[39m_accessors\n\u001b[1;32m   5580\u001b[0m     \u001b[38;5;129;01mand\u001b[39;00m \u001b[38;5;28mself\u001b[39m\u001b[38;5;241m.\u001b[39m_info_axis\u001b[38;5;241m.\u001b[39m_can_hold_identifiers_and_holds_name(name)\n\u001b[1;32m   5581\u001b[0m ):\n\u001b[1;32m   5582\u001b[0m     \u001b[38;5;28;01mreturn\u001b[39;00m \u001b[38;5;28mself\u001b[39m[name]\n\u001b[0;32m-> 5583\u001b[0m \u001b[38;5;28;01mreturn\u001b[39;00m \u001b[38;5;28;43mobject\u001b[39;49m\u001b[38;5;241;43m.\u001b[39;49m\u001b[38;5;21;43m__getattribute__\u001b[39;49m\u001b[43m(\u001b[49m\u001b[38;5;28;43mself\u001b[39;49m\u001b[43m,\u001b[49m\u001b[43m \u001b[49m\u001b[43mname\u001b[49m\u001b[43m)\u001b[49m\n",
      "\u001b[0;31mAttributeError\u001b[0m: 'DataFrame' object has no attribute 'key'"
     ]
    }
   ],
   "source": [
    "df.key.value_counts()"
   ]
  },
  {
   "cell_type": "code",
   "execution_count": 74,
   "metadata": {},
   "outputs": [],
   "source": [
    "def join_tokens(txt):\n",
    "        x = ' '.join(txt)\n",
    "        #x = [token.split('/')[0] for token in x] # use when we need lists with just these!\n",
    "        return x"
   ]
  },
  {
   "cell_type": "code",
   "execution_count": 75,
   "metadata": {},
   "outputs": [],
   "source": [
    "df['tokens_merged'] = df['tokens'].apply(lambda x: join_tokens(x))\n"
   ]
  },
  {
   "cell_type": "code",
   "execution_count": 76,
   "metadata": {},
   "outputs": [
    {
     "data": {
      "text/plain": [
       "639    image forensic increasingly relevant problem p...\n",
       "445    generative adversarial network lead generation...\n",
       "449    recent year social medium enable user expose m...\n",
       "587    spread disinformation consider big threat soci...\n",
       "589    nowadays fake news heavily discuss public poli...\n",
       "                             ...                        \n",
       "402    work use adversarial perturbation enhance deep...\n",
       "167    work develop efficient disruption blackbox ima...\n",
       "251    pretraine encoder generalpurpose feature extra...\n",
       "84     rapid advance deep generative model past year ...\n",
       "395    terrifying phenomenon nowadays deepfake possib...\n",
       "Name: tokens_merged, Length: 444, dtype: object"
      ]
     },
     "execution_count": 76,
     "metadata": {},
     "output_type": "execute_result"
    }
   ],
   "source": [
    "df['tokens_merged'] # note: '-' punctuation needs a space!"
   ]
  },
  {
   "cell_type": "markdown",
   "metadata": {},
   "source": [
    "# Vectorizing"
   ]
  },
  {
   "cell_type": "markdown",
   "metadata": {},
   "source": [
    "### CountVec"
   ]
  },
  {
   "cell_type": "code",
   "execution_count": 50,
   "metadata": {},
   "outputs": [
    {
     "data": {
      "text/plain": [
       "False    425\n",
       "Name: tokens_merged, dtype: int64"
      ]
     },
     "execution_count": 50,
     "metadata": {},
     "output_type": "execute_result"
    }
   ],
   "source": [
    "df.tokens_merged.isna().value_counts()"
   ]
  },
  {
   "cell_type": "code",
   "execution_count": 51,
   "metadata": {},
   "outputs": [
    {
     "data": {
      "text/plain": [
       "False    425\n",
       "Name: label, dtype: int64"
      ]
     },
     "execution_count": 51,
     "metadata": {},
     "output_type": "execute_result"
    }
   ],
   "source": [
    "df.label.isna().value_counts()"
   ]
  },
  {
   "cell_type": "code",
   "execution_count": 52,
   "metadata": {},
   "outputs": [],
   "source": [
    "\n",
    "x = df['tokens_merged'].values\n",
    "#y = df['key'].values\n",
    "y = df['label'].values\n",
    "\n",
    "x_train, x_test, y_train, y_test = train_test_split(x, y, test_size=0.25)\n"
   ]
  },
  {
   "cell_type": "code",
   "execution_count": 57,
   "metadata": {},
   "outputs": [
    {
     "data": {
      "text/plain": [
       "<318x5246 sparse matrix of type '<class 'numpy.int64'>'\n",
       "\twith 24579 stored elements in Compressed Sparse Row format>"
      ]
     },
     "execution_count": 57,
     "metadata": {},
     "output_type": "execute_result"
    }
   ],
   "source": [
    "\n",
    "vectorizer = CountVectorizer()\n",
    "fit_vec = vectorizer.fit(x_train)\n",
    "\n",
    "X_train = fit_vec.transform(x_train)\n",
    "X_test  = fit_vec.transform(x_test)\n",
    "X_train"
   ]
  },
  {
   "cell_type": "code",
   "execution_count": 59,
   "metadata": {},
   "outputs": [],
   "source": [
    "import joblib"
   ]
  },
  {
   "cell_type": "code",
   "execution_count": 60,
   "metadata": {},
   "outputs": [
    {
     "data": {
      "text/plain": [
       "['../data/models/test_vectorizer.pkl']"
      ]
     },
     "execution_count": 60,
     "metadata": {},
     "output_type": "execute_result"
    }
   ],
   "source": [
    "#save vectorizer\n",
    "\n",
    "joblib.dump(fit_vec, \"../data/models/test_vectorizer.pkl\")"
   ]
  },
  {
   "cell_type": "markdown",
   "metadata": {},
   "source": [
    "### TFIDF"
   ]
  },
  {
   "cell_type": "code",
   "execution_count": 54,
   "metadata": {},
   "outputs": [],
   "source": [
    "## To do"
   ]
  },
  {
   "cell_type": "markdown",
   "metadata": {},
   "source": [
    "# Base model: Logistic regression"
   ]
  },
  {
   "cell_type": "code",
   "execution_count": 56,
   "metadata": {},
   "outputs": [
    {
     "name": "stdout",
     "output_type": "stream",
     "text": [
      "Accuracy: 0.9158878504672897\n"
     ]
    }
   ],
   "source": [
    "classifier = LogisticRegression()\n",
    "clf = classifier.fit(X_train, y_train)\n",
    "score = clf.score(X_test, y_test)\n",
    "\n",
    "print(\"Accuracy:\", score)"
   ]
  },
  {
   "cell_type": "code",
   "execution_count": 61,
   "metadata": {},
   "outputs": [
    {
     "data": {
      "text/plain": [
       "['../data/models/test_model.pkl']"
      ]
     },
     "execution_count": 61,
     "metadata": {},
     "output_type": "execute_result"
    }
   ],
   "source": [
    "#save model\n",
    "joblib.dump(clf, \"../data/models/test_model.pkl\")"
   ]
  },
  {
   "cell_type": "code",
   "execution_count": 81,
   "metadata": {},
   "outputs": [],
   "source": [
    "# add y_pred for misclassified"
   ]
  },
  {
   "cell_type": "markdown",
   "metadata": {},
   "source": [
    "# Keras Sequential"
   ]
  },
  {
   "cell_type": "code",
   "execution_count": 85,
   "metadata": {},
   "outputs": [],
   "source": [
    "from keras.models import Sequential\n",
    "from keras import layers\n",
    "from keras.backend import clear_session"
   ]
  },
  {
   "cell_type": "code",
   "execution_count": null,
   "metadata": {},
   "outputs": [],
   "source": [
    "clear_session()"
   ]
  },
  {
   "cell_type": "code",
   "execution_count": 86,
   "metadata": {},
   "outputs": [
    {
     "data": {
      "text/plain": [
       "4267"
      ]
     },
     "execution_count": 86,
     "metadata": {},
     "output_type": "execute_result"
    }
   ],
   "source": [
    "input_dim = X_train.shape[1]  # Number of features\n",
    "\n",
    "input_dim"
   ]
  },
  {
   "cell_type": "code",
   "execution_count": 87,
   "metadata": {},
   "outputs": [
    {
     "name": "stderr",
     "output_type": "stream",
     "text": [
      "2022-04-06 14:23:10.493236: I tensorflow/stream_executor/cuda/cuda_gpu_executor.cc:936] successful NUMA node read from SysFS had negative value (-1), but there must be at least one NUMA node, so returning NUMA node zero\n",
      "2022-04-06 14:23:10.596300: I tensorflow/stream_executor/cuda/cuda_gpu_executor.cc:936] successful NUMA node read from SysFS had negative value (-1), but there must be at least one NUMA node, so returning NUMA node zero\n",
      "2022-04-06 14:23:10.596727: I tensorflow/stream_executor/cuda/cuda_gpu_executor.cc:936] successful NUMA node read from SysFS had negative value (-1), but there must be at least one NUMA node, so returning NUMA node zero\n",
      "2022-04-06 14:23:10.597942: I tensorflow/core/platform/cpu_feature_guard.cc:151] This TensorFlow binary is optimized with oneAPI Deep Neural Network Library (oneDNN) to use the following CPU instructions in performance-critical operations:  AVX2 FMA\n",
      "To enable them in other operations, rebuild TensorFlow with the appropriate compiler flags.\n",
      "2022-04-06 14:23:10.598862: I tensorflow/stream_executor/cuda/cuda_gpu_executor.cc:936] successful NUMA node read from SysFS had negative value (-1), but there must be at least one NUMA node, so returning NUMA node zero\n",
      "2022-04-06 14:23:10.599229: I tensorflow/stream_executor/cuda/cuda_gpu_executor.cc:936] successful NUMA node read from SysFS had negative value (-1), but there must be at least one NUMA node, so returning NUMA node zero\n",
      "2022-04-06 14:23:10.599564: I tensorflow/stream_executor/cuda/cuda_gpu_executor.cc:936] successful NUMA node read from SysFS had negative value (-1), but there must be at least one NUMA node, so returning NUMA node zero\n",
      "2022-04-06 14:23:10.975640: I tensorflow/stream_executor/cuda/cuda_gpu_executor.cc:936] successful NUMA node read from SysFS had negative value (-1), but there must be at least one NUMA node, so returning NUMA node zero\n",
      "2022-04-06 14:23:10.975979: I tensorflow/stream_executor/cuda/cuda_gpu_executor.cc:936] successful NUMA node read from SysFS had negative value (-1), but there must be at least one NUMA node, so returning NUMA node zero\n",
      "2022-04-06 14:23:10.976278: I tensorflow/stream_executor/cuda/cuda_gpu_executor.cc:936] successful NUMA node read from SysFS had negative value (-1), but there must be at least one NUMA node, so returning NUMA node zero\n",
      "2022-04-06 14:23:10.976565: I tensorflow/core/common_runtime/gpu/gpu_device.cc:1525] Created device /job:localhost/replica:0/task:0/device:GPU:0 with 4784 MB memory:  -> device: 0, name: NVIDIA GeForce RTX 2070 SUPER, pci bus id: 0000:0a:00.0, compute capability: 7.5\n"
     ]
    }
   ],
   "source": [
    "model = Sequential()\n",
    "\n",
    "model.add(layers.Dense(10, input_dim=input_dim, activation='relu'))\n",
    "model.add(layers.Dense(1, activation='sigmoid'))"
   ]
  },
  {
   "cell_type": "code",
   "execution_count": 88,
   "metadata": {},
   "outputs": [
    {
     "name": "stdout",
     "output_type": "stream",
     "text": [
      "Model: \"sequential\"\n",
      "_________________________________________________________________\n",
      " Layer (type)                Output Shape              Param #   \n",
      "=================================================================\n",
      " dense (Dense)               (None, 10)                42680     \n",
      "                                                                 \n",
      " dense_1 (Dense)             (None, 1)                 11        \n",
      "                                                                 \n",
      "=================================================================\n",
      "Total params: 42,691\n",
      "Trainable params: 42,691\n",
      "Non-trainable params: 0\n",
      "_________________________________________________________________\n"
     ]
    }
   ],
   "source": [
    "model.compile(loss='binary_crossentropy', \n",
    "              optimizer='adam', \n",
    "              metrics=['accuracy'])\n",
    "              \n",
    "model.summary()\n"
   ]
  },
  {
   "cell_type": "code",
   "execution_count": 89,
   "metadata": {},
   "outputs": [
    {
     "name": "stderr",
     "output_type": "stream",
     "text": [
      "/home/jesselehrke/Documents/GitHub/disinfo_radar_development/dri_venv/lib/python3.9/site-packages/tensorflow/python/framework/indexed_slices.py:444: UserWarning: Converting sparse IndexedSlices(IndexedSlices(indices=Tensor(\"gradient_tape/sequential/dense/embedding_lookup_sparse/Reshape_1:0\", shape=(None,), dtype=int32), values=Tensor(\"gradient_tape/sequential/dense/embedding_lookup_sparse/Reshape:0\", shape=(None, 10), dtype=float32), dense_shape=Tensor(\"gradient_tape/sequential/dense/embedding_lookup_sparse/Cast:0\", shape=(2,), dtype=int32))) to a dense Tensor of unknown shape. This may consume a large amount of memory.\n",
      "  warnings.warn(\n"
     ]
    }
   ],
   "source": [
    "history = model.fit(X_train, y_train,\n",
    "                    epochs=100,\n",
    "                    verbose=True,\n",
    "                    validation_data=(X_test, y_test),\n",
    "                    batch_size=10) # increase for not test-data"
   ]
  },
  {
   "cell_type": "code",
   "execution_count": null,
   "metadata": {},
   "outputs": [],
   "source": [
    "#clear_session()"
   ]
  },
  {
   "cell_type": "code",
   "execution_count": 99,
   "metadata": {},
   "outputs": [
    {
     "name": "stdout",
     "output_type": "stream",
     "text": [
      "Train Accuracy: 0.9850\n",
      "Test Accuracy:  0.9640\n"
     ]
    }
   ],
   "source": [
    "loss, accuracy = model.evaluate(X_train, y_train, verbose=False)\n",
    "print(\"Train Accuracy: {:.4f}\".format(accuracy))\n",
    "\n",
    "loss, accuracy = model.evaluate(X_test, y_test, verbose=False)\n",
    "print(\"Test Accuracy:  {:.4f}\".format(accuracy))"
   ]
  },
  {
   "cell_type": "code",
   "execution_count": 96,
   "metadata": {},
   "outputs": [
    {
     "data": {
      "text/plain": [
       "dict_keys(['loss', 'accuracy', 'val_loss', 'val_accuracy'])"
      ]
     },
     "execution_count": 96,
     "metadata": {},
     "output_type": "execute_result"
    }
   ],
   "source": [
    "#history.history.keys()"
   ]
  },
  {
   "cell_type": "code",
   "execution_count": 98,
   "metadata": {},
   "outputs": [
    {
     "data": {
      "image/png": "[encoded data removed]",
      "text/plain": [
       "<Figure size 864x360 with 2 Axes>"
      ]
     },
     "metadata": {},
     "output_type": "display_data"
    }
   ],
   "source": [
    "plot_history(history)"
   ]
  },
  {
   "cell_type": "code",
   "execution_count": 123,
   "metadata": {},
   "outputs": [],
   "source": [
    "clear_session()"
   ]
  },
  {
   "cell_type": "markdown",
   "metadata": {},
   "source": [
    "# Word embeddings"
   ]
  },
  {
   "cell_type": "code",
   "execution_count": 117,
   "metadata": {},
   "outputs": [],
   "source": [
    "from keras.preprocessing.text import Tokenizer\n",
    "from keras.preprocessing.sequence import pad_sequences\n"
   ]
  },
  {
   "cell_type": "code",
   "execution_count": 110,
   "metadata": {},
   "outputs": [
    {
     "name": "stdout",
     "output_type": "stream",
     "text": [
      "4271\n",
      "recent year disinformation\n",
      "[51, 174, 9]\n"
     ]
    }
   ],
   "source": [
    "# can be done with 'tokens' column also, but since we alread did train-test split, using what we already have\n",
    "\n",
    "tokenizer = Tokenizer() # num_words=5000\n",
    "tokenizer.fit_on_texts(x_train)\n",
    "\n",
    "X_train = tokenizer.texts_to_sequences(x_train)\n",
    "X_test = tokenizer.texts_to_sequences(x_test)\n",
    "\n",
    "vocab_size = len(tokenizer.word_index) + 1  # reserved 0 index\n",
    "\n",
    "print(vocab_size)\n",
    "\n",
    "# Check output, note: index will vary, this is not critical\n",
    "print(x_train[2][:26])\n",
    "print(X_train[2][:3])"
   ]
  },
  {
   "cell_type": "code",
   "execution_count": 119,
   "metadata": {},
   "outputs": [
    {
     "name": "stdout",
     "output_type": "stream",
     "text": [
      "vocab_size\n",
      "4271\n"
     ]
    }
   ],
   "source": [
    "print('vocab_size')\n",
    "print(vocab_size)\n"
   ]
  },
  {
   "cell_type": "code",
   "execution_count": 120,
   "metadata": {},
   "outputs": [
    {
     "name": "stdout",
     "output_type": "stream",
     "text": [
      "longest_text\n",
      "173\n"
     ]
    }
   ],
   "source": [
    "longest_text = len(max(X_train, key=len))\n",
    "print('longest_text')\n",
    "print(longest_text)"
   ]
  },
  {
   "cell_type": "code",
   "execution_count": 118,
   "metadata": {},
   "outputs": [
    {
     "name": "stdout",
     "output_type": "stream",
     "text": [
      "[  80    9 1841   14   13  174  684  103  212   67  361   80 1842  197\n",
      " 1843   39  636   40  152  122  443   87  314  505  474  505  141  444\n",
      "  189 1102  198 1103  110  142  294  865  866  546 1104  362  546 2591\n",
      "  547  101 2592  156   14   13  213 2593  506 1105 1483   15    3   18\n",
      " 1105  117  103  182   47 2594   61   86    3   14  199  117   58  200\n",
      "  161  772   94  583  475  416  233   38   44 1844   25  113   29  773\n",
      " 1106  584 1252 1484   29   41 2595  867  363  868  330  685 1253 2596\n",
      "   41 1845 2597  868  277 1846    0    0    0    0    0    0    0    0\n",
      "    0    0    0    0    0    0    0    0    0    0    0    0    0    0\n",
      "    0    0    0    0    0    0    0    0    0    0    0    0    0    0\n",
      "    0    0    0    0    0    0    0    0    0    0    0    0    0    0\n",
      "    0    0    0    0    0    0    0    0    0    0    0    0    0    0\n",
      "    0    0    0    0    0]\n"
     ]
    }
   ],
   "source": [
    "maxlen = longest_text\n",
    "\n",
    "X_train = pad_sequences(X_train, padding='post', maxlen=maxlen)\n",
    "X_test = pad_sequences(X_test, padding='post', maxlen=maxlen)\n",
    "\n",
    "# Check output (see end of list)\n",
    "print(X_train[0, :])\n"
   ]
  },
  {
   "cell_type": "markdown",
   "metadata": {},
   "source": [
    "# Keras with Embedding"
   ]
  },
  {
   "cell_type": "code",
   "execution_count": 138,
   "metadata": {},
   "outputs": [
    {
     "name": "stdout",
     "output_type": "stream",
     "text": [
      "Model: \"sequential\"\n",
      "_________________________________________________________________\n",
      " Layer (type)                Output Shape              Param #   \n",
      "=================================================================\n",
      " embedding (Embedding)       (None, 173, 50)           213550    \n",
      "                                                                 \n",
      " global_max_pooling1d (Globa  (None, 50)               0         \n",
      " lMaxPooling1D)                                                  \n",
      "                                                                 \n",
      " dense (Dense)               (None, 10)                510       \n",
      "                                                                 \n",
      " dense_1 (Dense)             (None, 1)                 11        \n",
      "                                                                 \n",
      "=================================================================\n",
      "Total params: 214,071\n",
      "Trainable params: 214,071\n",
      "Non-trainable params: 0\n",
      "_________________________________________________________________\n"
     ]
    }
   ],
   "source": [
    "# Note maxpooling layer\n",
    "\n",
    "clear_session() # reset fit\n",
    "\n",
    "embedding_dim = 50\n",
    "\n",
    "model = Sequential()\n",
    "\n",
    "model.add(layers.Embedding(input_dim=vocab_size, \n",
    "                           output_dim=embedding_dim, \n",
    "                           input_length=maxlen))\n",
    "model.add(layers.GlobalMaxPool1D())\n",
    "model.add(layers.Dense(10, activation='relu'))\n",
    "model.add(layers.Dense(1, activation='sigmoid'))\n",
    "\n",
    "model.compile(optimizer='adam',\n",
    "              loss='binary_crossentropy',\n",
    "              metrics=['accuracy'])\n",
    "\n",
    "model.summary()\n"
   ]
  },
  {
   "cell_type": "code",
   "execution_count": 139,
   "metadata": {},
   "outputs": [
    {
     "name": "stdout",
     "output_type": "stream",
     "text": [
      "Epoch 1/50\n",
      "34/34 [==============================] - 0s 5ms/step - loss: 0.6897 - accuracy: 0.5646 - val_loss: 0.6827 - val_accuracy: 0.6306\n",
      "Epoch 2/50\n",
      "34/34 [==============================] - 0s 3ms/step - loss: 0.6705 - accuracy: 0.8468 - val_loss: 0.6601 - val_accuracy: 0.9009\n",
      "Epoch 3/50\n",
      "34/34 [==============================] - 0s 2ms/step - loss: 0.6311 - accuracy: 0.9339 - val_loss: 0.6023 - val_accuracy: 0.9550\n",
      "Epoch 4/50\n",
      "34/34 [==============================] - 0s 3ms/step - loss: 0.5404 - accuracy: 0.9730 - val_loss: 0.4938 - val_accuracy: 0.9640\n",
      "Epoch 5/50\n",
      "34/34 [==============================] - 0s 3ms/step - loss: 0.4089 - accuracy: 0.9760 - val_loss: 0.3629 - val_accuracy: 0.9640\n",
      "Epoch 6/50\n",
      "34/34 [==============================] - 0s 3ms/step - loss: 0.2768 - accuracy: 0.9820 - val_loss: 0.2493 - val_accuracy: 0.9730\n",
      "Epoch 7/50\n",
      "34/34 [==============================] - 0s 3ms/step - loss: 0.1814 - accuracy: 0.9820 - val_loss: 0.1718 - val_accuracy: 0.9730\n",
      "Epoch 8/50\n",
      "34/34 [==============================] - 0s 3ms/step - loss: 0.1237 - accuracy: 0.9820 - val_loss: 0.1258 - val_accuracy: 0.9820\n",
      "Epoch 9/50\n",
      "34/34 [==============================] - 0s 2ms/step - loss: 0.0918 - accuracy: 0.9820 - val_loss: 0.0993 - val_accuracy: 0.9820\n",
      "Epoch 10/50\n",
      "34/34 [==============================] - 0s 3ms/step - loss: 0.0726 - accuracy: 0.9820 - val_loss: 0.0819 - val_accuracy: 0.9820\n",
      "Epoch 11/50\n",
      "34/34 [==============================] - 0s 3ms/step - loss: 0.0604 - accuracy: 0.9820 - val_loss: 0.0695 - val_accuracy: 0.9820\n",
      "Epoch 12/50\n",
      "34/34 [==============================] - 0s 3ms/step - loss: 0.0529 - accuracy: 0.9820 - val_loss: 0.0612 - val_accuracy: 0.9820\n",
      "Epoch 13/50\n",
      "34/34 [==============================] - 0s 3ms/step - loss: 0.0469 - accuracy: 0.9850 - val_loss: 0.0548 - val_accuracy: 0.9820\n",
      "Epoch 14/50\n",
      "34/34 [==============================] - 0s 3ms/step - loss: 0.0429 - accuracy: 0.9850 - val_loss: 0.0500 - val_accuracy: 0.9910\n",
      "Epoch 15/50\n",
      "34/34 [==============================] - 0s 3ms/step - loss: 0.0394 - accuracy: 0.9850 - val_loss: 0.0452 - val_accuracy: 0.9910\n",
      "Epoch 16/50\n",
      "34/34 [==============================] - 0s 3ms/step - loss: 0.0375 - accuracy: 0.9850 - val_loss: 0.0416 - val_accuracy: 0.9910\n",
      "Epoch 17/50\n",
      "34/34 [==============================] - 0s 3ms/step - loss: 0.0351 - accuracy: 0.9820 - val_loss: 0.0387 - val_accuracy: 0.9910\n",
      "Epoch 18/50\n",
      "34/34 [==============================] - 0s 4ms/step - loss: 0.0342 - accuracy: 0.9850 - val_loss: 0.0376 - val_accuracy: 0.9910\n",
      "Epoch 19/50\n",
      "34/34 [==============================] - 0s 3ms/step - loss: 0.0327 - accuracy: 0.9820 - val_loss: 0.0347 - val_accuracy: 0.9910\n",
      "Epoch 20/50\n",
      "34/34 [==============================] - 0s 2ms/step - loss: 0.0323 - accuracy: 0.9820 - val_loss: 0.0330 - val_accuracy: 1.0000\n",
      "Epoch 21/50\n",
      "34/34 [==============================] - 0s 2ms/step - loss: 0.0304 - accuracy: 0.9790 - val_loss: 0.0317 - val_accuracy: 1.0000\n",
      "Epoch 22/50\n",
      "34/34 [==============================] - 0s 2ms/step - loss: 0.0306 - accuracy: 0.9790 - val_loss: 0.0306 - val_accuracy: 1.0000\n",
      "Epoch 23/50\n",
      "34/34 [==============================] - 0s 3ms/step - loss: 0.0296 - accuracy: 0.9790 - val_loss: 0.0296 - val_accuracy: 0.9910\n",
      "Epoch 24/50\n",
      "34/34 [==============================] - 0s 2ms/step - loss: 0.0305 - accuracy: 0.9820 - val_loss: 0.0292 - val_accuracy: 0.9910\n",
      "Epoch 25/50\n",
      "34/34 [==============================] - 0s 2ms/step - loss: 0.0291 - accuracy: 0.9790 - val_loss: 0.0283 - val_accuracy: 1.0000\n",
      "Epoch 26/50\n",
      "34/34 [==============================] - 0s 3ms/step - loss: 0.0295 - accuracy: 0.9820 - val_loss: 0.0277 - val_accuracy: 1.0000\n",
      "Epoch 27/50\n",
      "34/34 [==============================] - 0s 2ms/step - loss: 0.0282 - accuracy: 0.9790 - val_loss: 0.0275 - val_accuracy: 0.9910\n",
      "Epoch 28/50\n",
      "34/34 [==============================] - 0s 2ms/step - loss: 0.0289 - accuracy: 0.9790 - val_loss: 0.0250 - val_accuracy: 1.0000\n",
      "Epoch 29/50\n",
      "34/34 [==============================] - 0s 3ms/step - loss: 0.0293 - accuracy: 0.9850 - val_loss: 0.0256 - val_accuracy: 0.9910\n",
      "Epoch 30/50\n",
      "34/34 [==============================] - 0s 2ms/step - loss: 0.0293 - accuracy: 0.9790 - val_loss: 0.0248 - val_accuracy: 1.0000\n",
      "Epoch 31/50\n",
      "34/34 [==============================] - 0s 2ms/step - loss: 0.0278 - accuracy: 0.9850 - val_loss: 0.0241 - val_accuracy: 0.9910\n",
      "Epoch 32/50\n",
      "34/34 [==============================] - 0s 2ms/step - loss: 0.0283 - accuracy: 0.9730 - val_loss: 0.0243 - val_accuracy: 0.9910\n",
      "Epoch 33/50\n",
      "34/34 [==============================] - 0s 2ms/step - loss: 0.0274 - accuracy: 0.9790 - val_loss: 0.0227 - val_accuracy: 1.0000\n",
      "Epoch 34/50\n",
      "34/34 [==============================] - 0s 2ms/step - loss: 0.0273 - accuracy: 0.9820 - val_loss: 0.0231 - val_accuracy: 0.9910\n",
      "Epoch 35/50\n",
      "34/34 [==============================] - 0s 2ms/step - loss: 0.0264 - accuracy: 0.9790 - val_loss: 0.0227 - val_accuracy: 0.9910\n",
      "Epoch 36/50\n",
      "34/34 [==============================] - 0s 2ms/step - loss: 0.0263 - accuracy: 0.9850 - val_loss: 0.0227 - val_accuracy: 0.9910\n",
      "Epoch 37/50\n",
      "34/34 [==============================] - 0s 3ms/step - loss: 0.0269 - accuracy: 0.9730 - val_loss: 0.0219 - val_accuracy: 0.9910\n",
      "Epoch 38/50\n",
      "34/34 [==============================] - 0s 2ms/step - loss: 0.0269 - accuracy: 0.9820 - val_loss: 0.0209 - val_accuracy: 1.0000\n",
      "Epoch 39/50\n",
      "34/34 [==============================] - 0s 2ms/step - loss: 0.0270 - accuracy: 0.9850 - val_loss: 0.0217 - val_accuracy: 0.9910\n",
      "Epoch 40/50\n",
      "34/34 [==============================] - 0s 2ms/step - loss: 0.0264 - accuracy: 0.9790 - val_loss: 0.0212 - val_accuracy: 0.9910\n",
      "Epoch 41/50\n",
      "34/34 [==============================] - 0s 3ms/step - loss: 0.0271 - accuracy: 0.9850 - val_loss: 0.0220 - val_accuracy: 0.9910\n",
      "Epoch 42/50\n",
      "34/34 [==============================] - 0s 3ms/step - loss: 0.0261 - accuracy: 0.9820 - val_loss: 0.0200 - val_accuracy: 1.0000\n",
      "Epoch 43/50\n",
      "34/34 [==============================] - 0s 3ms/step - loss: 0.0269 - accuracy: 0.9790 - val_loss: 0.0199 - val_accuracy: 0.9910\n",
      "Epoch 44/50\n",
      "34/34 [==============================] - 0s 3ms/step - loss: 0.0258 - accuracy: 0.9820 - val_loss: 0.0199 - val_accuracy: 1.0000\n",
      "Epoch 45/50\n",
      "34/34 [==============================] - 0s 2ms/step - loss: 0.0246 - accuracy: 0.9820 - val_loss: 0.0198 - val_accuracy: 0.9910\n",
      "Epoch 46/50\n",
      "34/34 [==============================] - 0s 3ms/step - loss: 0.0259 - accuracy: 0.9790 - val_loss: 0.0199 - val_accuracy: 0.9910\n",
      "Epoch 47/50\n",
      "34/34 [==============================] - 0s 3ms/step - loss: 0.0273 - accuracy: 0.9730 - val_loss: 0.0201 - val_accuracy: 0.9910\n",
      "Epoch 48/50\n",
      "34/34 [==============================] - 0s 3ms/step - loss: 0.0248 - accuracy: 0.9790 - val_loss: 0.0173 - val_accuracy: 1.0000\n",
      "Epoch 49/50\n",
      "34/34 [==============================] - 0s 3ms/step - loss: 0.0268 - accuracy: 0.9820 - val_loss: 0.0177 - val_accuracy: 1.0000\n",
      "Epoch 50/50\n",
      "34/34 [==============================] - 0s 2ms/step - loss: 0.0260 - accuracy: 0.9820 - val_loss: 0.0181 - val_accuracy: 1.0000\n"
     ]
    }
   ],
   "source": [
    "history = model.fit(X_train, y_train,\n",
    "                    epochs=50,\n",
    "                    verbose=True,\n",
    "                    validation_data=(X_test, y_test),\n",
    "                    batch_size=10) # increase for not test-data\n",
    "\n"
   ]
  },
  {
   "cell_type": "code",
   "execution_count": 140,
   "metadata": {},
   "outputs": [
    {
     "name": "stdout",
     "output_type": "stream",
     "text": [
      "Training Accuracy: 0.9850\n",
      "Testing Accuracy:  1.0000\n"
     ]
    },
    {
     "data": {
      "image/png": "[encoded data removed]",
      "text/plain": [
       "<Figure size 864x360 with 2 Axes>"
      ]
     },
     "metadata": {},
     "output_type": "display_data"
    }
   ],
   "source": [
    "loss, accuracy = model.evaluate(X_train, y_train, verbose=False)\n",
    "\n",
    "print(\"Training Accuracy: {:.4f}\".format(accuracy))\n",
    "loss, accuracy = model.evaluate(X_test, y_test, verbose=False)\n",
    "print(\"Testing Accuracy:  {:.4f}\".format(accuracy))\n",
    "\n",
    "plot_history(history)\n"
   ]
  },
  {
   "cell_type": "markdown",
   "metadata": {},
   "source": [
    "# CNN Model"
   ]
  },
  {
   "cell_type": "code",
   "execution_count": 239,
   "metadata": {},
   "outputs": [
    {
     "name": "stdout",
     "output_type": "stream",
     "text": [
      "Model: \"sequential\"\n",
      "_________________________________________________________________\n",
      " Layer (type)                Output Shape              Param #   \n",
      "=================================================================\n",
      " embedding (Embedding)       (None, 173, 50)           211050    \n",
      "                                                                 \n",
      " conv1d (Conv1D)             (None, 171, 64)           9664      \n",
      "                                                                 \n",
      " global_max_pooling1d (Globa  (None, 64)               0         \n",
      " lMaxPooling1D)                                                  \n",
      "                                                                 \n",
      " dense (Dense)               (None, 10)                650       \n",
      "                                                                 \n",
      " dense_1 (Dense)             (None, 1)                 11        \n",
      "                                                                 \n",
      "=================================================================\n",
      "Total params: 221,375\n",
      "Trainable params: 221,375\n",
      "Non-trainable params: 0\n",
      "_________________________________________________________________\n"
     ]
    }
   ],
   "source": [
    "clear_session() # reset fit\n",
    "\n",
    "embedding_dim = 50\n",
    "\n",
    "model = Sequential()\n",
    "\n",
    "model.add(layers.Embedding(vocab_size, embedding_dim, input_length=maxlen))\n",
    "model.add(layers.Conv1D(64, 3, activation='relu')) #128, 5\n",
    "\n",
    "#model.add(layers.MaxPooling1D(pool_size=16))\n",
    "#model.add(layers.Flatten())\n",
    "## Delete above 2 layers if below added\n",
    "model.add(layers.GlobalMaxPooling1D())\n",
    "        \n",
    "model.add(layers.Dense(10, activation='relu')) #10\n",
    "model.add(layers.Dense(1, activation='sigmoid'))\n",
    "\n",
    "#Adadelta #RMSProp also good for this use case but increase Epochs\n",
    "model.compile(optimizer='adam', \n",
    "              loss='binary_crossentropy',\n",
    "              metrics=['accuracy'])\n",
    "\n",
    "model.summary()\n",
    "\n",
    "\n",
    "# model.add(layers.LeakyReLU(alpha=.2)) #new\n",
    "\n",
    "# ##model.add(BatchNormalization())\n",
    "#  OR - NOT BOTH EVER!\n",
    "# #model.add(layers.Dropout(.3))\n"
   ]
  },
  {
   "cell_type": "code",
   "execution_count": 240,
   "metadata": {},
   "outputs": [
    {
     "name": "stdout",
     "output_type": "stream",
     "text": [
      "Epoch 1/20\n",
      "11/11 [==============================] - 1s 34ms/step - loss: 0.6892 - accuracy: 0.6456 - val_loss: 0.6797 - val_accuracy: 0.8559\n",
      "Epoch 2/20\n",
      "11/11 [==============================] - 0s 4ms/step - loss: 0.6570 - accuracy: 0.9850 - val_loss: 0.6568 - val_accuracy: 0.9189\n",
      "Epoch 3/20\n",
      "11/11 [==============================] - 0s 4ms/step - loss: 0.6174 - accuracy: 0.9910 - val_loss: 0.6188 - val_accuracy: 0.9640\n",
      "Epoch 4/20\n",
      "11/11 [==============================] - 0s 5ms/step - loss: 0.5552 - accuracy: 0.9880 - val_loss: 0.5456 - val_accuracy: 0.9820\n",
      "Epoch 5/20\n",
      "11/11 [==============================] - 0s 4ms/step - loss: 0.4669 - accuracy: 0.9820 - val_loss: 0.4343 - val_accuracy: 0.9910\n",
      "Epoch 6/20\n",
      "11/11 [==============================] - 0s 4ms/step - loss: 0.3496 - accuracy: 0.9820 - val_loss: 0.3054 - val_accuracy: 0.9820\n",
      "Epoch 7/20\n",
      "11/11 [==============================] - 0s 4ms/step - loss: 0.2278 - accuracy: 0.9820 - val_loss: 0.1907 - val_accuracy: 0.9820\n",
      "Epoch 8/20\n",
      "11/11 [==============================] - 0s 4ms/step - loss: 0.1324 - accuracy: 0.9880 - val_loss: 0.1225 - val_accuracy: 0.9730\n",
      "Epoch 9/20\n",
      "11/11 [==============================] - 0s 4ms/step - loss: 0.0773 - accuracy: 0.9940 - val_loss: 0.0998 - val_accuracy: 0.9640\n",
      "Epoch 10/20\n",
      "11/11 [==============================] - 0s 5ms/step - loss: 0.0496 - accuracy: 0.9910 - val_loss: 0.0864 - val_accuracy: 0.9640\n",
      "Epoch 11/20\n",
      "11/11 [==============================] - 0s 5ms/step - loss: 0.0354 - accuracy: 0.9910 - val_loss: 0.0920 - val_accuracy: 0.9640\n",
      "Epoch 12/20\n",
      "11/11 [==============================] - 0s 4ms/step - loss: 0.0278 - accuracy: 0.9970 - val_loss: 0.0800 - val_accuracy: 0.9640\n",
      "Epoch 13/20\n",
      "11/11 [==============================] - 0s 4ms/step - loss: 0.0224 - accuracy: 0.9940 - val_loss: 0.0885 - val_accuracy: 0.9640\n",
      "Epoch 14/20\n",
      "11/11 [==============================] - 0s 5ms/step - loss: 0.0184 - accuracy: 0.9970 - val_loss: 0.1058 - val_accuracy: 0.9640\n",
      "Epoch 15/20\n",
      "11/11 [==============================] - 0s 4ms/step - loss: 0.0159 - accuracy: 0.9970 - val_loss: 0.1080 - val_accuracy: 0.9640\n",
      "Epoch 16/20\n",
      "11/11 [==============================] - 0s 5ms/step - loss: 0.0139 - accuracy: 0.9970 - val_loss: 0.1131 - val_accuracy: 0.9640\n",
      "Epoch 17/20\n",
      "11/11 [==============================] - 0s 4ms/step - loss: 0.0132 - accuracy: 0.9970 - val_loss: 0.1115 - val_accuracy: 0.9640\n",
      "Epoch 18/20\n",
      "11/11 [==============================] - 0s 4ms/step - loss: 0.0115 - accuracy: 0.9970 - val_loss: 0.1210 - val_accuracy: 0.9640\n",
      "Epoch 19/20\n",
      "11/11 [==============================] - 0s 4ms/step - loss: 0.0113 - accuracy: 0.9970 - val_loss: 0.1205 - val_accuracy: 0.9640\n",
      "Epoch 20/20\n",
      "11/11 [==============================] - 0s 5ms/step - loss: 0.0102 - accuracy: 0.9970 - val_loss: 0.1322 - val_accuracy: 0.9640\n"
     ]
    }
   ],
   "source": [
    "history = model.fit(X_train, y_train,\n",
    "                    epochs=20, # naturally, more for more data\n",
    "                    verbose=True,\n",
    "                    validation_data=(X_test, y_test),\n",
    "                    batch_size=10) #32 por 64 for full data\n"
   ]
  },
  {
   "cell_type": "code",
   "execution_count": 241,
   "metadata": {},
   "outputs": [
    {
     "name": "stdout",
     "output_type": "stream",
     "text": [
      "Training Accuracy: 0.9970\n",
      "Testing Accuracy:  0.9640\n"
     ]
    },
    {
     "data": {
      "image/png": "[encoded data removed]",
      "text/plain": [
       "<Figure size 864x360 with 2 Axes>"
      ]
     },
     "metadata": {},
     "output_type": "display_data"
    }
   ],
   "source": [
    "loss, accuracy = model.evaluate(X_train, y_train, verbose=False)\n",
    "print(\"Training Accuracy: {:.4f}\".format(accuracy))\n",
    "loss, accuracy = model.evaluate(X_test, y_test, verbose=False)\n",
    "print(\"Testing Accuracy:  {:.4f}\".format(accuracy))\n",
    "plot_history(history)"
   ]
  },
  {
   "cell_type": "markdown",
   "metadata": {},
   "source": [
    "# CNN grid search\n",
    "All code here \"stolen\" - alteration in progress"
   ]
  },
  {
   "cell_type": "code",
   "execution_count": 213,
   "metadata": {},
   "outputs": [],
   "source": [
    "from keras.wrappers.scikit_learn import KerasClassifier\n",
    "from sklearn.model_selection import RandomizedSearchCV"
   ]
  },
  {
   "cell_type": "code",
   "execution_count": 246,
   "metadata": {},
   "outputs": [],
   "source": [
    "def create_model(num_filters, kernel_size, vocab_size, embedding_dim, maxlen):\n",
    "    model = Sequential()\n",
    "    model.add(layers.Embedding(vocab_size, embedding_dim, input_length=maxlen))\n",
    "    model.add(layers.Conv1D(num_filters, kernel_size, activation='relu'))\n",
    "    \n",
    "    #model.add(layers.MaxPooling1D(pool_size=16))\n",
    "    #model.add(layers.Flatten())\n",
    "    model.add(layers.GlobalMaxPooling1D())\n",
    "    \n",
    "    model.add(layers.Dense(10, activation='relu'))\n",
    "    model.add(layers.Dense(1, activation='sigmoid'))\n",
    "    model.compile(optimizer='adam',\n",
    "                  loss='binary_crossentropy',\n",
    "                  metrics=['accuracy'])\n",
    "    return model\n"
   ]
  },
  {
   "cell_type": "code",
   "execution_count": 247,
   "metadata": {},
   "outputs": [],
   "source": [
    "param_grid = dict(num_filters=[32, 64, 128],\n",
    "                  kernel_size=[3, 5, 7, 10],\n",
    "                  vocab_size=vocab_size, \n",
    "                  embedding_dim=[50, 100, 150],\n",
    "                  maxlen=longest_text)\n"
   ]
  },
  {
   "cell_type": "code",
   "execution_count": 250,
   "metadata": {},
   "outputs": [
    {
     "name": "stdout",
     "output_type": "stream",
     "text": [
      "Running grid search for data set : arxiv_deepfake.csv\n",
      "Fitting 4 folds for each of 5 candidates, totalling 20 fits\n"
     ]
    },
    {
     "name": "stderr",
     "output_type": "stream",
     "text": [
      "/tmp/ipykernel_8151/2247271055.py:39: DeprecationWarning: KerasClassifier is deprecated, use Sci-Keras (https://github.com/adriangb/scikeras) instead. See https://www.adriangb.com/scikeras/stable/migration.html for help migrating.\n",
      "  model = KerasClassifier(build_fn=create_model,\n"
     ]
    },
    {
     "name": "stdout",
     "output_type": "stream",
     "text": [
      "Running arxiv_deepfake.csv data set\n",
      "Best Accuracy : 0.9790\n",
      "{'vocab_size': 4221, 'num_filters': 64, 'maxlen': 173, 'kernel_size': 3, 'embedding_dim': 50}\n",
      "Test Accuracy : 0.9640\n",
      "\n",
      "\n"
     ]
    }
   ],
   "source": [
    "\n",
    "# Main settings\n",
    "epochs = 20\n",
    "embedding_dim = 50\n",
    "maxlen = longest_text\n",
    "output_file = 'output.txt'\n",
    "\n",
    "# Run grid search for each source ()\n",
    "#for source, frame in df.groupby('source'):\n",
    "print('Running grid search for data set :', filename)\n",
    "\n",
    "sentences = df['tokens_merged'].values\n",
    "y = df['key'].values\n",
    "\n",
    "# Train-test split\n",
    "sentences_train, sentences_test, y_train, y_test = train_test_split(\n",
    "    sentences, y, test_size=0.25, random_state=1000)\n",
    "\n",
    "# Tokenize words\n",
    "tokenizer = Tokenizer(num_words=5000)\n",
    "tokenizer.fit_on_texts(sentences_train)\n",
    "X_train = tokenizer.texts_to_sequences(sentences_train)\n",
    "X_test = tokenizer.texts_to_sequences(sentences_test)\n",
    "\n",
    "# Adding 1 because of reserved 0 index\n",
    "vocab_size = len(tokenizer.word_index) + 1\n",
    "\n",
    "# Pad sequences with zeros\n",
    "X_train = pad_sequences(X_train, padding='post', maxlen=maxlen)\n",
    "X_test = pad_sequences(X_test, padding='post', maxlen=maxlen)\n",
    "\n",
    "# Parameter grid for grid search\n",
    "\n",
    "param_grid = dict(num_filters=[32, 64, 128],\n",
    "                  kernel_size=[3, 5, 7, 10],\n",
    "                  vocab_size=[vocab_size], \n",
    "                  embedding_dim=[50, 100, 150],\n",
    "                  maxlen=[longest_text])\n",
    "\n",
    "model = KerasClassifier(build_fn=create_model,\n",
    "                        epochs=epochs, batch_size=10,\n",
    "                        verbose=False)\n",
    "grid = RandomizedSearchCV(estimator=model, param_distributions=param_grid,\n",
    "                            cv=4, verbose=1, n_iter=5)\n",
    "grid_result = grid.fit(X_train, y_train)\n",
    "\n",
    "# Evaluate testing set\n",
    "test_accuracy = grid.score(X_test, y_test)\n",
    "\n",
    "# Save and evaluate results\n",
    "# prompt = input(f'finished {source}; write to file and proceed? [y/n]')\n",
    "# if prompt.lower() not in {'y', 'true', 'yes'}:\n",
    "#     break\n",
    "\n",
    "with open(output_file, 'a') as f:\n",
    "    s = ('Running {} data set\\nBest Accuracy : '\n",
    "            '{:.4f}\\n{}\\nTest Accuracy : {:.4f}\\n\\n')\n",
    "    output_string = s.format(\n",
    "        filename,\n",
    "        grid_result.best_score_,\n",
    "        grid_result.best_params_,\n",
    "        test_accuracy)\n",
    "    print(output_string)\n",
    "    f.write(output_string)\n"
   ]
  },
  {
   "cell_type": "code",
   "execution_count": null,
   "metadata": {},
   "outputs": [],
   "source": []
  }
 ],
 "metadata": {
  "interpreter": {
   "hash": "f045682951559cbc0979d5d7223b93f289f756c5241efdcb485f4eca938569a1"
  },
  "kernelspec": {
   "display_name": "Python 3.9.2 ('dri_venv': venv)",
   "language": "python",
   "name": "python3"
  },
  "language_info": {
   "codemirror_mode": {
    "name": "ipython",
    "version": 3
   },
   "file_extension": ".py",
   "mimetype": "text/x-python",
   "name": "python",
   "nbconvert_exporter": "python",
   "pygments_lexer": "ipython3",
   "version": "3.9.2"
  },
  "orig_nbformat": 4
 },
 "nbformat": 4,
 "nbformat_minor": 2
}
