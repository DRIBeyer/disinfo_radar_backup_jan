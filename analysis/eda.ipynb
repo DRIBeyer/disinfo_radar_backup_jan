{
 "cells": [
  {
   "cell_type": "markdown",
   "metadata": {},
   "source": [
    "# Setup"
   ]
  },
  {
   "cell_type": "code",
   "execution_count": 1,
   "metadata": {},
   "outputs": [],
   "source": [
    "import pandas as pd\n",
    "\n",
    "from os import listdir\n",
    "from os.path import isfile, join\n",
    "\n",
    "from collections import Counter"
   ]
  },
  {
   "cell_type": "code",
   "execution_count": 2,
   "metadata": {},
   "outputs": [],
   "source": [
    "# Paths\n",
    "DATA_PATH = '../data/'\n",
    "OUTPUT_PATH = '../output_data/'\n",
    "MODEL_PATH = '../data/models/'"
   ]
  },
  {
   "cell_type": "code",
   "execution_count": 3,
   "metadata": {},
   "outputs": [],
   "source": [
    "#pd.set_option('display.max_rows', 100)\n",
    "#pd.options.display.max_columns = 100"
   ]
  },
  {
   "cell_type": "code",
   "execution_count": 29,
   "metadata": {},
   "outputs": [
    {
     "name": "stdout",
     "output_type": "stream",
     "text": [
      "Index, Filename\n",
      "[(0, 'deepfake_txt.csv'), (1, 'arxiv_disinformation.csv'), (2, 'arxiv_deepfake.csv'), (3, 'results.csv'), (4, 'reddit_machinelearning.csv'), (5, 'test_df.csv'), (6, 'mit_data.csv'), (7, 'importai_data.csv'), (8, 'cna_CNA_data.csv'), (9, 'synced_data.csv'), (10, 'ieee_data.csv'), (11, 'test_compiled.csv'), (12, 'data_with_labels.csv'), (13, 'test_output.csv'), (14, 'compiled.csv'), (15, 'cna_data.csv'), (16, 'cna_data copy.csv')]\n"
     ]
    }
   ],
   "source": [
    "# Check files in data folder\n",
    "datafiles = [f for f in listdir(DATA_PATH) if isfile(join(DATA_PATH, f))]\n",
    "\n",
    "print('Index, Filename')\n",
    "print(list(zip([index for index, value in enumerate(datafiles)], datafiles)))"
   ]
  },
  {
   "cell_type": "code",
   "execution_count": 30,
   "metadata": {},
   "outputs": [
    {
     "data": {
      "text/plain": [
       "'cna_data copy.csv'"
      ]
     },
     "execution_count": 30,
     "metadata": {},
     "output_type": "execute_result"
    }
   ],
   "source": [
    "# Get a file name, can use\n",
    "load_file = datafiles[-1]\n",
    "load_file"
   ]
  },
  {
   "cell_type": "code",
   "execution_count": 31,
   "metadata": {},
   "outputs": [],
   "source": [
    "# Load dataframe\n",
    "CONVERTERS = {'tokens': eval, 'published_parsed': eval, 'tags': eval, 'arxiv_primary_category': eval}\n",
    "\n",
    "df = pd.read_csv(DATA_PATH + load_file)#, converters=CONVERTERS)"
   ]
  },
  {
   "cell_type": "code",
   "execution_count": 37,
   "metadata": {},
   "outputs": [
    {
     "data": {
      "text/plain": [
       "Index(['title', 'url', 'date', 'text'], dtype='object')"
      ]
     },
     "execution_count": 37,
     "metadata": {},
     "output_type": "execute_result"
    }
   ],
   "source": [
    "df.columns"
   ]
  },
  {
   "cell_type": "code",
   "execution_count": 38,
   "metadata": {},
   "outputs": [
    {
     "data": {
      "text/plain": [
       "0     The China AI and Autonomy Report: Issue 14, Ma...\n",
       "1     The China AI and Autonomy Report: Issue 14, Ma...\n",
       "2     The China AI and Autonomy Report: Issue 14, Ma...\n",
       "3     The China AI and Autonomy Report: Issue 14, Ma...\n",
       "4     The China AI and Autonomy Report: Issue 14, Ma...\n",
       "                            ...                        \n",
       "62    The China AI and Autonomy Report: Issue 10, Ma...\n",
       "63    The China AI and Autonomy Report: Issue 10, Ma...\n",
       "64    The China AI and Autonomy Report: Issue 10, Ma...\n",
       "65    The China AI and Autonomy Report: Issue 10, Ma...\n",
       "66    The China AI and Autonomy Report: Issue 10, Ma...\n",
       "Name: title, Length: 67, dtype: object"
      ]
     },
     "execution_count": 38,
     "metadata": {},
     "output_type": "execute_result"
    }
   ],
   "source": [
    "df.title"
   ]
  },
  {
   "cell_type": "code",
   "execution_count": 36,
   "metadata": {},
   "outputs": [
    {
     "data": {
      "text/plain": [
       "\"('Intro (no tag)', ' ', 'Welcome to the China AI and Autonomy Report, a biweekly newsletter published by CNA.\\\\nIn this issue, we highlight a number of PLA Daily articles discussing the future of warfare, including those reporting on the trends in intelligent warfare, cognitive warfare, and the use of the metaverse for training. These articles indicate the continued importance that the PLA places on understanding the role of AI in military operations. Following controversies over the use of its drones in the Ukraine War, PRC drone manufacturer DJI has announced that is has temporarily suspended all business activities in Russia and Ukraine. In other Ukraine War-related news, PLA National Defense University Professor Li Minghai analyzes the role of cognitive warfare in the conflict. In industry news, the city of Beijing has granted Pony.ai and Baidu’s Apollo Go permits to operate driverless cars. These are the first permits of their kind in China. Relatedly, a document released by the PRC tech giant Baidu states that it leads the world in global patent applications for deep learning and autonomous driving.\\\\nRussia-Ukraine War')\""
      ]
     },
     "execution_count": 36,
     "metadata": {},
     "output_type": "execute_result"
    }
   ],
   "source": [
    "df.text[0]"
   ]
  },
  {
   "cell_type": "code",
   "execution_count": 27,
   "metadata": {},
   "outputs": [
    {
     "data": {
      "text/plain": [
       "False    446\n",
       "Name: text, dtype: int64"
      ]
     },
     "execution_count": 27,
     "metadata": {},
     "output_type": "execute_result"
    }
   ],
   "source": [
    "df.text.isna().value_counts()"
   ]
  },
  {
   "cell_type": "code",
   "execution_count": 42,
   "metadata": {},
   "outputs": [
    {
     "data": {
      "text/plain": [
       "67"
      ]
     },
     "execution_count": 42,
     "metadata": {},
     "output_type": "execute_result"
    }
   ],
   "source": [
    "len(df)\n"
   ]
  },
  {
   "cell_type": "code",
   "execution_count": 17,
   "metadata": {},
   "outputs": [
    {
     "data": {
      "text/plain": [
       "638"
      ]
     },
     "execution_count": 17,
     "metadata": {},
     "output_type": "execute_result"
    }
   ],
   "source": [
    "df.dropna(subset='tokens', inplace=True)\n",
    "\n",
    "len(df)"
   ]
  },
  {
   "cell_type": "code",
   "execution_count": 18,
   "metadata": {},
   "outputs": [],
   "source": [
    "df.to_csv(DATA_PATH + load_file, index=False)"
   ]
  },
  {
   "cell_type": "code",
   "execution_count": 10,
   "metadata": {},
   "outputs": [],
   "source": [
    "df1 = df[df.tokens.isna() == True]"
   ]
  },
  {
   "cell_type": "code",
   "execution_count": null,
   "metadata": {},
   "outputs": [],
   "source": []
  },
  {
   "cell_type": "code",
   "execution_count": 44,
   "metadata": {},
   "outputs": [
    {
     "name": "stdout",
     "output_type": "stream",
     "text": [
      "('Intro (no tag)', ' ', 'Welcome to the China AI and Autonomy Report, a biweekly newsletter published by CNA.\\nIn this issue, we highlight a number of PLA Daily articles discussing the future of warfare, including those reporting on the trends in intelligent warfare, cognitive warfare, and the use of the metaverse for training. These articles indicate the continued importance that the PLA places on understanding the role of AI in military operations. Following controversies over the use of its drones in the Ukraine War, PRC drone manufacturer DJI has announced that is has temporarily suspended all business activities in Russia and Ukraine. In other Ukraine War-related news, PLA National Defense University Professor Li Minghai analyzes the role of cognitive warfare in the conflict. In industry news, the city of Beijing has granted Pony.ai and Baidu’s Apollo Go permits to operate driverless cars. These are the first permits of their kind in China. Relatedly, a document released by the PRC tech giant Baidu states that it leads the world in global patent applications for deep learning and autonomous driving.\\nRussia-Ukraine War')\n",
      "('DJI suspends operations in Russia and Ukraine amidst continued controversy over the use of its UAVs in the Ukraine conflict.', ' ', 'On April 26, DJI  announced  that it \"is internally reassessing compliance requirements\" and \"will temporarily suspend all business activities in Russia and Ukraine.\"  [1]  The  Washington Post    noted that, while \"most Chinese companies with a presence in Russia have chosen to stay silent about their plans,\" some firms \"have quietly adjusted operations to minimize exposure to the Russia market.\"  [2] \\nDJI reached the decision amidst continuing controversies it has faced over the past two months. In March, DJI was accused of limiting the capabilities of drones used by the Ukrainian military (see  Newsletter 11  ) and, later that month, German electronics retailer MediaMarkt removed DJI drone from its stores (see  Newsletter 12  ). Meanwhile, the Wall Street Journal  reports  that Ukrainian soldiers have been told not to connect DJI drones to Wi-Fi or mobile networks, and that US drone manufacturers are stepping in to fill Ukrainian military requirements for small commercial drones. Federal Communications Commissioner Brendan Carr, commenting on the controversy, stated that, \"Reports about DJI drones being used by the Russian military in Ukraine only underscore the need for the US to adopt a clear and consistent response to the potentially serious national security threats posed by this Chinese drone maker.\"  [3]')\n",
      "(' PLA National Defense University (NDU) professor argues that cognitive warfare operations in the Russia-Ukraine War represents the future of warfare. ', ' ', 'The Global Times, a widely read subsidiary of thePeople\\'s Daily with a strong nationalist bent, published an op-ed by Senior Colonel Li Minghai, a professor at the PLA NDU National Security College War and Crisis Response Training Center, claiming that cognitive warfare is the \"essence\" of the confrontation between Russia and Ukraine.  [4] \\nCognitive domain operations, according to Li, use neuroscience, new information technologies (such as big data and AI), and mass communication channels and platforms to execute cyber, psychological, public opinion, legal, and other forms of information warfare across the conflict continuum and at all levels of war. Li argues that these operations influence opponents\\' thought processes and ideology through disseminating propaganda, indoctrinating populations, and infiltrating their culture and value systems. Li asserts that this \"mind war\" weaponizes language and ideas to \"affect targets\\' cognition,\" influence their pursuit of their military and political objectives, and \"change their decision-making and behavior.\"\\nLi alleges that Russia, Ukraine, and Western countries have effectively exploited the world\\'s growing reliance on communications technologies and platforms to sway domestic and international support for their respective aims. According to Li, these states have accomplished this exploitation by selectively releasing key leadership statements and information-along with disinformation and misinformation-about the war, particularly in audio-visual formats, on global social media platforms. To illustrate his point  , Li summarizes key statements that Vladimir Putin, Volodymyr Zelensky, and other global leaders have issued to muster their citizens\\' support and the support of other countries for their respective sides of the conflict. \\nFuture Warfare\\nPLA Daily article discusses seven trends of intelligent warfare. The PLA Daily, the official newspaper of the PLA, published a  lengthy examination  of changes that will be brought about by intelligent warfare.  [5]  The article argues that only by realizing and acting on seven trends in warfare can the PLA become \"invincible.\"')\n",
      "('  Trend 1: From the \"strong beating the weak\" to the \"intelligent beating the dull.\"  ', ' ', 'The article argues that intelligent warfare will transform the basis for winning wars from traditional force advantages to the effective use of AI-enabled systems that will enable traditionally weaker militaries to defeat stronger militaries. Victory will go to the side that can not only develop AI-enabled weapons and equipment but also design strategies and tactics tailored to their effective use.')\n",
      "(' Trend 2: From \"destructive power\" to \"manipulating cognition. ', ' ', '\"  The authors suggest that intelligent warfare will accelerate the transformation of war from an emphasis on physical destruction to an emphasis on the manipulation of human cognition to weaken enemy morale and the will to fight. In part through the use of AI, militaries will be able to tailor attacks against specific individuals or groups based on personality preferences, psychological characteristics, and decision-making habits.')\n",
      "(' Trend 3: From \"human-based\" to \"human-machine collaboration.\" ', ' ', 'The article predicts that the use of unmanned systems will become widespread and characterized by extensive human-machine collaboration, including the organic integration of humans and machines.')\n",
      "(' Trend 4: From \"big eats small\" to \"fast eats slow.\" ', ' ', 'The article states that extensive use of AI will enable the speed of the kill chain to overcome the traditional advantage of numerical superiority. The ever-increasing speed and effectiveness of AI-enabled systems will reduce human involvement on the battlefield and will result in humans taking a supervisory role over unmanned systems, known as a \"human-on-the-loop\" approach to the command and control of machines.')\n",
      "('  Trend 5: From \"winning through integration\" to \"winning through clusters.\"  ', ' ', 'The authors assert that in future wars the use of swarms of low-cost, distributed, single-function unmanned systems will replace the traditional reliance on costly high-end, multifunctional manned platforms. Swarms of autonomous drones will be able to self-organize and independently carry out missions, and their large numbers will allow them to saturate enemy systems and make them more resistant to attrition.')\n",
      "(' Trend 6: From \"military dominance\" to \"hybrid warfare.\" ', ' ', 'The authors suggest that intelligent warfare will be conducted across many domains, including space, cyber, diplomatic, economic, and cultural. This will result in fewer clear boundaries between peace and war and in more common, but lower-intensity conflicts that occur in the \"gray zone\" between peace and war. These operations will integrate traditional military operations with economic warfare, diplomatic warfare, cyber warfare, public opinion warfare, psychological warfare, and legal warfare.')\n",
      "(' Trend 7: From \"practical test\" to \"experimental exercise.\" ', ' ', 'According to the article, the use of advanced virtual reality will allow militaries to train under a variety of simulated conditions that may be superior in some ways to real-world training and exercising. The use of virtual technologies will better predict the outcome of wars and thus reduce the chances of war or limit the size of war as countries decide either not to start a war or that a military response to an act of aggression would be futile.')\n",
      "('PLA Daily article calls battle management systems the \"core\" of modern combat systems.', ' ', 'A PLA Daily article, written by the deputy director of the Training Management Department of the People\\'s Armed Police Command College, argues not only that battle management systems are the \"core\" of modern combat systems but also that AI will become the \"core support and driver\" of future battle management systems.  [6]  According to the author, effective battle management helps ensure that \"commanders and troops can smoothly exchange information and instructions.\" The author defines battle management systems as \"command information systems used to support battle management activities, including intelligence collection, information transmission, target identification, threat determination, weapons assignment, and mission planning that evolves with the evolution of warfare and technological progress.\"\\nThe article argues that as multidomain operations make warfare more complex, commanders will require AI-enabled battle management systems that can achieve real-time connectivity between sensors and shooters and help commanders make rapid decisions at all levels of command. The use of AI-enabled battle management systems will allow for improved cross-domain operations as communications and data collected from different domains will be fused and disseminated more effectively. This will lead to battle management systems providing an adaptive operational advantage and decision support by spontaneously identifying and classifying threats, autonomously assessing tradeoffs, and automatically assigning weapons.')\n",
      "('PLA Daily article emphasizes role of software assurance in future combat systems.', ' ', 'A PLA Daily  article  predicts that software will come to replace hardware as the most important component of AI-enabled weapon systems.  [7]  The author argues that more attention needs to be placed on finding and fixing software errors that can result in faulty performance and expose systems to cyber attack. The author recommends that software developers and the military be more vigilant in their quality assurance measures and recommends that the military establish software security centers that are authorized by the developer to fix software errors independently.')\n",
      "('PLA Daily article predicts that the metaverse will improve training.', ' ', 'An  article  in the PLA Daily argues that the metaverse has the potential to improve training by effectively combining real and virtual training in a variety of scenarios.  [8]  The article defines the metaverse as the fusion of the virtual and real worlds through the use of extended reality, digital twin, blockchain, and AI technologies.\\nAccording to the author, although the ultimate form of the metaverse is unknown, the metaverse will be able to provide a means to train military personnel in complex, changeable, and harsh battlefield environments in an immersive, realistic, and practical way. The article states, \"There is no doubt that if troops can be subjected to such an environment and conditions, their level of combat and combat capabilities will be greatly enhanced and strengthened.\" Because of the newness of the metaverse, the article argues that it should be developed incrementally to take into account the changing nature of war as well as military strategy, existing conditions, and future requirements that create realistic scenarios conducted at simulated training bases that will give military personnel an immersive experience that will accurately reflect the \"nature, fierceness, and cruelty of future war.\"')\n",
      "('PLA Daily article discusses essential role of cognitive warfare in future warfare.', ' ', 'A PLA Daily  article  states that cognitive warfare is a primary component of achieving the Sun Zi maxim of \"winning without fighting\" because of its focus on undermining adversary will.  [9]  The author describes cognitive warfare as attacks against human will, spirit, and psychology for the purpose of destroying the enemy\\'s cognitive base and sapping its will to fight. The ultimate goal of cognitive war is to destroy the \"spiritual core of the enemy\\'s personnel\" either to prevent war or limit its scope. Cognitive warfare operations are aided by analysis of the target\\'s politics, military, cultural history, and national character so as to identify the fundamental values of the target.\\nThe article describes cognitive war as being based on changes in material conditions that are then exploited to change a human\\'s understanding of reality. In this respect, cognitive warfare will be enabled by advancements in AI-enabled weapons and their improved accuracy and lethality. The destruction wrought by these advanced weapon systems will then be quickly disseminated as credible information using AI-enabled communication, information acquisition, and dissemination technologies.\\nUnmanned Systems\\nA PLA reconnaissance company adapts tactics for combined drone-vehicle operations to improve mobility and extend the range of reconnaissance operations. According to  China Military Online  , the PLA\\'s official news and information portal, a Xinjiang-based reconnaissance company of an unidentified regiment conducted tactical drills to control drones from reconnaissance vehicles with the goal of extending the range of the reconnaissance team.  [10]  During the training, the unit studied the parameters of the UAVs\\' command link, accumulated data, and manipulated tactical relays. PLA representatives noted that if drones can be paired with reconnaissance vehicles and effective tactics are employed, the overall mobility of the unit can be improved.\\nGovernance and Policy')\n",
      "('Chinese Academy of Sciences publishes AI principles for climate action.', ' ', 'The Chinese Academy of Sciences International Research Center for AI Ethics and Governance published the  \"Principles of AI for Climate Action,\"  which proposes principles governing the use of AI to fight climate change and to lessen the environmental impact of AI technologies. The Center drafted the principles with input from Tsinghua University and the Chinese University of Hong Kong, among others, and international partners from the Technical University of Munich, Singapore Management University, and the South Africa-based Centre for AI Research.  [11]    According to the  S&T Daily  , an official PRC newspaper overseen by the Ministry of Science and Technology, the goal of the document is to empower AI-enabled technologies to promote energy conservation and optimize industrial processes to reduce pollution.  [12]  The \"values and principles\" outlined in the consensus for AI include \"for the good of humans and ecology,\" energy conservation, privacy protection, fairness and justice, education promotion, and cooperation. The AI Ethics and Governance Center specifically noted the potential use of AI for climate forecasting, reducing emissions, carbon storage, and smart energy systems.  [13]')\n",
      "('The PRC Ministry of Industry and Information Technology (MIIT) sets deadline for software developers to ensure that mobile internet applications follow new privacy and user rights regulations.', ' ', 'On April 20, the MIIT\\'s Information and Communications Management Bureau announced that the ministry had recently \"organized third-party testing\" to inspect various mobile internet applications.  [14]  MIIT stated that at least 37 applications have not yet \"completed rectification\" to ensure compliance with laws such as the Personal Information Protection Law (discussed in  newsletter 3  ), the Cybersecurity Law (passed in 2017, English translation available  here  ), and related telecommunications regulations.  [15]  The non-compliance applications list provides the application name, developer, platform or host, version, and information on the issue.  [16]  Problems listed among the 37 applications included illegally collecting personal information, excessive permissions required, and deceptive or misleading information for users.  [17]  The MIIT announcement did not specify exactly how software developers must fix individual problems but stated that all corrections should be implemented by April 26.  [18]\\nIndustry')\n",
      "('City of Beijing grants first permits for autonomous driving in China to ride-hailing rivals Baidu and Pony.ai.', ' ', 'On April 27, the city of Beijing loosened restrictions on driverless cars by allowing autonomous vehicle company Pony.ai and Baidu\\'s Apollo Go to operate driverless cars in the city.  [19]  They were the first- ever permits of their kind issued in China. Pony.ai, a leading autonomous driving company with operations in both the US and China,  announced  that Beijing municipal authorities awarded the company a permit to operate its robotaxis \"in a 60 square kilometer (23.1 square mile) area in a Pilot Zone in Yizhuang, Beijing.\"  [20]  According to Baidu\\'s  press release  , \"the regulatory milestone . . . represents a major step towards a fully driverless future.\"  [21]  The  Financial Times  notes that a safety supervisor will still be required in the car \"but does not need to be behind the wheel as in previous trials.\"  [22]  Baidu has also  secured permits  for its self-driving taxi service in other Chinese cities, such as Shanghai, Guangzhou, Shenzhen, and Zhejiang Province, but unlike the Beijing permits, these require a human behind the wheel.  [23]')\n",
      "('Baidu announces lead in global patent applications for deep learning and autonomous driving.', ' ', 'China Daily, the PRC\\'s official English-language newspaper,  reports  that, according to a white paper published by Baidu, as of April 2022 the company \"has filed more than 22,000 AI-related patent applications worldwide\" and ranks first in patent applications globally for deep learning and autonomous driving.  [24]  Of that total, \"over 16,000 patents\" applications were filed in China, and approximately 4,600 patents related to AI were granted. China Daily also reports that \"over 90 percent of the patented technologies have been leveraged into products,\" which means that Baidu is one of the most successful companies in terms of commercializing its applications. Excerpts of the white paper published by Baidu and posted on  social media  highlight that, in 2021, Baidu\\'s research and development accounted for 23 percent of core revenue.  [25]  Baidu Chief Technology Officer Wang Haifeng attributed the company\\'s success to upgrading through open-source platforms. China Daily specifically noted the importance of patents related to PaddlePaddle, Baidu\\'s deep learning platform, and autonomous driving applications, such as Apollo Go.\\nNotes\\n\\n\\n [1]  DJI, \"DJI Reassesses Sales Compliance Efforts in Light of Current Hostilities,\" Apr. 26, 2022,  https://www.dji.com/newsroom/news/dji-statement-on-sales-compliance-efforts  .\\n\\n\\n [2]  Christian Shepherd, \"Chinese Drone-maker DJI Suspends Operations in Russia, Ukraine Over War Use,\" Washington Post, Apr. 27, 2022,  https://www.washingtonpost.com/world/2022/04/27/china-drones-dji-russia-suspension-war/  .\\n\\n\\n [3]  Grant Hindsley, \"Ukraine Sounds Alarm on Chinese Drones, Opening Skies to US Startups; US Drone Makers Spot Opportunity as Use of Drones from China-based DJI Sparks Security Concerns,\" Wall Street Journal, Apr. 22, 2022,  https://www.wsj.com/articles/ukraine-sounds-alarm-on-chinese-drones-opening-skies-to-u-s-startups-11650619800  .\\n\\n\\n [4]  Li Minghai, \"Li Minghai: The Cognitive Domain Is Becoming the Main Battlefield in Future Intelligentized Hybrid Warfare\" (李明海: 认知域正成为未来智能化混合战争主战场), Global Times (环球时报), Mar. 17, 2022,\\n https://opinion.huanqiu.com/article/47DoZ45dMzV  .\\n\\n\\n [5]  Xie Kai, Zhang Dongrun, and Liang Xiaoping, \"A Thorough Understanding of the Evolution of the Winning Mechanism of Intelligent Warfare\" (透视智能化战争制胜机理嬗变), PLA Daily, Apr. 26, 2022,  https://www.81.cn/bz/2022-04/26/content_10150428.htm  .\\n\\n\\n [6]  Yang Lianzhen, \"Battle Management Systems: The Core of a Modernized Operational System\" (作战管理系统：现代化作战体系核心), Apr. 22, 2022,  http://www.81.cn/yw/2022-04/22/content_10149663.htm  .\\n\\n\\n [7]  Zhao Xiangang, Han Yanzhe, and Yuan Yan, \"Intelligent Warfare Emphasizes Software Support\" (智能化战争须重视软件保障), PLA Daily, Apr. 7, 2022,  http://www.81.cn/jfjbmap/content/2022-04/07/content_313120.htm  .\\n\\n\\n [8]  Hu Jianxin and Li Xinglei, \"Create a Realistic and Applicable Battlefield Metaverse\" (打造逼真适用的\"战场元宇宙\"), PLA Daily, Apr. 14, 2022,  http://www.81.cn/jfjbmap/content/2022-04/14/content_313630.htm  .\\n\\n\\n [9]  Gao Kai, \"Exploring the Operating Mechanism of Cogntive Warfare\" (探究认知战运行机理), PLA Daily, Apr. 12, 2022,  http://www.81.cn/jfjbmap/content/2022-04/12/content_313458.htm  .\\n\\n\\n [10]  Wang Lei and Liu Siwei, \"Southern Xinjiang Military District Regiment Reconnaissance Company Develops Scientific and Technological Innovation to Increase Combat Effectiveness\" (南疆军区某团侦察连紧盯战场之变开展科技革新提升战斗力 ), China Military Online, Apr. 22, 2022,  http://www.81.cn/bz/2022-04/22/content_10149733.htm  .\\n\\n\\n [11]  International Research Center for AI Ethics and Governance, \"Principles on AI for Climate Action,\" Apr. 26, 2022,  https://ai-ethics-and-governance.institute/2022/04/26/principles-on-ai-for-climate-action/  .\\n\\n\\n [12]  Zhao Weihua, \"\\'Principles of AI for Climate Actions\\' Consensus Published\" (《面向气候行动的人工智能原则》共识发布), S&T Daily, Apr. 27, 2022,  http://www.stdaily.com/index/kejixinwen/202204/b305308031f24ad99ebb1122a6d79f8b.shtml  .\\n\\n\\n [13]  International Research Center for AI Ethics and Governance, \"Principles on AI for Climate Action,\" Apr. 26, 2022,  https://ai-ethics-and-governance.institute/2022/04/26/principles-on-ai-for-climate-action/  .\\n\\n\\n [14]  Ministry of Industry and Information Technology, \"On Infringement of User Rights in Conduct of Applications Announcement\" (关于侵害用户权益行为的APP通报), Apr. 20, 2022,  https://www.miit.gov.cn/jgsj/xgj/gzdt/art/2022/art_6ef1ccb012924c5494086fa90dfd8c8f.html  .\\n\\n\\n [15]  Rogier Creemers, Paul Triolo, and Graham Webster, \"Translation: Cybersecurity Law of the People\\'s Republic of China (Effective June 1, 2017),\" New America, Jun. 29, 2018,  https://www.newamerica.org/cybersecurity-initiative/digichina/blog/translation-cybersecurity-law-peoples-republic-china/  .\\n\\n\\n [16]  \"Baidu Wins First Driverless Permits in China for Autonomous Ride Hailing Services on Public Roads,\"\\n\\n\\n [17]  Ministry of Industry and Information Technology, \"MIIT Announces Existing Problematic Applications List,\" Apr. 20, 2022,  https://www.miit.gov.cn/cms_files/filemanager/1226211233/attach/20224/4a642aad08a94a148fb8e9c8de96f8a0.docx  .\\n\\n\\n [18]  Ministry of Industry and Information Technology, \"On Infringement of User Rights in Conduct of Applications Announcement\" (关于侵害用户权益行为的APP通报), Apr. 20, 2022,  https://www.miit.gov.cn/jgsj/xgj/gzdt/art/2022/art_6ef1ccb012924c5494086fa90dfd8c8f.html  .\\n\\n\\n [19]  Associated Press, \"China Grants First Driverless Taxi Permits to Baidu, Pony.ai,\" ABC News, Apr. 28, 2022,  https://abcnews.go.com/Technology/wireStory/china-grants-driverless-taxi-permits-baidu-ponyai-84363838  .\\n\\n\\n [20]  \"Pony.ai Approved for Public Driverless Robotaxi Service in Beijing,\" Business Wire, Apr. 27, 2022,  https://www.businesswire.com/news/home/20220427006212/en/Pony.ai-Approved-for-Public-Driverless-Robotaxi-Service-in-Beijing  .\\n\\n\\n [21]  Baidu Inc., \"Baidu Wins First Driverless Permits in China for Autonomous Ride Hailing Services on Public Roads,\" PR Newswire, Apr. 27, 2022,  https://www.prnewswire.com/news-releases/baidu-wins-first-driverless-permits-in-china-for-autonomous-ride-hailing-services-on-public-roads-301534956.html?tc=eml_cleartime  .\\n\\n\\n [22]  Primrose Riordan and Gloria Li, \"Beijing Grants First Driverless Robotaxi Licenses to Baidu and Pony.ai,\" Financial Times, Apr. 28, 2022,  https://www.ft.com/content/de57cadc-3622-4ae0-8b7d-ef0bf31395ef  .\\n\\n\\n [23]  Fan Feifei, \"Baidu to Launch Self-Driving Taxi Service in Zhejiang,\" China Daily, Mar. 25, 2022,  https://global.chinadaily.com.cn/a/202203/25/WS623d6a6ca310fd2b29e53570.html  .\\n\\n\\n [24]  Fan Feifei, \"Baidu Leads in AI-related Patents,\" China Daily, Apr. 26, 2022,  http://global.chinadaily.com.cn/a/202204/26/WS62678b36a310fd2b29e5966e.html  .\\n\\n\\n [25]  \"Baidu AI Patent White Paper 2022 Published, Baidu World Leader in Applications in Two Areas!\" （《百度人工智能专利白皮书2022》发布，两大领域申请量全球第一！），  https://3g.163.com/dy/article/H5VRAS3E05388UDU.html  .')\n",
      "('Intro (no tag)', ' ', 'Welcome to the China AI and Autonomy Report, a biweekly newsletter published by CNA.\\nAuthors in the PLA Daily consider the best way forward for evaluating intelligent command systems, emphasizing the importance of integrating actual command parameters into assessing their effectiveness. PLA researchers have made a breakthrough in using an AI system with a satellite video to better identify and track objects such as planes and cars. The Cyberspace Administration of China has launched a campaign targeting the use of recommendation algorithms in internet companies. The campaign has an explicit focus on large, socially influential internet platforms, which has caused speculation that it is likely an effort to rein in social media giants Tencent and TikTok\\'s parent company Bytedance. PRC ministries have also released a scientific and technology development plan for its transportation sector that seeks to integrate \"intelligent\" technologies into many aspects of transportation, including logistics, infrastructure, traffic monitoring, and vehicles for land, sea, and air transit. Meanwhile, the Beijing Academy of Artificial Intelligence (BAAI) has issued an apology to a Google Brain research scientist who accused PRC researchers from BAAI and other prestigious PRC institutions and corporations of committing plagiarism in a BAAI publication on machine learning. Also of note, this month another of China\\'s \"AI dragons,\" the facial recognition giant CloudWalk Technologies, announced plans to go public.\\nIntelligent Military Command Systems')\n",
      "('PLA Daily discusses requirements for properly evaluating intelligent command systems.', ' ', 'The PLA Daily, the official newspaper of the PLA, published an  article  on how best to assess the performance of intelligent command systems.  [1]  The authors write that current assessments of intelligent command systems rely on gaming technologies that overemphasize scores and win-loss rates at the expense of using actual command parameters as measures of effectiveness. They argue that the ability to carry out core command activities (e.g., maintaining situational awareness, rapid decision-making, sound strategic and tactical design, thorough planning, efficient control, and flexible response) is a better criterion for evaluating intelligent command systems. In this respect, the authors argue that evaluations of intelligent command systems involve:\\n\\nEvaluations of situational awareness capabilities.  Criteria for evaluating situational awareness capabilities include the ability to assess enemy and friendly dispositions, perceive changes in the situation in real-time, and make predictions about the future battlefield situation.\\nEvaluations of operational decision-making.  Criteria for evaluating operational decisions include the ability to make systematic, rational, and innovative decisions. Effective evaluations include assessing the ability of intelligent command systems to deal with major changes that occur during operations, use standardized procedures, inherit content, and make timely decisions.\\nEvaluations of the ability to formulate plans. Criteria for evaluating the ability to formulate plans include the ability to retrieve and prioritize pre-determined solutions, accurately and rationally match plans to the situation and operational objectives, differentiate between forces, and design operations according to specific plans and capabilities.\\nEvaluations of command and control capabilities. Criteria for evaluating command and control capabilities include the ability to issue timely and complete instructions to each subordinate unit, the ability to command and control multiple units effectively, and the ability to issue commands based on changes to the battlefield situation.\\n\\n\\nTo conduct these assessments, the authors argue that an effective evaluation team must be composed of functional experts who can evaluate military decision-making, technical experts who can properly evaluate intelligent system technology, and technology specialists who can support the team.\\nGovernance and Law')\n",
      "('The Cyberspace Administration of China (CAC) launches a campaign targeting the use of algorithms in large PRC internet enterprises', ' ', '(see original text here and translation from DigiChina  here  ).  [2]  On April 8, CAC announced \"Clear 2022 Comprehensive Governance of Algorithms\"-a campaign to ensure that corporate algorithms comply with the recently adopted  Internet Information Service Algorithmic Recommendation Management Provisions  (hereafter referred to as Provisions). The campaign will be held from April 8 until the beginning of December 2022 and will target \"large-scale websites, platforms, and products that have relatively strong public opinion properties or the capacity for social mobilization.\"\\n According to Bloomberg  , although the campaign does not mention specific companies, it explicitly targets large, socially influential platforms, a possible reference to ByteDance and Tencent. The campaign is seen as part of a broader effort that began in 2020 to rein in the influence of Big Tech in China.  [3]')\n",
      "('\"Intelligent\" technologies feature heavily in the recently publicized PRC science and technology development plan for the field of transportation.', ' ', 'On April 6, the Ministry of Transportation and the Ministry of Science and Technology publicly released the \"Outline for the Medium- and Long-term Development Plan for Scientific and Technological Innovation in the Transportation Sector (2021-2035)\" (see from PRC government  here  ).  [4]  By 2035, the plan aims for China to be at the \"forefront of the world\" in terms of its overall level of innovation in science and technology for transportation. The plan\\'s goals that involve the use of \"intelligent\" technologies include the following:\\n\\nMake advances in infrastructure monitoring, maintenance, and performance using intelligent technologies.\\nFurther integrate intelligent technologies into road, rail, sea, and air travel. This includes making intelligent and autonomous vehicles for transit and using intelligent technologies to manage and monitor the transportation environments in each of these areas.\\nAccelerate the adoption of smart logistics, using intelligent technologies to enable better coordination between various modes of transportation and to improve the efficiency of warehousing, sorting, and delivery.\\n\\nIt is important to note that, although the outline lists many technologies that the PRC aspires to advance and adopt, it does not provide details on entities that may be responsible for the development of specific technologies or provide specific budget allocations for R&D.\\nIndustry')\n",
      "('Another one of China\\'s \"AI dragons\" plans to go public.', ' ', 'On April 6, CloudWalk Technology, \"an AI platform specializing in facial recognition,\" received approval from the China Securities Regulatory Commission to pursue an IPO on the Shanghai Stock Exchange.  [5]  According to a Beijing-based industry publication, CloudWalk will use the funds for a \"human-machine collaborative operating system upgrade project\" referred to as the Qingzhou KaaS Cloud Ecosystem. CloudWalk Technology grew out of the state-affiliated Chinese Academy of Sciences and launched as a commercial enterprise in 2015.  [6]  CloudWalk\\'s IPO will make it the second of China\\'s leading AI start-ups, known as the four \"AI dragons,\" to go public after SenseTime listed on the Hong Kong Stock Exchange in late December 2021,  amidst considerable controversy  .  [7] \\nResearch and Development')\n",
      "('PLA researchers develop AI system enabling satellites to track targets.', ' ', \"The South China Morning Post  reports  on an article authored by researchers at the PLA's Space Engineering University who developed an AI system that was able to achieve a 95 percent success rate in tracking targets from a video feed from the Jilin-1 satellite.  [8]  According to the article, the application could enable even low-cost satellites to track targets. The research appeared in Fire Control and Command Control, a PRC peer-reviewed journal published by state-owned defense conglomerate China North Industries Corporation (NORINCO).  [9]  According to the report, unlike previous systems, this AI system was able to track flying aircraft and moving cars and to reacquire targets after they were temporarily lost after making sharp turns or going through a bridge or tunnel. This AI system may lack a real-time tracking capability, however, because the video feed must be transmitted to a ground station and then processed by a computing center. The article noted that newer PRC satellites have been equipped with processors that could be uploaded with the tracking algorithm.\")\n",
      "('Beijing Academy of Artificial Intelligence (BAAI) apologizes after Google Brain research scientist exposes plagiarism in one of its machine learning research publications.', ' ', 'On April 8, Nicholas Carlini, a research scientist with Google Brain, posted an article on his website  describing how a recently published paper \"plagiarized several paragraphs\" of his work on deduplicating training data for language models and \"copied from at least a dozen other papers.\"  [10]  Carlini\\'s original paper described \"deduplication tools\" to improve the performance of language models.  [11]  The scandal surrounds the paper, titled \"A Roadmap for Big Model,\" which is meant to serve as an academic review of the latest in machine learning techniques and the state of Big Model applications.  [12]  The \"Roadmap\" article listed over 100 authors representing some of China\\'s most prestigious institutions, such as Tsinghua University, Peking University, BAAI, and the China Academy of Sciences, and industry giants, such as ByteDance, Huawei, Tencent, and JD.com.  [13]  On April 14, BAAI posted an apology for the plagiarism on  Twitter  . An official BAAI  statement  on the issue stated that the authors were asked to conduct a \"rigorous review\" of the article\\'s content and that \"a third-party expert panel will be assembled to conduct an independent investigation of the issue, and those identified as responsible will be held accountable.\"  [14]')\n",
      "('Intro (no tag)', ' ', \"Welcome to the China AI and Autonomy Report, a biweekly newsletter published by CNA.\\nAs the war in Ukraine continues, rumors have been circulating about the role of PRC-made drones in the conflict. In this issue we note two of them—allegations that Russia has asked the PRC to supply drones, and accusations that a leading PRC-based commercial drone manufacturer has been limiting the technical capabilities of drones used by the Ukrainian military in order to provide an advantage to the Russian armed forces. Meanwhile, PRC media outlets have been busy reporting the highlights from this year’s National People’s Congress and Chinese People's Political Consultative Conference meetings (known as the “two sessions”), including statements and proposals related to AI made by China’s political and tech leaders. Policy suggestions by delegates included advocating for a more favorable policy environment for autonomous vehicles, the development of “green AI,” government leadership in the creation of China’s metaverse, and the creation of a legal framework for UAVs in China. As expected, PRC premier Li Keqiang discussed AI in the context of the development of the PRC’s digital economy. We also cover a UAV built by a PRC research institute that reportedly set the record in China for the longest endurance capability and note that, for the first time in a phase 3 clinical trial in China, an AI chip was successfully implanted into an epilepsy patient’s brain.\\n\\nPRC DRONES AND THE RUSSIA-UKRAINE WAR\")\n",
      "('DJI continues to deny accusations that it altered its UAV technology to give Russia a military advantage in Ukraine.', ' ', \"Pressure has mounted on leading global drone-maker DJI since the beginning of March,\\xa0when it first faced allegations on Twitter\\xa0that it was altering its UAV\\xa0AeroScope\\xa0technology to aid the Russian military offensive in Ukraine. Following these initial allegations, Ukraine’s minister of digital transformation, Mykhailo Fedorov,\\xa0sent a letter\\xa0on March 16 to DJI founder and CEO, Frank Wang, requesting that DJI provide the Ukrainian government information about its products in Ukraine, and asked the company to “block all DJI products which were purchased and activated in the Russian Federation, Syria and Lebanon.” On March 17, DJI replied to Fedorov in a\\xa0Tweet\\xa0stating, “All DJI products are designed for civilian use and do not meet military specifications.” The DJI response further noted that its AeroScope technology is not appropriate for “military missions,” and “DJI has not changed the functionality of our AeroScope system in any way in Ukraine.”\\nLess than two weeks later, on March 28, German electronics retail giant\\xa0MediaMarkt\\xa0removed DJI UAVs from its stores, citing concerns that the Russian military was using “products and data” from DJI. DJI responded in a statement that the allegations are “utterly untrue” and that it does “not support any use of our products that harms people's lives, rights, or interests, as we have always reiterated in our products’ Terms of Use and other public statements. We do not provide technical support when military use of our products is identified.” DJI also reiterated that all of its products “are designed for civilian use,” and that it “complies with applicable laws and regulations worldwide.”\\nFUTURE WARFARE\")\n",
      "('PLA Navy researcher argues that humans will maintain an essential role in unmanned operations.', ' ', 'In a\\xa0PLA Daily\\xa0article titled\\xa0“Pay Attention to the Role of Humans in Unmanned Operations,”\\xa0a researcher from the PLA Naval Research Academy discusses the role of humans in future warfare and argues that humans will still play an integral role in unmanned operations through the stages of technology development, operational planning, and execution.\\nThe author asserts that, despite the advantages of unmanned systems, humans will continue to play a fundamental role in their operation, regardless of the ubiquity and level of autonomy of these systems. The author writes that unmanned systems are suited for high-threat environments, have the ability to conduct persistent operations, can be low cost, and can operate in extreme environments. Humans, however, will still be responsible for mission planning and will decide when and how unmanned systems will be used. Because of the current limitations of autonomous capabilities, during operations humans will be required to redirect or reassign unmanned systems to respond to rapidly changing battlefield conditions.\\nThe author also argues that humans must constrain autonomous unmanned systems through the development of algorithms that govern their operation in ways that conform to the laws of warfare. As a result, humans must have the ability to monitor the performance of unmanned systems and be allowed to intervene in their operation. At the conclusion of a mission, humans will also need to evaluate mission effectiveness in order to adjust subsequent operations accordingly. The author proposes that PLA personnel operating unmanned systems be incentivized to remain in the PLA and complete a unified, multi-step training program involving, in part, additional courses on AI conducted by specialized institutions.')\n",
      "('A\\xa0PLA Daily\\xa0article asserts that technological advances will drive the move toward a “human-on-the-loop” approach to unmanned systems.', ' ', 'A\\xa0PLA Daily\\xa0article titled\\xa0“Human-on-the-Loop: The Development Trend of Intelligentized Command Systems”\\xa0explores the role of humans in future warfare, arguing that the trend of technology development will drive militaries to take a “human-on-the-loop” approach to the command and control (C2) of autonomous weapons.\\nThe article describes a “human-in-the-loop” approach as an intermediate stage of C2 for autonomous systems characterized by extensive human-machine interaction and computers taking over some of the command and decision-making tasks normally performed by humans. As AI technologies advance, however, computers will be able to take on more C2 responsibilities with greater reliability, such that humans will become more trusting of machines to make sound decisions. This will result in militaries taking a “human-on-the-loop” approach to autonomous systems that relieves humans from the direct control of autonomous systems but allows commanders the option to intervene if the operation requires changes in direction, targets, or speed.\\nRegardless of whether militaries take a “human-in-the-loop” or “human-on-the-loop” approach to the C2 of autonomous systems, the authors argue that command decision-making systems will need to present information to operators in ways that are easily accessible and understandable by humans. For example, as AI systems become more advanced, the interface between humans and machines will need to become multimodal and move from two-dimensional displays to three-dimensional displays and virtual reality. In addition, a transition from typed commands to voice commands and brain-machine interfaces will be required.')\n",
      "('PLA researchers discuss factors driving informatized warfare.', ' ', 'In an\\xa0article\\xa0on\\xa0China Military Online,\\xa0the PLA’s official news and information portal, three researchers from PLA unit 61001 use the human body as a metaphor to argue that advances in networks, data, cloud computing, the electromagnetic spectrum, and algorithms will drive the direction of future warfare.')\n",
      "('Networks.', ' ', 'Networks are the “skeleton” of modern combat systems. The authors argue that the key to improving combat capabilities is promoting the interoperability of combat forces at all levels and improving the sensor-to-shooter chain through an integrated system of networks.')\n",
      "('Data.', ' ', 'Data is the “blood” of combat systems. The authors argue that good planning requires data, and that the more data available to a commander, the better the planning will be. With the integration of big data, cloud computing, and AI, large amounts of data can be gathered, processed, and analyzed, resulting in quicker and more accurate decisions and the ability to reveal opportunities that were previously hidden.')\n",
      "('Cloud computing.', ' ', 'Cloud computing is the “nerves” of combat systems. The authors argue that cloud computing, with its powerful computing capabilities and large amounts of data, can be used to achieve the rapid integration of battlefield intelligence, real-time battlefield situational awareness, and real-time threat assessments and can provide situational awareness of enemy and friendly force dispositions.')\n",
      "('Electromagnetic spectrum.', ' ', 'The electromagnetic spectrum enables the “eyes and ears” of modern warfare. The authors assert that maintaining the advantages of the electromagnetic spectrum is an important prerequisite for seizing “tactical, operational, and strategic advantages.” They also assert that using reconnaissance methods to control the electromagnetic activities on the battlefield, judge enemy combat intentions, predict the operational situation on the battlefield, determine combat targets, decide on the direction of combat, rationally deploy troops and weapons, and scientifically plan “information firepower” have become the focus of battlefield perception and the forces empowering combat command.')\n",
      "('Algorithms.', ' ', 'Algorithms are the “brain” of combat systems. Citing alleged human-machine experiments of the US military, the authors argue that AI has created a new phase of algorithm-led cognition and decision-making that will empower commanders with average IQs to have the genius possessed by history’s greatest commanders. Conversely, the power of algorithms will also increase the importance of cyber warfare as militaries seek to undermine an opponent’s algorithms. According to the authors, “If we want to seize the high ground of cognitive competition, we must increase the development of algorithmic warfare research, and turn our own advantages in data, information, intelligence, and algorithms into intelligentized advantages, combat power advantages, and winning advantages.”\\nUNMANNED SYSTEMS')\n",
      "('A UAV for civilian and military use demonstrates extended endurance during its first flight with a hydrogen-powered battery.', ' ', 'On March 13, the AR-20, a “multi-rotor drone domestically developed by China for security surveillance, border patrol, and anti-terrorism missions,” took its first test flight with a hydrogen-powered battery. The drone was developed by the\\xa0China Helicopter Research and Development Institute (CHRDI), a subsidiary of major PRC military contractor\\xa0Aviation Industry Corporation of China (AVIC). During a hovering test, the hydrogen-battery version of the\\xa0AR-20\\xa0displayed an “endurance of three hours and 12 minutes,” which is reportedly an improvement of more than an hour compared to the UAV version with the lithium battery.\\xa0A statement from CHRDI\\xa0noted that the endurance enabled by the hydrogen-powered battery was significant for expanding the use of the AR-20 in both military and civilian fields. A Beijing-based military expert told the\\xa0Global Times\\xa0that the AR-20’s longer endurance is “particularly meaningful in scenarios like patrol missions along high-altitude border regions, where the complex terrains and the lack of oxygen make it difficult for humans to carry out patrols on a regular basis.” Recently, there has been a notable interest in hydrogen-powered batteries for UAVs in China—our last newsletter (available\\xa0here) described how the Chongqing Research Institute used hydrogen-powered batteries in a fixed-wing, vertical take-off and landing drone to increase its endurance to nine hours.\\nNEW ETHICS GUIDELINES')\n",
      "('PRC releases new ethical guidelines for science and technology (S&T).', ' ', 'On March 21, the General Office of China’s Communist Party and the General Office of the State Council published\\xa0\"Opinions on Strengthening the Ethical Governance of Science and Technology”\\xa0(hereon referred to as “Opinions”). The “Opinions” outlines broad ethical principles for S&T, seeks to consolidate and strengthen oversight of an ethical governance system for S&T at national and local levels, and aims to strengthen education and publicity about ethics in S&T. At the national level, the document highlights the role of the PRC’s National Science and Technology Ethics Committee (NSTEC),\\xa0which was established in 2020, in guiding, coordinating, and promoting the PRC’s S&T ethical governance system. Officials from the Ministry of Science and Technology (MOST), which manages the day-to-day work of NSTEC,\\xa0held a press conference upon the release of the document. Notable aspects of the document include the following:')\n",
      "('Five ethical principles:\\xa0', ' ', 'The ethical principles established for S&T by the “Opinions” are: 1) enhancing human welfare; 2) respecting the rights of the lives of humans and animals; 3) adhering to fairness and justice; 4) reasonably controlling risks; and 5) maintaining openness and transparency. During the press conference held upon the release of the “Opinions,” a MOST official remarked that the principles chosen were based upon consensus from relevant parties and also from “learning from the experience of the international community.”')\n",
      "('AI in the new guidelines:\\xa0', ' ', 'AI, along with life sciences and medicine, is called out explicitly in the document.\\xa0The\\xa0South China Morning Post\\xa0suggests\\xa0that the new guidelines have emerged in part because of backlash experienced by Beijing due to controversies in these fields, such as the\\xa0gene-edited baby scandal\\xa0and\\xa0the use of AI for social scoring and mass surveillance purposes. The “Opinions” state that entities engaging in projects in these fields, and whose research content involves “sensitive areas” for S&T ethics, shall “establish scientific and technological ethics review committees.” The document further asserts that during the 14th five-year plan period (2021–2025), research on ethics legislation for fields such as life sciences, medicine, and AI should be strengthened, and that important ethical norms should be elevated into national law and regulations in a timely fashion.')\n",
      "('International research and ethics standards engagement:\\xa0', ' ', 'The “Opinions” also contain language that discusses PRC S&T research ethics internationally. It supports the efforts of entities such as organizations, think tanks, social groups, and scientists to “actively promote and participate in discussions on major international science and technology ethics issues and rule-making.” It also advocates for ethical review and supervision of international collaborative research activities to ensure that they comply with the ethical requirements of all countries involved in the research. For international activities that present high ethical risks, the document suggests that local and relevant industry authorities organize experts to evaluate the results of scientific and technological ethics reviews.\\nR&D ON AI AND HYPERSONIC TECHNOLOGY')\n",
      "('PRC military researchers have reportedly made progress toward building an AI system that can design new hypersonic systems.', ' ', 'A research team from China Aerodynamics Research and Development Centre (CARDC) has published research findings in the PRC’s\\xa0Journal of Propulsion Technology\\xa0on how AI could improve the performance of hypersonic technology.\\xa0According to the Australian Strategic Policy Institute (ASPI), the Sichuan-based CARDC is a military unit that is “heavily involved in research on hypersonics” and hosts a key state laboratory with a large computing cluster and wind tunnels. CARDC researchers report that the machine used in their study could identify most of the shock waves occurring in wind tunnel tests, even though the machine did not receive instructions on what to look for. The AI was also able to build a knowledge base without human intervention to aid the development of new engines for hypersonic missiles and planes that could travel longer distances at faster speeds. Le Jialing, head of the CARDC research team and long-time hypersonic weapons advisor to the PLA, stated that one challenge researchers have faced is “provid[ing] a large amount of training [data] for deep learning models” because of the complexity of the aerodynamics at hypersonic speed. To address this issue, the team used a technique known as “unsupervised segmentation” to “establish a relationship between seemingly unrelated objects.” The\\xa0South China Morning Post\\xa0suggests that this research is relevant to China’s plans to extend hypersonic flight technology from military to civilian sectors, with an official goal by 2035 to build a hypersonic plane that can carry passengers anywhere in the world in a couple of hours.')\n",
      "('PRC researchers are investigating whether AI and machine learning algorithms could improve the accuracy of hypersonic aircraft skid landing systems.', ' ', 'According to the\\xa0South China Morning Post\\xa0, Nanjing University of Aeronautics and Astronautics (NUAA) is researching how to use AI for alternative landing systems for hypersonic aircraft. The NUAA research team is exploring the feasibility of landing technology that would use a skid landing system rather than wheels—a design that was abandoned by NASA in the 1960s over concerns that the inability of the skids to break or steer would endanger pilots. The NUAA research team believes “machine learning algorithms [could] identify the best ways to land so the skid landing gear control system can keep the plane on course in any conditions by exchanging information based on data collected by sensors.” Even if the AI and machine learning algorithms are better able to control the skid landing system, lead researcher Wei Xiaohui noted that the plane would still require “a concrete air strip” for safe landings.\\nR&D ON BRAIN-COMPUTER INTERFACES')\n",
      "('A joint US-China research team has made an important contribution to brain-computer interface technology with the development of a new type of flexible electrode.', ' ', 'On March 24, a research team from Stanford University, Beijing-based Capital Medical University, Tianjin University, Nanjing University, and Beijing-based\\xa0BOE Technology Group\\xa0published in the journal\\xa0Science\\xa0their approach to developing a new type of flexible electrode and its resulting enhanced conductivity.\\xa0Science & Technology (S&T) Daily,\\xa0the leading official PRC newspaper for S&T issues,\\xa0reported\\xa0that the new type of flexible electrode is placed on the brain during a craniotomy, enabling the physician to distinguish between nerve nuclei and cerebral cortex functionality, thus maximizing the protection of brain function during surgery and reducing the possibility of surgical disability and death.\\xa0S&T Daily\\xa0further reports that this new type of flexible electrode has the highest precision in the world and will serve as a core technology for brain-computer interfaces, playing a potentially important role in the future of brain science research and\\xa0clinical translation.')\n",
      "('PRC space program researchers develop brain interface to control robotic arm.', ' ', 'The\\xa0South China Morning Post\\xa0reports\\xa0that researchers with the PRC’s human spaceflight program have developed a technology to enable people to control a robotic arm using their brainwaves. The research conducted at the China Astronauts Research and Training Centre requires a person wearing a head-mounted device “to look at an animated robotic arm on a computer screen.” Each part of the robotic arm then “blinks at a unique rate, and when the eyes focus on a blinking component, it stimulates the formation of brainwaves with the same frequency,” allowing the machine to “read the mind.” Though in this type of research, useful signals from the mind tend to be rare and weak, the research team used AI to improve the process. According to the report, the robotic arm responded almost instantaneously to commands by the human brainwaves with significantly higher accuracy than previous studies displayed. According to the article, the development is important because it could “transform how astronauts operate the giant arm on the Chinese space station.” Additional details of the study are classified, and it is unclear when the technology could be made operational.')\n",
      "('Intro (no tag)', ' ', \"Welcome to the China AI and Autonomy Report, a biweekly newsletter published by CNA.\\nAs the war in Ukraine continues, rumors have been circulating about the role of PRC-made drones in the conflict. In this issue we note two of them—allegations that Russia has asked the PRC to supply drones, and accusations that a leading PRC-based commercial drone manufacturer has been limiting the technical capabilities of drones used by the Ukrainian military in order to provide an advantage to the Russian armed forces. Meanwhile, PRC media outlets have been busy reporting the highlights from this year’s National People’s Congress and Chinese People's Political Consultative Conference meetings (known as the “two sessions”), including statements and proposals related to AI made by China’s political and tech leaders. Policy suggestions by delegates included advocating for a more favorable policy environment for autonomous vehicles, the development of “green AI,” government leadership in the creation of China’s metaverse, and the creation of a legal framework for UAVs in China. As expected, PRC premier Li Keqiang discussed AI in the context of the development of the PRC’s digital economy. We also cover a UAV built by a PRC research institute that reportedly set the record in China for the longest endurance capability and note that, for the first time in a phase 3 clinical trial in China, an AI chip was successfully implanted into an epilepsy patient’s brain.\\nPRC DRONES AND THE RUSSIA-UKRAINE WAR\\n\\nRussia reportedly asked the PRC for drones. On March 14, CBS News reported that, according to an unnamed US official, Russia has asked the PRC to supply drones to its military. The report came amidst US government accusations that Russia has asked the PRC for economic and military support for its invasion of Ukraine. The PRC government has denied reports of the Russian request for military and economic assistance and of the PRC’s willingness to provide such support, calling them “malicious disinformation.”\")\n",
      "('Leading PRC drone manufacture accused of limiting the capabilities of UAVs used by the Ukrainian military in order to provide Russian forces military advantage.', ' ', 'In the ongoing war in Ukraine, both Russia and Ukraine are reportedly using drones made by Shenzhen-based DJI, a world leader in commercial drone production. Citing sources inside Ukraine, on March 10 Volodymyr Shymanskyy, the co-founder of Blynk IoT, a software company with an office in Kyiv, accused DJI of limiting the capabilities of its AeroScope technology for the Ukrainian army. According to DJI, AeroScope technology “is able to identify the vast majority of popular drones on the market today by monitoring and analyzing their electronic signals to gain critical information.”\\nShymanskyy claimed that because DJI has allegedly limited AeroScope for the Ukrainian army, the Russian military has the technical capabilities to track Ukrainian DJI drone operators, while the Ukrainian army cannot track Russian drone operators, giving “a significant air reconnaissance edge to Russian invaders.” DJI North America responded to these claims by stating that they were false, and further explained that DJI is “aware of the problems with some AeroScope units in Ukraine” and attributed the issue to “prolonged loss of power/internet” rather than “deliberate action to downgrade AeroScope” in Ukraine.\\nTWO SESSIONS\\n\\nFrom March 4–11, the PRC held its “two sessions”—an annual event during which the National People’s Congress (NPC) and the Chinese People’s Political Consultative Conference (CPPCC) conduct concurrent sessions. At the meetings, thousands of delegates discuss a wide array of topics related to the PRC’s economic development, governance, and international relations. Selected tech executives attend the NPC and CPPCC sessions—the latter body being intentionally designed to include delegates from a diversity of social and political strata in the PRC as part of the Chinese Communist Party’s (CCP) “united front” work. Although major political decisions in the PRC are generally made during high-level meetings of the CCP in the fall preceding the two sessions, the highly scripted meetings are often viewed as a way to “take the temperature” of the PRC’s political class.')\n",
      "('Premier Li Keqiang discusses AI in the context of the digital economy in PRC government report.', ' ', 'In line with previous iterations of the “two sessions,” PRC Premier Li Keqiang delivered the annual government work report (see full text from PRC government website in Chinese here and from Xinhua in English here). The work report typically covers a broad range of government achievements over the previous year and goals for the future. Although an in-depth discussion on AI was not expected in this speech, Premier Li mentioned AI in relation to the development of the PRC’s digital economy. He advocated for the development of “smart cities and digital villages” and the expansion of digital industries, such as AI. He further discussed smart manufacturing as an important factor in enhancing the core competitiveness of the\\xa0PRC’s manufacturing industry and encouraged local government spending on “green and smart home appliances” in rural areas to stimulate domestic consumption.\\nOf note, the other anticipated work report of the “two sessions,” the NPC Work Report (see in Chinese here), discussed the importance of science and technology innovation, but did not make specific reference to AI technologies, only broadly stating the importance of strengthening the “digitization, informatization, and intelligentization” for aspects related to the NPC’s own work.')\n",
      "('Political and tech leaders make policy suggestions for autonomous vehicles, green AI, the metaverse, and drones.', ' ', 'Some suggestions made by CPCC delegates include:')\n",
      "('A more favorable policy environment for autonomous vehicles:', ' ', 'According to the Shanghai-based Observer, Baidu CEO Robin Li, who attended the CPPCC, suggested removing bottlenecks in the policy environment for autonomous vehicles with a three-part plan that would: 1) allow driverless vehicles to operate on the road without safety officers and create pilot areas that allow driverless vehicles to carry passengers; 2) revise and implement the Road Traffic Safety Law to set a legal foundation for driverless vehicles; and 3) build an intelligent transportation infrastructure, take full advantage of remote control capabilities enabled by 5G, and improve traffic efficiency and safety through vehicle-road coordination.')\n",
      "('Procuring energy-efficient chips to enable Green AI: ', ' ', 'According to a statement provided to the Global Times, Baidu CEO Robin Li called for an “accelerated push” toward “green AI,” emphasizing the need for energy-efficient AI chips.12 Green AI refers to the “use of green power and algorithms to enable improved energy efficiency and reduced carbon emissions from data centers.” To realize green AI, Li stated that businesses would need to be guided toward research and procurement of energy-efficient AI chips, thereby aligning better with green algorithms.')\n",
      "('Advocating for central government leadership over the “Chinese metaverse”: ', ' ', 'According to the South China Morning Post, Liu Wei, a CPPCC delegate and president of the Guangzhou-based AI services company PCI Technology Group, stated that “the government should lead the creation of the ‘Chinese metaverse’ digital economy.” Liu added that the metaverse could help digitize industries hurt by COVID-19, such as tourism, and assist with the rollout of the PRC’s digital yuan. Although some delegates expressed optimism about the metaverse, others cautioned about the risks it could bring. NPC delegate Tencent CEO Ma Huateng warned that the rise of the metaverse, non-fungible tokens, and Web3 “have brought new risks to finance, technology and social governance at a time when the virtual and physical worlds are merging.”')\n",
      "('Proposing a law to govern UAVs in China:', ' ', 'According to Shanghai-based The Paper, Shao Zhiqing, delegate to the NPC and member of the Party Central Committee of the China Zhi Gong Party (China Public Interest Party), one of PRC’s eight minor political parties, proposed a UAV flight management law. Currently no law exists that addresses drone flight issues in the PRC, although in 2018 the \"Interim Regulations on the Management of Unmanned Aircraft Flights\" was released for comment. Shao’s proposal for the law included several suggestions, including clarifying the responsibilities of relevant government departments regarding drone flight operations and the drone industry; refined classification, supervision, and certification of drones on the market; registration of civilian drones that exceed a certain weight with public security; an application and approval system for drone flight to ensure airspace safety; and requiring the certification and training of owners flying drones over a certain weight.\\nUNMANNED SYSTEMS')\n",
      "('New UAV sets a record for “the longest endurance of its kind in China.”', ' ', 'China Daily reported that the Qing Ou 30 UAV, or “Blue Seagull 30,” the first PRC-developed fixed wing drone capable of vertical takeoff and landing, made its maiden flight in February.15 The UAV can fly up to 800 kilometers in nine hours at speeds of up to 90 km/hour and has a maximum takeoff weight of 30 kilograms. The Qing Ou 30 was built by the Chongqing Research Institute, a collaboration between China’s elite Harbin Institute of Technology and an administrative district of the Chongqing municipal government. The director of the Chongqing Research Institute, Qin Jiang, emphasized that the use of hydrogen-powered batteries instead of traditional lithium batteries helps contribute to the endurance of the UAV.17 A video of the maiden flight of the UAV, held in January in Chongqing, is available on Xinhua News.')\n",
      "('Technology firms from China and Saudi Arabia announce a joint venture, Aerial Solutions, and cooperation agreements to produce UAVs.', ' ', 'PRC state-owned enterprise and leading military electronics manufacturer China Electronics Technology Group Corporation (CETC) and Saudi Arabia-based company Advanced Communications and Electronics Systems (ACES) signed an agreement to manufacture UAVs through a joint venture during the World Defense Show, held in Riyadh from 6-9 March. The joint venture, called Aerial Solutions, will manufacture UAV systems that “include communications, flight-control, camera, radar and wireless-detection systems.” Aerial Solutions will also include a CETC-sponsored research and development center. CCP-affiliated news website China Xiaokang also reported that PRC-based Zhongshan Fukun Aviation Technology Company—a company founded in 2018 that focuses on UAVs, flight control systems, and AI products—signed a “strategic cooperation agreement” to carry out in-depth cooperation in the field of industrial drones with both ACES and Aerial Solutions.\\nINDUSTRY')\n",
      "('Hikvision is reportedly seeking a second-hand ASML machine for chip production.', ' ', \"According to the South China Morning Post, surveillance camera giant and PRC-designated national “AI champion” Hangzhou Hikvision Digital Technology is seeking to purchase a second-hand lithography machine for computer chip production known as extreme ultraviolet lithography (EUV) made by the Dutch firm ASML Holdings. According to the report, “Hikvision's pursuit of a second-hand ASML machine to kick-start its own chip production reflects lingering uncertainties in the global semiconductor supply chain amid new Covid-19 outbreaks in China, heightened tensions between Beijing and Washington, and the potential impact of the war in Ukraine on international trade.”\\nASML is Europe’s largest technology company by market capitalization and is the global leader in lithography systems for the production of advanced computer chips, reportedly occupying 80 to 85 percent of the market. When it comes to EUV—the most advanced type of chipmaking lithography machine—ASML’s market share is 100 percent. Currently, only a few companies, including Intel, Samsung, and TSMC, are able to produce the most advanced chips using ASML’s technologies. In 2020, the Trump Administration successfully lobbied the Dutch government to prevent the sale of EUV systems to PRC companies.\\xa0\\nHikvision has denied that it is seeking to make the acquisition.\\nRESEARCH AND DEVELOPMENT\")\n",
      "('Medical team implants an AI chip into a patient’s brain to control epilepsy as part of a clinical trial.', ' ', 'A medical team from Xuanwu Hospital in Beijing successfully implanted an AI chip into the brain of a patient diagnosed with bilateral temporal lobe epilepsy. The “closed-loop brain-computer interface neurostimulation system” prevents seizures by monitoring the patient’s brain waves and producing an electrical signal at the onset of a seizure to regulate brainwave activity. According to reports, this was the first successful phase 3 clinical implantation for a procedure of this kind in China. However, the clinical trial is not necessarily novel. Researchers from Thomas Jefferson University Hospital in Philadelphia conducted similar trials in 2007.')\n",
      "('Intro (no tag)', ' ', 'Welcome to the China AI and Autonomy Report, a biweekly newsletter published by CNA. In this issue, we report that a PRC regulation restricting the use of recommendation algorithms on internet platforms has entered into force. The regulation, which prohibits the production and dissemination of fake news, comes at a time when PRC social media apps are shutting down thousands of accounts for allegedly posting fake news about Russia’s invasion of Ukraine. PRC authorities also approved the construction of a network of interconnected national computing power hubs across eight regions in eastern and western China. Shenzhen Smart Drone UAV Co., Ltd. displayed a UAV known as the “Thunderbird” at the United Arab Emirates’ Unmanned Systems Exhibition in Abu Dhabi that reportedly operates in “fully autonomous” mode. Tsinghua University’s Institute for AI Industry Research released what it is claiming to be “the world’s first dataset for vehicle-infrastructure collaborative autonomous driving,” which uses algorithms that leverage data from both vehicle-based and infrastructure-based sensors. Meanwhile, the PLA Daily continues its discussion on what “intelligentized” operations might look like in the future, emphasizing that human operators will continue to play a prominent role in future warfare environments.\\nFUTURE WARFARE')\n",
      "('PLA Daily\\xa0article identifies “four forms” of intelligentized operations.', ' ', 'PLA Daily, the official newspaper of the PLA, published an\\xa0article\\xa0titled “Analysis of the Emerging Forms of Intelligentized Operations,” which contrasts past forms of command and control with those of future intelligentized operations. According to the article, intelligentized operations will exhibit the following characteristics:\\n\\nCloud-supported operational systems.\\xa0Big data and cloud computing technologies will be used to integrate information from multiple domains and rapidly disseminate battlefield information to operational platforms.\\nDecentralized and concentrated battlefield disposition.\\xa0Through nodal deployments, networked maneuvers, and virtual concentration, operational assets dispersed across a broad battlefield space will be able to achieve demand-driven reorganization and cross-domain fusion.\\nHuman-machine integrated command and control.\\xa0A human commander will maintain control of operational actions while receiving support from an operational cloud composed of ubiquitous battlefield networks, AI assisted decision-making systems, and AI-enabled operational platforms.\\nAutonomous coordination of operational actions.\\xa0Intelligentized weapons will be highly capable of understanding operational intent, coordinating in a self-adaptive manner, and—with authorities granted by human operators—automatically executing attacks.')\n",
      "('PLA brigade employs smart technology to assist with equipment repairs.', ' ', 'According to\\xa0China Military Online\\xa0, the PLA’s official news and information portal, an unidentified brigade of the 75th Group Army is incorporating intelligent technology into its maintenance operations. Personnel from the 75th Group Army built a database of technical failures, their causes, and repair methods that is updated in real time. When there is an equipment failure, the system automatically consults the database and “intelligently” produces a repair plan. In practice, technicians scan a QR code to obtain the latest diagnosis on the state of the equipment in order to detect faults in the equipment and quickly identify needed repairs. The purpose of this integrated, intelligent system is to develop repair plans more efficiently and reduce human error so that maintenance technicians would not have to “memorize large amounts of technical manuals and data.”\\nUNMANNED SYSTEMS')\n",
      "('PRC defense firms display multiple UAV models at Middle East defense show, including one UAV that reportedly has “AI functionality” and can operate in “fully autonomous” mode.', ' ', 'From February 21–23, the United Arab Emirates hosted the\\xa0Unmanned Systems Exhibition (UMEX)\\xa0in Abu Dhabi. Several PRC companies displayed systems at the event, including defense giants China North Industries Group Corporation (NORINCO) and the China National Aero-Technology Import-Export Corporation (CATIC), and relatively recent defense market entrant\\xa0(SMD). SMD displayed the V480 hybrid gas-electric fixed-wing UAV, known as “Thunderbird,” which can be used for surveillance and reconnaissance and operate in “fully autonomous” mode, according to the company’s\\xa0website. According to one\\xa0online Chinese forum\\xa0, the Thunderbird-V480 has airborne AI functionality and vehicle identification systems, and can loiter for 10 hours. NORINCO’s stand included the\\xa0BZK-005E UAV\\xa0, mini-drones, and the unmanned helicopter\\xa0Golden Eagle CR500A\\xa0. CATIC displayed the U8EA unmanned helicopter and several other unmanned systems. China’s defense industry has been increasing its arms sales in the Middle East and Africa, despite ongoing claims of quality issues, as discussed in a\\xa0previous issue\\xa0of the\\xa0China AI and Autonomy Report.')\n",
      "('PLA media website releases videos of “blue force” UAVs, highlighting challenges and technological capabilities they may anticipate from enemy forces.', ' ', 'China Military Video Net, which is part of the PLA’s News Media Center, released two videos purportedly showcasing “blue force” UAVs (the PLA refers to enemy militaries in exercises as “blue forces”). Together, the videos convey that the PLA is training for scenarios in which they expect to engage enemy UAVs and in which their own UAVs may have vulnerabilities. The\\xa0first video\\xa0shows “blue force” UAVs and notes that one model has strong anti-jamming capabilities and a “smart identification system” for ground targets. The\\xa0second video\\xa0shows one of the UAVs automatically returning to the point of departure when it loses contact with the operator, in this case because of an attack from a shoulder-operated jammer. The video highlights that this feature, which was installed to protect the drone, could expose the UAV controller location to enemy forces as the drone returns. Despite referring to them as “blue force” UAVs, it is unknown if the drones featured in the videos are of PRC or foreign manufacture.\\nNATIONAL POLICY')\n",
      "('A regulation restricting the use of recommendation algorithms went into effect on March 1.', ' ', 'The Cyberspace Administration of China first\\xa0published\\xa0the final version of the “Internet Information Service Algorithmic Recommendation Management Provisions” online in January with a March 1 enforcement date (see English translation from DigiChina\\xa0here\\xa0and a summary of the regulation in a previous newsletter issue\\xa0here). The provisions allow users to opt out of algorithmic recommendation services and prohibit companies from engaging in “monopolistic and unfair competitive behaviors” and “generating and disseminating fake news.” The\\xa0South China Morning Post\\xa0reports\\xa0that the new regulations are taking effect at a time when misinformation and fake news are running rampant on Chinese social media, citing that in recent days, many of China’s largest social media platforms have shut down thousands of accounts that were “spreading provocative content related to Russia’s invasion of Ukraine.”')\n",
      "('PRC authorities approve the construction of national computing power hubs across China.', ' ', 'On February 21, the National Development and Reform Commission (NDRC) posted on its website that, along with the Cyberspace Administration of China, the Ministry of Industry and Information Technology, and the National Energy Administration, it recently approved the construction of national computing power hubs in eight regions in eastern and western China and had made plans for ten “national data center clusters.” The announcement marked the formal launch of China’s “east-data, west-compute” (东数西算) project, which\\xa0Global Times,\\xa0a state-owned news outlet, describes as “transporting data from eastern regions of China to western regions for storage and calculation.”')\n",
      "('Eight National Computing Power Hubs', ' ', 'Beijing-Tianjin-Hebei region\\nYangtze River Delta\\nGuangdong-Hong Kong-Macao Greater Bay Area\\nChengdu-Chongqing economic circle\\nInner Mongolia Autonomous Region\\nGuizhou Province\\nGansu Province\\nNingxia Hui Autonomous Region\\n\\n\\n\\n\\n\\nAccording to an NDRC official, eastern China, where the majority of data centers are located, has limited land, energy, and resources, making it “unsustainable” for the development of big data centers. Western China, however, offers abundant resources, especially renewable energy, and “has the potential to develop data centers to meet the computing power demand of the eastern region.” The official stated that “through the deployment of eight computing power hubs across the country, large and super-large data centers will be guided to gather in those hubs to form data center clusters.” The project aims to implement a “high-speed data transmission network” between the computing power hubs to promote the efficient linkage of computing power between the eastern and western regions.\\nAccording to the official, the project not only improves the PRC’s computing power but also encourages development and investment across China, where development has been uneven between the more prosperous eastern regions and less-developed western regions. Acknowledging these differences, the official stated that in the initial phases of the project, the western data centers will perform tasks that do not require high network requirements, such as computing background processing, offline analysis, and storage backup. Activities that need higher network requirements, such as disaster warning, will be deployed in the eastern hubs.')\n",
      "('PRC tech executives emphasize the digital economy and advanced technologies in the lead-up to the annual “two sessions” event.', ' ', 'From March 4–11, the PRC is holding its\\xa0“two sessions”\\xa0—an annual event during which the National People’s Congress and the Chinese People’s Political Consultative Conference conduct concurrent sessions. An article in\\xa0China Daily,\\xa0the PRC’s official English-language newspaper,\\xa0emphasized\\xa0the importance of the digital economy in the lead-up to the “two meetings,” stating that advancing sound digital economy development, in which AI features prominently, is expected to be a “hot topic” during the event.\\xa0China Daily\\xa0also highlighted the perspectives of Baidu CEO Robin Li and Tencent CEO Pony Ma, who will both be attending as delegates to the “two sessions.” Li, for example, stated that eight key technologies will be transformative for the development of the digital economy: autonomous driving vehicles, machine translation, biological computing, deep learning frameworks, digital city operations, knowledge management, AI-powered chips, and AI-enabled personal assistants.\\nRESEARCH & DEVELOPMENT')\n",
      "('Tsinghua University research institute releases automated driving dataset that integrates data from vehicle-based and infrastructure-based sensors.', ' ', 'Tsinghua University’s Institute for AI Industry Research (AIR) has released a collaborative, open-source dataset for the use of self-driving cars. AIR’s website stated that the dataset is the “the world’s first dataset for vehicle-infrastructure collaborative autonomous driving.” Known as DAIR-V2X, the dataset can be downloaded by users in the PRC and includes more than 71,000 images from roadside cameras, weather radars, and other sensors. DAIR-V2X has been developed in conjunction with Baidu Apollo and the Beijing AI Research Institute and is being tested at the Beijing High-level Automated Driving Demonstration Zone, which features about 10 km of highways and 28 intersections. High-quality data are critical to the advancement of self-driving cars and, according to AIR, the integration of vehicle-based and infrastructure-based sensors will improve its algorithms for automated driving. The development of self-driving cars has been identified by the PRC’s\\xa0“Intelligent Driving Innovation Strategy”\\xa0as an “important national strategic task.”')\n",
      "('A deep-sea mining research team is recognized for the development and successful sea trial of an “intelligent” system for deep-sea mining in the South China Sea.', ' ', 'The Chinese Society for Oceanography, a national professional society for ocean-related science and technology, released a list of\\xa0top ten marine science and technology projects for 2021\\xa0that included the PRC’s first unmanned deep-sea mineral transport, the \"Changyuan.\" Research for this project was supported by the PRC’s national key technology program for “deep-sea technology and equipment development.” The Changyuan deep-sea mining transport system reportedly achieves “system monitoring, intelligent regulation and early warning decision-making” throughout the entire transport process.\\nThe Dalian University of Technology led the\\xa0sea trial\\xa0of the Changyuan system, which included participants from Harbin Engineering University, Xiamen University, and other research organizations. During the August 2021 trial in the South China Sea, the equipment was lowered to 519 meters below sea level and operated for more than 56 hours. Dalian University of Technology noted that the lead researcher worked with Changsha Mining and Metallurgy Research Institute, the 702nd Research Institute of China State Shipbuilding Corporation, China Ocean University, and Shanghai Jiaotong University to design a U-shaped pipeline that regulates the transport of minerals to the surface. The Chinese Society for Oceanography called the technology a “major breakthrough in deep-sea mining mixed-transport intelligent equipment technology.”')\n"
     ]
    }
   ],
   "source": [
    " for index, row in df.iterrows():\n",
    "       print(row.text)\n",
    "\n"
   ]
  },
  {
   "cell_type": "markdown",
   "metadata": {},
   "source": [
    "# Examination"
   ]
  },
  {
   "cell_type": "code",
   "execution_count": 57,
   "metadata": {},
   "outputs": [
    {
     "data": {
      "text/html": [
       "<div>\n",
       "<style scoped>\n",
       "    .dataframe tbody tr th:only-of-type {\n",
       "        vertical-align: middle;\n",
       "    }\n",
       "\n",
       "    .dataframe tbody tr th {\n",
       "        vertical-align: top;\n",
       "    }\n",
       "\n",
       "    .dataframe thead th {\n",
       "        text-align: right;\n",
       "    }\n",
       "</style>\n",
       "<table border=\"1\" class=\"dataframe\">\n",
       "  <thead>\n",
       "    <tr style=\"text-align: right;\">\n",
       "      <th></th>\n",
       "      <th>id</th>\n",
       "      <th>guidislink</th>\n",
       "      <th>link</th>\n",
       "      <th>updated</th>\n",
       "      <th>updated_parsed</th>\n",
       "      <th>published</th>\n",
       "      <th>published_parsed</th>\n",
       "      <th>title</th>\n",
       "      <th>title_detail</th>\n",
       "      <th>summary</th>\n",
       "      <th>...</th>\n",
       "      <th>author_detail</th>\n",
       "      <th>author</th>\n",
       "      <th>links</th>\n",
       "      <th>arxiv_primary_category</th>\n",
       "      <th>tags</th>\n",
       "      <th>arxiv_comment</th>\n",
       "      <th>arxiv_doi</th>\n",
       "      <th>arxiv_journal_ref</th>\n",
       "      <th>search_term</th>\n",
       "      <th>arxiv_affiliation</th>\n",
       "    </tr>\n",
       "  </thead>\n",
       "  <tbody>\n",
       "    <tr>\n",
       "      <th>0</th>\n",
       "      <td>http://arxiv.org/abs/2204.02960v1</td>\n",
       "      <td>True</td>\n",
       "      <td>http://arxiv.org/abs/2204.02960v1</td>\n",
       "      <td>2022-04-06T17:54:46Z</td>\n",
       "      <td>[2022, 4, 6, 17, 54, 46, 2, 96, 0]</td>\n",
       "      <td>2022-04-06T17:54:46Z</td>\n",
       "      <td>[2022, 4, 6, 17, 54, 46, 2, 96, 0]</td>\n",
       "      <td>Simple and Effective Synthesis of Indoor 3D Sc...</td>\n",
       "      <td>{'type': 'text/plain', 'language': None, 'base...</td>\n",
       "      <td>We study the problem of synthesizing immersive...</td>\n",
       "      <td>...</td>\n",
       "      <td>{'name': 'Peter Anderson'}</td>\n",
       "      <td>Peter Anderson</td>\n",
       "      <td>[{'href': 'http://arxiv.org/abs/2204.02960v1',...</td>\n",
       "      <td>{'term': 'cs.CV', 'scheme': 'http://arxiv.org/...</td>\n",
       "      <td>[{'term': 'cs.CV', 'scheme': 'http://arxiv.org...</td>\n",
       "      <td>NaN</td>\n",
       "      <td>NaN</td>\n",
       "      <td>NaN</td>\n",
       "      <td>GAN</td>\n",
       "      <td>NaN</td>\n",
       "    </tr>\n",
       "    <tr>\n",
       "      <th>1</th>\n",
       "      <td>http://arxiv.org/abs/2204.02591v1</td>\n",
       "      <td>True</td>\n",
       "      <td>http://arxiv.org/abs/2204.02591v1</td>\n",
       "      <td>2022-04-06T05:51:04Z</td>\n",
       "      <td>[2022, 4, 6, 5, 51, 4, 2, 96, 0]</td>\n",
       "      <td>2022-04-06T05:51:04Z</td>\n",
       "      <td>[2022, 4, 6, 5, 51, 4, 2, 96, 0]</td>\n",
       "      <td>Contextual Attention Mechanism, SRGAN Based In...</td>\n",
       "      <td>{'type': 'text/plain', 'language': None, 'base...</td>\n",
       "      <td>The new alternative is to use deep learning to...</td>\n",
       "      <td>...</td>\n",
       "      <td>{'name': 'Anwesh Reddy Paduri'}</td>\n",
       "      <td>Anwesh Reddy Paduri</td>\n",
       "      <td>[{'href': 'http://arxiv.org/abs/2204.02591v1',...</td>\n",
       "      <td>{'term': 'cs.CV', 'scheme': 'http://arxiv.org/...</td>\n",
       "      <td>[{'term': 'cs.CV', 'scheme': 'http://arxiv.org...</td>\n",
       "      <td>NaN</td>\n",
       "      <td>NaN</td>\n",
       "      <td>NaN</td>\n",
       "      <td>GAN, fake news</td>\n",
       "      <td>NaN</td>\n",
       "    </tr>\n",
       "  </tbody>\n",
       "</table>\n",
       "<p>2 rows × 22 columns</p>\n",
       "</div>"
      ],
      "text/plain": [
       "                                  id  guidislink  \\\n",
       "0  http://arxiv.org/abs/2204.02960v1        True   \n",
       "1  http://arxiv.org/abs/2204.02591v1        True   \n",
       "\n",
       "                                link               updated  \\\n",
       "0  http://arxiv.org/abs/2204.02960v1  2022-04-06T17:54:46Z   \n",
       "1  http://arxiv.org/abs/2204.02591v1  2022-04-06T05:51:04Z   \n",
       "\n",
       "                       updated_parsed             published  \\\n",
       "0  [2022, 4, 6, 17, 54, 46, 2, 96, 0]  2022-04-06T17:54:46Z   \n",
       "1    [2022, 4, 6, 5, 51, 4, 2, 96, 0]  2022-04-06T05:51:04Z   \n",
       "\n",
       "                     published_parsed  \\\n",
       "0  [2022, 4, 6, 17, 54, 46, 2, 96, 0]   \n",
       "1    [2022, 4, 6, 5, 51, 4, 2, 96, 0]   \n",
       "\n",
       "                                               title  \\\n",
       "0  Simple and Effective Synthesis of Indoor 3D Sc...   \n",
       "1  Contextual Attention Mechanism, SRGAN Based In...   \n",
       "\n",
       "                                        title_detail  \\\n",
       "0  {'type': 'text/plain', 'language': None, 'base...   \n",
       "1  {'type': 'text/plain', 'language': None, 'base...   \n",
       "\n",
       "                                             summary  ...  \\\n",
       "0  We study the problem of synthesizing immersive...  ...   \n",
       "1  The new alternative is to use deep learning to...  ...   \n",
       "\n",
       "                     author_detail               author  \\\n",
       "0       {'name': 'Peter Anderson'}       Peter Anderson   \n",
       "1  {'name': 'Anwesh Reddy Paduri'}  Anwesh Reddy Paduri   \n",
       "\n",
       "                                               links  \\\n",
       "0  [{'href': 'http://arxiv.org/abs/2204.02960v1',...   \n",
       "1  [{'href': 'http://arxiv.org/abs/2204.02591v1',...   \n",
       "\n",
       "                              arxiv_primary_category  \\\n",
       "0  {'term': 'cs.CV', 'scheme': 'http://arxiv.org/...   \n",
       "1  {'term': 'cs.CV', 'scheme': 'http://arxiv.org/...   \n",
       "\n",
       "                                                tags arxiv_comment arxiv_doi  \\\n",
       "0  [{'term': 'cs.CV', 'scheme': 'http://arxiv.org...           NaN       NaN   \n",
       "1  [{'term': 'cs.CV', 'scheme': 'http://arxiv.org...           NaN       NaN   \n",
       "\n",
       "  arxiv_journal_ref     search_term arxiv_affiliation  \n",
       "0               NaN             GAN               NaN  \n",
       "1               NaN  GAN, fake news               NaN  \n",
       "\n",
       "[2 rows x 22 columns]"
      ]
     },
     "execution_count": 57,
     "metadata": {},
     "output_type": "execute_result"
    }
   ],
   "source": [
    "df.head(2)"
   ]
  },
  {
   "cell_type": "code",
   "execution_count": 58,
   "metadata": {},
   "outputs": [
    {
     "data": {
      "text/plain": [
       "399"
      ]
     },
     "execution_count": 58,
     "metadata": {},
     "output_type": "execute_result"
    }
   ],
   "source": [
    "len(df)"
   ]
  },
  {
   "cell_type": "code",
   "execution_count": null,
   "metadata": {},
   "outputs": [],
   "source": [
    "df.info()"
   ]
  },
  {
   "cell_type": "code",
   "execution_count": null,
   "metadata": {},
   "outputs": [],
   "source": [
    "df.describe()"
   ]
  },
  {
   "cell_type": "code",
   "execution_count": null,
   "metadata": {},
   "outputs": [],
   "source": [
    "print(df.published_parsed.max())\n",
    "print(df.published_parsed.min())"
   ]
  },
  {
   "cell_type": "code",
   "execution_count": null,
   "metadata": {},
   "outputs": [],
   "source": [
    "df.arxiv_primary_category[10]"
   ]
  },
  {
   "cell_type": "code",
   "execution_count": null,
   "metadata": {},
   "outputs": [],
   "source": [
    "df.tags[1]"
   ]
  },
  {
   "cell_type": "code",
   "execution_count": null,
   "metadata": {},
   "outputs": [],
   "source": [
    "# get tags\n",
    "\n",
    "tag_list = []\n",
    "\n",
    "for index, row in df.iterrows():\n",
    "      tag = row.tags[0]['term']\n",
    "      tag_list.append(tag)"
   ]
  },
  {
   "cell_type": "code",
   "execution_count": null,
   "metadata": {},
   "outputs": [],
   "source": [
    "Counter(tag_list)"
   ]
  },
  {
   "cell_type": "code",
   "execution_count": null,
   "metadata": {},
   "outputs": [],
   "source": [
    "# NOTES - MOVED TO PROCESSING - delete once sure there are no dependencies\n",
    "def get_tag(x):\n",
    "      tag = x[0]['term']\n",
    "      # TO DO - scrape https://arxiv.org/category_taxonomy to translate codes to plain english\n",
    "      return tag"
   ]
  },
  {
   "cell_type": "code",
   "execution_count": null,
   "metadata": {},
   "outputs": [],
   "source": [
    "# NOTES - MOVED TO PROCESSING - delete once sure there are no dependencies\n",
    "\n",
    "df['category'] = df['tags'].dropna().apply(lambda x:  get_tag(x))\n"
   ]
  },
  {
   "cell_type": "code",
   "execution_count": null,
   "metadata": {},
   "outputs": [],
   "source": [
    "df['category'].value_counts()"
   ]
  },
  {
   "cell_type": "markdown",
   "metadata": {},
   "source": [
    "# Adding some data \n",
    "Only needs to be done once but retaining code for new collections\n",
    "\n",
    "Could move to preprocessing"
   ]
  },
  {
   "cell_type": "code",
   "execution_count": null,
   "metadata": {},
   "outputs": [],
   "source": [
    "# NOTES - MOVED TO PROCESSING - delete once sure there are no dependencies\n",
    "\n",
    "def get_period(x, period):\n",
    "      #output = x.split(',')[period] ## For string splitting\n",
    "      output = x[:period]\n",
    "      if len(output) == 1:\n",
    "            return output[0]\n",
    "      else:\n",
    "            return output"
   ]
  },
  {
   "cell_type": "code",
   "execution_count": null,
   "metadata": {},
   "outputs": [],
   "source": [
    "# NOTES - MOVED TO PROCESSING - delete once sure there are no dependencies\n",
    "\n",
    "df['year'] = df['published_parsed'].dropna().apply(lambda x:  get_period(x, 1))\n",
    "df['month_year'] = df['published_parsed'].dropna().apply(lambda x:  get_period(x, 2))\n",
    "\n"
   ]
  },
  {
   "cell_type": "code",
   "execution_count": null,
   "metadata": {},
   "outputs": [],
   "source": [
    "df.year.value_counts()"
   ]
  },
  {
   "cell_type": "markdown",
   "metadata": {},
   "source": [
    "# Closing out"
   ]
  },
  {
   "cell_type": "code",
   "execution_count": null,
   "metadata": {},
   "outputs": [],
   "source": [
    "out_file = load_file.split('.')[0]"
   ]
  },
  {
   "cell_type": "code",
   "execution_count": null,
   "metadata": {},
   "outputs": [],
   "source": [
    "DATA_PATH + out_file + '.csv'"
   ]
  },
  {
   "cell_type": "code",
   "execution_count": null,
   "metadata": {},
   "outputs": [],
   "source": [
    "df.to_csv(DATA_PATH + out_file + '.csv', index=False)"
   ]
  }
 ],
 "metadata": {
  "interpreter": {
   "hash": "f045682951559cbc0979d5d7223b93f289f756c5241efdcb485f4eca938569a1"
  },
  "kernelspec": {
   "display_name": "Python 3.9.2 ('dri_venv': venv)",
   "language": "python",
   "name": "python3"
  },
  "language_info": {
   "codemirror_mode": {
    "name": "ipython",
    "version": 3
   },
   "file_extension": ".py",
   "mimetype": "text/x-python",
   "name": "python",
   "nbconvert_exporter": "python",
   "pygments_lexer": "ipython3",
   "version": "3.9.2"
  },
  "orig_nbformat": 4
 },
 "nbformat": 4,
 "nbformat_minor": 2
}
