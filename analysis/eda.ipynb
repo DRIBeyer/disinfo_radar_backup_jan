{
 "cells": [
  {
   "cell_type": "markdown",
   "metadata": {},
   "source": [
    "# Setup"
   ]
  },
  {
   "cell_type": "code",
   "execution_count": 1,
   "metadata": {},
   "outputs": [],
   "source": [
    "import pandas as pd\n",
    "\n",
    "from os import listdir\n",
    "from os.path import isfile, join\n",
    "\n",
    "from collections import Counter"
   ]
  },
  {
   "cell_type": "code",
   "execution_count": 2,
   "metadata": {},
   "outputs": [],
   "source": [
    "# Paths\n",
    "DATA_PATH = '../data/'\n",
    "OUTPUT_PATH = '../output_data/'\n",
    "MODEL_PATH = '../data/models/'"
   ]
  },
  {
   "cell_type": "code",
   "execution_count": 3,
   "metadata": {},
   "outputs": [],
   "source": [
    "#pd.set_option('display.max_rows', 100)\n",
    "#pd.options.display.max_columns = 100"
   ]
  },
  {
   "cell_type": "code",
   "execution_count": 45,
   "metadata": {},
   "outputs": [
    {
     "name": "stdout",
     "output_type": "stream",
     "text": [
      "Index, Filename\n",
      "[(0, 'deepfake_txt.csv'), (1, 'arxiv_disinformation.csv'), (2, 'arxiv_deepfake.csv'), (3, 'results.csv'), (4, 'reddit_machinelearning.csv'), (5, 'test_df.csv'), (6, 'mit_data.csv'), (7, 'importai_data.csv'), (8, 'cna_CNA_data.csv'), (9, 'synced_data.csv'), (10, 'ieee_data.csv'), (11, 'test_compiled.csv'), (12, 'data_with_labels.csv'), (13, 'test_output.csv'), (14, 'compiled.csv'), (15, 'cna_data.csv')]\n"
     ]
    }
   ],
   "source": [
    "# Check files in data folder\n",
    "datafiles = [f for f in listdir(DATA_PATH) if isfile(join(DATA_PATH, f))]\n",
    "\n",
    "print('Index, Filename')\n",
    "print(list(zip([index for index, value in enumerate(datafiles)], datafiles)))"
   ]
  },
  {
   "cell_type": "code",
   "execution_count": 46,
   "metadata": {},
   "outputs": [
    {
     "data": {
      "text/plain": [
       "'cna_data.csv'"
      ]
     },
     "execution_count": 46,
     "metadata": {},
     "output_type": "execute_result"
    }
   ],
   "source": [
    "# Get a file name, can use\n",
    "load_file = datafiles[-1]\n",
    "load_file"
   ]
  },
  {
   "cell_type": "code",
   "execution_count": 47,
   "metadata": {},
   "outputs": [],
   "source": [
    "# Load dataframe\n",
    "CONVERTERS = {'tokens': eval, 'published_parsed': eval, 'tags': eval, 'arxiv_primary_category': eval}\n",
    "\n",
    "df = pd.read_csv(DATA_PATH + load_file)#, converters=CONVERTERS)"
   ]
  },
  {
   "cell_type": "code",
   "execution_count": 48,
   "metadata": {},
   "outputs": [
    {
     "data": {
      "text/plain": [
       "Index(['title', 'url', 'date', 'text'], dtype='object')"
      ]
     },
     "execution_count": 48,
     "metadata": {},
     "output_type": "execute_result"
    }
   ],
   "source": [
    "df.columns"
   ]
  },
  {
   "cell_type": "code",
   "execution_count": 49,
   "metadata": {},
   "outputs": [
    {
     "data": {
      "text/plain": [
       "0     The China AI and Autonomy Report: Issue 14, Ma...\n",
       "1     The China AI and Autonomy Report: Issue 14, Ma...\n",
       "2     The China AI and Autonomy Report: Issue 14, Ma...\n",
       "3     The China AI and Autonomy Report: Issue 14, Ma...\n",
       "4     The China AI and Autonomy Report: Issue 14, Ma...\n",
       "5     The China AI and Autonomy Report: Issue 14, Ma...\n",
       "6     The China AI and Autonomy Report: Issue 14, Ma...\n",
       "7     The China AI and Autonomy Report: Issue 14, Ma...\n",
       "8     The China AI and Autonomy Report: Issue 14, Ma...\n",
       "9     The China AI and Autonomy Report: Issue 14, Ma...\n",
       "10    The China AI and Autonomy Report: Issue 14, Ma...\n",
       "11    The China AI and Autonomy Report: Issue 14, Ma...\n",
       "12    The China AI and Autonomy Report: Issue 14, Ma...\n",
       "13    The China AI and Autonomy Report: Issue 14, Ma...\n",
       "14    The China AI and Autonomy Report: Issue 14, Ma...\n",
       "15    The China AI and Autonomy Report: Issue 14, Ma...\n",
       "16    The China AI and Autonomy Report: Issue 14, Ma...\n",
       "17    The China AI and Autonomy Report: Issue 14, Ma...\n",
       "18    The China AI and Autonomy Report: Issue 13, Ap...\n",
       "19    The China AI and Autonomy Report: Issue 13, Ap...\n",
       "20    The China AI and Autonomy Report: Issue 13, Ap...\n",
       "21    The China AI and Autonomy Report: Issue 13, Ap...\n",
       "22    The China AI and Autonomy Report: Issue 13, Ap...\n",
       "23    The China AI and Autonomy Report: Issue 13, Ap...\n",
       "24    The China AI and Autonomy Report: Issue 13, Ap...\n",
       "Name: title, dtype: object"
      ]
     },
     "execution_count": 49,
     "metadata": {},
     "output_type": "execute_result"
    }
   ],
   "source": [
    "df.title"
   ]
  },
  {
   "cell_type": "code",
   "execution_count": 51,
   "metadata": {},
   "outputs": [
    {
     "data": {
      "text/plain": [
       "'DJI suspends operations in Russia and Ukraine amidst continued controversy over the use of its UAVs in the Ukraine conflict. On April 26, DJI  announced  that it \"is internally reassessing compliance requirements\" and \"will temporarily suspend all business activities in Russia and Ukraine.\"  [1]  The  Washington Post    noted that, while \"most Chinese companies with a presence in Russia have chosen to stay silent about their plans,\" some firms \"have quietly adjusted operations to minimize exposure to the Russia market.\"  [2] \\nDJI reached the decision amidst continuing controversies it has faced over the past two months. In March, DJI was accused of limiting the capabilities of drones used by the Ukrainian military (see  Newsletter 11  ) and, later that month, German electronics retailer MediaMarkt removed DJI drone from its stores (see  Newsletter 12  ). Meanwhile, the Wall Street Journal  reports  that Ukrainian soldiers have been told not to connect DJI drones to Wi-Fi or mobile networks, and that US drone manufacturers are stepping in to fill Ukrainian military requirements for small commercial drones. Federal Communications Commissioner Brendan Carr, commenting on the controversy, stated that, \"Reports about DJI drones being used by the Russian military in Ukraine only underscore the need for the US to adopt a clear and consistent response to the potentially serious national security threats posed by this Chinese drone maker.\"  [3]'"
      ]
     },
     "execution_count": 51,
     "metadata": {},
     "output_type": "execute_result"
    }
   ],
   "source": [
    "df.text[1]"
   ]
  },
  {
   "cell_type": "code",
   "execution_count": 52,
   "metadata": {},
   "outputs": [
    {
     "data": {
      "text/plain": [
       "False    25\n",
       "Name: text, dtype: int64"
      ]
     },
     "execution_count": 52,
     "metadata": {},
     "output_type": "execute_result"
    }
   ],
   "source": [
    "df.text.isna().value_counts()"
   ]
  },
  {
   "cell_type": "code",
   "execution_count": 53,
   "metadata": {},
   "outputs": [
    {
     "data": {
      "text/plain": [
       "25"
      ]
     },
     "execution_count": 53,
     "metadata": {},
     "output_type": "execute_result"
    }
   ],
   "source": [
    "len(df)\n"
   ]
  },
  {
   "cell_type": "code",
   "execution_count": 17,
   "metadata": {},
   "outputs": [
    {
     "data": {
      "text/plain": [
       "638"
      ]
     },
     "execution_count": 17,
     "metadata": {},
     "output_type": "execute_result"
    }
   ],
   "source": [
    "df.dropna(subset='tokens', inplace=True)\n",
    "\n",
    "len(df)"
   ]
  },
  {
   "cell_type": "code",
   "execution_count": 18,
   "metadata": {},
   "outputs": [],
   "source": [
    "df.to_csv(DATA_PATH + load_file, index=False)"
   ]
  },
  {
   "cell_type": "code",
   "execution_count": 10,
   "metadata": {},
   "outputs": [],
   "source": [
    "df1 = df[df.tokens.isna() == True]"
   ]
  },
  {
   "cell_type": "code",
   "execution_count": null,
   "metadata": {},
   "outputs": [],
   "source": []
  },
  {
   "cell_type": "code",
   "execution_count": 55,
   "metadata": {},
   "outputs": [
    {
     "name": "stdout",
     "output_type": "stream",
     "text": [
      "0\n",
      "Intro (no tag) Welcome to the China AI and Autonomy Report, a biweekly newsletter published by CNA.\n",
      "In this issue, we highlight a number of PLA Daily articles discussing the future of warfare, including those reporting on the trends in intelligent warfare, cognitive warfare, and the use of the metaverse for training. These articles indicate the continued importance that the PLA places on understanding the role of AI in military operations. Following controversies over the use of its drones in the Ukraine War, PRC drone manufacturer DJI has announced that is has temporarily suspended all business activities in Russia and Ukraine. In other Ukraine War-related news, PLA National Defense University Professor Li Minghai analyzes the role of cognitive warfare in the conflict. In industry news, the city of Beijing has granted Pony.ai and Baidu’s Apollo Go permits to operate driverless cars. These are the first permits of their kind in China. Relatedly, a document released by the PRC tech giant Baidu states that it leads the world in global patent applications for deep learning and autonomous driving.\n",
      "Russia-Ukraine War\n",
      "1\n",
      "DJI suspends operations in Russia and Ukraine amidst continued controversy over the use of its UAVs in the Ukraine conflict. On April 26, DJI  announced  that it \"is internally reassessing compliance requirements\" and \"will temporarily suspend all business activities in Russia and Ukraine.\"  [1]  The  Washington Post    noted that, while \"most Chinese companies with a presence in Russia have chosen to stay silent about their plans,\" some firms \"have quietly adjusted operations to minimize exposure to the Russia market.\"  [2] \n",
      "DJI reached the decision amidst continuing controversies it has faced over the past two months. In March, DJI was accused of limiting the capabilities of drones used by the Ukrainian military (see  Newsletter 11  ) and, later that month, German electronics retailer MediaMarkt removed DJI drone from its stores (see  Newsletter 12  ). Meanwhile, the Wall Street Journal  reports  that Ukrainian soldiers have been told not to connect DJI drones to Wi-Fi or mobile networks, and that US drone manufacturers are stepping in to fill Ukrainian military requirements for small commercial drones. Federal Communications Commissioner Brendan Carr, commenting on the controversy, stated that, \"Reports about DJI drones being used by the Russian military in Ukraine only underscore the need for the US to adopt a clear and consistent response to the potentially serious national security threats posed by this Chinese drone maker.\"  [3]\n",
      "2\n",
      " PLA National Defense University (NDU) professor argues that cognitive warfare operations in the Russia-Ukraine War represents the future of warfare.  The Global Times, a widely read subsidiary of thePeople's Daily with a strong nationalist bent, published an op-ed by Senior Colonel Li Minghai, a professor at the PLA NDU National Security College War and Crisis Response Training Center, claiming that cognitive warfare is the \"essence\" of the confrontation between Russia and Ukraine.  [4] \n",
      "Cognitive domain operations, according to Li, use neuroscience, new information technologies (such as big data and AI), and mass communication channels and platforms to execute cyber, psychological, public opinion, legal, and other forms of information warfare across the conflict continuum and at all levels of war. Li argues that these operations influence opponents' thought processes and ideology through disseminating propaganda, indoctrinating populations, and infiltrating their culture and value systems. Li asserts that this \"mind war\" weaponizes language and ideas to \"affect targets' cognition,\" influence their pursuit of their military and political objectives, and \"change their decision-making and behavior.\"\n",
      "Li alleges that Russia, Ukraine, and Western countries have effectively exploited the world's growing reliance on communications technologies and platforms to sway domestic and international support for their respective aims. According to Li, these states have accomplished this exploitation by selectively releasing key leadership statements and information-along with disinformation and misinformation-about the war, particularly in audio-visual formats, on global social media platforms. To illustrate his point  , Li summarizes key statements that Vladimir Putin, Volodymyr Zelensky, and other global leaders have issued to muster their citizens' support and the support of other countries for their respective sides of the conflict. \n",
      "Future Warfare\n",
      "PLA Daily article discusses seven trends of intelligent warfare. The PLA Daily, the official newspaper of the PLA, published a  lengthy examination  of changes that will be brought about by intelligent warfare.  [5]  The article argues that only by realizing and acting on seven trends in warfare can the PLA become \"invincible.\"\n",
      "3\n",
      "  Trend 1: From the \"strong beating the weak\" to the \"intelligent beating the dull.\"   The article argues that intelligent warfare will transform the basis for winning wars from traditional force advantages to the effective use of AI-enabled systems that will enable traditionally weaker militaries to defeat stronger militaries. Victory will go to the side that can not only develop AI-enabled weapons and equipment but also design strategies and tactics tailored to their effective use.\n",
      "4\n",
      " Trend 2: From \"destructive power\" to \"manipulating cognition.  \"  The authors suggest that intelligent warfare will accelerate the transformation of war from an emphasis on physical destruction to an emphasis on the manipulation of human cognition to weaken enemy morale and the will to fight. In part through the use of AI, militaries will be able to tailor attacks against specific individuals or groups based on personality preferences, psychological characteristics, and decision-making habits.\n",
      "5\n",
      " Trend 3: From \"human-based\" to \"human-machine collaboration.\"  The article predicts that the use of unmanned systems will become widespread and characterized by extensive human-machine collaboration, including the organic integration of humans and machines.\n",
      "6\n",
      " Trend 4: From \"big eats small\" to \"fast eats slow.\"  The article states that extensive use of AI will enable the speed of the kill chain to overcome the traditional advantage of numerical superiority. The ever-increasing speed and effectiveness of AI-enabled systems will reduce human involvement on the battlefield and will result in humans taking a supervisory role over unmanned systems, known as a \"human-on-the-loop\" approach to the command and control of machines.\n",
      "7\n",
      "  Trend 5: From \"winning through integration\" to \"winning through clusters.\"   The authors assert that in future wars the use of swarms of low-cost, distributed, single-function unmanned systems will replace the traditional reliance on costly high-end, multifunctional manned platforms. Swarms of autonomous drones will be able to self-organize and independently carry out missions, and their large numbers will allow them to saturate enemy systems and make them more resistant to attrition.\n",
      "8\n",
      " Trend 6: From \"military dominance\" to \"hybrid warfare.\"  The authors suggest that intelligent warfare will be conducted across many domains, including space, cyber, diplomatic, economic, and cultural. This will result in fewer clear boundaries between peace and war and in more common, but lower-intensity conflicts that occur in the \"gray zone\" between peace and war. These operations will integrate traditional military operations with economic warfare, diplomatic warfare, cyber warfare, public opinion warfare, psychological warfare, and legal warfare.\n",
      "9\n",
      " Trend 7: From \"practical test\" to \"experimental exercise.\"  According to the article, the use of advanced virtual reality will allow militaries to train under a variety of simulated conditions that may be superior in some ways to real-world training and exercising. The use of virtual technologies will better predict the outcome of wars and thus reduce the chances of war or limit the size of war as countries decide either not to start a war or that a military response to an act of aggression would be futile.\n",
      "10\n",
      "PLA Daily article calls battle management systems the \"core\" of modern combat systems. A PLA Daily article, written by the deputy director of the Training Management Department of the People's Armed Police Command College, argues not only that battle management systems are the \"core\" of modern combat systems but also that AI will become the \"core support and driver\" of future battle management systems.  [6]  According to the author, effective battle management helps ensure that \"commanders and troops can smoothly exchange information and instructions.\" The author defines battle management systems as \"command information systems used to support battle management activities, including intelligence collection, information transmission, target identification, threat determination, weapons assignment, and mission planning that evolves with the evolution of warfare and technological progress.\"\n",
      "The article argues that as multidomain operations make warfare more complex, commanders will require AI-enabled battle management systems that can achieve real-time connectivity between sensors and shooters and help commanders make rapid decisions at all levels of command. The use of AI-enabled battle management systems will allow for improved cross-domain operations as communications and data collected from different domains will be fused and disseminated more effectively. This will lead to battle management systems providing an adaptive operational advantage and decision support by spontaneously identifying and classifying threats, autonomously assessing tradeoffs, and automatically assigning weapons.\n",
      "11\n",
      "PLA Daily article emphasizes role of software assurance in future combat systems. A PLA Daily  article  predicts that software will come to replace hardware as the most important component of AI-enabled weapon systems.  [7]  The author argues that more attention needs to be placed on finding and fixing software errors that can result in faulty performance and expose systems to cyber attack. The author recommends that software developers and the military be more vigilant in their quality assurance measures and recommends that the military establish software security centers that are authorized by the developer to fix software errors independently.\n",
      "12\n",
      "PLA Daily article predicts that the metaverse will improve training. An  article  in the PLA Daily argues that the metaverse has the potential to improve training by effectively combining real and virtual training in a variety of scenarios.  [8]  The article defines the metaverse as the fusion of the virtual and real worlds through the use of extended reality, digital twin, blockchain, and AI technologies.\n",
      "According to the author, although the ultimate form of the metaverse is unknown, the metaverse will be able to provide a means to train military personnel in complex, changeable, and harsh battlefield environments in an immersive, realistic, and practical way. The article states, \"There is no doubt that if troops can be subjected to such an environment and conditions, their level of combat and combat capabilities will be greatly enhanced and strengthened.\" Because of the newness of the metaverse, the article argues that it should be developed incrementally to take into account the changing nature of war as well as military strategy, existing conditions, and future requirements that create realistic scenarios conducted at simulated training bases that will give military personnel an immersive experience that will accurately reflect the \"nature, fierceness, and cruelty of future war.\"\n",
      "13\n",
      "PLA Daily article discusses essential role of cognitive warfare in future warfare. A PLA Daily  article  states that cognitive warfare is a primary component of achieving the Sun Zi maxim of \"winning without fighting\" because of its focus on undermining adversary will.  [9]  The author describes cognitive warfare as attacks against human will, spirit, and psychology for the purpose of destroying the enemy's cognitive base and sapping its will to fight. The ultimate goal of cognitive war is to destroy the \"spiritual core of the enemy's personnel\" either to prevent war or limit its scope. Cognitive warfare operations are aided by analysis of the target's politics, military, cultural history, and national character so as to identify the fundamental values of the target.\n",
      "The article describes cognitive war as being based on changes in material conditions that are then exploited to change a human's understanding of reality. In this respect, cognitive warfare will be enabled by advancements in AI-enabled weapons and their improved accuracy and lethality. The destruction wrought by these advanced weapon systems will then be quickly disseminated as credible information using AI-enabled communication, information acquisition, and dissemination technologies.\n",
      "Unmanned Systems\n",
      "A PLA reconnaissance company adapts tactics for combined drone-vehicle operations to improve mobility and extend the range of reconnaissance operations. According to  China Military Online  , the PLA's official news and information portal, a Xinjiang-based reconnaissance company of an unidentified regiment conducted tactical drills to control drones from reconnaissance vehicles with the goal of extending the range of the reconnaissance team.  [10]  During the training, the unit studied the parameters of the UAVs' command link, accumulated data, and manipulated tactical relays. PLA representatives noted that if drones can be paired with reconnaissance vehicles and effective tactics are employed, the overall mobility of the unit can be improved.\n",
      "Governance and Policy\n",
      "14\n",
      "Chinese Academy of Sciences publishes AI principles for climate action. The Chinese Academy of Sciences International Research Center for AI Ethics and Governance published the  \"Principles of AI for Climate Action,\"  which proposes principles governing the use of AI to fight climate change and to lessen the environmental impact of AI technologies. The Center drafted the principles with input from Tsinghua University and the Chinese University of Hong Kong, among others, and international partners from the Technical University of Munich, Singapore Management University, and the South Africa-based Centre for AI Research.  [11]    According to the  S&T Daily  , an official PRC newspaper overseen by the Ministry of Science and Technology, the goal of the document is to empower AI-enabled technologies to promote energy conservation and optimize industrial processes to reduce pollution.  [12]  The \"values and principles\" outlined in the consensus for AI include \"for the good of humans and ecology,\" energy conservation, privacy protection, fairness and justice, education promotion, and cooperation. The AI Ethics and Governance Center specifically noted the potential use of AI for climate forecasting, reducing emissions, carbon storage, and smart energy systems.  [13]\n",
      "15\n",
      "The PRC Ministry of Industry and Information Technology (MIIT) sets deadline for software developers to ensure that mobile internet applications follow new privacy and user rights regulations. On April 20, the MIIT's Information and Communications Management Bureau announced that the ministry had recently \"organized third-party testing\" to inspect various mobile internet applications.  [14]  MIIT stated that at least 37 applications have not yet \"completed rectification\" to ensure compliance with laws such as the Personal Information Protection Law (discussed in  newsletter 3  ), the Cybersecurity Law (passed in 2017, English translation available  here  ), and related telecommunications regulations.  [15]  The non-compliance applications list provides the application name, developer, platform or host, version, and information on the issue.  [16]  Problems listed among the 37 applications included illegally collecting personal information, excessive permissions required, and deceptive or misleading information for users.  [17]  The MIIT announcement did not specify exactly how software developers must fix individual problems but stated that all corrections should be implemented by April 26.  [18]\n",
      "Industry\n",
      "16\n",
      "City of Beijing grants first permits for autonomous driving in China to ride-hailing rivals Baidu and Pony.ai. On April 27, the city of Beijing loosened restrictions on driverless cars by allowing autonomous vehicle company Pony.ai and Baidu's Apollo Go to operate driverless cars in the city.  [19]  They were the first- ever permits of their kind issued in China. Pony.ai, a leading autonomous driving company with operations in both the US and China,  announced  that Beijing municipal authorities awarded the company a permit to operate its robotaxis \"in a 60 square kilometer (23.1 square mile) area in a Pilot Zone in Yizhuang, Beijing.\"  [20]  According to Baidu's  press release  , \"the regulatory milestone . . . represents a major step towards a fully driverless future.\"  [21]  The  Financial Times  notes that a safety supervisor will still be required in the car \"but does not need to be behind the wheel as in previous trials.\"  [22]  Baidu has also  secured permits  for its self-driving taxi service in other Chinese cities, such as Shanghai, Guangzhou, Shenzhen, and Zhejiang Province, but unlike the Beijing permits, these require a human behind the wheel.  [23]\n",
      "17\n",
      "Baidu announces lead in global patent applications for deep learning and autonomous driving. China Daily, the PRC's official English-language newspaper,  reports  that, according to a white paper published by Baidu, as of April 2022 the company \"has filed more than 22,000 AI-related patent applications worldwide\" and ranks first in patent applications globally for deep learning and autonomous driving.  [24]  Of that total, \"over 16,000 patents\" applications were filed in China, and approximately 4,600 patents related to AI were granted. China Daily also reports that \"over 90 percent of the patented technologies have been leveraged into products,\" which means that Baidu is one of the most successful companies in terms of commercializing its applications. Excerpts of the white paper published by Baidu and posted on  social media  highlight that, in 2021, Baidu's research and development accounted for 23 percent of core revenue.  [25]  Baidu Chief Technology Officer Wang Haifeng attributed the company's success to upgrading through open-source platforms. China Daily specifically noted the importance of patents related to PaddlePaddle, Baidu's deep learning platform, and autonomous driving applications, such as Apollo Go.\n",
      "Notes\n",
      "\n",
      "\n",
      " [1]  DJI, \"DJI Reassesses Sales Compliance Efforts in Light of Current Hostilities,\" Apr. 26, 2022,  https://www.dji.com/newsroom/news/dji-statement-on-sales-compliance-efforts  .\n",
      "\n",
      "\n",
      " [2]  Christian Shepherd, \"Chinese Drone-maker DJI Suspends Operations in Russia, Ukraine Over War Use,\" Washington Post, Apr. 27, 2022,  https://www.washingtonpost.com/world/2022/04/27/china-drones-dji-russia-suspension-war/  .\n",
      "\n",
      "\n",
      " [3]  Grant Hindsley, \"Ukraine Sounds Alarm on Chinese Drones, Opening Skies to US Startups; US Drone Makers Spot Opportunity as Use of Drones from China-based DJI Sparks Security Concerns,\" Wall Street Journal, Apr. 22, 2022,  https://www.wsj.com/articles/ukraine-sounds-alarm-on-chinese-drones-opening-skies-to-u-s-startups-11650619800  .\n",
      "\n",
      "\n",
      " [4]  Li Minghai, \"Li Minghai: The Cognitive Domain Is Becoming the Main Battlefield in Future Intelligentized Hybrid Warfare\" (李明海: 认知域正成为未来智能化混合战争主战场), Global Times (环球时报), Mar. 17, 2022,\n",
      " https://opinion.huanqiu.com/article/47DoZ45dMzV  .\n",
      "\n",
      "\n",
      " [5]  Xie Kai, Zhang Dongrun, and Liang Xiaoping, \"A Thorough Understanding of the Evolution of the Winning Mechanism of Intelligent Warfare\" (透视智能化战争制胜机理嬗变), PLA Daily, Apr. 26, 2022,  https://www.81.cn/bz/2022-04/26/content_10150428.htm  .\n",
      "\n",
      "\n",
      " [6]  Yang Lianzhen, \"Battle Management Systems: The Core of a Modernized Operational System\" (作战管理系统：现代化作战体系核心), Apr. 22, 2022,  http://www.81.cn/yw/2022-04/22/content_10149663.htm  .\n",
      "\n",
      "\n",
      " [7]  Zhao Xiangang, Han Yanzhe, and Yuan Yan, \"Intelligent Warfare Emphasizes Software Support\" (智能化战争须重视软件保障), PLA Daily, Apr. 7, 2022,  http://www.81.cn/jfjbmap/content/2022-04/07/content_313120.htm  .\n",
      "\n",
      "\n",
      " [8]  Hu Jianxin and Li Xinglei, \"Create a Realistic and Applicable Battlefield Metaverse\" (打造逼真适用的\"战场元宇宙\"), PLA Daily, Apr. 14, 2022,  http://www.81.cn/jfjbmap/content/2022-04/14/content_313630.htm  .\n",
      "\n",
      "\n",
      " [9]  Gao Kai, \"Exploring the Operating Mechanism of Cogntive Warfare\" (探究认知战运行机理), PLA Daily, Apr. 12, 2022,  http://www.81.cn/jfjbmap/content/2022-04/12/content_313458.htm  .\n",
      "\n",
      "\n",
      " [10]  Wang Lei and Liu Siwei, \"Southern Xinjiang Military District Regiment Reconnaissance Company Develops Scientific and Technological Innovation to Increase Combat Effectiveness\" (南疆军区某团侦察连紧盯战场之变开展科技革新提升战斗力 ), China Military Online, Apr. 22, 2022,  http://www.81.cn/bz/2022-04/22/content_10149733.htm  .\n",
      "\n",
      "\n",
      " [11]  International Research Center for AI Ethics and Governance, \"Principles on AI for Climate Action,\" Apr. 26, 2022,  https://ai-ethics-and-governance.institute/2022/04/26/principles-on-ai-for-climate-action/  .\n",
      "\n",
      "\n",
      " [12]  Zhao Weihua, \"'Principles of AI for Climate Actions' Consensus Published\" (《面向气候行动的人工智能原则》共识发布), S&T Daily, Apr. 27, 2022,  http://www.stdaily.com/index/kejixinwen/202204/b305308031f24ad99ebb1122a6d79f8b.shtml  .\n",
      "\n",
      "\n",
      " [13]  International Research Center for AI Ethics and Governance, \"Principles on AI for Climate Action,\" Apr. 26, 2022,  https://ai-ethics-and-governance.institute/2022/04/26/principles-on-ai-for-climate-action/  .\n",
      "\n",
      "\n",
      " [14]  Ministry of Industry and Information Technology, \"On Infringement of User Rights in Conduct of Applications Announcement\" (关于侵害用户权益行为的APP通报), Apr. 20, 2022,  https://www.miit.gov.cn/jgsj/xgj/gzdt/art/2022/art_6ef1ccb012924c5494086fa90dfd8c8f.html  .\n",
      "\n",
      "\n",
      " [15]  Rogier Creemers, Paul Triolo, and Graham Webster, \"Translation: Cybersecurity Law of the People's Republic of China (Effective June 1, 2017),\" New America, Jun. 29, 2018,  https://www.newamerica.org/cybersecurity-initiative/digichina/blog/translation-cybersecurity-law-peoples-republic-china/  .\n",
      "\n",
      "\n",
      " [16]  \"Baidu Wins First Driverless Permits in China for Autonomous Ride Hailing Services on Public Roads,\"\n",
      "\n",
      "\n",
      " [17]  Ministry of Industry and Information Technology, \"MIIT Announces Existing Problematic Applications List,\" Apr. 20, 2022,  https://www.miit.gov.cn/cms_files/filemanager/1226211233/attach/20224/4a642aad08a94a148fb8e9c8de96f8a0.docx  .\n",
      "\n",
      "\n",
      " [18]  Ministry of Industry and Information Technology, \"On Infringement of User Rights in Conduct of Applications Announcement\" (关于侵害用户权益行为的APP通报), Apr. 20, 2022,  https://www.miit.gov.cn/jgsj/xgj/gzdt/art/2022/art_6ef1ccb012924c5494086fa90dfd8c8f.html  .\n",
      "\n",
      "\n",
      " [19]  Associated Press, \"China Grants First Driverless Taxi Permits to Baidu, Pony.ai,\" ABC News, Apr. 28, 2022,  https://abcnews.go.com/Technology/wireStory/china-grants-driverless-taxi-permits-baidu-ponyai-84363838  .\n",
      "\n",
      "\n",
      " [20]  \"Pony.ai Approved for Public Driverless Robotaxi Service in Beijing,\" Business Wire, Apr. 27, 2022,  https://www.businesswire.com/news/home/20220427006212/en/Pony.ai-Approved-for-Public-Driverless-Robotaxi-Service-in-Beijing  .\n",
      "\n",
      "\n",
      " [21]  Baidu Inc., \"Baidu Wins First Driverless Permits in China for Autonomous Ride Hailing Services on Public Roads,\" PR Newswire, Apr. 27, 2022,  https://www.prnewswire.com/news-releases/baidu-wins-first-driverless-permits-in-china-for-autonomous-ride-hailing-services-on-public-roads-301534956.html?tc=eml_cleartime  .\n",
      "\n",
      "\n",
      " [22]  Primrose Riordan and Gloria Li, \"Beijing Grants First Driverless Robotaxi Licenses to Baidu and Pony.ai,\" Financial Times, Apr. 28, 2022,  https://www.ft.com/content/de57cadc-3622-4ae0-8b7d-ef0bf31395ef  .\n",
      "\n",
      "\n",
      " [23]  Fan Feifei, \"Baidu to Launch Self-Driving Taxi Service in Zhejiang,\" China Daily, Mar. 25, 2022,  https://global.chinadaily.com.cn/a/202203/25/WS623d6a6ca310fd2b29e53570.html  .\n",
      "\n",
      "\n",
      " [24]  Fan Feifei, \"Baidu Leads in AI-related Patents,\" China Daily, Apr. 26, 2022,  http://global.chinadaily.com.cn/a/202204/26/WS62678b36a310fd2b29e5966e.html  .\n",
      "\n",
      "\n",
      " [25]  \"Baidu AI Patent White Paper 2022 Published, Baidu World Leader in Applications in Two Areas!\" （《百度人工智能专利白皮书2022》发布，两大领域申请量全球第一！），  https://3g.163.com/dy/article/H5VRAS3E05388UDU.html  .\n",
      "18\n",
      "Intro (no tag) Welcome to the China AI and Autonomy Report, a biweekly newsletter published by CNA.\n",
      "Authors in the PLA Daily consider the best way forward for evaluating intelligent command systems, emphasizing the importance of integrating actual command parameters into assessing their effectiveness. PLA researchers have made a breakthrough in using an AI system with a satellite video to better identify and track objects such as planes and cars. The Cyberspace Administration of China has launched a campaign targeting the use of recommendation algorithms in internet companies. The campaign has an explicit focus on large, socially influential internet platforms, which has caused speculation that it is likely an effort to rein in social media giants Tencent and TikTok's parent company Bytedance. PRC ministries have also released a scientific and technology development plan for its transportation sector that seeks to integrate \"intelligent\" technologies into many aspects of transportation, including logistics, infrastructure, traffic monitoring, and vehicles for land, sea, and air transit. Meanwhile, the Beijing Academy of Artificial Intelligence (BAAI) has issued an apology to a Google Brain research scientist who accused PRC researchers from BAAI and other prestigious PRC institutions and corporations of committing plagiarism in a BAAI publication on machine learning. Also of note, this month another of China's \"AI dragons,\" the facial recognition giant CloudWalk Technologies, announced plans to go public.\n",
      "Intelligent Military Command Systems\n",
      "19\n",
      "PLA Daily discusses requirements for properly evaluating intelligent command systems. The PLA Daily, the official newspaper of the PLA, published an  article  on how best to assess the performance of intelligent command systems.  [1]  The authors write that current assessments of intelligent command systems rely on gaming technologies that overemphasize scores and win-loss rates at the expense of using actual command parameters as measures of effectiveness. They argue that the ability to carry out core command activities (e.g., maintaining situational awareness, rapid decision-making, sound strategic and tactical design, thorough planning, efficient control, and flexible response) is a better criterion for evaluating intelligent command systems. In this respect, the authors argue that evaluations of intelligent command systems involve:\n",
      "\n",
      "Evaluations of situational awareness capabilities.  Criteria for evaluating situational awareness capabilities include the ability to assess enemy and friendly dispositions, perceive changes in the situation in real-time, and make predictions about the future battlefield situation.\n",
      "Evaluations of operational decision-making.  Criteria for evaluating operational decisions include the ability to make systematic, rational, and innovative decisions. Effective evaluations include assessing the ability of intelligent command systems to deal with major changes that occur during operations, use standardized procedures, inherit content, and make timely decisions.\n",
      "Evaluations of the ability to formulate plans. Criteria for evaluating the ability to formulate plans include the ability to retrieve and prioritize pre-determined solutions, accurately and rationally match plans to the situation and operational objectives, differentiate between forces, and design operations according to specific plans and capabilities.\n",
      "Evaluations of command and control capabilities. Criteria for evaluating command and control capabilities include the ability to issue timely and complete instructions to each subordinate unit, the ability to command and control multiple units effectively, and the ability to issue commands based on changes to the battlefield situation.\n",
      "\n",
      "\n",
      "To conduct these assessments, the authors argue that an effective evaluation team must be composed of functional experts who can evaluate military decision-making, technical experts who can properly evaluate intelligent system technology, and technology specialists who can support the team.\n",
      "Governance and Law\n",
      "20\n",
      "The Cyberspace Administration of China (CAC) launches a campaign targeting the use of algorithms in large PRC internet enterprises (see original text here and translation from DigiChina  here  ).  [2]  On April 8, CAC announced \"Clear 2022 Comprehensive Governance of Algorithms\"-a campaign to ensure that corporate algorithms comply with the recently adopted  Internet Information Service Algorithmic Recommendation Management Provisions  (hereafter referred to as Provisions). The campaign will be held from April 8 until the beginning of December 2022 and will target \"large-scale websites, platforms, and products that have relatively strong public opinion properties or the capacity for social mobilization.\"\n",
      " According to Bloomberg  , although the campaign does not mention specific companies, it explicitly targets large, socially influential platforms, a possible reference to ByteDance and Tencent. The campaign is seen as part of a broader effort that began in 2020 to rein in the influence of Big Tech in China.  [3]\n",
      "21\n",
      "\"Intelligent\" technologies feature heavily in the recently publicized PRC science and technology development plan for the field of transportation. On April 6, the Ministry of Transportation and the Ministry of Science and Technology publicly released the \"Outline for the Medium- and Long-term Development Plan for Scientific and Technological Innovation in the Transportation Sector (2021-2035)\" (see from PRC government  here  ).  [4]  By 2035, the plan aims for China to be at the \"forefront of the world\" in terms of its overall level of innovation in science and technology for transportation. The plan's goals that involve the use of \"intelligent\" technologies include the following:\n",
      "\n",
      "Make advances in infrastructure monitoring, maintenance, and performance using intelligent technologies.\n",
      "Further integrate intelligent technologies into road, rail, sea, and air travel. This includes making intelligent and autonomous vehicles for transit and using intelligent technologies to manage and monitor the transportation environments in each of these areas.\n",
      "Accelerate the adoption of smart logistics, using intelligent technologies to enable better coordination between various modes of transportation and to improve the efficiency of warehousing, sorting, and delivery.\n",
      "\n",
      "It is important to note that, although the outline lists many technologies that the PRC aspires to advance and adopt, it does not provide details on entities that may be responsible for the development of specific technologies or provide specific budget allocations for R&D.\n",
      "Industry\n",
      "22\n",
      "Another one of China's \"AI dragons\" plans to go public. On April 6, CloudWalk Technology, \"an AI platform specializing in facial recognition,\" received approval from the China Securities Regulatory Commission to pursue an IPO on the Shanghai Stock Exchange.  [5]  According to a Beijing-based industry publication, CloudWalk will use the funds for a \"human-machine collaborative operating system upgrade project\" referred to as the Qingzhou KaaS Cloud Ecosystem. CloudWalk Technology grew out of the state-affiliated Chinese Academy of Sciences and launched as a commercial enterprise in 2015.  [6]  CloudWalk's IPO will make it the second of China's leading AI start-ups, known as the four \"AI dragons,\" to go public after SenseTime listed on the Hong Kong Stock Exchange in late December 2021,  amidst considerable controversy  .  [7] \n",
      "Research and Development\n",
      "23\n",
      "PLA researchers develop AI system enabling satellites to track targets. The South China Morning Post  reports  on an article authored by researchers at the PLA's Space Engineering University who developed an AI system that was able to achieve a 95 percent success rate in tracking targets from a video feed from the Jilin-1 satellite.  [8]  According to the article, the application could enable even low-cost satellites to track targets. The research appeared in Fire Control and Command Control, a PRC peer-reviewed journal published by state-owned defense conglomerate China North Industries Corporation (NORINCO).  [9]  According to the report, unlike previous systems, this AI system was able to track flying aircraft and moving cars and to reacquire targets after they were temporarily lost after making sharp turns or going through a bridge or tunnel. This AI system may lack a real-time tracking capability, however, because the video feed must be transmitted to a ground station and then processed by a computing center. The article noted that newer PRC satellites have been equipped with processors that could be uploaded with the tracking algorithm.\n",
      "24\n",
      "Beijing Academy of Artificial Intelligence (BAAI) apologizes after Google Brain research scientist exposes plagiarism in one of its machine learning research publications. On April 8, Nicholas Carlini, a research scientist with Google Brain, posted an article on his website  describing how a recently published paper \"plagiarized several paragraphs\" of his work on deduplicating training data for language models and \"copied from at least a dozen other papers.\"  [10]  Carlini's original paper described \"deduplication tools\" to improve the performance of language models.  [11]  The scandal surrounds the paper, titled \"A Roadmap for Big Model,\" which is meant to serve as an academic review of the latest in machine learning techniques and the state of Big Model applications.  [12]  The \"Roadmap\" article listed over 100 authors representing some of China's most prestigious institutions, such as Tsinghua University, Peking University, BAAI, and the China Academy of Sciences, and industry giants, such as ByteDance, Huawei, Tencent, and JD.com.  [13]  On April 14, BAAI posted an apology for the plagiarism on  Twitter  . An official BAAI  statement  on the issue stated that the authors were asked to conduct a \"rigorous review\" of the article's content and that \"a third-party expert panel will be assembled to conduct an independent investigation of the issue, and those identified as responsible will be held accountable.\"  [14]\n"
     ]
    }
   ],
   "source": [
    " for index, row in df.iterrows():\n",
    "       print(index)\n",
    "       print(row.text)\n",
    "\n"
   ]
  },
  {
   "cell_type": "markdown",
   "metadata": {},
   "source": [
    "# Examination"
   ]
  },
  {
   "cell_type": "code",
   "execution_count": 57,
   "metadata": {},
   "outputs": [
    {
     "data": {
      "text/html": [
       "<div>\n",
       "<style scoped>\n",
       "    .dataframe tbody tr th:only-of-type {\n",
       "        vertical-align: middle;\n",
       "    }\n",
       "\n",
       "    .dataframe tbody tr th {\n",
       "        vertical-align: top;\n",
       "    }\n",
       "\n",
       "    .dataframe thead th {\n",
       "        text-align: right;\n",
       "    }\n",
       "</style>\n",
       "<table border=\"1\" class=\"dataframe\">\n",
       "  <thead>\n",
       "    <tr style=\"text-align: right;\">\n",
       "      <th></th>\n",
       "      <th>id</th>\n",
       "      <th>guidislink</th>\n",
       "      <th>link</th>\n",
       "      <th>updated</th>\n",
       "      <th>updated_parsed</th>\n",
       "      <th>published</th>\n",
       "      <th>published_parsed</th>\n",
       "      <th>title</th>\n",
       "      <th>title_detail</th>\n",
       "      <th>summary</th>\n",
       "      <th>...</th>\n",
       "      <th>author_detail</th>\n",
       "      <th>author</th>\n",
       "      <th>links</th>\n",
       "      <th>arxiv_primary_category</th>\n",
       "      <th>tags</th>\n",
       "      <th>arxiv_comment</th>\n",
       "      <th>arxiv_doi</th>\n",
       "      <th>arxiv_journal_ref</th>\n",
       "      <th>search_term</th>\n",
       "      <th>arxiv_affiliation</th>\n",
       "    </tr>\n",
       "  </thead>\n",
       "  <tbody>\n",
       "    <tr>\n",
       "      <th>0</th>\n",
       "      <td>http://arxiv.org/abs/2204.02960v1</td>\n",
       "      <td>True</td>\n",
       "      <td>http://arxiv.org/abs/2204.02960v1</td>\n",
       "      <td>2022-04-06T17:54:46Z</td>\n",
       "      <td>[2022, 4, 6, 17, 54, 46, 2, 96, 0]</td>\n",
       "      <td>2022-04-06T17:54:46Z</td>\n",
       "      <td>[2022, 4, 6, 17, 54, 46, 2, 96, 0]</td>\n",
       "      <td>Simple and Effective Synthesis of Indoor 3D Sc...</td>\n",
       "      <td>{'type': 'text/plain', 'language': None, 'base...</td>\n",
       "      <td>We study the problem of synthesizing immersive...</td>\n",
       "      <td>...</td>\n",
       "      <td>{'name': 'Peter Anderson'}</td>\n",
       "      <td>Peter Anderson</td>\n",
       "      <td>[{'href': 'http://arxiv.org/abs/2204.02960v1',...</td>\n",
       "      <td>{'term': 'cs.CV', 'scheme': 'http://arxiv.org/...</td>\n",
       "      <td>[{'term': 'cs.CV', 'scheme': 'http://arxiv.org...</td>\n",
       "      <td>NaN</td>\n",
       "      <td>NaN</td>\n",
       "      <td>NaN</td>\n",
       "      <td>GAN</td>\n",
       "      <td>NaN</td>\n",
       "    </tr>\n",
       "    <tr>\n",
       "      <th>1</th>\n",
       "      <td>http://arxiv.org/abs/2204.02591v1</td>\n",
       "      <td>True</td>\n",
       "      <td>http://arxiv.org/abs/2204.02591v1</td>\n",
       "      <td>2022-04-06T05:51:04Z</td>\n",
       "      <td>[2022, 4, 6, 5, 51, 4, 2, 96, 0]</td>\n",
       "      <td>2022-04-06T05:51:04Z</td>\n",
       "      <td>[2022, 4, 6, 5, 51, 4, 2, 96, 0]</td>\n",
       "      <td>Contextual Attention Mechanism, SRGAN Based In...</td>\n",
       "      <td>{'type': 'text/plain', 'language': None, 'base...</td>\n",
       "      <td>The new alternative is to use deep learning to...</td>\n",
       "      <td>...</td>\n",
       "      <td>{'name': 'Anwesh Reddy Paduri'}</td>\n",
       "      <td>Anwesh Reddy Paduri</td>\n",
       "      <td>[{'href': 'http://arxiv.org/abs/2204.02591v1',...</td>\n",
       "      <td>{'term': 'cs.CV', 'scheme': 'http://arxiv.org/...</td>\n",
       "      <td>[{'term': 'cs.CV', 'scheme': 'http://arxiv.org...</td>\n",
       "      <td>NaN</td>\n",
       "      <td>NaN</td>\n",
       "      <td>NaN</td>\n",
       "      <td>GAN, fake news</td>\n",
       "      <td>NaN</td>\n",
       "    </tr>\n",
       "  </tbody>\n",
       "</table>\n",
       "<p>2 rows × 22 columns</p>\n",
       "</div>"
      ],
      "text/plain": [
       "                                  id  guidislink  \\\n",
       "0  http://arxiv.org/abs/2204.02960v1        True   \n",
       "1  http://arxiv.org/abs/2204.02591v1        True   \n",
       "\n",
       "                                link               updated  \\\n",
       "0  http://arxiv.org/abs/2204.02960v1  2022-04-06T17:54:46Z   \n",
       "1  http://arxiv.org/abs/2204.02591v1  2022-04-06T05:51:04Z   \n",
       "\n",
       "                       updated_parsed             published  \\\n",
       "0  [2022, 4, 6, 17, 54, 46, 2, 96, 0]  2022-04-06T17:54:46Z   \n",
       "1    [2022, 4, 6, 5, 51, 4, 2, 96, 0]  2022-04-06T05:51:04Z   \n",
       "\n",
       "                     published_parsed  \\\n",
       "0  [2022, 4, 6, 17, 54, 46, 2, 96, 0]   \n",
       "1    [2022, 4, 6, 5, 51, 4, 2, 96, 0]   \n",
       "\n",
       "                                               title  \\\n",
       "0  Simple and Effective Synthesis of Indoor 3D Sc...   \n",
       "1  Contextual Attention Mechanism, SRGAN Based In...   \n",
       "\n",
       "                                        title_detail  \\\n",
       "0  {'type': 'text/plain', 'language': None, 'base...   \n",
       "1  {'type': 'text/plain', 'language': None, 'base...   \n",
       "\n",
       "                                             summary  ...  \\\n",
       "0  We study the problem of synthesizing immersive...  ...   \n",
       "1  The new alternative is to use deep learning to...  ...   \n",
       "\n",
       "                     author_detail               author  \\\n",
       "0       {'name': 'Peter Anderson'}       Peter Anderson   \n",
       "1  {'name': 'Anwesh Reddy Paduri'}  Anwesh Reddy Paduri   \n",
       "\n",
       "                                               links  \\\n",
       "0  [{'href': 'http://arxiv.org/abs/2204.02960v1',...   \n",
       "1  [{'href': 'http://arxiv.org/abs/2204.02591v1',...   \n",
       "\n",
       "                              arxiv_primary_category  \\\n",
       "0  {'term': 'cs.CV', 'scheme': 'http://arxiv.org/...   \n",
       "1  {'term': 'cs.CV', 'scheme': 'http://arxiv.org/...   \n",
       "\n",
       "                                                tags arxiv_comment arxiv_doi  \\\n",
       "0  [{'term': 'cs.CV', 'scheme': 'http://arxiv.org...           NaN       NaN   \n",
       "1  [{'term': 'cs.CV', 'scheme': 'http://arxiv.org...           NaN       NaN   \n",
       "\n",
       "  arxiv_journal_ref     search_term arxiv_affiliation  \n",
       "0               NaN             GAN               NaN  \n",
       "1               NaN  GAN, fake news               NaN  \n",
       "\n",
       "[2 rows x 22 columns]"
      ]
     },
     "execution_count": 57,
     "metadata": {},
     "output_type": "execute_result"
    }
   ],
   "source": [
    "df.head(2)"
   ]
  },
  {
   "cell_type": "code",
   "execution_count": 58,
   "metadata": {},
   "outputs": [
    {
     "data": {
      "text/plain": [
       "399"
      ]
     },
     "execution_count": 58,
     "metadata": {},
     "output_type": "execute_result"
    }
   ],
   "source": [
    "len(df)"
   ]
  },
  {
   "cell_type": "code",
   "execution_count": null,
   "metadata": {},
   "outputs": [],
   "source": [
    "df.info()"
   ]
  },
  {
   "cell_type": "code",
   "execution_count": null,
   "metadata": {},
   "outputs": [],
   "source": [
    "df.describe()"
   ]
  },
  {
   "cell_type": "code",
   "execution_count": null,
   "metadata": {},
   "outputs": [],
   "source": [
    "print(df.published_parsed.max())\n",
    "print(df.published_parsed.min())"
   ]
  },
  {
   "cell_type": "code",
   "execution_count": null,
   "metadata": {},
   "outputs": [],
   "source": [
    "df.arxiv_primary_category[10]"
   ]
  },
  {
   "cell_type": "code",
   "execution_count": null,
   "metadata": {},
   "outputs": [],
   "source": [
    "df.tags[1]"
   ]
  },
  {
   "cell_type": "code",
   "execution_count": null,
   "metadata": {},
   "outputs": [],
   "source": [
    "# get tags\n",
    "\n",
    "tag_list = []\n",
    "\n",
    "for index, row in df.iterrows():\n",
    "      tag = row.tags[0]['term']\n",
    "      tag_list.append(tag)"
   ]
  },
  {
   "cell_type": "code",
   "execution_count": null,
   "metadata": {},
   "outputs": [],
   "source": [
    "Counter(tag_list)"
   ]
  },
  {
   "cell_type": "code",
   "execution_count": null,
   "metadata": {},
   "outputs": [],
   "source": [
    "# NOTES - MOVED TO PROCESSING - delete once sure there are no dependencies\n",
    "def get_tag(x):\n",
    "      tag = x[0]['term']\n",
    "      # TO DO - scrape https://arxiv.org/category_taxonomy to translate codes to plain english\n",
    "      return tag"
   ]
  },
  {
   "cell_type": "code",
   "execution_count": null,
   "metadata": {},
   "outputs": [],
   "source": [
    "# NOTES - MOVED TO PROCESSING - delete once sure there are no dependencies\n",
    "\n",
    "df['category'] = df['tags'].dropna().apply(lambda x:  get_tag(x))\n"
   ]
  },
  {
   "cell_type": "code",
   "execution_count": null,
   "metadata": {},
   "outputs": [],
   "source": [
    "df['category'].value_counts()"
   ]
  },
  {
   "cell_type": "markdown",
   "metadata": {},
   "source": [
    "# Adding some data \n",
    "Only needs to be done once but retaining code for new collections\n",
    "\n",
    "Could move to preprocessing"
   ]
  },
  {
   "cell_type": "code",
   "execution_count": null,
   "metadata": {},
   "outputs": [],
   "source": [
    "# NOTES - MOVED TO PROCESSING - delete once sure there are no dependencies\n",
    "\n",
    "def get_period(x, period):\n",
    "      #output = x.split(',')[period] ## For string splitting\n",
    "      output = x[:period]\n",
    "      if len(output) == 1:\n",
    "            return output[0]\n",
    "      else:\n",
    "            return output"
   ]
  },
  {
   "cell_type": "code",
   "execution_count": null,
   "metadata": {},
   "outputs": [],
   "source": [
    "# NOTES - MOVED TO PROCESSING - delete once sure there are no dependencies\n",
    "\n",
    "df['year'] = df['published_parsed'].dropna().apply(lambda x:  get_period(x, 1))\n",
    "df['month_year'] = df['published_parsed'].dropna().apply(lambda x:  get_period(x, 2))\n",
    "\n"
   ]
  },
  {
   "cell_type": "code",
   "execution_count": null,
   "metadata": {},
   "outputs": [],
   "source": [
    "df.year.value_counts()"
   ]
  },
  {
   "cell_type": "markdown",
   "metadata": {},
   "source": [
    "# Closing out"
   ]
  },
  {
   "cell_type": "code",
   "execution_count": null,
   "metadata": {},
   "outputs": [],
   "source": [
    "out_file = load_file.split('.')[0]"
   ]
  },
  {
   "cell_type": "code",
   "execution_count": null,
   "metadata": {},
   "outputs": [],
   "source": [
    "DATA_PATH + out_file + '.csv'"
   ]
  },
  {
   "cell_type": "code",
   "execution_count": null,
   "metadata": {},
   "outputs": [],
   "source": [
    "df.to_csv(DATA_PATH + out_file + '.csv', index=False)"
   ]
  }
 ],
 "metadata": {
  "interpreter": {
   "hash": "f045682951559cbc0979d5d7223b93f289f756c5241efdcb485f4eca938569a1"
  },
  "kernelspec": {
   "display_name": "Python 3.9.2 ('dri_venv': venv)",
   "language": "python",
   "name": "python3"
  },
  "language_info": {
   "codemirror_mode": {
    "name": "ipython",
    "version": 3
   },
   "file_extension": ".py",
   "mimetype": "text/x-python",
   "name": "python",
   "nbconvert_exporter": "python",
   "pygments_lexer": "ipython3",
   "version": "3.9.2"
  },
  "orig_nbformat": 4
 },
 "nbformat": 4,
 "nbformat_minor": 2
}
