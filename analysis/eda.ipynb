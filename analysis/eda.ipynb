{
 "cells": [
  {
   "cell_type": "markdown",
   "metadata": {},
   "source": [
    "# Setup"
   ]
  },
  {
   "cell_type": "code",
   "execution_count": 78,
   "metadata": {},
   "outputs": [],
   "source": [
    "import pandas as pd\n",
    "\n",
    "from os import listdir\n",
    "from os.path import isfile, join\n",
    "\n",
    "from collections import Counter"
   ]
  },
  {
   "cell_type": "code",
   "execution_count": 54,
   "metadata": {},
   "outputs": [],
   "source": [
    "# Paths\n",
    "DATA_PATH = '../data/'\n",
    "OUTPUT_PATH = '../output_data/'\n",
    "MODEL_PATH = '../data/models/'"
   ]
  },
  {
   "cell_type": "code",
   "execution_count": 14,
   "metadata": {},
   "outputs": [],
   "source": [
    "#pd.set_option('display.max_rows', 100)\n",
    "#pd.options.display.max_columns = 100"
   ]
  },
  {
   "cell_type": "code",
   "execution_count": 6,
   "metadata": {},
   "outputs": [
    {
     "name": "stdout",
     "output_type": "stream",
     "text": [
      "['arxiv_disinformation.csv', 'arxiv_deepfake.csv']\n"
     ]
    }
   ],
   "source": [
    "# Check files in data folder\n",
    "datafiles = [f for f in listdir(DATA_PATH) if isfile(join(DATA_PATH, f))]\n",
    "\n",
    "print('Index, Filename')\n",
    "print(list(zip([index for index, value in enumerate(datafiles)], datafiles)))"
   ]
  },
  {
   "cell_type": "code",
   "execution_count": 50,
   "metadata": {},
   "outputs": [
    {
     "data": {
      "text/plain": [
       "'arxiv_deepfake.csv'"
      ]
     },
     "execution_count": 50,
     "metadata": {},
     "output_type": "execute_result"
    }
   ],
   "source": [
    "# Get a file name, can use\n",
    "load_file = datafiles[1]\n",
    "load_file"
   ]
  },
  {
   "cell_type": "code",
   "execution_count": 62,
   "metadata": {},
   "outputs": [],
   "source": [
    "# Load dataframe\n",
    "CONVERTERS = {'tokens': eval, 'published_parsed': eval, 'tags': eval, 'arxiv_primary_category': eval}\n",
    "\n",
    "df = pd.read_csv(DATA_PATH + load_file, converters=CONVERTERS)"
   ]
  },
  {
   "cell_type": "markdown",
   "metadata": {},
   "source": [
    "# Examination"
   ]
  },
  {
   "cell_type": "code",
   "execution_count": 64,
   "metadata": {},
   "outputs": [
    {
     "data": {
      "text/html": [
       "<div>\n",
       "<style scoped>\n",
       "    .dataframe tbody tr th:only-of-type {\n",
       "        vertical-align: middle;\n",
       "    }\n",
       "\n",
       "    .dataframe tbody tr th {\n",
       "        vertical-align: top;\n",
       "    }\n",
       "\n",
       "    .dataframe thead th {\n",
       "        text-align: right;\n",
       "    }\n",
       "</style>\n",
       "<table border=\"1\" class=\"dataframe\">\n",
       "  <thead>\n",
       "    <tr style=\"text-align: right;\">\n",
       "      <th></th>\n",
       "      <th>id</th>\n",
       "      <th>guidislink</th>\n",
       "      <th>link</th>\n",
       "      <th>updated</th>\n",
       "      <th>updated_parsed</th>\n",
       "      <th>published</th>\n",
       "      <th>published_parsed</th>\n",
       "      <th>title</th>\n",
       "      <th>title_detail</th>\n",
       "      <th>summary</th>\n",
       "      <th>summary_detail</th>\n",
       "      <th>authors</th>\n",
       "      <th>author_detail</th>\n",
       "      <th>author</th>\n",
       "      <th>arxiv_comment</th>\n",
       "      <th>links</th>\n",
       "      <th>arxiv_primary_category</th>\n",
       "      <th>tags</th>\n",
       "      <th>arxiv_affiliation</th>\n",
       "      <th>arxiv_journal_ref</th>\n",
       "      <th>arxiv_doi</th>\n",
       "      <th>cleaning</th>\n",
       "      <th>tokens</th>\n",
       "      <th>year</th>\n",
       "      <th>month_year</th>\n",
       "    </tr>\n",
       "  </thead>\n",
       "  <tbody>\n",
       "    <tr>\n",
       "      <th>0</th>\n",
       "      <td>http://arxiv.org/abs/2203.14315v1</td>\n",
       "      <td>True</td>\n",
       "      <td>http://arxiv.org/abs/2203.14315v1</td>\n",
       "      <td>2022-03-27T14:25:52Z</td>\n",
       "      <td>[2022, 3, 27, 14, 25, 52, 6, 86, 0]</td>\n",
       "      <td>2022-03-27T14:25:52Z</td>\n",
       "      <td>[2022, 3, 27, 14, 25, 52, 6, 86, 0]</td>\n",
       "      <td>Adaptive Frequency Learning in Two-branch Face...</td>\n",
       "      <td>{'type': 'text/plain', 'language': None, 'base...</td>\n",
       "      <td>Face forgery has attracted increasing attentio...</td>\n",
       "      <td>{'type': 'text/plain', 'language': None, 'base...</td>\n",
       "      <td>[{'name': 'Neng Wang'}, {'name': 'Yang Bai'}, ...</td>\n",
       "      <td>{'name': 'Yan Wang'}</td>\n",
       "      <td>Yan Wang</td>\n",
       "      <td>Deepfake Detection</td>\n",
       "      <td>[{'href': 'http://arxiv.org/abs/2203.14315v1',...</td>\n",
       "      <td>{'term': 'cs.CV', 'scheme': 'http://arxiv.org/...</td>\n",
       "      <td>[{'term': 'cs.CV', 'scheme': 'http://arxiv.org...</td>\n",
       "      <td>NaN</td>\n",
       "      <td>NaN</td>\n",
       "      <td>NaN</td>\n",
       "      <td>face forgery has attracted increasing attentio...</td>\n",
       "      <td>[face, forgery, attract, increase, attention, ...</td>\n",
       "      <td>2022</td>\n",
       "      <td>[2022, 3]</td>\n",
       "    </tr>\n",
       "    <tr>\n",
       "      <th>1</th>\n",
       "      <td>http://arxiv.org/abs/2203.13964v1</td>\n",
       "      <td>True</td>\n",
       "      <td>http://arxiv.org/abs/2203.13964v1</td>\n",
       "      <td>2022-03-26T01:55:37Z</td>\n",
       "      <td>[2022, 3, 26, 1, 55, 37, 5, 85, 0]</td>\n",
       "      <td>2022-03-26T01:55:37Z</td>\n",
       "      <td>[2022, 3, 26, 1, 55, 37, 5, 85, 0]</td>\n",
       "      <td>Fusing Global and Local Features for Generaliz...</td>\n",
       "      <td>{'type': 'text/plain', 'language': None, 'base...</td>\n",
       "      <td>With the development of the Generative Adversa...</td>\n",
       "      <td>{'type': 'text/plain', 'language': None, 'base...</td>\n",
       "      <td>[{'name': 'Yan Ju'}, {'name': 'Shan Jia'}, {'n...</td>\n",
       "      <td>{'name': 'Siwei Lyu'}</td>\n",
       "      <td>Siwei Lyu</td>\n",
       "      <td>6 pages, 3 figures, 2 tables</td>\n",
       "      <td>[{'href': 'http://arxiv.org/abs/2203.13964v1',...</td>\n",
       "      <td>{'term': 'cs.CV', 'scheme': 'http://arxiv.org/...</td>\n",
       "      <td>[{'term': 'cs.CV', 'scheme': 'http://arxiv.org...</td>\n",
       "      <td>NaN</td>\n",
       "      <td>NaN</td>\n",
       "      <td>NaN</td>\n",
       "      <td>with the development of the generative adversa...</td>\n",
       "      <td>[development, generative, adversarial, network...</td>\n",
       "      <td>2022</td>\n",
       "      <td>[2022, 3]</td>\n",
       "    </tr>\n",
       "  </tbody>\n",
       "</table>\n",
       "</div>"
      ],
      "text/plain": [
       "                                  id  guidislink  \\\n",
       "0  http://arxiv.org/abs/2203.14315v1        True   \n",
       "1  http://arxiv.org/abs/2203.13964v1        True   \n",
       "\n",
       "                                link               updated  \\\n",
       "0  http://arxiv.org/abs/2203.14315v1  2022-03-27T14:25:52Z   \n",
       "1  http://arxiv.org/abs/2203.13964v1  2022-03-26T01:55:37Z   \n",
       "\n",
       "                        updated_parsed             published  \\\n",
       "0  [2022, 3, 27, 14, 25, 52, 6, 86, 0]  2022-03-27T14:25:52Z   \n",
       "1   [2022, 3, 26, 1, 55, 37, 5, 85, 0]  2022-03-26T01:55:37Z   \n",
       "\n",
       "                      published_parsed  \\\n",
       "0  [2022, 3, 27, 14, 25, 52, 6, 86, 0]   \n",
       "1   [2022, 3, 26, 1, 55, 37, 5, 85, 0]   \n",
       "\n",
       "                                               title  \\\n",
       "0  Adaptive Frequency Learning in Two-branch Face...   \n",
       "1  Fusing Global and Local Features for Generaliz...   \n",
       "\n",
       "                                        title_detail  \\\n",
       "0  {'type': 'text/plain', 'language': None, 'base...   \n",
       "1  {'type': 'text/plain', 'language': None, 'base...   \n",
       "\n",
       "                                             summary  \\\n",
       "0  Face forgery has attracted increasing attentio...   \n",
       "1  With the development of the Generative Adversa...   \n",
       "\n",
       "                                      summary_detail  \\\n",
       "0  {'type': 'text/plain', 'language': None, 'base...   \n",
       "1  {'type': 'text/plain', 'language': None, 'base...   \n",
       "\n",
       "                                             authors          author_detail  \\\n",
       "0  [{'name': 'Neng Wang'}, {'name': 'Yang Bai'}, ...   {'name': 'Yan Wang'}   \n",
       "1  [{'name': 'Yan Ju'}, {'name': 'Shan Jia'}, {'n...  {'name': 'Siwei Lyu'}   \n",
       "\n",
       "      author                 arxiv_comment  \\\n",
       "0   Yan Wang            Deepfake Detection   \n",
       "1  Siwei Lyu  6 pages, 3 figures, 2 tables   \n",
       "\n",
       "                                               links  \\\n",
       "0  [{'href': 'http://arxiv.org/abs/2203.14315v1',...   \n",
       "1  [{'href': 'http://arxiv.org/abs/2203.13964v1',...   \n",
       "\n",
       "                              arxiv_primary_category  \\\n",
       "0  {'term': 'cs.CV', 'scheme': 'http://arxiv.org/...   \n",
       "1  {'term': 'cs.CV', 'scheme': 'http://arxiv.org/...   \n",
       "\n",
       "                                                tags arxiv_affiliation  \\\n",
       "0  [{'term': 'cs.CV', 'scheme': 'http://arxiv.org...               NaN   \n",
       "1  [{'term': 'cs.CV', 'scheme': 'http://arxiv.org...               NaN   \n",
       "\n",
       "  arxiv_journal_ref arxiv_doi  \\\n",
       "0               NaN       NaN   \n",
       "1               NaN       NaN   \n",
       "\n",
       "                                            cleaning  \\\n",
       "0  face forgery has attracted increasing attentio...   \n",
       "1  with the development of the generative adversa...   \n",
       "\n",
       "                                              tokens  year month_year  \n",
       "0  [face, forgery, attract, increase, attention, ...  2022  [2022, 3]  \n",
       "1  [development, generative, adversarial, network...  2022  [2022, 3]  "
      ]
     },
     "execution_count": 64,
     "metadata": {},
     "output_type": "execute_result"
    }
   ],
   "source": [
    "df.head(2)"
   ]
  },
  {
   "cell_type": "code",
   "execution_count": 57,
   "metadata": {},
   "outputs": [
    {
     "name": "stdout",
     "output_type": "stream",
     "text": [
      "<class 'pandas.core.frame.DataFrame'>\n",
      "RangeIndex: 438 entries, 0 to 437\n",
      "Data columns (total 25 columns):\n",
      " #   Column                  Non-Null Count  Dtype \n",
      "---  ------                  --------------  ----- \n",
      " 0   id                      438 non-null    object\n",
      " 1   guidislink              438 non-null    bool  \n",
      " 2   link                    438 non-null    object\n",
      " 3   updated                 438 non-null    object\n",
      " 4   updated_parsed          438 non-null    object\n",
      " 5   published               438 non-null    object\n",
      " 6   published_parsed        438 non-null    object\n",
      " 7   title                   438 non-null    object\n",
      " 8   title_detail            438 non-null    object\n",
      " 9   summary                 438 non-null    object\n",
      " 10  summary_detail          438 non-null    object\n",
      " 11  authors                 438 non-null    object\n",
      " 12  author_detail           438 non-null    object\n",
      " 13  author                  438 non-null    object\n",
      " 14  arxiv_comment           240 non-null    object\n",
      " 15  links                   438 non-null    object\n",
      " 16  arxiv_primary_category  438 non-null    object\n",
      " 17  tags                    438 non-null    object\n",
      " 18  arxiv_affiliation       10 non-null     object\n",
      " 19  arxiv_journal_ref       32 non-null     object\n",
      " 20  arxiv_doi               36 non-null     object\n",
      " 21  cleaning                438 non-null    object\n",
      " 22  tokens                  438 non-null    object\n",
      " 23  year                    438 non-null    int64 \n",
      " 24  month_year              438 non-null    object\n",
      "dtypes: bool(1), int64(1), object(23)\n",
      "memory usage: 82.7+ KB\n"
     ]
    }
   ],
   "source": [
    "df.info()"
   ]
  },
  {
   "cell_type": "code",
   "execution_count": 59,
   "metadata": {},
   "outputs": [
    {
     "data": {
      "text/html": [
       "<div>\n",
       "<style scoped>\n",
       "    .dataframe tbody tr th:only-of-type {\n",
       "        vertical-align: middle;\n",
       "    }\n",
       "\n",
       "    .dataframe tbody tr th {\n",
       "        vertical-align: top;\n",
       "    }\n",
       "\n",
       "    .dataframe thead th {\n",
       "        text-align: right;\n",
       "    }\n",
       "</style>\n",
       "<table border=\"1\" class=\"dataframe\">\n",
       "  <thead>\n",
       "    <tr style=\"text-align: right;\">\n",
       "      <th></th>\n",
       "      <th>year</th>\n",
       "    </tr>\n",
       "  </thead>\n",
       "  <tbody>\n",
       "    <tr>\n",
       "      <th>count</th>\n",
       "      <td>438.000000</td>\n",
       "    </tr>\n",
       "    <tr>\n",
       "      <th>mean</th>\n",
       "      <td>2020.616438</td>\n",
       "    </tr>\n",
       "    <tr>\n",
       "      <th>std</th>\n",
       "      <td>0.907081</td>\n",
       "    </tr>\n",
       "    <tr>\n",
       "      <th>min</th>\n",
       "      <td>2018.000000</td>\n",
       "    </tr>\n",
       "    <tr>\n",
       "      <th>25%</th>\n",
       "      <td>2020.000000</td>\n",
       "    </tr>\n",
       "    <tr>\n",
       "      <th>50%</th>\n",
       "      <td>2021.000000</td>\n",
       "    </tr>\n",
       "    <tr>\n",
       "      <th>75%</th>\n",
       "      <td>2021.000000</td>\n",
       "    </tr>\n",
       "    <tr>\n",
       "      <th>max</th>\n",
       "      <td>2022.000000</td>\n",
       "    </tr>\n",
       "  </tbody>\n",
       "</table>\n",
       "</div>"
      ],
      "text/plain": [
       "              year\n",
       "count   438.000000\n",
       "mean   2020.616438\n",
       "std       0.907081\n",
       "min    2018.000000\n",
       "25%    2020.000000\n",
       "50%    2021.000000\n",
       "75%    2021.000000\n",
       "max    2022.000000"
      ]
     },
     "execution_count": 59,
     "metadata": {},
     "output_type": "execute_result"
    }
   ],
   "source": [
    "df.describe()"
   ]
  },
  {
   "cell_type": "code",
   "execution_count": 32,
   "metadata": {},
   "outputs": [
    {
     "name": "stdout",
     "output_type": "stream",
     "text": [
      "[2022, 3, 27, 14, 25, 52, 6, 86, 0]\n",
      "[2018, 6, 7, 19, 36, 9, 3, 158, 0]\n"
     ]
    }
   ],
   "source": [
    "print(df.published_parsed.max())\n",
    "print(df.published_parsed.min())"
   ]
  },
  {
   "cell_type": "code",
   "execution_count": 74,
   "metadata": {},
   "outputs": [
    {
     "data": {
      "text/plain": [
       "\"{'term': 'cs.CV', 'scheme': 'http://arxiv.org/schemas/atom'}\""
      ]
     },
     "execution_count": 74,
     "metadata": {},
     "output_type": "execute_result"
    }
   ],
   "source": [
    "df.arxiv_primary_category[10]"
   ]
  },
  {
   "cell_type": "code",
   "execution_count": 63,
   "metadata": {},
   "outputs": [
    {
     "data": {
      "text/plain": [
       "[{'term': 'cs.CV', 'scheme': 'http://arxiv.org/schemas/atom', 'label': None}]"
      ]
     },
     "execution_count": 63,
     "metadata": {},
     "output_type": "execute_result"
    }
   ],
   "source": [
    "df.tags[1]"
   ]
  },
  {
   "cell_type": "code",
   "execution_count": 79,
   "metadata": {},
   "outputs": [],
   "source": [
    "# get tags\n",
    "\n",
    "tag_list = []\n",
    "\n",
    "for index, row in df.iterrows():\n",
    "      tag = row.tags[0]['term']\n",
    "      tag_list.append(tag)"
   ]
  },
  {
   "cell_type": "code",
   "execution_count": 80,
   "metadata": {},
   "outputs": [
    {
     "data": {
      "text/plain": [
       "Counter({'cs.CV': 328,\n",
       "         'eess.AS': 24,\n",
       "         'cs.HC': 6,\n",
       "         'cs.CR': 22,\n",
       "         'cs.SD': 10,\n",
       "         'cs.LG': 22,\n",
       "         'cs.CY': 10,\n",
       "         'cond-mat.mtrl-sci': 2,\n",
       "         'cs.MM': 2,\n",
       "         'cs.CL': 8,\n",
       "         'cs.SI': 2,\n",
       "         'cs.NI': 2})"
      ]
     },
     "execution_count": 80,
     "metadata": {},
     "output_type": "execute_result"
    }
   ],
   "source": [
    "Counter(tag_list)"
   ]
  },
  {
   "cell_type": "code",
   "execution_count": 81,
   "metadata": {},
   "outputs": [],
   "source": [
    "def get_tag(x):\n",
    "      tag = x[0]['term']\n",
    "      # TO DO - scrape https://arxiv.org/category_taxonomy to translate codes to plain english\n",
    "      return tag"
   ]
  },
  {
   "cell_type": "code",
   "execution_count": 82,
   "metadata": {},
   "outputs": [],
   "source": [
    "df['category'] = df['tags'].dropna().apply(lambda x:  get_tag(x))\n"
   ]
  },
  {
   "cell_type": "code",
   "execution_count": 84,
   "metadata": {},
   "outputs": [
    {
     "data": {
      "text/plain": [
       "cs.CV                328\n",
       "eess.AS               24\n",
       "cs.CR                 22\n",
       "cs.LG                 22\n",
       "cs.SD                 10\n",
       "cs.CY                 10\n",
       "cs.CL                  8\n",
       "cs.HC                  6\n",
       "cond-mat.mtrl-sci      2\n",
       "cs.MM                  2\n",
       "cs.SI                  2\n",
       "cs.NI                  2\n",
       "Name: category, dtype: int64"
      ]
     },
     "execution_count": 84,
     "metadata": {},
     "output_type": "execute_result"
    }
   ],
   "source": [
    "df['category'].value_counts()"
   ]
  },
  {
   "cell_type": "markdown",
   "metadata": {},
   "source": [
    "# Adding some data \n",
    "Only needs to be done once but retaining code for new collections\n",
    "\n",
    "Could move to preprocessing"
   ]
  },
  {
   "cell_type": "code",
   "execution_count": 45,
   "metadata": {},
   "outputs": [],
   "source": [
    "def get_period(x, period):\n",
    "      #output = x.split(',')[period] ## For string splitting\n",
    "      output = x[:period]\n",
    "      if len(output) == 1:\n",
    "            return output[0]\n",
    "      else:\n",
    "            return output"
   ]
  },
  {
   "cell_type": "code",
   "execution_count": 46,
   "metadata": {},
   "outputs": [],
   "source": [
    "df['year'] = df['published_parsed'].dropna().apply(lambda x:  get_period(x, 1))\n",
    "df['month_year'] = df['published_parsed'].dropna().apply(lambda x:  get_period(x, 2))\n",
    "\n"
   ]
  },
  {
   "cell_type": "code",
   "execution_count": 47,
   "metadata": {},
   "outputs": [
    {
     "data": {
      "text/plain": [
       "2021    190\n",
       "2020    140\n",
       "2022     66\n",
       "2019     32\n",
       "2018     10\n",
       "Name: year, dtype: int64"
      ]
     },
     "execution_count": 47,
     "metadata": {},
     "output_type": "execute_result"
    }
   ],
   "source": [
    "df.year.value_counts()"
   ]
  },
  {
   "cell_type": "markdown",
   "metadata": {},
   "source": [
    "# Closing out"
   ]
  },
  {
   "cell_type": "code",
   "execution_count": 51,
   "metadata": {},
   "outputs": [],
   "source": [
    "out_file = load_file.split('.')[0]"
   ]
  },
  {
   "cell_type": "code",
   "execution_count": 55,
   "metadata": {},
   "outputs": [
    {
     "data": {
      "text/plain": [
       "'../data/arxiv_deepfake.csv'"
      ]
     },
     "execution_count": 55,
     "metadata": {},
     "output_type": "execute_result"
    }
   ],
   "source": [
    "DATA_PATH + out_file + '.csv'"
   ]
  },
  {
   "cell_type": "code",
   "execution_count": 85,
   "metadata": {},
   "outputs": [],
   "source": [
    "df.to_csv(DATA_PATH + out_file + '.csv', index=False)"
   ]
  }
 ],
 "metadata": {
  "interpreter": {
   "hash": "f045682951559cbc0979d5d7223b93f289f756c5241efdcb485f4eca938569a1"
  },
  "kernelspec": {
   "display_name": "Python 3.9.2 ('dri_venv': venv)",
   "language": "python",
   "name": "python3"
  },
  "language_info": {
   "codemirror_mode": {
    "name": "ipython",
    "version": 3
   },
   "file_extension": ".py",
   "mimetype": "text/x-python",
   "name": "python",
   "nbconvert_exporter": "python",
   "pygments_lexer": "ipython3",
   "version": "3.9.2"
  },
  "orig_nbformat": 4
 },
 "nbformat": 4,
 "nbformat_minor": 2
}
