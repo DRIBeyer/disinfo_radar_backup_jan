{
 "cells": [
  {
   "cell_type": "markdown",
   "metadata": {},
   "source": [
    "# Setup"
   ]
  },
  {
   "cell_type": "code",
   "execution_count": 3,
   "metadata": {},
   "outputs": [],
   "source": [
    "# The usuals\n",
    "import numpy as np\n",
    "from numpy import quantile, where, random\n",
    "\n",
    "import matplotlib.pyplot as plt\n",
    "import seaborn as sns\n",
    "\n",
    "import pandas as pd\n",
    "import multiprocessing\n",
    "\n",
    "# Scientific\n",
    "from gensim.models.doc2vec import TaggedDocument, Doc2Vec\n",
    "from gensim.parsing.preprocessing import preprocess_string\n",
    "\n",
    "from sklearn.base import BaseEstimator\n",
    "from sklearn import utils as skl_utils\n",
    "from sklearn.svm import OneClassSVM\n",
    "from sklearn.ensemble import IsolationForest\n",
    "from sklearn.neural_network import MLPRegressor\n",
    "\n",
    "from scipy.spatial.distance import cosine\n",
    "\n",
    "# Supporting\n",
    "\n",
    "from tqdm import tqdm\n",
    "\n",
    "from os import listdir\n",
    "from os.path import isfile, join\n",
    "\n",
    "from collections import Counter"
   ]
  },
  {
   "cell_type": "code",
   "execution_count": 4,
   "metadata": {},
   "outputs": [],
   "source": [
    "# Paths\n",
    "DATA_PATH = '../data/'\n",
    "OUTPUT = '../output_data/'"
   ]
  },
  {
   "cell_type": "code",
   "execution_count": 5,
   "metadata": {},
   "outputs": [
    {
     "name": "stdout",
     "output_type": "stream",
     "text": [
      "['arxiv_disinformation.jsonl', 'arxiv_disinformation.csv']\n"
     ]
    }
   ],
   "source": [
    "# Check files in data folder\n",
    "datafiles = [f for f in listdir(DATA_PATH) if isfile(join(DATA_PATH, f))]\n",
    "print(datafiles)"
   ]
  },
  {
   "cell_type": "code",
   "execution_count": 6,
   "metadata": {},
   "outputs": [
    {
     "data": {
      "text/plain": [
       "'arxiv_disinformation.csv'"
      ]
     },
     "execution_count": 6,
     "metadata": {},
     "output_type": "execute_result"
    }
   ],
   "source": [
    "# Get a file name, can use\n",
    "filename = datafiles[1]\n",
    "filename"
   ]
  },
  {
   "cell_type": "code",
   "execution_count": 7,
   "metadata": {},
   "outputs": [],
   "source": [
    "# Load dataframe\n",
    "CONVERTERS = {'tokens': eval, 'pos_tokens': eval}\n",
    "\n",
    "df = pd.read_csv(DATA_PATH + filename, converters=CONVERTERS)"
   ]
  },
  {
   "cell_type": "code",
   "execution_count": 8,
   "metadata": {},
   "outputs": [
    {
     "data": {
      "text/html": [
       "<div>\n",
       "<style scoped>\n",
       "    .dataframe tbody tr th:only-of-type {\n",
       "        vertical-align: middle;\n",
       "    }\n",
       "\n",
       "    .dataframe tbody tr th {\n",
       "        vertical-align: top;\n",
       "    }\n",
       "\n",
       "    .dataframe thead th {\n",
       "        text-align: right;\n",
       "    }\n",
       "</style>\n",
       "<table border=\"1\" class=\"dataframe\">\n",
       "  <thead>\n",
       "    <tr style=\"text-align: right;\">\n",
       "      <th></th>\n",
       "      <th>id</th>\n",
       "      <th>guidislink</th>\n",
       "      <th>link</th>\n",
       "      <th>updated</th>\n",
       "      <th>updated_parsed</th>\n",
       "      <th>published</th>\n",
       "      <th>published_parsed</th>\n",
       "      <th>title</th>\n",
       "      <th>title_detail</th>\n",
       "      <th>summary</th>\n",
       "      <th>...</th>\n",
       "      <th>author_detail</th>\n",
       "      <th>author</th>\n",
       "      <th>links</th>\n",
       "      <th>arxiv_primary_category</th>\n",
       "      <th>tags</th>\n",
       "      <th>arxiv_comment</th>\n",
       "      <th>arxiv_doi</th>\n",
       "      <th>arxiv_journal_ref</th>\n",
       "      <th>arxiv_affiliation</th>\n",
       "      <th>tokens</th>\n",
       "    </tr>\n",
       "  </thead>\n",
       "  <tbody>\n",
       "    <tr>\n",
       "      <th>0</th>\n",
       "      <td>http://arxiv.org/abs/2203.05386v1</td>\n",
       "      <td>True</td>\n",
       "      <td>http://arxiv.org/abs/2203.05386v1</td>\n",
       "      <td>2022-03-10T14:24:19Z</td>\n",
       "      <td>[2022, 3, 10, 14, 24, 19, 3, 69, 0]</td>\n",
       "      <td>2022-03-10T14:24:19Z</td>\n",
       "      <td>[2022, 3, 10, 14, 24, 19, 3, 69, 0]</td>\n",
       "      <td>Faking Fake News for Real Fake News Detection:...</td>\n",
       "      <td>{'type': 'text/plain', 'language': None, 'base...</td>\n",
       "      <td>While there has been a lot of research and man...</td>\n",
       "      <td>...</td>\n",
       "      <td>{'name': 'Heng Ji'}</td>\n",
       "      <td>Heng Ji</td>\n",
       "      <td>[{'href': 'http://arxiv.org/abs/2203.05386v1',...</td>\n",
       "      <td>{'term': 'cs.CL', 'scheme': 'http://arxiv.org/...</td>\n",
       "      <td>[{'term': 'cs.CL', 'scheme': 'http://arxiv.org...</td>\n",
       "      <td>NaN</td>\n",
       "      <td>NaN</td>\n",
       "      <td>NaN</td>\n",
       "      <td>NaN</td>\n",
       "      <td>[lot, research, many, recent, advance, neural,...</td>\n",
       "    </tr>\n",
       "    <tr>\n",
       "      <th>1</th>\n",
       "      <td>http://arxiv.org/abs/2203.05966v1</td>\n",
       "      <td>True</td>\n",
       "      <td>http://arxiv.org/abs/2203.05966v1</td>\n",
       "      <td>2022-03-09T22:42:29Z</td>\n",
       "      <td>[2022, 3, 9, 22, 42, 29, 2, 68, 0]</td>\n",
       "      <td>2022-03-09T22:42:29Z</td>\n",
       "      <td>[2022, 3, 9, 22, 42, 29, 2, 68, 0]</td>\n",
       "      <td>Online User Profiling to Detect Social Bots on...</td>\n",
       "      <td>{'type': 'text/plain', 'language': None, 'base...</td>\n",
       "      <td>Social media platforms can expose influential ...</td>\n",
       "      <td>...</td>\n",
       "      <td>{'name': 'Ozlem Uzuner'}</td>\n",
       "      <td>Ozlem Uzuner</td>\n",
       "      <td>[{'href': 'http://arxiv.org/abs/2203.05966v1',...</td>\n",
       "      <td>{'term': 'cs.LG', 'scheme': 'http://arxiv.org/...</td>\n",
       "      <td>[{'term': 'cs.LG', 'scheme': 'http://arxiv.org...</td>\n",
       "      <td>NaN</td>\n",
       "      <td>NaN</td>\n",
       "      <td>NaN</td>\n",
       "      <td>NaN</td>\n",
       "      <td>[social, medium, platform, expose, influential...</td>\n",
       "    </tr>\n",
       "    <tr>\n",
       "      <th>2</th>\n",
       "      <td>http://arxiv.org/abs/2203.04928v1</td>\n",
       "      <td>True</td>\n",
       "      <td>http://arxiv.org/abs/2203.04928v1</td>\n",
       "      <td>2022-03-09T18:17:25Z</td>\n",
       "      <td>[2022, 3, 9, 18, 17, 25, 2, 68, 0]</td>\n",
       "      <td>2022-03-09T18:17:25Z</td>\n",
       "      <td>[2022, 3, 9, 18, 17, 25, 2, 68, 0]</td>\n",
       "      <td>DISCO: Comprehensive and Explainable Disinform...</td>\n",
       "      <td>{'type': 'text/plain', 'language': None, 'base...</td>\n",
       "      <td>Disinformation refers to false information del...</td>\n",
       "      <td>...</td>\n",
       "      <td>{'name': 'Jingrui He'}</td>\n",
       "      <td>Jingrui He</td>\n",
       "      <td>[{'href': 'http://arxiv.org/abs/2203.04928v1',...</td>\n",
       "      <td>{'term': 'cs.LG', 'scheme': 'http://arxiv.org/...</td>\n",
       "      <td>[{'term': 'cs.LG', 'scheme': 'http://arxiv.org...</td>\n",
       "      <td>NaN</td>\n",
       "      <td>NaN</td>\n",
       "      <td>NaN</td>\n",
       "      <td>NaN</td>\n",
       "      <td>[disinformation, refer, false, information, de...</td>\n",
       "    </tr>\n",
       "  </tbody>\n",
       "</table>\n",
       "<p>3 rows × 22 columns</p>\n",
       "</div>"
      ],
      "text/plain": [
       "                                  id  guidislink  \\\n",
       "0  http://arxiv.org/abs/2203.05386v1        True   \n",
       "1  http://arxiv.org/abs/2203.05966v1        True   \n",
       "2  http://arxiv.org/abs/2203.04928v1        True   \n",
       "\n",
       "                                link               updated  \\\n",
       "0  http://arxiv.org/abs/2203.05386v1  2022-03-10T14:24:19Z   \n",
       "1  http://arxiv.org/abs/2203.05966v1  2022-03-09T22:42:29Z   \n",
       "2  http://arxiv.org/abs/2203.04928v1  2022-03-09T18:17:25Z   \n",
       "\n",
       "                        updated_parsed             published  \\\n",
       "0  [2022, 3, 10, 14, 24, 19, 3, 69, 0]  2022-03-10T14:24:19Z   \n",
       "1   [2022, 3, 9, 22, 42, 29, 2, 68, 0]  2022-03-09T22:42:29Z   \n",
       "2   [2022, 3, 9, 18, 17, 25, 2, 68, 0]  2022-03-09T18:17:25Z   \n",
       "\n",
       "                      published_parsed  \\\n",
       "0  [2022, 3, 10, 14, 24, 19, 3, 69, 0]   \n",
       "1   [2022, 3, 9, 22, 42, 29, 2, 68, 0]   \n",
       "2   [2022, 3, 9, 18, 17, 25, 2, 68, 0]   \n",
       "\n",
       "                                               title  \\\n",
       "0  Faking Fake News for Real Fake News Detection:...   \n",
       "1  Online User Profiling to Detect Social Bots on...   \n",
       "2  DISCO: Comprehensive and Explainable Disinform...   \n",
       "\n",
       "                                        title_detail  \\\n",
       "0  {'type': 'text/plain', 'language': None, 'base...   \n",
       "1  {'type': 'text/plain', 'language': None, 'base...   \n",
       "2  {'type': 'text/plain', 'language': None, 'base...   \n",
       "\n",
       "                                             summary  ...  \\\n",
       "0  While there has been a lot of research and man...  ...   \n",
       "1  Social media platforms can expose influential ...  ...   \n",
       "2  Disinformation refers to false information del...  ...   \n",
       "\n",
       "              author_detail        author  \\\n",
       "0       {'name': 'Heng Ji'}       Heng Ji   \n",
       "1  {'name': 'Ozlem Uzuner'}  Ozlem Uzuner   \n",
       "2    {'name': 'Jingrui He'}    Jingrui He   \n",
       "\n",
       "                                               links  \\\n",
       "0  [{'href': 'http://arxiv.org/abs/2203.05386v1',...   \n",
       "1  [{'href': 'http://arxiv.org/abs/2203.05966v1',...   \n",
       "2  [{'href': 'http://arxiv.org/abs/2203.04928v1',...   \n",
       "\n",
       "                              arxiv_primary_category  \\\n",
       "0  {'term': 'cs.CL', 'scheme': 'http://arxiv.org/...   \n",
       "1  {'term': 'cs.LG', 'scheme': 'http://arxiv.org/...   \n",
       "2  {'term': 'cs.LG', 'scheme': 'http://arxiv.org/...   \n",
       "\n",
       "                                                tags arxiv_comment arxiv_doi  \\\n",
       "0  [{'term': 'cs.CL', 'scheme': 'http://arxiv.org...           NaN       NaN   \n",
       "1  [{'term': 'cs.LG', 'scheme': 'http://arxiv.org...           NaN       NaN   \n",
       "2  [{'term': 'cs.LG', 'scheme': 'http://arxiv.org...           NaN       NaN   \n",
       "\n",
       "  arxiv_journal_ref arxiv_affiliation  \\\n",
       "0               NaN               NaN   \n",
       "1               NaN               NaN   \n",
       "2               NaN               NaN   \n",
       "\n",
       "                                              tokens  \n",
       "0  [lot, research, many, recent, advance, neural,...  \n",
       "1  [social, medium, platform, expose, influential...  \n",
       "2  [disinformation, refer, false, information, de...  \n",
       "\n",
       "[3 rows x 22 columns]"
      ]
     },
     "execution_count": 8,
     "metadata": {},
     "output_type": "execute_result"
    }
   ],
   "source": [
    "# Check data frame\n",
    "df.head(3)"
   ]
  },
  {
   "cell_type": "markdown",
   "metadata": {},
   "source": [
    "# Prep work"
   ]
  },
  {
   "cell_type": "markdown",
   "metadata": {},
   "source": [
    "This is currently optimized for Chinese, may not be needed with DR data"
   ]
  },
  {
   "cell_type": "code",
   "execution_count": 9,
   "metadata": {},
   "outputs": [],
   "source": [
    "def join_tokens(txt):\n",
    "        x = ' '.join(txt)\n",
    "        #x = [token.split('/')[0] for token in x] # use when we need lists with just these!\n",
    "        return x"
   ]
  },
  {
   "cell_type": "code",
   "execution_count": 10,
   "metadata": {},
   "outputs": [],
   "source": [
    "df['tokens_merged'] = df['tokens'].dropna().apply(lambda x: join_tokens(x))\n"
   ]
  },
  {
   "cell_type": "code",
   "execution_count": 11,
   "metadata": {},
   "outputs": [
    {
     "data": {
      "text/plain": [
       "'social medium platform expose influential trend many aspect everyday life however movement represent contaminate disinformation social bot significant source disinformation social medium social bot pose serious cyber threat society public opinion research aim develop machine learning model detect bot base extract user profile tweet text online user profile show user personal information age gender education personality work user profile construct base user online post work main contribution threefold first aim improve bot detection machine learning model base user personal information generate user online comment compare online post similarity personal information make difficult differentiate bot human user however research turn personal information similarity online post advantage new bot detection model new propose model bot detection create user profile base personal information age personality gender education user online post introduce machine learn model detect social bot high prediction accuracy base personal information second create new public datum set show user profile twitter account datum set'"
      ]
     },
     "execution_count": 11,
     "metadata": {},
     "output_type": "execute_result"
    }
   ],
   "source": [
    "df['tokens_merged'][1]"
   ]
  },
  {
   "cell_type": "markdown",
   "metadata": {},
   "source": [
    "# Doc2 Vec"
   ]
  },
  {
   "cell_type": "markdown",
   "metadata": {},
   "source": [
    "Creates doc2vec vectors for each document in the dataframe"
   ]
  },
  {
   "cell_type": "code",
   "execution_count": 12,
   "metadata": {},
   "outputs": [],
   "source": [
    "\n",
    "class Doc2VecTransformer(BaseEstimator):\n",
    "\n",
    "    def __init__(self, action_column, vector_size=100, learning_rate=0.02, epochs=20):\n",
    "        self.learning_rate = learning_rate\n",
    "        self.epochs = epochs\n",
    "        self._model = None\n",
    "        self.vector_size = vector_size\n",
    "        self.workers = multiprocessing.cpu_count() - 1\n",
    "        self.action_column = action_column\n",
    "\n",
    "    def fit(self, df_x, df_y=None):\n",
    "        tagged_x = [TaggedDocument(str(row[self.action_column]).split(), [index]) for index, row in df_x.iterrows()] # edit this: will not work on Chinese\n",
    "\n",
    "        model = Doc2Vec(documents=tagged_x, vector_size=self.vector_size, workers=self.workers) # maybe want to try Word2Vec\n",
    "\n",
    "        for epoch in range(self.epochs):\n",
    "            model.train(skl_utils.shuffle([x for x in tqdm(tagged_x)]), total_examples=len(tagged_x), epochs=1)\n",
    "            model.alpha -= self.learning_rate\n",
    "            model.min_alpha = model.alpha\n",
    "\n",
    "        self._model = model\n",
    "        return self\n",
    "\n",
    "    def transform(self, df_x):\n",
    "        return np.asmatrix(np.array([self._model.infer_vector(str(row[self.action_column]).split())\n",
    "                                     for index, row in df_x.iterrows()]))"
   ]
  },
  {
   "cell_type": "code",
   "execution_count": 13,
   "metadata": {},
   "outputs": [
    {
     "name": "stderr",
     "output_type": "stream",
     "text": [
      "100%|██████████| 222/222 [00:00<00:00, 1597144.92it/s]\n",
      "100%|██████████| 222/222 [00:00<00:00, 1730735.11it/s]\n",
      "100%|██████████| 222/222 [00:00<00:00, 941491.90it/s]\n",
      "100%|██████████| 222/222 [00:00<00:00, 2271062.17it/s]\n",
      "100%|██████████| 222/222 [00:00<00:00, 2821622.69it/s]\n",
      "100%|██████████| 222/222 [00:00<00:00, 2909798.40it/s]\n",
      "100%|██████████| 222/222 [00:00<00:00, 2572197.48it/s]\n",
      "100%|██████████| 222/222 [00:00<00:00, 2984408.62it/s]\n",
      "100%|██████████| 222/222 [00:00<00:00, 2974873.76it/s]\n",
      "100%|██████████| 222/222 [00:00<00:00, 3042926.43it/s]\n",
      "100%|██████████| 222/222 [00:00<00:00, 1381506.66it/s]\n",
      "100%|██████████| 222/222 [00:00<00:00, 2175550.21it/s]\n",
      "100%|██████████| 222/222 [00:00<00:00, 2483027.97it/s]\n",
      "100%|██████████| 222/222 [00:00<00:00, 2937335.92it/s]\n",
      "100%|██████████| 222/222 [00:00<00:00, 2130744.82it/s]\n",
      "100%|██████████| 222/222 [00:00<00:00, 3177936.82it/s]\n",
      "100%|██████████| 222/222 [00:00<00:00, 3188820.16it/s]\n",
      "100%|██████████| 222/222 [00:00<00:00, 2865032.27it/s]\n",
      "100%|██████████| 222/222 [00:00<00:00, 1286098.74it/s]\n",
      "100%|██████████| 222/222 [00:00<00:00, 2227596.86it/s]\n",
      "100%|██████████| 222/222 [00:00<00:00, 2327838.72it/s]\n",
      "100%|██████████| 222/222 [00:00<00:00, 2116217.02it/s]\n",
      "100%|██████████| 222/222 [00:00<00:00, 2271062.17it/s]\n",
      "100%|██████████| 222/222 [00:00<00:00, 2206482.20it/s]\n",
      "100%|██████████| 222/222 [00:00<00:00, 2101885.98it/s]\n",
      "100%|██████████| 222/222 [00:00<00:00, 2160407.16it/s]\n",
      "100%|██████████| 222/222 [00:00<00:00, 2087747.73it/s]\n",
      "100%|██████████| 222/222 [00:00<00:00, 2322033.64it/s]\n",
      "100%|██████████| 222/222 [00:00<00:00, 3124615.73it/s]\n",
      "100%|██████████| 222/222 [00:00<00:00, 3103784.96it/s]\n",
      "100%|██████████| 222/222 [00:00<00:00, 3103784.96it/s]\n",
      "100%|██████████| 222/222 [00:00<00:00, 2813098.15it/s]\n",
      "100%|██████████| 222/222 [00:00<00:00, 2865032.27it/s]\n",
      "100%|██████████| 222/222 [00:00<00:00, 3083230.09it/s]\n",
      "100%|██████████| 222/222 [00:00<00:00, 2865032.27it/s]\n",
      "100%|██████████| 222/222 [00:00<00:00, 2293437.16it/s]\n",
      "100%|██████████| 222/222 [00:00<00:00, 3003662.86it/s]\n",
      "100%|██████████| 222/222 [00:00<00:00, 3255718.49it/s]\n",
      "100%|██████████| 222/222 [00:00<00:00, 3103784.96it/s]\n",
      "100%|██████████| 222/222 [00:00<00:00, 3062945.68it/s]\n",
      "100%|██████████| 222/222 [00:00<00:00, 2955985.68it/s]\n",
      "100%|██████████| 222/222 [00:00<00:00, 3233109.33it/s]\n",
      "100%|██████████| 222/222 [00:00<00:00, 2101885.98it/s]\n",
      "100%|██████████| 222/222 [00:00<00:00, 2092439.30it/s]\n",
      "100%|██████████| 222/222 [00:00<00:00, 2310509.90it/s]\n",
      "100%|██████████| 222/222 [00:00<00:00, 2232938.82it/s]\n",
      "100%|██████████| 222/222 [00:00<00:00, 2180645.17it/s]\n",
      "100%|██████████| 222/222 [00:00<00:00, 2412268.10it/s]\n",
      "100%|██████████| 222/222 [00:00<00:00, 2271062.17it/s]\n",
      "100%|██████████| 222/222 [00:00<00:00, 2399833.73it/s]\n"
     ]
    }
   ],
   "source": [
    "# Initializing model\n",
    "doc2vec_tr = Doc2VecTransformer('tokens_merged', \n",
    "                              vector_size=300,#normally imo 150\n",
    "                              epochs= 50,\n",
    "                              )\n",
    "\n",
    "# Fitting\n",
    "doc2vec_tr.fit(df)\n",
    "\n",
    "#Transforming\n",
    "doc2vec_vectors = doc2vec_tr.transform(df)"
   ]
  },
  {
   "cell_type": "code",
   "execution_count": 14,
   "metadata": {},
   "outputs": [
    {
     "data": {
      "text/plain": [
       "222"
      ]
     },
     "execution_count": 14,
     "metadata": {},
     "output_type": "execute_result"
    }
   ],
   "source": [
    "len(doc2vec_vectors)"
   ]
  },
  {
   "cell_type": "code",
   "execution_count": 17,
   "metadata": {},
   "outputs": [
    {
     "data": {
      "text/plain": [
       "(1, 300)"
      ]
     },
     "execution_count": 17,
     "metadata": {},
     "output_type": "execute_result"
    }
   ],
   "source": [
    "doc2vec_vectors[1].shape"
   ]
  },
  {
   "cell_type": "code",
   "execution_count": null,
   "metadata": {},
   "outputs": [],
   "source": [
    "# ADD SAVE KV\n",
    "# ADD LOAD KV"
   ]
  },
  {
   "cell_type": "markdown",
   "metadata": {},
   "source": [
    "# MODELS"
   ]
  },
  {
   "cell_type": "markdown",
   "metadata": {},
   "source": [
    "## SVM Method"
   ]
  },
  {
   "cell_type": "code",
   "execution_count": 18,
   "metadata": {},
   "outputs": [
    {
     "name": "stderr",
     "output_type": "stream",
     "text": [
      "/home/jesselehrke/Documents/GitHub/disinfo_radar_development/dr_venv/lib/python3.9/site-packages/sklearn/utils/validation.py:593: FutureWarning: np.matrix usage is deprecated in 1.0 and will raise a TypeError in 1.2. Please convert to a numpy array with np.asarray. For more information see: https://numpy.org/doc/stable/reference/generated/numpy.matrix.html\n",
      "  warnings.warn(\n"
     ]
    }
   ],
   "source": [
    "# Initialize and fit model\n",
    "'''\n",
    "Adjust nu hyperparameter to, simplifing, \n",
    "increase/decrease \"novelty\" sensitivty\n",
    "'''\n",
    "\n",
    "model = OneClassSVM(kernel = 'rbf', \n",
    "                  gamma = 'scale', \n",
    "                  nu = 0.001).fit(doc2vec_vectors)"
   ]
  },
  {
   "cell_type": "code",
   "execution_count": 19,
   "metadata": {},
   "outputs": [
    {
     "name": "stderr",
     "output_type": "stream",
     "text": [
      "/home/jesselehrke/Documents/GitHub/disinfo_radar_development/dr_venv/lib/python3.9/site-packages/sklearn/utils/validation.py:593: FutureWarning: np.matrix usage is deprecated in 1.0 and will raise a TypeError in 1.2. Please convert to a numpy array with np.asarray. For more information see: https://numpy.org/doc/stable/reference/generated/numpy.matrix.html\n",
      "  warnings.warn(\n"
     ]
    }
   ],
   "source": [
    "# Prediction\n",
    "y_pred = model.predict(doc2vec_vectors)"
   ]
  },
  {
   "cell_type": "code",
   "execution_count": 20,
   "metadata": {},
   "outputs": [
    {
     "name": "stdout",
     "output_type": "stream",
     "text": [
      "Outliers: 25\n"
     ]
    }
   ],
   "source": [
    "# Filter outlier index\n",
    "outlier_index = where(y_pred == -1)\n",
    "indexes = list(outlier_index[0])\n",
    "\n",
    "print('Outliers: ' + str(len(indexes)))\n",
    "\n",
    "# Un-used, for inspection\n",
    "#outlier_values = doc2vec_vectors.iloc[outlier_index]\n",
    "#outlier_values"
   ]
  },
  {
   "cell_type": "code",
   "execution_count": 21,
   "metadata": {},
   "outputs": [],
   "source": [
    "# Create a df with just outliers\n",
    "\n",
    "df_misclass = df[df.index.isin(indexes)]"
   ]
  },
  {
   "cell_type": "code",
   "execution_count": 22,
   "metadata": {},
   "outputs": [
    {
     "data": {
      "text/html": [
       "<div>\n",
       "<style scoped>\n",
       "    .dataframe tbody tr th:only-of-type {\n",
       "        vertical-align: middle;\n",
       "    }\n",
       "\n",
       "    .dataframe tbody tr th {\n",
       "        vertical-align: top;\n",
       "    }\n",
       "\n",
       "    .dataframe thead th {\n",
       "        text-align: right;\n",
       "    }\n",
       "</style>\n",
       "<table border=\"1\" class=\"dataframe\">\n",
       "  <thead>\n",
       "    <tr style=\"text-align: right;\">\n",
       "      <th></th>\n",
       "      <th>id</th>\n",
       "      <th>guidislink</th>\n",
       "      <th>link</th>\n",
       "      <th>updated</th>\n",
       "      <th>updated_parsed</th>\n",
       "      <th>published</th>\n",
       "      <th>published_parsed</th>\n",
       "      <th>title</th>\n",
       "      <th>title_detail</th>\n",
       "      <th>summary</th>\n",
       "      <th>...</th>\n",
       "      <th>author</th>\n",
       "      <th>links</th>\n",
       "      <th>arxiv_primary_category</th>\n",
       "      <th>tags</th>\n",
       "      <th>arxiv_comment</th>\n",
       "      <th>arxiv_doi</th>\n",
       "      <th>arxiv_journal_ref</th>\n",
       "      <th>arxiv_affiliation</th>\n",
       "      <th>tokens</th>\n",
       "      <th>tokens_merged</th>\n",
       "    </tr>\n",
       "  </thead>\n",
       "  <tbody>\n",
       "    <tr>\n",
       "      <th>6</th>\n",
       "      <td>http://arxiv.org/abs/2202.09381v1</td>\n",
       "      <td>True</td>\n",
       "      <td>http://arxiv.org/abs/2202.09381v1</td>\n",
       "      <td>2022-02-18T19:01:01Z</td>\n",
       "      <td>[2022, 2, 18, 19, 1, 1, 4, 49, 0]</td>\n",
       "      <td>2022-02-18T19:01:01Z</td>\n",
       "      <td>[2022, 2, 18, 19, 1, 1, 4, 49, 0]</td>\n",
       "      <td>Synthetic Disinformation Attacks on Automated ...</td>\n",
       "      <td>{'type': 'text/plain', 'language': None, 'base...</td>\n",
       "      <td>Automated fact-checking is a needed technology...</td>\n",
       "      <td>...</td>\n",
       "      <td>Christopher D. Manning</td>\n",
       "      <td>[{'href': 'http://arxiv.org/abs/2202.09381v1',...</td>\n",
       "      <td>{'term': 'cs.CL', 'scheme': 'http://arxiv.org/...</td>\n",
       "      <td>[{'term': 'cs.CL', 'scheme': 'http://arxiv.org...</td>\n",
       "      <td>AAAI 2022</td>\n",
       "      <td>NaN</td>\n",
       "      <td>NaN</td>\n",
       "      <td>NaN</td>\n",
       "      <td>[automate, factchecking, needed, technology, c...</td>\n",
       "      <td>automate factchecking needed technology curtai...</td>\n",
       "    </tr>\n",
       "    <tr>\n",
       "      <th>14</th>\n",
       "      <td>http://arxiv.org/abs/2112.09151v1</td>\n",
       "      <td>True</td>\n",
       "      <td>http://arxiv.org/abs/2112.09151v1</td>\n",
       "      <td>2021-12-16T19:00:43Z</td>\n",
       "      <td>[2021, 12, 16, 19, 0, 43, 3, 350, 0]</td>\n",
       "      <td>2021-12-16T19:00:43Z</td>\n",
       "      <td>[2021, 12, 16, 19, 0, 43, 3, 350, 0]</td>\n",
       "      <td>TAFIM: Targeted Adversarial Attacks against Fa...</td>\n",
       "      <td>{'type': 'text/plain', 'language': None, 'base...</td>\n",
       "      <td>Face image manipulation methods, despite havin...</td>\n",
       "      <td>...</td>\n",
       "      <td>Matthias Niessner</td>\n",
       "      <td>[{'href': 'http://arxiv.org/abs/2112.09151v1',...</td>\n",
       "      <td>{'term': 'cs.CV', 'scheme': 'http://arxiv.org/...</td>\n",
       "      <td>[{'term': 'cs.CV', 'scheme': 'http://arxiv.org...</td>\n",
       "      <td>Paper Video: https://youtu.be/btHCrVMKbzw Proj...</td>\n",
       "      <td>NaN</td>\n",
       "      <td>NaN</td>\n",
       "      <td>NaN</td>\n",
       "      <td>[face, image, manipulation, method, many, bene...</td>\n",
       "      <td>face image manipulation method many beneficial...</td>\n",
       "    </tr>\n",
       "    <tr>\n",
       "      <th>18</th>\n",
       "      <td>http://arxiv.org/abs/2111.08543v1</td>\n",
       "      <td>True</td>\n",
       "      <td>http://arxiv.org/abs/2111.08543v1</td>\n",
       "      <td>2021-11-16T15:12:37Z</td>\n",
       "      <td>[2021, 11, 16, 15, 12, 37, 1, 320, 0]</td>\n",
       "      <td>2021-11-16T15:12:37Z</td>\n",
       "      <td>[2021, 11, 16, 15, 12, 37, 1, 320, 0]</td>\n",
       "      <td>WikiContradiction: Detecting Self-Contradictio...</td>\n",
       "      <td>{'type': 'text/plain', 'language': None, 'base...</td>\n",
       "      <td>While Wikipedia has been utilized for fact-che...</td>\n",
       "      <td>...</td>\n",
       "      <td>Yi-Zhan Hsu</td>\n",
       "      <td>[{'href': 'http://arxiv.org/abs/2111.08543v1',...</td>\n",
       "      <td>{'term': 'cs.CL', 'scheme': 'http://arxiv.org/...</td>\n",
       "      <td>[{'term': 'cs.CL', 'scheme': 'http://arxiv.org...</td>\n",
       "      <td>Published at IEEE BigData 2021 (regular paper)...</td>\n",
       "      <td>NaN</td>\n",
       "      <td>NaN</td>\n",
       "      <td>NaN</td>\n",
       "      <td>[utilize, factchecke, claim, verification, deb...</td>\n",
       "      <td>utilize factchecke claim verification debunk m...</td>\n",
       "    </tr>\n",
       "  </tbody>\n",
       "</table>\n",
       "<p>3 rows × 23 columns</p>\n",
       "</div>"
      ],
      "text/plain": [
       "                                   id  guidislink  \\\n",
       "6   http://arxiv.org/abs/2202.09381v1        True   \n",
       "14  http://arxiv.org/abs/2112.09151v1        True   \n",
       "18  http://arxiv.org/abs/2111.08543v1        True   \n",
       "\n",
       "                                 link               updated  \\\n",
       "6   http://arxiv.org/abs/2202.09381v1  2022-02-18T19:01:01Z   \n",
       "14  http://arxiv.org/abs/2112.09151v1  2021-12-16T19:00:43Z   \n",
       "18  http://arxiv.org/abs/2111.08543v1  2021-11-16T15:12:37Z   \n",
       "\n",
       "                           updated_parsed             published  \\\n",
       "6       [2022, 2, 18, 19, 1, 1, 4, 49, 0]  2022-02-18T19:01:01Z   \n",
       "14   [2021, 12, 16, 19, 0, 43, 3, 350, 0]  2021-12-16T19:00:43Z   \n",
       "18  [2021, 11, 16, 15, 12, 37, 1, 320, 0]  2021-11-16T15:12:37Z   \n",
       "\n",
       "                         published_parsed  \\\n",
       "6       [2022, 2, 18, 19, 1, 1, 4, 49, 0]   \n",
       "14   [2021, 12, 16, 19, 0, 43, 3, 350, 0]   \n",
       "18  [2021, 11, 16, 15, 12, 37, 1, 320, 0]   \n",
       "\n",
       "                                                title  \\\n",
       "6   Synthetic Disinformation Attacks on Automated ...   \n",
       "14  TAFIM: Targeted Adversarial Attacks against Fa...   \n",
       "18  WikiContradiction: Detecting Self-Contradictio...   \n",
       "\n",
       "                                         title_detail  \\\n",
       "6   {'type': 'text/plain', 'language': None, 'base...   \n",
       "14  {'type': 'text/plain', 'language': None, 'base...   \n",
       "18  {'type': 'text/plain', 'language': None, 'base...   \n",
       "\n",
       "                                              summary  ...  \\\n",
       "6   Automated fact-checking is a needed technology...  ...   \n",
       "14  Face image manipulation methods, despite havin...  ...   \n",
       "18  While Wikipedia has been utilized for fact-che...  ...   \n",
       "\n",
       "                    author                                              links  \\\n",
       "6   Christopher D. Manning  [{'href': 'http://arxiv.org/abs/2202.09381v1',...   \n",
       "14       Matthias Niessner  [{'href': 'http://arxiv.org/abs/2112.09151v1',...   \n",
       "18             Yi-Zhan Hsu  [{'href': 'http://arxiv.org/abs/2111.08543v1',...   \n",
       "\n",
       "                               arxiv_primary_category  \\\n",
       "6   {'term': 'cs.CL', 'scheme': 'http://arxiv.org/...   \n",
       "14  {'term': 'cs.CV', 'scheme': 'http://arxiv.org/...   \n",
       "18  {'term': 'cs.CL', 'scheme': 'http://arxiv.org/...   \n",
       "\n",
       "                                                 tags  \\\n",
       "6   [{'term': 'cs.CL', 'scheme': 'http://arxiv.org...   \n",
       "14  [{'term': 'cs.CV', 'scheme': 'http://arxiv.org...   \n",
       "18  [{'term': 'cs.CL', 'scheme': 'http://arxiv.org...   \n",
       "\n",
       "                                        arxiv_comment arxiv_doi  \\\n",
       "6                                           AAAI 2022       NaN   \n",
       "14  Paper Video: https://youtu.be/btHCrVMKbzw Proj...       NaN   \n",
       "18  Published at IEEE BigData 2021 (regular paper)...       NaN   \n",
       "\n",
       "   arxiv_journal_ref arxiv_affiliation  \\\n",
       "6                NaN               NaN   \n",
       "14               NaN               NaN   \n",
       "18               NaN               NaN   \n",
       "\n",
       "                                               tokens  \\\n",
       "6   [automate, factchecking, needed, technology, c...   \n",
       "14  [face, image, manipulation, method, many, bene...   \n",
       "18  [utilize, factchecke, claim, verification, deb...   \n",
       "\n",
       "                                        tokens_merged  \n",
       "6   automate factchecking needed technology curtai...  \n",
       "14  face image manipulation method many beneficial...  \n",
       "18  utilize factchecke claim verification debunk m...  \n",
       "\n",
       "[3 rows x 23 columns]"
      ]
     },
     "execution_count": 22,
     "metadata": {},
     "output_type": "execute_result"
    }
   ],
   "source": [
    "# Inspect dataframe\n",
    "\n",
    "df_misclass.head(3)"
   ]
  },
  {
   "cell_type": "code",
   "execution_count": null,
   "metadata": {},
   "outputs": [],
   "source": [
    "# Add compare function"
   ]
  },
  {
   "cell_type": "markdown",
   "metadata": {},
   "source": [
    "Another approach to getting outliers using SVM model but diffferent criteria (more of a % than a absolute value)"
   ]
  },
  {
   "cell_type": "code",
   "execution_count": 23,
   "metadata": {},
   "outputs": [
    {
     "name": "stderr",
     "output_type": "stream",
     "text": [
      "/home/jesselehrke/Documents/GitHub/disinfo_radar_development/dr_venv/lib/python3.9/site-packages/sklearn/utils/validation.py:593: FutureWarning: np.matrix usage is deprecated in 1.0 and will raise a TypeError in 1.2. Please convert to a numpy array with np.asarray. For more information see: https://numpy.org/doc/stable/reference/generated/numpy.matrix.html\n",
      "  warnings.warn(\n"
     ]
    }
   ],
   "source": [
    "scores = model.score_samples(doc2vec_vectors)"
   ]
  },
  {
   "cell_type": "code",
   "execution_count": 24,
   "metadata": {},
   "outputs": [
    {
     "name": "stdout",
     "output_type": "stream",
     "text": [
      "0.07444927377073385\n"
     ]
    }
   ],
   "source": [
    "# Change treshhold as needed\n",
    "\n",
    "thresh = quantile(scores, 0.03)\n",
    "print(thresh)"
   ]
  },
  {
   "cell_type": "code",
   "execution_count": 25,
   "metadata": {},
   "outputs": [
    {
     "name": "stdout",
     "output_type": "stream",
     "text": [
      "7\n"
     ]
    }
   ],
   "source": [
    "# getting indexes\n",
    "\n",
    "index = where(scores<=thresh)\n",
    "index = list(index[0])\n",
    "print(len(index))\n"
   ]
  },
  {
   "cell_type": "code",
   "execution_count": 26,
   "metadata": {},
   "outputs": [
    {
     "data": {
      "text/html": [
       "<div>\n",
       "<style scoped>\n",
       "    .dataframe tbody tr th:only-of-type {\n",
       "        vertical-align: middle;\n",
       "    }\n",
       "\n",
       "    .dataframe tbody tr th {\n",
       "        vertical-align: top;\n",
       "    }\n",
       "\n",
       "    .dataframe thead th {\n",
       "        text-align: right;\n",
       "    }\n",
       "</style>\n",
       "<table border=\"1\" class=\"dataframe\">\n",
       "  <thead>\n",
       "    <tr style=\"text-align: right;\">\n",
       "      <th></th>\n",
       "      <th>id</th>\n",
       "      <th>guidislink</th>\n",
       "      <th>link</th>\n",
       "      <th>updated</th>\n",
       "      <th>updated_parsed</th>\n",
       "      <th>published</th>\n",
       "      <th>published_parsed</th>\n",
       "      <th>title</th>\n",
       "      <th>title_detail</th>\n",
       "      <th>summary</th>\n",
       "      <th>...</th>\n",
       "      <th>author</th>\n",
       "      <th>links</th>\n",
       "      <th>arxiv_primary_category</th>\n",
       "      <th>tags</th>\n",
       "      <th>arxiv_comment</th>\n",
       "      <th>arxiv_doi</th>\n",
       "      <th>arxiv_journal_ref</th>\n",
       "      <th>arxiv_affiliation</th>\n",
       "      <th>tokens</th>\n",
       "      <th>tokens_merged</th>\n",
       "    </tr>\n",
       "  </thead>\n",
       "  <tbody>\n",
       "    <tr>\n",
       "      <th>6</th>\n",
       "      <td>http://arxiv.org/abs/2202.09381v1</td>\n",
       "      <td>True</td>\n",
       "      <td>http://arxiv.org/abs/2202.09381v1</td>\n",
       "      <td>2022-02-18T19:01:01Z</td>\n",
       "      <td>[2022, 2, 18, 19, 1, 1, 4, 49, 0]</td>\n",
       "      <td>2022-02-18T19:01:01Z</td>\n",
       "      <td>[2022, 2, 18, 19, 1, 1, 4, 49, 0]</td>\n",
       "      <td>Synthetic Disinformation Attacks on Automated ...</td>\n",
       "      <td>{'type': 'text/plain', 'language': None, 'base...</td>\n",
       "      <td>Automated fact-checking is a needed technology...</td>\n",
       "      <td>...</td>\n",
       "      <td>Christopher D. Manning</td>\n",
       "      <td>[{'href': 'http://arxiv.org/abs/2202.09381v1',...</td>\n",
       "      <td>{'term': 'cs.CL', 'scheme': 'http://arxiv.org/...</td>\n",
       "      <td>[{'term': 'cs.CL', 'scheme': 'http://arxiv.org...</td>\n",
       "      <td>AAAI 2022</td>\n",
       "      <td>NaN</td>\n",
       "      <td>NaN</td>\n",
       "      <td>NaN</td>\n",
       "      <td>[automate, factchecking, needed, technology, c...</td>\n",
       "      <td>automate factchecking needed technology curtai...</td>\n",
       "    </tr>\n",
       "    <tr>\n",
       "      <th>18</th>\n",
       "      <td>http://arxiv.org/abs/2111.08543v1</td>\n",
       "      <td>True</td>\n",
       "      <td>http://arxiv.org/abs/2111.08543v1</td>\n",
       "      <td>2021-11-16T15:12:37Z</td>\n",
       "      <td>[2021, 11, 16, 15, 12, 37, 1, 320, 0]</td>\n",
       "      <td>2021-11-16T15:12:37Z</td>\n",
       "      <td>[2021, 11, 16, 15, 12, 37, 1, 320, 0]</td>\n",
       "      <td>WikiContradiction: Detecting Self-Contradictio...</td>\n",
       "      <td>{'type': 'text/plain', 'language': None, 'base...</td>\n",
       "      <td>While Wikipedia has been utilized for fact-che...</td>\n",
       "      <td>...</td>\n",
       "      <td>Yi-Zhan Hsu</td>\n",
       "      <td>[{'href': 'http://arxiv.org/abs/2111.08543v1',...</td>\n",
       "      <td>{'term': 'cs.CL', 'scheme': 'http://arxiv.org/...</td>\n",
       "      <td>[{'term': 'cs.CL', 'scheme': 'http://arxiv.org...</td>\n",
       "      <td>Published at IEEE BigData 2021 (regular paper)...</td>\n",
       "      <td>NaN</td>\n",
       "      <td>NaN</td>\n",
       "      <td>NaN</td>\n",
       "      <td>[utilize, factchecke, claim, verification, deb...</td>\n",
       "      <td>utilize factchecke claim verification debunk m...</td>\n",
       "    </tr>\n",
       "    <tr>\n",
       "      <th>43</th>\n",
       "      <td>http://arxiv.org/abs/2108.05150v1</td>\n",
       "      <td>True</td>\n",
       "      <td>http://arxiv.org/abs/2108.05150v1</td>\n",
       "      <td>2021-08-11T10:56:10Z</td>\n",
       "      <td>[2021, 8, 11, 10, 56, 10, 2, 223, 0]</td>\n",
       "      <td>2021-08-11T10:56:10Z</td>\n",
       "      <td>[2021, 8, 11, 10, 56, 10, 2, 223, 0]</td>\n",
       "      <td>Exploring the Links between Personality Traits...</td>\n",
       "      <td>{'type': 'text/plain', 'language': None, 'base...</td>\n",
       "      <td>The growth of online Digital/social media has ...</td>\n",
       "      <td>...</td>\n",
       "      <td>Owen Conlan</td>\n",
       "      <td>[{'title': 'doi', 'href': 'http://dx.doi.org/1...</td>\n",
       "      <td>{'term': 'cs.HC', 'scheme': 'http://arxiv.org/...</td>\n",
       "      <td>[{'term': 'cs.HC', 'scheme': 'http://arxiv.org...</td>\n",
       "      <td>4 pages, 1 figure, ACM conference</td>\n",
       "      <td>10.1145/3465336.3475121</td>\n",
       "      <td>NaN</td>\n",
       "      <td>NaN</td>\n",
       "      <td>[growth, online, digitalsocial, medium, allow,...</td>\n",
       "      <td>growth online digitalsocial medium allow varie...</td>\n",
       "    </tr>\n",
       "  </tbody>\n",
       "</table>\n",
       "<p>3 rows × 23 columns</p>\n",
       "</div>"
      ],
      "text/plain": [
       "                                   id  guidislink  \\\n",
       "6   http://arxiv.org/abs/2202.09381v1        True   \n",
       "18  http://arxiv.org/abs/2111.08543v1        True   \n",
       "43  http://arxiv.org/abs/2108.05150v1        True   \n",
       "\n",
       "                                 link               updated  \\\n",
       "6   http://arxiv.org/abs/2202.09381v1  2022-02-18T19:01:01Z   \n",
       "18  http://arxiv.org/abs/2111.08543v1  2021-11-16T15:12:37Z   \n",
       "43  http://arxiv.org/abs/2108.05150v1  2021-08-11T10:56:10Z   \n",
       "\n",
       "                           updated_parsed             published  \\\n",
       "6       [2022, 2, 18, 19, 1, 1, 4, 49, 0]  2022-02-18T19:01:01Z   \n",
       "18  [2021, 11, 16, 15, 12, 37, 1, 320, 0]  2021-11-16T15:12:37Z   \n",
       "43   [2021, 8, 11, 10, 56, 10, 2, 223, 0]  2021-08-11T10:56:10Z   \n",
       "\n",
       "                         published_parsed  \\\n",
       "6       [2022, 2, 18, 19, 1, 1, 4, 49, 0]   \n",
       "18  [2021, 11, 16, 15, 12, 37, 1, 320, 0]   \n",
       "43   [2021, 8, 11, 10, 56, 10, 2, 223, 0]   \n",
       "\n",
       "                                                title  \\\n",
       "6   Synthetic Disinformation Attacks on Automated ...   \n",
       "18  WikiContradiction: Detecting Self-Contradictio...   \n",
       "43  Exploring the Links between Personality Traits...   \n",
       "\n",
       "                                         title_detail  \\\n",
       "6   {'type': 'text/plain', 'language': None, 'base...   \n",
       "18  {'type': 'text/plain', 'language': None, 'base...   \n",
       "43  {'type': 'text/plain', 'language': None, 'base...   \n",
       "\n",
       "                                              summary  ...  \\\n",
       "6   Automated fact-checking is a needed technology...  ...   \n",
       "18  While Wikipedia has been utilized for fact-che...  ...   \n",
       "43  The growth of online Digital/social media has ...  ...   \n",
       "\n",
       "                    author                                              links  \\\n",
       "6   Christopher D. Manning  [{'href': 'http://arxiv.org/abs/2202.09381v1',...   \n",
       "18             Yi-Zhan Hsu  [{'href': 'http://arxiv.org/abs/2111.08543v1',...   \n",
       "43             Owen Conlan  [{'title': 'doi', 'href': 'http://dx.doi.org/1...   \n",
       "\n",
       "                               arxiv_primary_category  \\\n",
       "6   {'term': 'cs.CL', 'scheme': 'http://arxiv.org/...   \n",
       "18  {'term': 'cs.CL', 'scheme': 'http://arxiv.org/...   \n",
       "43  {'term': 'cs.HC', 'scheme': 'http://arxiv.org/...   \n",
       "\n",
       "                                                 tags  \\\n",
       "6   [{'term': 'cs.CL', 'scheme': 'http://arxiv.org...   \n",
       "18  [{'term': 'cs.CL', 'scheme': 'http://arxiv.org...   \n",
       "43  [{'term': 'cs.HC', 'scheme': 'http://arxiv.org...   \n",
       "\n",
       "                                        arxiv_comment  \\\n",
       "6                                           AAAI 2022   \n",
       "18  Published at IEEE BigData 2021 (regular paper)...   \n",
       "43                  4 pages, 1 figure, ACM conference   \n",
       "\n",
       "                  arxiv_doi arxiv_journal_ref arxiv_affiliation  \\\n",
       "6                       NaN               NaN               NaN   \n",
       "18                      NaN               NaN               NaN   \n",
       "43  10.1145/3465336.3475121               NaN               NaN   \n",
       "\n",
       "                                               tokens  \\\n",
       "6   [automate, factchecking, needed, technology, c...   \n",
       "18  [utilize, factchecke, claim, verification, deb...   \n",
       "43  [growth, online, digitalsocial, medium, allow,...   \n",
       "\n",
       "                                        tokens_merged  \n",
       "6   automate factchecking needed technology curtai...  \n",
       "18  utilize factchecke claim verification debunk m...  \n",
       "43  growth online digitalsocial medium allow varie...  \n",
       "\n",
       "[3 rows x 23 columns]"
      ]
     },
     "execution_count": 26,
     "metadata": {},
     "output_type": "execute_result"
    }
   ],
   "source": [
    "# Creating second df\n",
    "df_misclass_2 = df[df.index.isin(index)]\n",
    "\n",
    "# And viewing it\n",
    "df_misclass_2.head(3)"
   ]
  },
  {
   "cell_type": "markdown",
   "metadata": {},
   "source": [
    "## Isolation Forest Method"
   ]
  },
  {
   "cell_type": "code",
   "execution_count": 27,
   "metadata": {},
   "outputs": [
    {
     "name": "stdout",
     "output_type": "stream",
     "text": [
      "{'bootstrap': False, 'contamination': 0.01, 'max_features': 1.0, 'max_samples': 'auto', 'n_estimators': 100, 'n_jobs': None, 'random_state': 42, 'verbose': 0, 'warm_start': False}\n"
     ]
    },
    {
     "name": "stderr",
     "output_type": "stream",
     "text": [
      "/home/jesselehrke/Documents/GitHub/disinfo_radar_development/dr_venv/lib/python3.9/site-packages/sklearn/utils/validation.py:593: FutureWarning: np.matrix usage is deprecated in 1.0 and will raise a TypeError in 1.2. Please convert to a numpy array with np.asarray. For more information see: https://numpy.org/doc/stable/reference/generated/numpy.matrix.html\n",
      "  warnings.warn(\n"
     ]
    }
   ],
   "source": [
    "# Initialize model\n",
    "iso_model = IsolationForest(n_estimators=100,\n",
    "                  max_samples='auto',\n",
    "                  contamination=float(0.01),\n",
    "                  random_state=42\n",
    "                  )\n",
    "\n",
    "# Fitting model\n",
    "iso_model.fit(doc2vec_vectors)\n",
    "\n",
    "print(iso_model.get_params())"
   ]
  },
  {
   "cell_type": "code",
   "execution_count": 34,
   "metadata": {},
   "outputs": [
    {
     "name": "stderr",
     "output_type": "stream",
     "text": [
      "/home/jesselehrke/Documents/GitHub/disinfo_radar_development/dr_venv/lib/python3.9/site-packages/sklearn/utils/validation.py:593: FutureWarning: np.matrix usage is deprecated in 1.0 and will raise a TypeError in 1.2. Please convert to a numpy array with np.asarray. For more information see: https://numpy.org/doc/stable/reference/generated/numpy.matrix.html\n",
      "  warnings.warn(\n",
      "/home/jesselehrke/Documents/GitHub/disinfo_radar_development/dr_venv/lib/python3.9/site-packages/sklearn/utils/validation.py:593: FutureWarning: np.matrix usage is deprecated in 1.0 and will raise a TypeError in 1.2. Please convert to a numpy array with np.asarray. For more information see: https://numpy.org/doc/stable/reference/generated/numpy.matrix.html\n",
      "  warnings.warn(\n"
     ]
    }
   ],
   "source": [
    "data = pd.DataFrame()\n",
    "\n",
    "data['scores'] = iso_model.decision_function(doc2vec_vectors)\n",
    "\n",
    "data['anomaly_score'] = iso_model.predict(doc2vec_vectors) \n",
    "\n"
   ]
  },
  {
   "cell_type": "code",
   "execution_count": 35,
   "metadata": {},
   "outputs": [
    {
     "data": {
      "text/html": [
       "<div>\n",
       "<style scoped>\n",
       "    .dataframe tbody tr th:only-of-type {\n",
       "        vertical-align: middle;\n",
       "    }\n",
       "\n",
       "    .dataframe tbody tr th {\n",
       "        vertical-align: top;\n",
       "    }\n",
       "\n",
       "    .dataframe thead th {\n",
       "        text-align: right;\n",
       "    }\n",
       "</style>\n",
       "<table border=\"1\" class=\"dataframe\">\n",
       "  <thead>\n",
       "    <tr style=\"text-align: right;\">\n",
       "      <th></th>\n",
       "      <th>scores</th>\n",
       "      <th>anomaly_score</th>\n",
       "    </tr>\n",
       "  </thead>\n",
       "  <tbody>\n",
       "    <tr>\n",
       "      <th>50</th>\n",
       "      <td>-0.020306</td>\n",
       "      <td>-1</td>\n",
       "    </tr>\n",
       "    <tr>\n",
       "      <th>73</th>\n",
       "      <td>-0.214313</td>\n",
       "      <td>-1</td>\n",
       "    </tr>\n",
       "    <tr>\n",
       "      <th>204</th>\n",
       "      <td>-0.000914</td>\n",
       "      <td>-1</td>\n",
       "    </tr>\n",
       "  </tbody>\n",
       "</table>\n",
       "</div>"
      ],
      "text/plain": [
       "       scores  anomaly_score\n",
       "50  -0.020306             -1\n",
       "73  -0.214313             -1\n",
       "204 -0.000914             -1"
      ]
     },
     "execution_count": 35,
     "metadata": {},
     "output_type": "execute_result"
    }
   ],
   "source": [
    "data[data['anomaly_score']==-1]"
   ]
  },
  {
   "cell_type": "code",
   "execution_count": 36,
   "metadata": {},
   "outputs": [
    {
     "name": "stdout",
     "output_type": "stream",
     "text": [
      "Outliers: 3\n"
     ]
    }
   ],
   "source": [
    "outlier_index = where(data['anomaly_score'] == -1)\n",
    "indexes = list(outlier_index[0])\n",
    "\n",
    "print('Outliers: ' + str(len(indexes)))\n",
    "\n",
    "isolation_misclass = df[df.index.isin(indexes)]"
   ]
  },
  {
   "cell_type": "code",
   "execution_count": 39,
   "metadata": {},
   "outputs": [
    {
     "data": {
      "text/plain": [
       "50     Generative Models for Security: Attacks, Defen...\n",
       "73     Understanding Transformers for Bot Detection i...\n",
       "204    Who Let The Trolls Out? Towards Understanding ...\n",
       "Name: title, dtype: object"
      ]
     },
     "execution_count": 39,
     "metadata": {},
     "output_type": "execute_result"
    }
   ],
   "source": [
    "isolation_misclass.title"
   ]
  },
  {
   "cell_type": "markdown",
   "metadata": {},
   "source": [
    "## Cosine Simularity Method"
   ]
  },
  {
   "cell_type": "code",
   "execution_count": 40,
   "metadata": {},
   "outputs": [
    {
     "name": "stderr",
     "output_type": "stream",
     "text": [
      "/home/jesselehrke/Documents/GitHub/disinfo_radar_development/dr_venv/lib/python3.9/site-packages/sklearn/utils/validation.py:593: FutureWarning: np.matrix usage is deprecated in 1.0 and will raise a TypeError in 1.2. Please convert to a numpy array with np.asarray. For more information see: https://numpy.org/doc/stable/reference/generated/numpy.matrix.html\n",
      "  warnings.warn(\n",
      "/home/jesselehrke/Documents/GitHub/disinfo_radar_development/dr_venv/lib/python3.9/site-packages/sklearn/utils/validation.py:593: FutureWarning: np.matrix usage is deprecated in 1.0 and will raise a TypeError in 1.2. Please convert to a numpy array with np.asarray. For more information see: https://numpy.org/doc/stable/reference/generated/numpy.matrix.html\n",
      "  warnings.warn(\n",
      "/home/jesselehrke/Documents/GitHub/disinfo_radar_development/dr_venv/lib/python3.9/site-packages/sklearn/utils/validation.py:593: FutureWarning: np.matrix usage is deprecated in 1.0 and will raise a TypeError in 1.2. Please convert to a numpy array with np.asarray. For more information see: https://numpy.org/doc/stable/reference/generated/numpy.matrix.html\n",
      "  warnings.warn(\n"
     ]
    }
   ],
   "source": [
    "# Initialize, fit and predict\n",
    "auto_encoder = MLPRegressor(hidden_layer_sizes=(\n",
    "                                                 600,\n",
    "                                                 150, \n",
    "                                                 600,\n",
    "                                               ))\n",
    "\n",
    "auto_encoder.fit(doc2vec_vectors, doc2vec_vectors)\n",
    "\n",
    "predicted_vectors = auto_encoder.predict(doc2vec_vectors)"
   ]
  },
  {
   "cell_type": "code",
   "execution_count": 41,
   "metadata": {},
   "outputs": [
    {
     "data": {
      "text/plain": [
       "<AxesSubplot:>"
      ]
     },
     "execution_count": 41,
     "metadata": {},
     "output_type": "execute_result"
    },
    {
     "data": {
      "image/png": "[encoded data removed]",
      "text/plain": [
       "<Figure size 432x288 with 1 Axes>"
      ]
     },
     "metadata": {
      "needs_background": "light"
     },
     "output_type": "display_data"
    }
   ],
   "source": [
    "# Visual loss\n",
    "pd.DataFrame(auto_encoder.loss_curve_).plot()"
   ]
  },
  {
   "cell_type": "code",
   "execution_count": 47,
   "metadata": {},
   "outputs": [
    {
     "data": {
      "text/plain": [
       "Index(['id', 'guidislink', 'link', 'updated', 'updated_parsed', 'published',\n",
       "       'published_parsed', 'title', 'title_detail', 'summary',\n",
       "       'summary_detail', 'authors', 'author_detail', 'author', 'links',\n",
       "       'arxiv_primary_category', 'tags', 'arxiv_comment', 'arxiv_doi',\n",
       "       'arxiv_journal_ref', 'arxiv_affiliation', 'tokens', 'tokens_merged'],\n",
       "      dtype='object')"
      ]
     },
     "execution_count": 47,
     "metadata": {},
     "output_type": "execute_result"
    }
   ],
   "source": [
    "df.columns"
   ]
  },
  {
   "cell_type": "code",
   "execution_count": 48,
   "metadata": {},
   "outputs": [],
   "source": [
    "def key_consine_similarity(tupple):\n",
    "    return tupple[1]\n",
    "\n",
    "def get_computed_similarities(vectors, predicted_vectors, reverse=False):\n",
    "    data_size = len(df)\n",
    "    cosine_similarities = []\n",
    "    for i in range(data_size):\n",
    "        cosine_sim_val = (1 - cosine(vectors[i], predicted_vectors[i]))\n",
    "        cosine_similarities.append((i, cosine_sim_val))\n",
    "\n",
    "    return sorted(cosine_similarities, key=key_consine_similarity, reverse=reverse)\n",
    "\n",
    "def display_top_n(sorted_cosine_similarities, n=5):\n",
    "    for i in range(n):\n",
    "        index, consine_sim_val = sorted_cosine_similarities[i]\n",
    "        print('Title: ', df.iloc[index, 7])\n",
    "        print('ID: ', df.iloc[index, 0])  \n",
    "        print('Cosine Sim Val :', consine_sim_val)\n",
    "        print('---------------------------------')\n",
    "\n",
    "# add function to sort by percentage\n"
   ]
  },
  {
   "cell_type": "code",
   "execution_count": 51,
   "metadata": {},
   "outputs": [],
   "source": [
    "# Specify how many 'outliers' you want to see\n",
    "N = 20"
   ]
  },
  {
   "cell_type": "code",
   "execution_count": 52,
   "metadata": {},
   "outputs": [
    {
     "name": "stdout",
     "output_type": "stream",
     "text": [
      "Top n unique\n",
      "Title:  DISCO: Comprehensive and Explainable Disinformation Detection\n",
      "ID:  http://arxiv.org/abs/2203.04928v1\n",
      "Cosine Sim Val : -0.06759274005889893\n",
      "---------------------------------\n",
      "Title:  GAN-generated Faces Detection: A Survey and New Perspectives (2022)\n",
      "ID:  http://arxiv.org/abs/2202.07145v2\n",
      "Cosine Sim Val : -0.05755409970879555\n",
      "---------------------------------\n",
      "Title:  Characterizing COVID-19 Misinformation Communities Using a Novel Twitter\n",
      "  Dataset\n",
      "ID:  http://arxiv.org/abs/2008.00791v4\n",
      "Cosine Sim Val : -0.05403953790664673\n",
      "---------------------------------\n",
      "Title:  Cognitive Analysis of Security Threats on Social Networking Services:\n",
      "  Slovakia in need of stronger action\n",
      "ID:  http://arxiv.org/abs/2005.08618v1\n",
      "Cosine Sim Val : -0.051104847341775894\n",
      "---------------------------------\n",
      "Title:  A Simulated Cyberattack on Twitter: Assessing Partisan Vulnerability to\n",
      "  Spear Phishing and Disinformation ahead of the 2018 U.S. Midterm Elections\n",
      "ID:  http://arxiv.org/abs/1811.05900v2\n",
      "Cosine Sim Val : -0.05060319975018501\n",
      "---------------------------------\n",
      "Title:  Determining Individual Origin Similarity (DInOS): Binary Classification\n",
      "  of Authors Using Stylometric Features\n",
      "ID:  http://arxiv.org/abs/1912.03750v1\n",
      "Cosine Sim Val : -0.034512393176555634\n",
      "---------------------------------\n",
      "Title:  WikiCheck: An end-to-end open source Automatic Fact-Checking API based\n",
      "  on Wikipedia\n",
      "ID:  http://arxiv.org/abs/2109.00835v1\n",
      "Cosine Sim Val : -0.01071150042116642\n",
      "---------------------------------\n",
      "Title:  Helping People Deal With Disinformation -- A Socio-Technical Perspective\n",
      "ID:  http://arxiv.org/abs/2104.04311v1\n",
      "Cosine Sim Val : -0.009313167072832584\n",
      "---------------------------------\n",
      "Title:  UofA-Truth at Factify 2022 : Transformer And Transfer Learning Based\n",
      "  Multi-Modal Fact-Checking\n",
      "ID:  http://arxiv.org/abs/2203.07990v1\n",
      "Cosine Sim Val : 0.0004058702033944428\n",
      "---------------------------------\n",
      "Title:  Tracking Peaceful Tractors on Social Media -- XAI-enabled analysis of\n",
      "  Red Fort Riots 2021\n",
      "ID:  http://arxiv.org/abs/2104.13352v2\n",
      "Cosine Sim Val : 0.019129551947116852\n",
      "---------------------------------\n",
      "Title:  Exploiting Human Social Cognition for the Detection of Fake and\n",
      "  Fraudulent Faces via Memory Networks\n",
      "ID:  http://arxiv.org/abs/1911.07844v1\n",
      "Cosine Sim Val : 0.023981530219316483\n",
      "---------------------------------\n",
      "Title:  Fake News Early Detection: An Interdisciplinary Study\n",
      "ID:  http://arxiv.org/abs/1904.11679v2\n",
      "Cosine Sim Val : 0.024493545293807983\n",
      "---------------------------------\n",
      "Title:  Out of the Echo Chamber: Detecting Countering Debate Speeches\n",
      "ID:  http://arxiv.org/abs/2005.01157v1\n",
      "Cosine Sim Val : 0.02593240514397621\n",
      "---------------------------------\n",
      "Title:  Strategically-Motivated Advanced Persistent Threat: Definition, Process,\n",
      "  Tactics and a Disinformation Model of Counterattack\n",
      "ID:  http://arxiv.org/abs/2103.15005v1\n",
      "Cosine Sim Val : 0.027861764654517174\n",
      "---------------------------------\n",
      "Title:  Using Blockchain to Rein in The New Post-Truth World and Check The\n",
      "  Spread of Fake News\n",
      "ID:  http://arxiv.org/abs/1903.11899v1\n",
      "Cosine Sim Val : 0.03115900605916977\n",
      "---------------------------------\n",
      "Title:  Can We Spot the \"Fake News\" Before It Was Even Written?\n",
      "ID:  http://arxiv.org/abs/2008.04374v1\n",
      "Cosine Sim Val : 0.04541754350066185\n",
      "---------------------------------\n",
      "Title:  Mutual Hyperlinking Among Misinformation Peddlers\n",
      "ID:  http://arxiv.org/abs/2104.11694v1\n",
      "Cosine Sim Val : 0.047990042716264725\n",
      "---------------------------------\n",
      "Title:  Detecting GAN-generated Imagery using Color Cues\n",
      "ID:  http://arxiv.org/abs/1812.08247v1\n",
      "Cosine Sim Val : 0.05017615109682083\n",
      "---------------------------------\n",
      "Title:  Characterizing and Comparing COVID-19 Misinformation Across Languages,\n",
      "  Countries and Platforms\n",
      "ID:  http://arxiv.org/abs/2010.06455v2\n",
      "Cosine Sim Val : 0.0508129745721817\n",
      "---------------------------------\n",
      "Title:  A Survey on Computational Propaganda Detection\n",
      "ID:  http://arxiv.org/abs/2007.08024v1\n",
      "Cosine Sim Val : 0.05268546938896179\n",
      "---------------------------------\n"
     ]
    }
   ],
   "source": [
    "print('Top n unique')\n",
    "\n",
    "sorted_cosine_similarities = get_computed_similarities(vectors=doc2vec_vectors, predicted_vectors=predicted_vectors)\n",
    "\n",
    "display_top_n(sorted_cosine_similarities=sorted_cosine_similarities, n = N)"
   ]
  },
  {
   "cell_type": "markdown",
   "metadata": {},
   "source": [
    "### Visualizing the cosines - will revise during first test"
   ]
  },
  {
   "cell_type": "code",
   "execution_count": 46,
   "metadata": {},
   "outputs": [
    {
     "name": "stderr",
     "output_type": "stream",
     "text": [
      "/home/jesselehrke/Documents/GitHub/disinfo_radar_development/dr_venv/lib/python3.9/site-packages/seaborn/distributions.py:2619: FutureWarning: `distplot` is a deprecated function and will be removed in a future version. Please adapt your code to use either `displot` (a figure-level function with similar flexibility) or `histplot` (an axes-level function for histograms).\n",
      "  warnings.warn(msg, FutureWarning)\n"
     ]
    },
    {
     "data": {
      "text/plain": [
       "<AxesSubplot:>"
      ]
     },
     "execution_count": 46,
     "metadata": {},
     "output_type": "execute_result"
    },
    {
     "data": {
      "image/png": "[encoded data removed]",
      "text/plain": [
       "<Figure size 432x288 with 1 Axes>"
      ]
     },
     "metadata": {
      "needs_background": "light"
     },
     "output_type": "display_data"
    }
   ],
   "source": [
    "# Seaborn histogram\n",
    "# Can use to adjust the N above (or percent, once we have that function) to see the low cluster\n",
    "\n",
    "sns.distplot(losses, hist=True, kde=False, \n",
    "             bins=int(180/5), color = 'blue',\n",
    "             hist_kws={'edgecolor':'black'})\n",
    "\n",
    "# # Add labels\n",
    "# plt.title('Title')\n",
    "# plt.xlabel('Label x')\n",
    "# plt.ylabel('Label y')"
   ]
  },
  {
   "cell_type": "markdown",
   "metadata": {},
   "source": [
    "### IIRC not fully functional yet - for more Cosine work"
   ]
  },
  {
   "cell_type": "code",
   "execution_count": 54,
   "metadata": {},
   "outputs": [
    {
     "data": {
      "text/plain": [
       "23"
      ]
     },
     "execution_count": 54,
     "metadata": {},
     "output_type": "execute_result"
    }
   ],
   "source": [
    "len(list(df.columns))"
   ]
  },
  {
   "cell_type": "code",
   "execution_count": 57,
   "metadata": {},
   "outputs": [
    {
     "data": {
      "text/plain": [
       "Index(['id', 'guidislink', 'link', 'updated', 'updated_parsed', 'published',\n",
       "       'published_parsed', 'title', 'title_detail', 'summary',\n",
       "       'summary_detail', 'authors', 'author_detail', 'author', 'links',\n",
       "       'arxiv_primary_category', 'tags', 'arxiv_comment', 'arxiv_doi',\n",
       "       'arxiv_journal_ref', 'arxiv_affiliation', 'tokens', 'tokens_merged'],\n",
       "      dtype='object')"
      ]
     },
     "execution_count": 57,
     "metadata": {},
     "output_type": "execute_result"
    }
   ],
   "source": [
    "df.columns"
   ]
  },
  {
   "cell_type": "code",
   "execution_count": 60,
   "metadata": {},
   "outputs": [
    {
     "name": "stdout",
     "output_type": "stream",
     "text": [
      "2\n",
      "Counter({'disinform': 5, 'detect': 4, 'disco': 3, 'comprehens': 2, 'explain': 2, 'address': 2, 'demo': 2, 'refer': 1, 'fals': 1, 'inform': 1, 'deliber': 1, 'spread': 1, 'influenc': 1, 'gener': 1, 'public': 1, 'neg': 1, 'impact': 1, 'societi': 1, 'observ': 1, 'numer': 1, 'issu': 1, 'polit': 1, 'agenda': 1, 'manipul': 1, 'financi': 1, 'market': 1, 'paper': 1, 'identifi': 1, 'preval': 1, 'challeng': 1, 'advanc': 1, 'relat': 1, 'autom': 1, 'multipl': 1, 'aspect': 1, 'propos': 1, 'framework': 1, 'call': 1, 'leverag': 1, 'heterogen': 1, 'predict': 1, 'opaqu': 1, 'provid': 1, 'demonstr': 1, 'real': 1, 'world': 1, 'fake': 1, 'new': 1, 'task': 1, 'satisfactori': 1, 'accuraci': 1, 'explan': 1, 'video': 1, 'sourc': 1, 'code': 1, 'publicli': 1, 'avail': 1, 'expect': 1, 'pave': 1, 'wai': 1, 'limit': 1, 'identif': 1})\n"
     ]
    }
   ],
   "source": [
    "most_unique_index, cosine_sim_val = sorted_cosine_similarities[0]\n",
    "print(most_unique_index)\n",
    "most_unique_plot =df.iloc[most_unique_index, 9] # index here matters!\n",
    "most_unique_words_counter = Counter(preprocess_string(most_unique_plot))\n",
    "print(most_unique_words_counter)\n",
    "\n",
    "# intersected_common_word_counter = common_word_counter & most_unique_words_counter\n",
    "\n",
    "# intersected_common_words = [word[0] for word in intersected_common_word_counter.items()]\n",
    "# intersected_common_word_counts = [word[1] for word in intersected_common_word_counter.items()]\n",
    "\n",
    "# intersected_common_word_counter"
   ]
  },
  {
   "cell_type": "code",
   "execution_count": null,
   "metadata": {},
   "outputs": [],
   "source": []
  }
 ],
 "metadata": {
  "interpreter": {
   "hash": "73afed2e6e5cae272ca1e451939a06651cb7194d426a79bc157d2d09ec23572e"
  },
  "kernelspec": {
   "display_name": "Python 3.9.2 64-bit ('sab22_venv': venv)",
   "name": "python3"
  },
  "language_info": {
   "codemirror_mode": {
    "name": "ipython",
    "version": 3
   },
   "file_extension": ".py",
   "mimetype": "text/x-python",
   "name": "python",
   "nbconvert_exporter": "python",
   "pygments_lexer": "ipython3",
   "version": "3.9.2"
  },
  "orig_nbformat": 4
 },
 "nbformat": 4,
 "nbformat_minor": 2
}
